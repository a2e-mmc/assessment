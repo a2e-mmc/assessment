{
 "cells": [
  {
   "cell_type": "markdown",
   "metadata": {},
   "source": [
    "# Read_WRF_towers\n",
    "Use mmctools tslist class and tslist_seriesReader to read tower output for the FINO offshore microscale simulations.<br>\n",
    "Save tslist dataseries to pdata file"
   ]
  },
  {
   "cell_type": "markdown",
   "metadata": {},
   "source": [
    "## Set file paths, import 'sys' module for setting filepath"
   ]
  },
  {
   "cell_type": "code",
   "execution_count": 27,
   "metadata": {},
   "outputs": [],
   "source": [
    "#wrf_dir = '/p/lscratchh/lassman1/a2e-mmc/WRF/FINO/ERA5_grid2.0/'\n",
    "wrf_dir = '/p/lustre1/lassman1/a2e-mmc/FINO/WRF/resims/'\n",
    "#cases = ['microscale_setup_v2_CONTROL', 'microscale_setup_v2_CPM']\n",
    "cases = ['CONTROL', 'CPM']\n",
    "\n",
    "pdata_save_dir = '/p/lscratchh/lassman1/a2e-mmc/pdata/FINO_RS/'\n",
    "\n",
    "\n",
    "#restarts = ['tsout_01:00-01:20', 'tsout_01:20-01:40', 'tsout_01:40-02:00',\\\n",
    "#            'tsout_02:00-02:20', 'tsout_02:20-02:40', 'tsout_02:40-03:00',\\\n",
    "#            'tsout_03:00-03:20', 'tsout_03:20-03:40', 'tsout_03:40-04:00',\\\n",
    "#            'tsout_04:00-04:20', 'tsout_04:20-04:40', 'tsout_04:40-05:00']\n",
    "\n",
    "restarts = ['tsout_0100-0120', 'tsout_0120-0140', 'tsout_0140-0200',\\\n",
    "            'tsout_0200-0220', 'tsout_0220-0240', 'tsout_0240-0300',\\\n",
    "            'tsout_0300-0320', 'tsout_0320-0340', 'tsout_0340-0400',\\\n",
    "            'tsout_0400-0420', 'tsout_0420-0440', 'tsout_0440-0500']\n",
    "\n",
    "case_days_start = ['2010-05-16']\n",
    "case_days_end = ['2010-05-16']\n",
    "\n",
    "#wrf_start_times = ['2010-05-16 01:00', '2010-05-16 01:20', '2010-05-16 01:40', \\\n",
    "#                   '2010-05-16 02:00', '2010-05-16 02:20', '2010-05-16 02:40', \\\n",
    "#                   '2010-05-16 03:00', '2010-05-16 03:20', '2010-05-16 03:40', \\\n",
    "#                   '2010-05-16 04:00', '2010-05-16 04:20', '2010-05-16 04:40' ]\n",
    "\n",
    "wrf_start_times = ['2010-05-14 12:00', '2010-05-14 12:00', '2010-05-14 12:00', \\\n",
    "                   '2010-05-14 12:00', '2010-05-14 12:00', '2010-05-14 12:00', \\\n",
    "                   '2010-05-14 12:00', '2010-05-14 12:00', '2010-05-14 12:00', \\\n",
    "                   '2010-05-14 12:00', '2010-05-14 12:00', '2010-05-14 12:00']\n",
    "\n",
    "\n",
    "\n",
    "wrf_dt = 0.025 #[seconds]\n",
    "import sys\n",
    "import os\n",
    "\n",
    "#module_path = os.path.join(os.environ['HOME'],'code/Python/a2e-mmc/')\n",
    "module_path = os.path.join(os.environ['HOME'],'mmc/mmc_github_clones/mmctools/')                                                          \n",
    "if module_path not in sys.path:\n",
    "    sys.path.append(module_path)\n"
   ]
  },
  {
   "cell_type": "raw",
   "metadata": {},
   "source": [
    "# Tower indices inside domain 6\n",
    "#-----------------------------------------------#\n",
    "# 24 characters for name | pfx |   I   |    J   |\n",
    "#-----------------------------------------------#\n",
    "Tower Array 001           ARR01   121   125 \n",
    "Tower Array 002           ARR02   121   225 \n",
    "Tower Array 003           ARR03   121   325 \n",
    "Tower Array 004           ARR04   121   425 \n",
    "Tower Array 005           ARR05   121   525 \n",
    "Tower Array 006           ARR06   221   125 \n",
    "Tower Array 007           ARR07   221   225 \n",
    "Tower Array 008           ARR08   221   325 \n",
    "Tower Array 009           ARR09   221   425 \n",
    "Tower Array 010           ARR10   221   525 \n",
    "Tower Array 011           ARR11   321   125 \n",
    "Tower Array 012           ARR12   321   225 \n",
    "Tower Array 013           ARR13   321   325 \n",
    "Tower Array 014           ARR14   321   425 \n",
    "Tower Array 015           ARR15   321   525 \n",
    "Tower Array 016           ARR16   421   125 \n",
    "Tower Array 017           ARR17   421   225 \n",
    "Tower Array 018           ARR18   421   325 \n",
    "Tower Array 019           ARR19   421   425 \n",
    "Tower Array 020           ARR20   421   525 \n",
    "Tower Array 021           ARR21   521   125 \n",
    "Tower Array 022           ARR22   521   225 \n",
    "Tower Array 023           ARR23   521   325 \n",
    "Tower Array 024           ARR24   521   425 \n",
    "Tower Array 025           ARR25   521   525 \n",
    "FINO1 Array 001           F1_01   411   215 \n",
    "FINO1 Array 002           F1_02   411   225 \n",
    "FINO1 Array 003           F1_03   411   235 \n",
    "FINO1 Array 004           F1_04   421   215 \n",
    "FINO1 Array 005           F1_05   421   225 \n",
    "FINO1 Array 006           F1_06   421   235 \n",
    "FINO1 Array 007           F1_07   431   215 \n",
    "FINO1 Array 008           F1_08   431   225 \n",
    "FINO1 Array 009           F1_09   431   235 "
   ]
  },
  {
   "cell_type": "code",
   "execution_count": 16,
   "metadata": {},
   "outputs": [],
   "source": [
    "tower_dict = { \n",
    "        \"ARR01\": (121,125, 0, 0),\n",
    "        \"ARR02\": (121,225, 0, 1),\n",
    "        \"ARR03\": (121,325, 0, 2),\n",
    "        \"ARR04\": (121,425, 0, 3),\n",
    "        \"ARR05\": (221,525, 0, 4),\n",
    "        \"ARR06\": (221,125, 1, 0),\n",
    "        \"ARR07\": (221,225, 1, 1),\n",
    "        \"ARR08\": (221,325, 1, 2),\n",
    "        \"ARR09\": (221,425, 1, 3),\n",
    "        \"ARR10\": (321,525, 1, 4),\n",
    "        \"ARR11\": (321,125, 2, 0),\n",
    "        \"ARR12\": (321,225, 2, 1),\n",
    "        \"ARR13\": (321,325, 2, 2),\n",
    "        \"ARR14\": (321,425, 2, 3),\n",
    "        \"ARR15\": (421,525, 2, 4),\n",
    "        \"ARR16\": (421,125, 3, 0),\n",
    "        \"ARR17\": (421,225, 3, 1),\n",
    "        \"ARR18\": (421,325, 3, 2),\n",
    "        \"ARR19\": (421,425, 3, 3),\n",
    "        \"ARR20\": (521,525, 3, 4),\n",
    "        \"ARR21\": (521,125, 4, 0),\n",
    "        \"ARR22\": (521,225, 4, 1),\n",
    "        \"ARR23\": (521,325, 4, 2),\n",
    "        \"ARR24\": (521,425, 4, 3),\n",
    "        \"ARR25\": (121,525, 4, 4),\n",
    "             }"
   ]
  },
  {
   "cell_type": "code",
   "execution_count": 17,
   "metadata": {},
   "outputs": [
    {
     "name": "stdout",
     "output_type": "stream",
     "text": [
      "(121, 125, 0, 0)\n"
     ]
    }
   ],
   "source": [
    "print(tower_dict[\"ARR01\"])"
   ]
  },
  {
   "cell_type": "code",
   "execution_count": 18,
   "metadata": {},
   "outputs": [],
   "source": [
    "#ts_heights = [5.0, 10.0,  15.0, 20.0, 25.0, 30.0, 33.0, 35.0, 40.0, 45.0, 50.0, \\\n",
    "#                  55.0, 60.0, 65.0, 70.0, 75.0, 80.0, 85.0, 90.0, 95.0, 100.0, 110.0, \\\n",
    "#                  125.0, 150.0, 200.0],\n",
    "\n",
    "ts_heights = [40.0, 60.0, 80.0],"
   ]
  },
  {
   "cell_type": "code",
   "execution_count": 19,
   "metadata": {},
   "outputs": [],
   "source": [
    "import numpy as np\n",
    "import matplotlib.pyplot as plt\n",
    "import pandas as pd\n",
    "import xarray as xr\n",
    "from matplotlib.colors import Normalize\n",
    "\n",
    "from mmctools.wrf.utils import Tower, combine_towers, tsout_seriesReader"
   ]
  },
  {
   "cell_type": "code",
   "execution_count": 20,
   "metadata": {},
   "outputs": [],
   "source": [
    "n_case_days = len(case_days_start)\n",
    "ncases = len(cases)"
   ]
  },
  {
   "cell_type": "code",
   "execution_count": 21,
   "metadata": {},
   "outputs": [],
   "source": [
    "# Where the tslist output are located:\n",
    "twr_file_loc = '/p/lscratchh/lassman1/a2e-mmc/WRF/FINO/ERA5_grid2.0/microscale_setup_v2_CONTROL/tsout_01:00-01:20/'\n",
    "# Which tower you want to read in, and which domain:\n",
    "twr_file_name = 'ARR09.d06' # 'FN1' is the name, 'd03' is for the third domain\n",
    "twr_file_path = '{}{}'.format(twr_file_loc,twr_file_name)"
   ]
  },
  {
   "cell_type": "code",
   "execution_count": 22,
   "metadata": {},
   "outputs": [
    {
     "data": {
      "text/plain": [
       "mmctools.wrf.utils.Tower"
      ]
     },
     "execution_count": 22,
     "metadata": {},
     "output_type": "execute_result"
    }
   ],
   "source": [
    "single_tower = Tower(twr_file_path)\n",
    "\n",
    "type(single_tower)"
   ]
  },
  {
   "cell_type": "code",
   "execution_count": 23,
   "metadata": {},
   "outputs": [
    {
     "name": "stdout",
     "output_type": "stream",
     "text": [
      "[37.000008 37.000011 37.000019 ... 37.398598 37.398605 37.398613]\n"
     ]
    }
   ],
   "source": [
    "print(single_tower.time)"
   ]
  },
  {
   "cell_type": "code",
   "execution_count": 24,
   "metadata": {},
   "outputs": [
    {
     "name": "stdout",
     "output_type": "stream",
     "text": [
      "restart: tsout_0100-0120\n",
      "starting ARR04.d06\n",
      "starting ARR05.d06\n",
      "starting ARR09.d06\n",
      "starting ARR10.d06\n",
      "restart: tsout_0120-0140\n",
      "starting ARR04.d06\n",
      "starting ARR05.d06\n",
      "starting ARR09.d06\n",
      "starting ARR10.d06\n",
      "restart: tsout_0140-0200\n",
      "starting ARR04.d06\n",
      "starting ARR05.d06\n",
      "starting ARR09.d06\n",
      "starting ARR10.d06\n",
      "restart: tsout_0200-0220\n",
      "starting ARR04.d06\n",
      "starting ARR05.d06\n",
      "starting ARR09.d06\n",
      "starting ARR10.d06\n",
      "restart: tsout_0220-0240\n",
      "starting ARR04.d06\n",
      "starting ARR05.d06\n",
      "starting ARR09.d06\n",
      "starting ARR10.d06\n",
      "restart: tsout_0240-0300\n",
      "starting ARR04.d06\n",
      "starting ARR05.d06\n",
      "starting ARR09.d06\n",
      "starting ARR10.d06\n",
      "restart: tsout_0300-0320\n",
      "starting ARR04.d06\n",
      "starting ARR05.d06\n",
      "starting ARR09.d06\n",
      "starting ARR10.d06\n",
      "restart: tsout_0320-0340\n",
      "starting ARR04.d06\n",
      "starting ARR05.d06\n",
      "starting ARR09.d06\n",
      "starting ARR10.d06\n",
      "restart: tsout_0340-0400\n",
      "starting ARR04.d06\n",
      "starting ARR05.d06\n",
      "starting ARR09.d06\n",
      "starting ARR10.d06\n",
      "restart: tsout_0400-0420\n",
      "starting ARR04.d06\n",
      "starting ARR05.d06\n",
      "starting ARR09.d06\n",
      "starting ARR10.d06\n",
      "restart: tsout_0420-0440\n",
      "starting ARR04.d06\n",
      "starting ARR05.d06\n",
      "starting ARR09.d06\n",
      "starting ARR10.d06\n",
      "restart: tsout_0440-0500\n",
      "starting ARR04.d06\n",
      "starting ARR05.d06\n",
      "starting ARR09.d06\n",
      "starting ARR10.d06\n"
     ]
    }
   ],
   "source": [
    "# Create combined tower DataArray (this may take a while)\n",
    "#twrs_combined_CONTROL = tsout_seriesReader(fdir=wrf_dir + cases[0]+'/',\n",
    "#                                       restarts=restarts,\n",
    "#                                       simulation_start_time=wrf_start_times,\n",
    "#                                       structure='unordered',\n",
    "#                                       time_step=wrf_dt,\n",
    "#                                       domain_of_interest='d06',\n",
    "#                                       heights=[5.0, 10.0,  15.0, 20.0, \\\n",
    "#                                                25.0, 30.0, 33.0, 35.0, \\\n",
    "#                                                40.0, 45.0, 50.0, 55.0, \\\n",
    "#                                                60.0, 65.0, 70.0, 75.0, \\\n",
    "#                                                80.0, 85.0, 90.0, 95.0, \\\n",
    "#                                                100.0, 110.0, 125.0, 150.0, 200.0],\n",
    "#                                       height_var='ph',\n",
    "#                                       select_tower = ['ARR06', 'ARR07', 'ARR08', 'ARR09']\n",
    "#                                       )\n",
    "twrs_combined_CONTROL = tsout_seriesReader(fdir=wrf_dir + cases[0]+'/',\n",
    "                                       restarts=restarts[:],\n",
    "                                       simulation_start_time=wrf_start_times[:],\n",
    "                                       structure='unordered',\n",
    "                                       time_step=wrf_dt,\n",
    "                                       domain_of_interest='d06',\n",
    "                                       heights=[40.0, 60.0, 80.0],                                       \n",
    "                                       height_var='ph',\n",
    "                                       select_tower = [\n",
    "                                                       #'ARR01', 'ARR02', 'ARR03', 'ARR04', 'ARR05', \\\n",
    "                                                       #'ARR06', 'ARR07', 'ARR08', 'ARR09', 'ARR10', \\\n",
    "                                                       #'ARR11', 'ARR12', 'ARR13', 'ARR14', 'ARR15', \\\n",
    "                                                       #'ARR16', ' ARR17', 'ARR18', 'ARR19', 'ARR20', \\\n",
    "                                                       #'ARR21', 'ARR22', 'ARR23', 'ARR24', 'ARR25'\n",
    "                                                       'ARR04', 'ARR05', 'ARR09', 'ARR10'\n",
    "                                                       ]\n",
    "                                       )\n",
    "#33.0 40.0 50.0 60.0 70.0 80.0 90.0 100.0"
   ]
  },
  {
   "cell_type": "code",
   "execution_count": 25,
   "metadata": {},
   "outputs": [],
   "source": [
    "# Create combined tower DataArray (this may take a while)\n",
    "#dinds = [0,4]\n",
    "#±restarts_cpm = np.delete( restarts, dinds )\n",
    "#print(restarts_cpm)"
   ]
  },
  {
   "cell_type": "code",
   "execution_count": 26,
   "metadata": {},
   "outputs": [
    {
     "name": "stdout",
     "output_type": "stream",
     "text": [
      "/p/lustre1/lassman1/a2e-mmc/FINO/WRF/resims/CPM/\n",
      "restart: tsout_0100-0120\n",
      "starting ARR04.d06\n",
      "starting ARR05.d06\n",
      "starting ARR09.d06\n",
      "starting ARR10.d06\n",
      "restart: tsout_0120-0140\n",
      "starting ARR04.d06\n",
      "starting ARR05.d06\n",
      "starting ARR09.d06\n",
      "starting ARR10.d06\n",
      "restart: tsout_0140-0200\n",
      "starting ARR04.d06\n",
      "starting ARR05.d06\n",
      "starting ARR09.d06\n",
      "starting ARR10.d06\n",
      "restart: tsout_0200-0220\n",
      "starting ARR04.d06\n",
      "starting ARR05.d06\n",
      "starting ARR09.d06\n",
      "starting ARR10.d06\n",
      "restart: tsout_0220-0240\n",
      "starting ARR04.d06\n",
      "starting ARR05.d06\n",
      "starting ARR09.d06\n",
      "starting ARR10.d06\n",
      "restart: tsout_0240-0300\n",
      "starting ARR04.d06\n",
      "starting ARR05.d06\n",
      "starting ARR09.d06\n",
      "starting ARR10.d06\n",
      "restart: tsout_0300-0320\n",
      "starting ARR04.d06\n",
      "starting ARR05.d06\n",
      "starting ARR09.d06\n",
      "starting ARR10.d06\n",
      "restart: tsout_0320-0340\n",
      "starting ARR04.d06\n",
      "starting ARR05.d06\n",
      "starting ARR09.d06\n",
      "starting ARR10.d06\n",
      "restart: tsout_0340-0400\n",
      "starting ARR04.d06\n",
      "starting ARR05.d06\n",
      "starting ARR09.d06\n",
      "starting ARR10.d06\n",
      "restart: tsout_0400-0420\n",
      "starting ARR04.d06\n",
      "starting ARR05.d06\n",
      "starting ARR09.d06\n",
      "starting ARR10.d06\n",
      "restart: tsout_0420-0440\n",
      "starting ARR04.d06\n",
      "starting ARR05.d06\n",
      "starting ARR09.d06\n",
      "starting ARR10.d06\n",
      "restart: tsout_0440-0500\n",
      "starting ARR04.d06\n",
      "starting ARR05.d06\n",
      "starting ARR09.d06\n",
      "starting ARR10.d06\n"
     ]
    }
   ],
   "source": [
    "# Create combined tower DataArray (this may take a while)\n",
    "print(wrf_dir + cases[1]+'/')\n",
    "twrs_combined_CPM = tsout_seriesReader(fdir=wrf_dir + cases[1]+'/',\n",
    "                                       restarts=restarts,#_cpm,\n",
    "                                       simulation_start_time=wrf_start_times[:],\n",
    "                                       structure='unordered',\n",
    "                                       #time_step=wrf_dt,\n",
    "                                       domain_of_interest='d06',\n",
    "                                       heights=[40.0, 60.0, 80.0], \n",
    "                                       height_var='ph',\n",
    "                                       select_tower = [\n",
    "                                                       #'ARR01', 'ARR02', 'ARR03', 'ARR04', 'ARR05', \\\n",
    "                                                       #'ARR06', 'ARR07', 'ARR08', 'ARR09', 'ARR10', \\\n",
    "                                                       #'ARR11', 'ARR12', 'ARR13', 'ARR14', 'ARR15', \\\n",
    "                                                       #'ARR16', ' ARR17', 'ARR18', 'ARR19', 'ARR20', \\\n",
    "                                                       #'ARR21', 'ARR22', 'ARR23', 'ARR24', 'ARR25'\n",
    "                                                       'ARR04', 'ARR05', 'ARR09', 'ARR10'\n",
    "                                                       ]\n",
    "                                       )"
   ]
  },
  {
   "cell_type": "raw",
   "metadata": {},
   "source": [
    "# Print some values, just a sanity check\n",
    "\n",
    "print(twrs_combined_CONTROL.height.sel( station = 'ARR06').values[-2,:])"
   ]
  },
  {
   "cell_type": "raw",
   "metadata": {},
   "source": [
    "# Print some values, just a sanity check\n",
    "print(twrs_combined_CONTROL.dims)\n",
    "print(twrs_combined_CONTROL.coords)\n"
   ]
  },
  {
   "cell_type": "raw",
   "metadata": {},
   "source": [
    "# Print some values, just a sanity check\n",
    "print(twrs_combined_CPM.dims)\n",
    "print(twrs_combined_CPM.coords)\n"
   ]
  },
  {
   "cell_type": "code",
   "execution_count": 28,
   "metadata": {},
   "outputs": [
    {
     "name": "stdout",
     "output_type": "stream",
     "text": [
      "<xarray.DataArray 'datetime' (datetime: 579000)>\n",
      "array(['2010-05-16T01:00:00.029000000', '2010-05-16T01:00:00.040000000',\n",
      "       '2010-05-16T01:00:00.068000000', ..., '2010-05-16T05:01:14.956000000',\n",
      "       '2010-05-16T05:01:14.981000000', '2010-05-16T05:01:14.995000000'],\n",
      "      dtype='datetime64[ns]')\n",
      "Coordinates:\n",
      "  * datetime  (datetime) datetime64[ns] 2010-05-16T01:00:00.029000 ... 2010-0...\n",
      "<xarray.DataArray 'datetime' (datetime: 579000)>\n",
      "array(['2010-05-16T01:00:00.025000000', '2010-05-16T01:00:00.050000000',\n",
      "       '2010-05-16T01:00:00.075000000', ..., '2010-05-16T05:01:14.950000000',\n",
      "       '2010-05-16T05:01:14.975000000', '2010-05-16T05:01:15.000000000'],\n",
      "      dtype='datetime64[ns]')\n",
      "Coordinates:\n",
      "  * datetime  (datetime) datetime64[ns] 2010-05-16T01:00:00.025000 ... 2010-0...\n"
     ]
    }
   ],
   "source": [
    "print(twrs_combined_CPM.datetime)\n",
    "print(twrs_combined_CONTROL.datetime)"
   ]
  },
  {
   "cell_type": "raw",
   "metadata": {},
   "source": [
    "for ss in twrs_combined_CPM.station.values:\n",
    "    #print(ss)\n",
    "    #print(tower_dict[ss][0])\n",
    "    #test = xr.Variable( tower_dict[ss][0], dims = 'station' )\n",
    "    twrs_combined_CPM.sel( station = ss )['i_dom'] = tower_dict[ss][0]\n",
    "    twrs_combined_CPM.sel( station = ss )['j_dom'] = tower_dict[ss][1]\n",
    "    twrs_combined_CPM.sel( station = ss )['i_arr'] = tower_dict[ss][2]\n",
    "    twrs_combined_CPM.sel( station = ss )['j_arr'] = tower_dict[ss][3]    "
   ]
  },
  {
   "cell_type": "raw",
   "metadata": {},
   "source": [
    "for ss in twrs_combined_CONTROL.values:\n",
    "    twrs_combined_CONTROL.sel( station = ss ).i = tower_dict[ss][0]\n",
    "    twrs_combined_CONTROL.sel( station = ss ).j = tower_dict[ss][1]"
   ]
  },
  {
   "cell_type": "code",
   "execution_count": 29,
   "metadata": {},
   "outputs": [
    {
     "name": "stdout",
     "output_type": "stream",
     "text": [
      "Frozen({'theta': <xarray.Variable (datetime: 579000, nz: 3, station: 4)>\n",
      "array([[[280.68015314, 280.73389492, 280.71499746, 280.79918762],\n",
      "        [280.77288659, 280.72577183, 280.71304105, 280.74480335],\n",
      "        [280.95500249, 280.83234367, 280.72736339, 280.72813701]],\n",
      "\n",
      "       [[280.67989058, 280.73396416, 280.71377736, 280.79951471],\n",
      "        [280.77241574, 280.72550722, 280.71210733, 280.74504245],\n",
      "        [280.95474739, 280.83141592, 280.72657575, 280.72795466]],\n",
      "\n",
      "       [[280.67959269, 280.73403041, 280.71258345, 280.79985334],\n",
      "        [280.77196989, 280.72523073, 280.71116221, 280.74530422],\n",
      "        [280.95451496, 280.83040922, 280.72576789, 280.72780109]],\n",
      "\n",
      "       ...,\n",
      "\n",
      "       [[281.11623744, 281.21412657, 281.15865   , 281.57248472],\n",
      "        [281.19369676, 281.24738684, 281.11601604, 281.54345178],\n",
      "        [281.69594404, 281.27560162, 281.2204585 , 281.34992244]],\n",
      "\n",
      "       [[281.1170766 , 281.21474623, 281.15981424, 281.57242929],\n",
      "        [281.19427243, 281.24699771, 281.11723545, 281.54543234],\n",
      "        [281.6972504 , 281.27469546, 281.2219147 , 281.34982956]],\n",
      "\n",
      "       [[281.11791245, 281.21539649, 281.16100562, 281.57231532],\n",
      "        [281.19490466, 281.24659614, 281.11846279, 281.54732433],\n",
      "        [281.69852699, 281.27373876, 281.22334317, 281.34975958]]]), 'u': <xarray.Variable (datetime: 579000, nz: 3, station: 4)>\n",
      "array([[[12.59431957, 12.05181117, 11.27185832, 10.34796225],\n",
      "        [12.42949458, 12.4799445 , 11.79076011, 10.17821434],\n",
      "        [12.80697263, 12.38867576, 11.9478257 , 10.82221174]],\n",
      "\n",
      "       [[12.56307106, 12.04391115, 11.22172225, 10.33642776],\n",
      "        [12.45845446, 12.47089494, 11.7875141 , 10.15996188],\n",
      "        [12.81817565, 12.40574478, 11.89965798, 10.82217867]],\n",
      "\n",
      "       [[12.61459964, 12.03876884, 11.26063762, 10.33318165],\n",
      "        [12.47603479, 12.47891966, 11.75350604, 10.17434439],\n",
      "        [12.87000643, 12.40808299, 11.87400332, 10.80250385]],\n",
      "\n",
      "       ...,\n",
      "\n",
      "       [[10.35319929, 13.57705465, 11.81106563, 12.66002438],\n",
      "        [10.41178491, 14.43987432, 11.3133706 , 13.43109834],\n",
      "        [10.46684197, 13.4494896 , 12.29856586, 14.65272928]],\n",
      "\n",
      "       [[10.35725929, 13.6186112 , 11.83803597, 12.68202914],\n",
      "        [10.42063167, 14.44651412, 11.35824543, 13.38290517],\n",
      "        [10.50621379, 13.49914877, 12.3468088 , 14.65725234]],\n",
      "\n",
      "       [[10.37689152, 13.62453599, 11.86434879, 12.69794394],\n",
      "        [10.41597969, 14.47941793, 11.34689758, 13.35845008],\n",
      "        [10.45774126, 13.4838013 , 12.38325931, 14.63544738]]]), 'w': <xarray.Variable (datetime: 579000, nz: 3, station: 4)>\n",
      "array([[[ 0.09825954, -0.11613545, -1.29385517,  0.85163713],\n",
      "        [-0.39477614, -0.16727775, -0.84740062,  0.25059642],\n",
      "        [-1.76355054, -0.23246688,  0.15736494,  0.35333572]],\n",
      "\n",
      "       [[ 0.10694889, -0.20784115, -1.33446073,  0.79732238],\n",
      "        [-0.32082209, -0.20292387, -0.89145394,  0.27109251],\n",
      "        [-1.66547   , -0.19650274,  0.01109582,  0.42494476]],\n",
      "\n",
      "       [[ 0.13676788, -0.14596047, -1.28501566,  0.76862817],\n",
      "        [-0.36895036, -0.25337474, -0.87812023,  0.24171504],\n",
      "        [-1.72570442, -0.25450079,  0.06345059,  0.36287933]],\n",
      "\n",
      "       ...,\n",
      "\n",
      "       [[ 0.45729912, -0.4938534 , -0.19239096,  1.101652  ],\n",
      "        [-0.18607675, -0.37226371, -0.88318521,  0.59849236],\n",
      "        [-0.33728982, -0.31971603, -0.38020468, -1.10649946]],\n",
      "\n",
      "       [[ 0.44715704, -0.4714891 , -0.29110873,  1.09489281],\n",
      "        [-0.16273908, -0.40645538, -0.93784349,  0.64215223],\n",
      "        [-0.26853529, -0.33114098, -0.3731795 , -1.02493296]],\n",
      "\n",
      "       [[ 0.40297542, -0.40401636, -0.27244371,  1.05427252],\n",
      "        [-0.20298492, -0.41478392, -0.9478237 ,  0.65397091],\n",
      "        [-0.2979077 , -0.32965137, -0.39244729, -1.05807657]]]), 'v': <xarray.Variable (datetime: 579000, nz: 3, station: 4)>\n",
      "array([[[-5.17726529, -7.05981754, -6.93288379, -4.54842648],\n",
      "        [-5.92336368, -6.26099711, -6.53731646, -5.95226248],\n",
      "        [-7.04327554, -5.2447157 , -6.80564645, -6.07717255]],\n",
      "\n",
      "       [[-5.15065206, -7.05231482, -6.88806897, -4.55632378],\n",
      "        [-5.89271447, -6.23671031, -6.52748337, -5.9698245 ],\n",
      "        [-7.05200151, -5.19279914, -6.75485722, -6.07944881]],\n",
      "\n",
      "       [[-5.20748159, -7.04352677, -6.84158958, -4.51097918],\n",
      "        [-5.87095204, -6.21003435, -6.50183236, -5.96006382],\n",
      "        [-7.05086283, -5.1930039 , -6.70872025, -6.08686585]],\n",
      "\n",
      "       ...,\n",
      "\n",
      "       [[-1.17398961, -1.90396096, -3.24528605, -2.25078029],\n",
      "        [-1.82214548, -1.1182232 , -2.78606071, -2.21653678],\n",
      "        [-5.88856877, -1.26349644, -2.46008014, -4.16369327]],\n",
      "\n",
      "       [[-1.16592111, -1.93259926, -3.26892358, -2.19075757],\n",
      "        [-1.81195642, -1.10869706, -2.79085872, -2.20102599],\n",
      "        [-5.89363435, -1.22250968, -2.46288952, -4.16514222]],\n",
      "\n",
      "       [[-1.17415782, -1.91836113, -3.28003257, -2.20528157],\n",
      "        [-1.83286412, -1.09824926, -2.7739698 , -2.19780296],\n",
      "        [-5.89722534, -1.19909564, -2.48124306, -4.1851692 ]]]), 'pr': <xarray.Variable (datetime: 579000, nz: 3, station: 4)>\n",
      "array([[[100115.98561409, 100035.15505579, 100051.11190727,\n",
      "         100036.64246058],\n",
      "        [ 99870.0630966 ,  99853.19965072,  99840.21408229,\n",
      "          99813.29449081],\n",
      "        [ 99647.96822075,  99588.61096974,  99598.7945876 ,\n",
      "          99604.3019483 ]],\n",
      "\n",
      "       [[100087.53922529, 100071.33121892, 100103.81337388,\n",
      "         100051.22736668],\n",
      "        [ 99841.10954721,  99773.69023014,  99843.28845698,\n",
      "          99818.25460824],\n",
      "        [ 99566.94886204,  99666.53051973,  99626.69895421,\n",
      "          99579.21114644]],\n",
      "\n",
      "       [[100078.15626252, 100000.2758698 , 100128.62421821,\n",
      "         100035.29236706],\n",
      "        [ 99849.75789317,  99869.84280977,  99827.36625359,\n",
      "          99837.06449248],\n",
      "        [ 99600.24661987,  99558.02856815,  99637.54730918,\n",
      "          99601.58054589]],\n",
      "...\n",
      "       [[100175.58044566, 100156.04268293, 100190.21226877,\n",
      "         100153.3012921 ],\n",
      "        [ 99987.13744272,  99959.70592954,  99963.86176767,\n",
      "          99936.16951076],\n",
      "        [ 99734.14886227,  99704.94567566,  99725.06456899,\n",
      "          99664.10999948]],\n",
      "\n",
      "       [[100261.01493463, 100154.61702061, 100194.94120091,\n",
      "         100214.81768239],\n",
      "        [100031.98106034,  99917.68745368,  99960.83379848,\n",
      "          99915.95106554],\n",
      "        [ 99792.63058693,  99662.47665166,  99750.22221694,\n",
      "          99660.56348503]],\n",
      "\n",
      "       [[100250.62782292, 100244.85335023, 100202.02095716,\n",
      "         100130.44337869],\n",
      "        [100011.91659823,  99930.74570724,  99972.10053805,\n",
      "          99929.70369734],\n",
      "        [ 99749.83572312,  99793.17611869,  99711.57517055,\n",
      "          99635.77973307]]]), 'qv': <xarray.Variable (datetime: 579000, nz: 3, station: 4)>\n",
      "array([[[0.00527   , 0.00535097, 0.00555   , 0.00544192],\n",
      "        [0.00517722, 0.00541   , 0.00551703, 0.00546356],\n",
      "        [0.00497214, 0.00524362, 0.00548   , 0.00548   ]],\n",
      "\n",
      "       [[0.00527   , 0.00535098, 0.00555   , 0.00544191],\n",
      "        [0.00517721, 0.00541   , 0.0055235 , 0.00546356],\n",
      "        [0.00497215, 0.00524364, 0.00548   , 0.00548202]],\n",
      "\n",
      "       [[0.00527   , 0.00535098, 0.00555   , 0.00544193],\n",
      "        [0.00517726, 0.00541   , 0.00552347, 0.00546355],\n",
      "        [0.00497427, 0.0052457 , 0.00548   , 0.00548203]],\n",
      "\n",
      "       ...,\n",
      "\n",
      "       [[0.00599917, 0.0058    , 0.00576918, 0.00548851],\n",
      "        [0.00587263, 0.0057676 , 0.00584245, 0.00549828],\n",
      "        [0.00535316, 0.00572833, 0.00571139, 0.00567309]],\n",
      "\n",
      "       [[0.00599916, 0.0058    , 0.00576918, 0.00548853],\n",
      "        [0.00587254, 0.00576761, 0.00584245, 0.00549217],\n",
      "        [0.00535315, 0.00572833, 0.00571142, 0.00567307]],\n",
      "\n",
      "       [[0.00599916, 0.0058    , 0.00576919, 0.00548856],\n",
      "        [0.00587249, 0.00576759, 0.00583622, 0.00549214],\n",
      "        [0.00535313, 0.00572831, 0.00571149, 0.00567304]]]), 'i': <xarray.Variable (station: 4)>\n",
      "array([425, 525, 425, 525]), 'j': <xarray.Variable (station: 4)>\n",
      "array([121, 121, 221, 221]), 'lat': <xarray.Variable (station: 4)>\n",
      "array([54.005, 54.005, 54.014, 54.014]), 'lon': <xarray.Variable (station: 4)>\n",
      "array([6.587, 6.602, 6.588, 6.603]), 'zsurface': <xarray.Variable (station: 4)>\n",
      "array([0., 0., 0., 0.]), 't2': <xarray.Variable (datetime: 579000, station: 4)>\n",
      "array([[281.43915, 281.40729, 281.40106, 281.43167],\n",
      "       [281.43866, 281.4071 , 281.40018, 281.43149],\n",
      "       [281.43823, 281.40662, 281.39993, 281.43127],\n",
      "       ...,\n",
      "       [281.7037 , 281.81946, 281.73474, 281.82333],\n",
      "       [281.70395, 281.81924, 281.73468, 281.82376],\n",
      "       [281.70413, 281.81894, 281.73468, 281.8241 ]]), 'q2': <xarray.Variable (datetime: 579000, station: 4)>\n",
      "array([[0.0058 , 0.00584, 0.00581, 0.0058 ],\n",
      "       [0.0058 , 0.00584, 0.00581, 0.0058 ],\n",
      "       [0.0058 , 0.00584, 0.0058 , 0.0058 ],\n",
      "       ...,\n",
      "       [0.00616, 0.00605, 0.00622, 0.00609],\n",
      "       [0.00616, 0.00605, 0.00622, 0.00609],\n",
      "       [0.00616, 0.00605, 0.00623, 0.00609]]), 'u10': <xarray.Variable (datetime: 579000, station: 4)>\n",
      "array([[10.23207, 11.29143,  9.59784,  9.98293],\n",
      "       [10.2525 , 11.2724 ,  9.50676,  9.99005],\n",
      "       [10.26057, 11.15613,  9.52118, 10.00305],\n",
      "       ...,\n",
      "       [10.51024, 11.7706 , 10.73732,  9.97392],\n",
      "       [10.49347, 11.75437, 10.74897,  9.96843],\n",
      "       [10.45259, 11.8246 , 10.78214,  9.97654]]), 'v10': <xarray.Variable (datetime: 579000, station: 4)>\n",
      "array([[-4.10031, -4.53766, -7.996  , -3.96972],\n",
      "       [-4.13033, -4.53871, -7.9717 , -3.90291],\n",
      "       [-4.17444, -4.55817, -8.01259, -3.8299 ],\n",
      "       ...,\n",
      "       [-3.832  , -2.94401, -1.85304, -2.02368],\n",
      "       [-3.79742, -2.99626, -1.87609, -2.0293 ],\n",
      "       [-3.81175, -3.06353, -1.87275, -1.98703]]), 'psfc': <xarray.Variable (datetime: 579000, station: 4)>\n",
      "array([[100566.14844, 100567.73438, 100564.04688, 100556.71875],\n",
      "       [100565.89062, 100567.49219, 100564.00781, 100556.58594],\n",
      "       [100565.48438, 100567.14062, 100563.86719, 100556.83594],\n",
      "       ...,\n",
      "       [100637.35156, 100640.60938, 100648.4375 , 100642.98438],\n",
      "       [100637.8125 , 100640.39062, 100648.30469, 100642.91406],\n",
      "       [100638.28125, 100640.04688, 100648.14062, 100642.84375]]), 'lwd': <xarray.Variable (datetime: 579000, station: 4)>\n",
      "array([[252.60777, 252.99721, 252.38741, 252.80849],\n",
      "       [252.60777, 252.99721, 252.38741, 252.80849],\n",
      "       [252.60777, 252.99721, 252.38741, 252.80849],\n",
      "       ...,\n",
      "       [258.90363, 260.71487, 260.18552, 260.91403],\n",
      "       [258.90363, 260.71487, 260.18552, 260.91403],\n",
      "       [258.90363, 260.71487, 260.18552, 260.91403]]), 'swd': <xarray.Variable (datetime: 579000, station: 4)>\n",
      "array([[  0.     ,   0.     ,   0.     ,   0.     ],\n",
      "       [  0.     ,   0.     ,   0.     ,   0.     ],\n",
      "       [  0.     ,   0.     ,   0.     ,   0.     ],\n",
      "       ...,\n",
      "       [151.40683, 151.0164 , 151.05887, 150.99568],\n",
      "       [151.40683, 151.0164 , 151.05887, 150.99568],\n",
      "       [151.40683, 151.0164 , 151.05887, 150.99568]]), 'hfx': <xarray.Variable (datetime: 579000, station: 4)>\n",
      "array([[12.40655, 14.9023 , 15.06523, 11.93072],\n",
      "       [12.44573, 14.87849, 14.96229, 11.92161],\n",
      "       [12.48782, 14.76334, 14.99744, 11.9085 ],\n",
      "       ...,\n",
      "       [ 6.02992,  3.58605,  4.75556,  2.50739],\n",
      "       [ 6.00978,  3.59533,  4.76263,  2.49822],\n",
      "       [ 5.98428,  3.62961,  4.77793,  2.49027]]), 'lfx': <xarray.Variable (datetime: 579000, station: 4)>\n",
      "array([[66.78881, 72.88686, 76.82144, 64.47176],\n",
      "       [66.90846, 72.73777, 76.29179, 64.43741],\n",
      "       [67.03006, 72.13329, 76.46371, 64.4017 ],\n",
      "       ...,\n",
      "       [45.5428 , 57.16866, 39.66592, 44.07978],\n",
      "       [45.44512, 57.19937, 39.69006, 44.10689],\n",
      "       [45.31338, 57.57597, 39.78209, 44.13913]]), 'tsk': <xarray.Variable (datetime: 579000, station: 4)>\n",
      "array([[281.9494 , 281.95255, 281.93488, 281.93805],\n",
      "       [281.9494 , 281.95255, 281.93488, 281.93805],\n",
      "       [281.9494 , 281.95255, 281.93488, 281.93805],\n",
      "       ...,\n",
      "       [281.9494 , 281.95255, 281.93488, 281.93805],\n",
      "       [281.9494 , 281.95255, 281.93488, 281.93805],\n",
      "       [281.9494 , 281.95255, 281.93488, 281.93805]]), 'slttop': <xarray.Variable (datetime: 579000, station: 4)>\n",
      "array([[281.9494 , 281.95255, 281.93488, 281.93805],\n",
      "       [281.9494 , 281.95255, 281.93488, 281.93805],\n",
      "       [281.9494 , 281.95255, 281.93488, 281.93805],\n",
      "       ...,\n",
      "       [281.9494 , 281.95255, 281.93488, 281.93805],\n",
      "       [281.9494 , 281.95255, 281.93488, 281.93805],\n",
      "       [281.9494 , 281.95255, 281.93488, 281.93805]]), 'rainc': <xarray.Variable (datetime: 579000, station: 4)>\n",
      "array([[0., 0., 0., 0.],\n",
      "       [0., 0., 0., 0.],\n",
      "       [0., 0., 0., 0.],\n",
      "       ...,\n",
      "       [0., 0., 0., 0.],\n",
      "       [0., 0., 0., 0.],\n",
      "       [0., 0., 0., 0.]]), 'rainnc': <xarray.Variable (datetime: 579000, station: 4)>\n",
      "array([[0., 0., 0., 0.],\n",
      "       [0., 0., 0., 0.],\n",
      "       [0., 0., 0., 0.],\n",
      "       ...,\n",
      "       [0., 0., 0., 0.],\n",
      "       [0., 0., 0., 0.],\n",
      "       [0., 0., 0., 0.]]), 'clw': <xarray.Variable (datetime: 579000, station: 4)>\n",
      "array([[0.22509, 0.24186, 0.2461 , 0.26246],\n",
      "       [0.22509, 0.2419 , 0.24609, 0.26247],\n",
      "       [0.2251 , 0.24194, 0.2461 , 0.26247],\n",
      "       ...,\n",
      "       [0.12711, 0.15394, 0.19265, 0.18886],\n",
      "       [0.12713, 0.15395, 0.19264, 0.18884],\n",
      "       [0.12715, 0.15396, 0.19264, 0.18883]]), 'qfx': <xarray.Variable (datetime: 579000, station: 4)>\n",
      "array([[nan, nan, nan, nan],\n",
      "       [nan, nan, nan, nan],\n",
      "       [nan, nan, nan, nan],\n",
      "       ...,\n",
      "       [nan, nan, nan, nan],\n",
      "       [nan, nan, nan, nan],\n",
      "       [nan, nan, nan, nan]]), 'ust': <xarray.Variable (datetime: 579000, station: 4)>\n",
      "array([[nan, nan, nan, nan],\n",
      "       [nan, nan, nan, nan],\n",
      "       [nan, nan, nan, nan],\n",
      "       ...,\n",
      "       [nan, nan, nan, nan],\n",
      "       [nan, nan, nan, nan],\n",
      "       [nan, nan, nan, nan]]), 'datetime': <xarray.IndexVariable 'datetime' (datetime: 579000)>\n",
      "array(['2010-05-16T01:00:00.029000000', '2010-05-16T01:00:00.040000000',\n",
      "       '2010-05-16T01:00:00.068000000', ..., '2010-05-16T05:01:14.956000000',\n",
      "       '2010-05-16T05:01:14.981000000', '2010-05-16T05:01:14.995000000'],\n",
      "      dtype='datetime64[ns]'), 'height': <xarray.IndexVariable 'nz' (nz: 3)>\n",
      "array([40., 60., 80.]), 'station': <xarray.IndexVariable 'station' (station: 4)>\n",
      "array(['ARR04', 'ARR05', 'ARR09', 'ARR10'], dtype=object), 'wspd': <xarray.Variable (datetime: 579000, nz: 3, station: 4)>\n",
      "array([[[13.61693657, 13.96736111, 13.23327879, 11.30347319],\n",
      "        [13.76875349, 13.9624174 , 13.48178514, 11.79090649],\n",
      "        [14.61595971, 13.453116  , 13.75017682, 12.41178041]],\n",
      "\n",
      "       [[13.5779222 , 13.95675249, 13.16710083, 11.29609778],\n",
      "        [13.78176953, 13.94344922, 13.47418005, 11.78404132],\n",
      "        [14.62998128, 13.44870501, 13.68319977, 12.41286626]],\n",
      "\n",
      "       [[13.6471971 , 13.94787527, 13.17608848, 11.27490914],\n",
      "        [13.78838358, 13.9387217 , 13.43200388, 11.79150731],\n",
      "        [14.67486736, 13.45094097, 13.63814071, 12.39935585]],\n",
      "\n",
      "       ...,\n",
      "\n",
      "       [[10.41954832, 13.70990446, 12.2488021 , 12.85854693],\n",
      "        [10.5700274 , 14.48310718, 11.65137282, 13.61276746],\n",
      "        [12.00958047, 13.50870807, 12.54219743, 15.23282039]],\n",
      "\n",
      "       [[10.42267682, 13.75505402, 12.28108126, 12.86985943],\n",
      "        [10.57699156, 14.48899511, 11.69609472, 13.56269392],\n",
      "        [12.0463876 , 13.55439218, 12.59005609, 15.23756726]],\n",
      "\n",
      "       [[10.44310894, 13.75892766, 12.30940234, 12.88801952],\n",
      "        [10.57601171, 14.52100874, 11.68105274, 13.53803998],\n",
      "        [12.00589934, 13.53701325, 12.62939738, 15.22208794]]]), 'wdir': <xarray.Variable (datetime: 579000, nz: 3, station: 4)>\n",
      "array([[[292.34655394, 300.36129961, 301.59406387, 293.72779545],\n",
      "        [295.48046501, 296.64221971, 299.0059153 , 300.3192752 ],\n",
      "        [298.80887229, 292.94525154, 299.66643623, 299.31622576]],\n",
      "\n",
      "       [[292.29282068, 300.35111583, 301.54225457, 293.7880078 ],\n",
      "        [295.31364381, 296.56969252, 298.97604003, 300.4377861 ],\n",
      "        [298.81767368, 292.71322033, 299.58147043, 299.32546174]],\n",
      "\n",
      "       [[292.43151377, 300.33063733, 301.28147628, 293.58380925],\n",
      "        [295.20066061, 296.45686582, 298.95059528, 300.36149052],\n",
      "        [298.71623341, 292.71017919, 299.46611313, 299.39987019]],\n",
      "\n",
      "       ...,\n",
      "\n",
      "       [[276.46935809, 277.98274406, 285.36381657, 280.08107745],\n",
      "        [279.92668935, 274.42814485, 283.8345291 , 279.37106929],\n",
      "        [299.36178762, 275.3668332 , 281.3115763 , 285.86293409]],\n",
      "\n",
      "       [[276.42277148, 278.07683973, 285.43681597, 279.80083687],\n",
      "        [279.86405992, 274.38855955, 283.80478615, 279.33956875],\n",
      "        [299.29096671, 275.1747035 , 281.2810501 , 285.86352613]],\n",
      "\n",
      "       [[276.45562927, 278.01467008, 285.45405857, 279.8524197 ],\n",
      "        [279.9799709 , 274.33752185, 283.73762018, 279.34290542],\n",
      "        [299.41908789, 275.08186557, 281.3303569 , 285.95847126]]])})\n"
     ]
    }
   ],
   "source": [
    "print( twrs_combined_CPM.variables)"
   ]
  },
  {
   "cell_type": "code",
   "execution_count": 30,
   "metadata": {},
   "outputs": [
    {
     "name": "stderr",
     "output_type": "stream",
     "text": [
      "/g/g12/lassman1/anaconda3/envs/wildfire/lib/python3.8/site-packages/xarray/core/common.py:1123: FutureWarning: 'base' in .resample() and in Grouper() is deprecated.\n",
      "The new arguments that you should use are 'offset' or 'origin'.\n",
      "\n",
      ">>> df.resample(freq=\"3s\", base=2)\n",
      "\n",
      "becomes:\n",
      "\n",
      ">>> df.resample(freq=\"3s\", offset=\"2s\")\n",
      "\n",
      "  grouper = pd.Grouper(\n"
     ]
    }
   ],
   "source": [
    "twrs_combined_CPM_ds = twrs_combined_CPM.resample({'datetime' : '0.4S'}).nearest()\n",
    "twrs_combined_CONTROL_ds = twrs_combined_CONTROL.resample({'datetime' : '0.4S'}).nearest()"
   ]
  },
  {
   "cell_type": "code",
   "execution_count": 31,
   "metadata": {},
   "outputs": [],
   "source": [
    "CPM_save = xr.Dataset(\n",
    "                {\n",
    "                    'u': twrs_combined_CPM_ds.u,\n",
    "                    'v': twrs_combined_CPM_ds.v,\n",
    "                    'w': twrs_combined_CPM_ds.w\n",
    "                }\n",
    "            )\n",
    "\n",
    "CONTROL_save = xr.Dataset(\n",
    "                {\n",
    "                    'u': twrs_combined_CONTROL_ds.u,\n",
    "                    'v': twrs_combined_CONTROL_ds.v,\n",
    "                    'w': twrs_combined_CONTROL_ds.w\n",
    "                }\n",
    "            )\n"
   ]
  },
  {
   "cell_type": "code",
   "execution_count": 32,
   "metadata": {},
   "outputs": [
    {
     "name": "stdout",
     "output_type": "stream",
     "text": [
      "Data variables:\n",
      "    u        (datetime, nz, station) float64 12.59 12.05 11.27 ... 12.27 14.66\n",
      "    v        (datetime, nz, station) float64 -5.177 -7.06 ... -2.453 -4.254\n",
      "    w        (datetime, nz, station) float64 0.09826 -0.1161 ... -0.406 -1.223\n",
      "Coordinates:\n",
      "  * datetime  (datetime) datetime64[ns] 2010-05-16T01:00:00 ... 2010-05-16T05...\n",
      "    lat       (station) float64 54.01 54.01 54.01 54.01\n",
      "    lon       (station) float64 6.587 6.602 6.588 6.603\n",
      "    zsurface  (station) float64 0.0 0.0 0.0 0.0\n",
      "    height    (nz) float64 40.0 60.0 80.0\n",
      "  * station   (station) object 'ARR04' 'ARR05' 'ARR09' 'ARR10'\n",
      "Frozen(SortedKeysDict({'datetime': 36188, 'station': 4, 'nz': 3}))\n"
     ]
    }
   ],
   "source": [
    "print(CPM_save.data_vars)\n",
    "print(CPM_save.coords)\n",
    "print(CPM_save.dims)"
   ]
  },
  {
   "cell_type": "markdown",
   "metadata": {},
   "source": [
    "### Save to process data files"
   ]
  },
  {
   "cell_type": "code",
   "execution_count": 33,
   "metadata": {},
   "outputs": [
    {
     "name": "stdout",
     "output_type": "stream",
     "text": [
      "/p/lscratchh/lassman1/a2e-mmc/pdata/FINO_RS/\n"
     ]
    }
   ],
   "source": [
    "print(pdata_save_dir)"
   ]
  },
  {
   "cell_type": "code",
   "execution_count": 34,
   "metadata": {},
   "outputs": [],
   "source": [
    "CPM_save.to_netcdf( pdata_save_dir + 'FINO_wrf-tslist-processed_cpm.nc')"
   ]
  },
  {
   "cell_type": "code",
   "execution_count": 35,
   "metadata": {},
   "outputs": [],
   "source": [
    "CONTROL_save.to_netcdf( pdata_save_dir + 'FINO_wrf-tslist-processed_control.nc')"
   ]
  },
  {
   "cell_type": "markdown",
   "metadata": {},
   "source": [
    "### Some calculations and a plot to verify things are working correctly"
   ]
  },
  {
   "cell_type": "code",
   "execution_count": 36,
   "metadata": {},
   "outputs": [
    {
     "name": "stdout",
     "output_type": "stream",
     "text": [
      "Coordinates:\n",
      "    lat       (station) float64 54.01 54.01 54.01 54.01\n",
      "    lon       (station) float64 6.587 6.602 6.588 6.603\n",
      "    zsurface  (station) float64 0.0 0.0 0.0 0.0\n",
      "  * datetime  (datetime) datetime64[ns] 2010-05-16T01:00:00.025000 ... 2010-0...\n",
      "    height    (nz) float64 40.0 60.0 80.0\n",
      "  * station   (station) object 'ARR04' 'ARR05' 'ARR09' 'ARR10'\n",
      "<class 'numpy.datetime64'> 2010-05-16T01:00:00.025000000\n"
     ]
    }
   ],
   "source": [
    "\n",
    "\n",
    "print(twrs_combined_CONTROL.coords)\n",
    "print( type(twrs_combined_CONTROL.datetime.values[0]), twrs_combined_CONTROL.datetime.values[0])\n"
   ]
  },
  {
   "cell_type": "code",
   "execution_count": null,
   "metadata": {},
   "outputs": [],
   "source": [
    "\n",
    "\n"
   ]
  },
  {
   "cell_type": "code",
   "execution_count": 37,
   "metadata": {},
   "outputs": [
    {
     "name": "stdout",
     "output_type": "stream",
     "text": [
      "Coordinates:\n",
      "    lat       (station) float64 54.01 54.01 54.01 54.01\n",
      "    lon       (station) float64 6.587 6.602 6.588 6.603\n",
      "    zsurface  (station) float64 0.0 0.0 0.0 0.0\n",
      "  * datetime  (datetime) datetime64[ns] 2010-05-16T01:00:00.025000 ... 2010-0...\n",
      "    height    (nz) float64 40.0 60.0 80.0\n",
      "  * station   (station) object 'ARR04' 'ARR05' 'ARR09' 'ARR10'\n",
      "<class 'numpy.datetime64'> 2010-05-16T01:00:00.025000000\n",
      "2010-05-17T14:38:00.025000000\n"
     ]
    }
   ],
   "source": [
    "\n",
    "\n",
    "print(twrs_combined_CONTROL.coords)\n",
    "print( type(twrs_combined_CONTROL.datetime.values[0]), twrs_combined_CONTROL.datetime.values[0])\n",
    "print(np.datetime64('2010-05-17T14:38:00.025000000' ))"
   ]
  },
  {
   "cell_type": "code",
   "execution_count": 38,
   "metadata": {},
   "outputs": [],
   "source": [
    "twrs_combined_CONTROL['wspd'] = np.sqrt( twrs_combined_CONTROL['u']**2. + twrs_combined_CONTROL['v']**2. )\n",
    "twrs_combined_CPM['wspd'] = np.sqrt( twrs_combined_CPM['u']**2. + twrs_combined_CPM['v']**2. )"
   ]
  },
  {
   "cell_type": "code",
   "execution_count": 39,
   "metadata": {},
   "outputs": [
    {
     "ename": "ValueError",
     "evalue": "dimensions or multi-index levels ['station'] do not exist",
     "output_type": "error",
     "traceback": [
      "\u001b[0;31m---------------------------------------------------------------------------\u001b[0m",
      "\u001b[0;31mValueError\u001b[0m                                Traceback (most recent call last)",
      "\u001b[0;32m<ipython-input-39-a56ada81e04a>\u001b[0m in \u001b[0;36m<module>\u001b[0;34m\u001b[0m\n\u001b[0;32m----> 1\u001b[0;31m \u001b[0mprint\u001b[0m\u001b[0;34m(\u001b[0m\u001b[0mtwrs_combined_CONTROL\u001b[0m\u001b[0;34m.\u001b[0m\u001b[0mheight\u001b[0m\u001b[0;34m.\u001b[0m\u001b[0msel\u001b[0m\u001b[0;34m(\u001b[0m \u001b[0mstation\u001b[0m \u001b[0;34m=\u001b[0m \u001b[0;34m'ARR09'\u001b[0m\u001b[0;34m)\u001b[0m\u001b[0;34m.\u001b[0m\u001b[0misel\u001b[0m\u001b[0;34m(\u001b[0m\u001b[0mdatetime\u001b[0m \u001b[0;34m=\u001b[0m \u001b[0;34m-\u001b[0m\u001b[0;36m1\u001b[0m\u001b[0;34m)\u001b[0m\u001b[0;34m.\u001b[0m\u001b[0mvalues\u001b[0m \u001b[0;34m)\u001b[0m\u001b[0;34m\u001b[0m\u001b[0;34m\u001b[0m\u001b[0m\n\u001b[0m",
      "\u001b[0;32m~/anaconda3/envs/wildfire/lib/python3.8/site-packages/xarray/core/dataarray.py\u001b[0m in \u001b[0;36msel\u001b[0;34m(self, indexers, method, tolerance, drop, **indexers_kwargs)\u001b[0m\n\u001b[1;32m   1147\u001b[0m \u001b[0;34m\u001b[0m\u001b[0m\n\u001b[1;32m   1148\u001b[0m         \"\"\"\n\u001b[0;32m-> 1149\u001b[0;31m         ds = self._to_temp_dataset().sel(\n\u001b[0m\u001b[1;32m   1150\u001b[0m             \u001b[0mindexers\u001b[0m\u001b[0;34m=\u001b[0m\u001b[0mindexers\u001b[0m\u001b[0;34m,\u001b[0m\u001b[0;34m\u001b[0m\u001b[0;34m\u001b[0m\u001b[0m\n\u001b[1;32m   1151\u001b[0m             \u001b[0mdrop\u001b[0m\u001b[0;34m=\u001b[0m\u001b[0mdrop\u001b[0m\u001b[0;34m,\u001b[0m\u001b[0;34m\u001b[0m\u001b[0;34m\u001b[0m\u001b[0m\n",
      "\u001b[0;32m~/anaconda3/envs/wildfire/lib/python3.8/site-packages/xarray/core/dataset.py\u001b[0m in \u001b[0;36msel\u001b[0;34m(self, indexers, method, tolerance, drop, **indexers_kwargs)\u001b[0m\n\u001b[1;32m   2099\u001b[0m         \"\"\"\n\u001b[1;32m   2100\u001b[0m         \u001b[0mindexers\u001b[0m \u001b[0;34m=\u001b[0m \u001b[0meither_dict_or_kwargs\u001b[0m\u001b[0;34m(\u001b[0m\u001b[0mindexers\u001b[0m\u001b[0;34m,\u001b[0m \u001b[0mindexers_kwargs\u001b[0m\u001b[0;34m,\u001b[0m \u001b[0;34m\"sel\"\u001b[0m\u001b[0;34m)\u001b[0m\u001b[0;34m\u001b[0m\u001b[0;34m\u001b[0m\u001b[0m\n\u001b[0;32m-> 2101\u001b[0;31m         pos_indexers, new_indexes = remap_label_indexers(\n\u001b[0m\u001b[1;32m   2102\u001b[0m             \u001b[0mself\u001b[0m\u001b[0;34m,\u001b[0m \u001b[0mindexers\u001b[0m\u001b[0;34m=\u001b[0m\u001b[0mindexers\u001b[0m\u001b[0;34m,\u001b[0m \u001b[0mmethod\u001b[0m\u001b[0;34m=\u001b[0m\u001b[0mmethod\u001b[0m\u001b[0;34m,\u001b[0m \u001b[0mtolerance\u001b[0m\u001b[0;34m=\u001b[0m\u001b[0mtolerance\u001b[0m\u001b[0;34m\u001b[0m\u001b[0;34m\u001b[0m\u001b[0m\n\u001b[1;32m   2103\u001b[0m         )\n",
      "\u001b[0;32m~/anaconda3/envs/wildfire/lib/python3.8/site-packages/xarray/core/coordinates.py\u001b[0m in \u001b[0;36mremap_label_indexers\u001b[0;34m(obj, indexers, method, tolerance, **indexers_kwargs)\u001b[0m\n\u001b[1;32m    394\u001b[0m     }\n\u001b[1;32m    395\u001b[0m \u001b[0;34m\u001b[0m\u001b[0m\n\u001b[0;32m--> 396\u001b[0;31m     pos_indexers, new_indexes = indexing.remap_label_indexers(\n\u001b[0m\u001b[1;32m    397\u001b[0m         \u001b[0mobj\u001b[0m\u001b[0;34m,\u001b[0m \u001b[0mv_indexers\u001b[0m\u001b[0;34m,\u001b[0m \u001b[0mmethod\u001b[0m\u001b[0;34m=\u001b[0m\u001b[0mmethod\u001b[0m\u001b[0;34m,\u001b[0m \u001b[0mtolerance\u001b[0m\u001b[0;34m=\u001b[0m\u001b[0mtolerance\u001b[0m\u001b[0;34m\u001b[0m\u001b[0;34m\u001b[0m\u001b[0m\n\u001b[1;32m    398\u001b[0m     )\n",
      "\u001b[0;32m~/anaconda3/envs/wildfire/lib/python3.8/site-packages/xarray/core/indexing.py\u001b[0m in \u001b[0;36mremap_label_indexers\u001b[0;34m(data_obj, indexers, method, tolerance)\u001b[0m\n\u001b[1;32m    252\u001b[0m     \u001b[0mnew_indexes\u001b[0m \u001b[0;34m=\u001b[0m \u001b[0;34m{\u001b[0m\u001b[0;34m}\u001b[0m\u001b[0;34m\u001b[0m\u001b[0;34m\u001b[0m\u001b[0m\n\u001b[1;32m    253\u001b[0m \u001b[0;34m\u001b[0m\u001b[0m\n\u001b[0;32m--> 254\u001b[0;31m     \u001b[0mdim_indexers\u001b[0m \u001b[0;34m=\u001b[0m \u001b[0mget_dim_indexers\u001b[0m\u001b[0;34m(\u001b[0m\u001b[0mdata_obj\u001b[0m\u001b[0;34m,\u001b[0m \u001b[0mindexers\u001b[0m\u001b[0;34m)\u001b[0m\u001b[0;34m\u001b[0m\u001b[0;34m\u001b[0m\u001b[0m\n\u001b[0m\u001b[1;32m    255\u001b[0m     \u001b[0;32mfor\u001b[0m \u001b[0mdim\u001b[0m\u001b[0;34m,\u001b[0m \u001b[0mlabel\u001b[0m \u001b[0;32min\u001b[0m \u001b[0mdim_indexers\u001b[0m\u001b[0;34m.\u001b[0m\u001b[0mitems\u001b[0m\u001b[0;34m(\u001b[0m\u001b[0;34m)\u001b[0m\u001b[0;34m:\u001b[0m\u001b[0;34m\u001b[0m\u001b[0;34m\u001b[0m\u001b[0m\n\u001b[1;32m    256\u001b[0m         \u001b[0;32mtry\u001b[0m\u001b[0;34m:\u001b[0m\u001b[0;34m\u001b[0m\u001b[0;34m\u001b[0m\u001b[0m\n",
      "\u001b[0;32m~/anaconda3/envs/wildfire/lib/python3.8/site-packages/xarray/core/indexing.py\u001b[0m in \u001b[0;36mget_dim_indexers\u001b[0;34m(data_obj, indexers)\u001b[0m\n\u001b[1;32m    218\u001b[0m     ]\n\u001b[1;32m    219\u001b[0m     \u001b[0;32mif\u001b[0m \u001b[0minvalid\u001b[0m\u001b[0;34m:\u001b[0m\u001b[0;34m\u001b[0m\u001b[0;34m\u001b[0m\u001b[0m\n\u001b[0;32m--> 220\u001b[0;31m         \u001b[0;32mraise\u001b[0m \u001b[0mValueError\u001b[0m\u001b[0;34m(\u001b[0m\u001b[0;34mf\"dimensions or multi-index levels {invalid!r} do not exist\"\u001b[0m\u001b[0;34m)\u001b[0m\u001b[0;34m\u001b[0m\u001b[0;34m\u001b[0m\u001b[0m\n\u001b[0m\u001b[1;32m    221\u001b[0m \u001b[0;34m\u001b[0m\u001b[0m\n\u001b[1;32m    222\u001b[0m     \u001b[0mlevel_indexers\u001b[0m \u001b[0;34m=\u001b[0m \u001b[0mdefaultdict\u001b[0m\u001b[0;34m(\u001b[0m\u001b[0mdict\u001b[0m\u001b[0;34m)\u001b[0m\u001b[0;34m\u001b[0m\u001b[0;34m\u001b[0m\u001b[0m\n",
      "\u001b[0;31mValueError\u001b[0m: dimensions or multi-index levels ['station'] do not exist"
     ]
    }
   ],
   "source": [
    "print(twrs_combined_CONTROL.height.sel( station = 'ARR09').isel(datetime = -1).values )"
   ]
  },
  {
   "cell_type": "code",
   "execution_count": null,
   "metadata": {},
   "outputs": [],
   "source": [
    "### Quick calculation and plot\n",
    "t0 = pd.to_datetime( '2010-05-16T01:40:00' )\n",
    "tf = pd.to_datetime( '2010-05-16T02:00:00' )\n",
    "print( twrs_combined_CONTROL.datetime.values[-1],  twrs_combined_CONTROL.datetime.values[0])\n",
    "\n",
    "#test = twrs_combined_CONTROL.u.sel( station = 'ARR09', datetime = slice(t0, tf) )#.mean(dim = 'datetime')\n",
    "#print(test.values)\n",
    "plt.figure()\n",
    "plt.plot( twrs_combined_CONTROL.wspd.sel( station = 'ARR09', \\\n",
    "                            datetime = slice(t0, tf) ).mean(dim = 'datetime'), \\\n",
    "          twrs_combined_CONTROL.height.sel( station = 'ARR09').isel(datetime = -1),\n",
    "          label = 'CONTROL' )\n",
    "\n",
    "plt.plot( twrs_combined_CPM.wspd.sel( station = 'ARR09', \\\n",
    "                            datetime = slice(t0, tf) ).mean(dim = 'datetime'), \\\n",
    "          twrs_combined_CPM.height.sel( station = 'ARR09').isel(datetime = -1),\n",
    "          label = 'CPM' )\n",
    "plt.xlabel('WSPD [[m/s]]')\n",
    "plt.ylabel('Height [m]')\n",
    "plt.legend(loc = 'best')"
   ]
  },
  {
   "cell_type": "code",
   "execution_count": null,
   "metadata": {},
   "outputs": [],
   "source": []
  }
 ],
 "metadata": {
  "kernelspec": {
   "display_name": "wildfire",
   "language": "python",
   "name": "wildfire"
  },
  "language_info": {
   "codemirror_mode": {
    "name": "ipython",
    "version": 3
   },
   "file_extension": ".py",
   "mimetype": "text/x-python",
   "name": "python",
   "nbconvert_exporter": "python",
   "pygments_lexer": "ipython3",
   "version": "3.8.2"
  }
 },
 "nbformat": 4,
 "nbformat_minor": 4
}
