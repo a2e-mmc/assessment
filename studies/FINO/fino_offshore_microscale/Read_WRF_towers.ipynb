{
 "cells": [
  {
   "cell_type": "markdown",
   "metadata": {},
   "source": [
    "# Read_WRF_towers\n",
    "Use mmctools tslist class and tslist_seriesReader to read tower output for the FINO offshore microscale simulations.<br>\n",
    "Save tslist dataseries to pdata file"
   ]
  },
  {
   "cell_type": "markdown",
   "metadata": {},
   "source": [
    "## Set file paths, import 'sys' module for setting filepath"
   ]
  },
  {
   "cell_type": "code",
   "execution_count": 1,
   "metadata": {},
   "outputs": [],
   "source": [
    "#wrf_dir = '/p/lscratchh/lassman1/a2e-mmc/WRF/FINO/ERA5_grid2.0/'\n",
    "wrf_dir = '/p/lustre1/lassman1/a2e-mmc/FINO/WRF/resims/'\n",
    "#cases = ['microscale_setup_v2_CONTROL', 'microscale_setup_v2_CPM']\n",
    "cases = ['CONTROL', 'CPM']\n",
    "\n",
    "pdata_save_dir = '/p/lscratchh/lassman1/a2e-mmc/pdata/FINO_RS/'\n",
    "\n",
    "\n",
    "#restarts = ['tsout_01:00-01:20', 'tsout_01:20-01:40', 'tsout_01:40-02:00',\\\n",
    "#            'tsout_02:00-02:20', 'tsout_02:20-02:40', 'tsout_02:40-03:00',\\\n",
    "#            'tsout_03:00-03:20', 'tsout_03:20-03:40', 'tsout_03:40-04:00',\\\n",
    "#            'tsout_04:00-04:20', 'tsout_04:20-04:40', 'tsout_04:40-05:00']\n",
    "\n",
    "restarts = ['tsout_0100-0120', 'tsout_0120-0140', 'tsout_0140-0200',\\\n",
    "            'tsout_0200-0220', 'tsout_0220-0240', 'tsout_0240-0300',\\\n",
    "            'tsout_0300-0320', 'tsout_0320-0340', 'tsout_0340-0400',\\\n",
    "            'tsout_0400-0420', 'tsout_0420-0440', 'tsout_0440-0500']\n",
    "\n",
    "case_days_start = ['2010-05-16']\n",
    "case_days_end = ['2010-05-16']\n",
    "\n",
    "#wrf_start_times = ['2010-05-16 01:00', '2010-05-16 01:20', '2010-05-16 01:40', \\\n",
    "#                   '2010-05-16 02:00', '2010-05-16 02:20', '2010-05-16 02:40', \\\n",
    "#                   '2010-05-16 03:00', '2010-05-16 03:20', '2010-05-16 03:40', \\\n",
    "#                   '2010-05-16 04:00', '2010-05-16 04:20', '2010-05-16 04:40' ]\n",
    "\n",
    "wrf_start_times = ['2010-05-14 12:00', '2010-05-14 12:00', '2010-05-14 12:00', \\\n",
    "                   '2010-05-14 12:00', '2010-05-14 12:00', '2010-05-14 12:00', \\\n",
    "                   '2010-05-14 12:00', '2010-05-14 12:00', '2010-05-14 12:00', \\\n",
    "                   '2010-05-14 12:00', '2010-05-14 12:00', '2010-05-14 12:00']\n",
    "\n",
    "\n",
    "\n",
    "wrf_dt = 0.025 #[seconds]\n",
    "import sys\n",
    "import os\n",
    "\n",
    "#module_path = os.path.join(os.environ['HOME'],'code/Python/a2e-mmc/')\n",
    "module_path = os.path.join(os.environ['HOME'],'mmc/mmc_github_clones/mmctools/')                                                          \n",
    "if module_path not in sys.path:\n",
    "    sys.path.append(module_path)\n"
   ]
  },
  {
   "cell_type": "raw",
   "metadata": {},
   "source": [
    "# Tower indices inside domain 6\n",
    "#-----------------------------------------------#\n",
    "# 24 characters for name | pfx |   I   |    J   |\n",
    "#-----------------------------------------------#\n",
    "Tower Array 001           ARR01   121   125 \n",
    "Tower Array 002           ARR02   121   225 \n",
    "Tower Array 003           ARR03   121   325 \n",
    "Tower Array 004           ARR04   121   425 \n",
    "Tower Array 005           ARR05   121   525 \n",
    "Tower Array 006           ARR06   221   125 \n",
    "Tower Array 007           ARR07   221   225 \n",
    "Tower Array 008           ARR08   221   325 \n",
    "Tower Array 009           ARR09   221   425 \n",
    "Tower Array 010           ARR10   221   525 \n",
    "Tower Array 011           ARR11   321   125 \n",
    "Tower Array 012           ARR12   321   225 \n",
    "Tower Array 013           ARR13   321   325 \n",
    "Tower Array 014           ARR14   321   425 \n",
    "Tower Array 015           ARR15   321   525 \n",
    "Tower Array 016           ARR16   421   125 \n",
    "Tower Array 017           ARR17   421   225 \n",
    "Tower Array 018           ARR18   421   325 \n",
    "Tower Array 019           ARR19   421   425 \n",
    "Tower Array 020           ARR20   421   525 \n",
    "Tower Array 021           ARR21   521   125 \n",
    "Tower Array 022           ARR22   521   225 \n",
    "Tower Array 023           ARR23   521   325 \n",
    "Tower Array 024           ARR24   521   425 \n",
    "Tower Array 025           ARR25   521   525 \n",
    "FINO1 Array 001           F1_01   411   215 \n",
    "FINO1 Array 002           F1_02   411   225 \n",
    "FINO1 Array 003           F1_03   411   235 \n",
    "FINO1 Array 004           F1_04   421   215 \n",
    "FINO1 Array 005           F1_05   421   225 \n",
    "FINO1 Array 006           F1_06   421   235 \n",
    "FINO1 Array 007           F1_07   431   215 \n",
    "FINO1 Array 008           F1_08   431   225 \n",
    "FINO1 Array 009           F1_09   431   235 "
   ]
  },
  {
   "cell_type": "code",
   "execution_count": 2,
   "metadata": {},
   "outputs": [],
   "source": [
    "ts_heights = [5.0, 10.0,  15.0, 20.0, 25.0, 30.0, 33.0, 35.0, 40.0, 45.0, 50.0, \\\n",
    "                  55.0, 60.0, 65.0, 70.0, 75.0, 80.0, 85.0, 90.0, 95.0, 100.0, 110.0, \\\n",
    "                  125.0, 150.0, 200.0],"
   ]
  },
  {
   "cell_type": "code",
   "execution_count": 3,
   "metadata": {},
   "outputs": [],
   "source": [
    "import numpy as np\n",
    "import matplotlib.pyplot as plt\n",
    "import pandas as pd\n",
    "import xarray as xr\n",
    "from matplotlib.colors import Normalize\n",
    "\n",
    "from mmctools.wrf.utils import Tower, combine_towers, tsout_seriesReader"
   ]
  },
  {
   "cell_type": "code",
   "execution_count": 4,
   "metadata": {},
   "outputs": [],
   "source": [
    "n_case_days = len(case_days_start)\n",
    "ncases = len(cases)"
   ]
  },
  {
   "cell_type": "code",
   "execution_count": 5,
   "metadata": {},
   "outputs": [],
   "source": [
    "# Where the tslist output are located:\n",
    "twr_file_loc = '/p/lscratchh/lassman1/a2e-mmc/WRF/FINO/ERA5_grid2.0/microscale_setup_v2_CONTROL/tsout_01:00-01:20/'\n",
    "# Which tower you want to read in, and which domain:\n",
    "twr_file_name = 'ARR09.d06' # 'FN1' is the name, 'd03' is for the third domain\n",
    "twr_file_path = '{}{}'.format(twr_file_loc,twr_file_name)"
   ]
  },
  {
   "cell_type": "code",
   "execution_count": 6,
   "metadata": {},
   "outputs": [
    {
     "data": {
      "text/plain": [
       "mmctools.wrf.utils.Tower"
      ]
     },
     "execution_count": 6,
     "metadata": {},
     "output_type": "execute_result"
    }
   ],
   "source": [
    "single_tower = Tower(twr_file_path)\n",
    "\n",
    "type(single_tower)"
   ]
  },
  {
   "cell_type": "code",
   "execution_count": 7,
   "metadata": {},
   "outputs": [
    {
     "name": "stdout",
     "output_type": "stream",
     "text": [
      "[37.000008 37.000011 37.000019 ... 37.398598 37.398605 37.398613]\n"
     ]
    }
   ],
   "source": [
    "print(single_tower.time)"
   ]
  },
  {
   "cell_type": "code",
   "execution_count": 8,
   "metadata": {},
   "outputs": [
    {
     "name": "stdout",
     "output_type": "stream",
     "text": [
      "restart: tsout_0100-0120\n",
      "starting ARR06.d06\n",
      "starting ARR07.d06\n",
      "starting ARR08.d06\n",
      "starting ARR09.d06\n",
      "restart: tsout_0120-0140\n",
      "starting ARR06.d06\n",
      "starting ARR07.d06\n",
      "starting ARR08.d06\n",
      "starting ARR09.d06\n",
      "restart: tsout_0140-0200\n",
      "starting ARR06.d06\n",
      "starting ARR07.d06\n",
      "starting ARR08.d06\n",
      "starting ARR09.d06\n",
      "restart: tsout_0200-0220\n",
      "starting ARR06.d06\n",
      "starting ARR07.d06\n",
      "starting ARR08.d06\n",
      "starting ARR09.d06\n",
      "restart: tsout_0220-0240\n",
      "starting ARR06.d06\n",
      "starting ARR07.d06\n",
      "starting ARR08.d06\n",
      "starting ARR09.d06\n",
      "restart: tsout_0240-0300\n",
      "starting ARR06.d06\n",
      "starting ARR07.d06\n",
      "starting ARR08.d06\n",
      "starting ARR09.d06\n",
      "restart: tsout_0300-0320\n",
      "starting ARR06.d06\n",
      "starting ARR07.d06\n",
      "starting ARR08.d06\n",
      "starting ARR09.d06\n",
      "restart: tsout_0320-0340\n",
      "starting ARR06.d06\n",
      "starting ARR07.d06\n",
      "starting ARR08.d06\n",
      "starting ARR09.d06\n",
      "restart: tsout_0340-0400\n",
      "starting ARR06.d06\n",
      "starting ARR07.d06\n",
      "starting ARR08.d06\n",
      "starting ARR09.d06\n",
      "restart: tsout_0400-0420\n",
      "starting ARR06.d06\n",
      "starting ARR07.d06\n",
      "starting ARR08.d06\n",
      "starting ARR09.d06\n",
      "restart: tsout_0420-0440\n",
      "starting ARR06.d06\n",
      "starting ARR07.d06\n",
      "starting ARR08.d06\n",
      "starting ARR09.d06\n",
      "restart: tsout_0440-0500\n",
      "starting ARR06.d06\n",
      "starting ARR07.d06\n",
      "starting ARR08.d06\n",
      "starting ARR09.d06\n"
     ]
    }
   ],
   "source": [
    "# Create combined tower DataArray (this may take a while)\n",
    "#twrs_combined_CONTROL = tsout_seriesReader(fdir=wrf_dir + cases[0]+'/',\n",
    "#                                       restarts=restarts,\n",
    "#                                       simulation_start_time=wrf_start_times,\n",
    "#                                       structure='unordered',\n",
    "#                                       time_step=wrf_dt,\n",
    "#                                       domain_of_interest='d06',\n",
    "#                                       heights=[5.0, 10.0,  15.0, 20.0, \\\n",
    "#                                                25.0, 30.0, 33.0, 35.0, \\\n",
    "#                                                40.0, 45.0, 50.0, 55.0, \\\n",
    "#                                                60.0, 65.0, 70.0, 75.0, \\\n",
    "#                                                80.0, 85.0, 90.0, 95.0, \\\n",
    "#                                                100.0, 110.0, 125.0, 150.0, 200.0],\n",
    "#                                       height_var='ph',\n",
    "#                                       select_tower = ['ARR06', 'ARR07', 'ARR08', 'ARR09']\n",
    "#                                       )\n",
    "twrs_combined_CONTROL = tsout_seriesReader(fdir=wrf_dir + cases[0]+'/',\n",
    "                                       restarts=restarts[:],\n",
    "                                       simulation_start_time=wrf_start_times[:],\n",
    "                                       structure='unordered',\n",
    "                                       time_step=wrf_dt,\n",
    "                                       domain_of_interest='d06',\n",
    "                                       heights=[5.0, 10.0,  15.0, 20.0, \\\n",
    "                                                25.0, 30.0, 33.0, 35.0, \\\n",
    "                                                40.0, 45.0, 50.0, 55.0, \\\n",
    "                                                60.0, 65.0, 70.0, 75.0, \\\n",
    "                                                80.0, 85.0, 90.0, 95.0, \\\n",
    "                                                100.0, 110.0, 125.0, 150.0, 200.0],                                       \n",
    "                                       height_var='ph',\n",
    "                                       select_tower = ['ARR06', 'ARR07', 'ARR08', 'ARR09']\n",
    "                                       )\n",
    "#33.0 40.0 50.0 60.0 70.0 80.0 90.0 100.0"
   ]
  },
  {
   "cell_type": "code",
   "execution_count": 9,
   "metadata": {},
   "outputs": [
    {
     "name": "stdout",
     "output_type": "stream",
     "text": [
      "restart: tsout_0100-0120\n",
      "starting ARR06.d06\n",
      "starting ARR07.d06\n",
      "starting ARR08.d06\n",
      "starting ARR09.d06\n",
      "restart: tsout_0120-0140\n",
      "starting ARR06.d06\n",
      "starting ARR07.d06\n",
      "starting ARR08.d06\n",
      "starting ARR09.d06\n",
      "restart: tsout_0140-0200\n",
      "starting ARR06.d06\n",
      "starting ARR07.d06\n",
      "starting ARR08.d06\n",
      "starting ARR09.d06\n",
      "restart: tsout_0200-0220\n",
      "starting ARR06.d06\n",
      "starting ARR07.d06\n",
      "starting ARR08.d06\n",
      "starting ARR09.d06\n",
      "restart: tsout_0220-0240\n",
      "starting ARR06.d06\n",
      "starting ARR07.d06\n",
      "starting ARR08.d06\n",
      "starting ARR09.d06\n",
      "restart: tsout_0240-0300\n",
      "starting ARR06.d06\n",
      "starting ARR07.d06\n",
      "starting ARR08.d06\n",
      "starting ARR09.d06\n",
      "restart: tsout_0300-0320\n",
      "starting ARR06.d06\n",
      "starting ARR07.d06\n",
      "starting ARR08.d06\n",
      "starting ARR09.d06\n",
      "restart: tsout_0320-0340\n",
      "starting ARR06.d06\n",
      "starting ARR07.d06\n",
      "starting ARR08.d06\n",
      "starting ARR09.d06\n",
      "restart: tsout_0340-0400\n",
      "starting ARR06.d06\n",
      "starting ARR07.d06\n",
      "starting ARR08.d06\n",
      "starting ARR09.d06\n",
      "restart: tsout_0400-0420\n",
      "starting ARR06.d06\n",
      "starting ARR07.d06\n",
      "starting ARR08.d06\n",
      "starting ARR09.d06\n",
      "restart: tsout_0420-0440\n",
      "starting ARR06.d06\n",
      "starting ARR07.d06\n",
      "starting ARR08.d06\n",
      "starting ARR09.d06\n",
      "restart: tsout_0440-0500\n",
      "starting ARR06.d06\n",
      "starting ARR07.d06\n",
      "starting ARR08.d06\n",
      "starting ARR09.d06\n"
     ]
    }
   ],
   "source": [
    "# Create combined tower DataArray (this may take a while)\n",
    "\n",
    "twrs_combined_CPM = tsout_seriesReader(fdir=wrf_dir + cases[1]+'/',\n",
    "                                       restarts=restarts[:],\n",
    "                                       simulation_start_time=wrf_start_times[:],\n",
    "                                       structure='unordered',\n",
    "                                       #time_step=wrf_dt,\n",
    "                                       domain_of_interest='d06',\n",
    "                                       heights=[5.0, 10.0,  15.0, 20.0, \\\n",
    "                                                25.0, 30.0, 33.0, 35.0, \\\n",
    "                                                40.0, 45.0, 50.0, 55.0, \\\n",
    "                                                60.0, 65.0, 70.0, 75.0, \\\n",
    "                                                80.0, 85.0, 90.0, 95.0, \\\n",
    "                                                100.0, 110.0, 125.0, 150.0, 200.0],                                       \n",
    "                                       height_var='ph',\n",
    "                                       select_tower = ['ARR06', 'ARR07', 'ARR08', 'ARR09']\n",
    "                                       )"
   ]
  },
  {
   "cell_type": "raw",
   "metadata": {},
   "source": [
    "# Print some values, just a sanity check\n",
    "\n",
    "print(twrs_combined_CONTROL.height.sel( station = 'ARR06').values[-2,:])"
   ]
  },
  {
   "cell_type": "raw",
   "metadata": {},
   "source": [
    "# Print some values, just a sanity check\n",
    "print(twrs_combined_CONTROL.dims)\n",
    "print(twrs_combined_CONTROL.coords)\n"
   ]
  },
  {
   "cell_type": "raw",
   "metadata": {},
   "source": [
    "# Print some values, just a sanity check\n",
    "print(twrs_combined_CPM.dims)\n",
    "print(twrs_combined_CPM.coords)\n"
   ]
  },
  {
   "cell_type": "code",
   "execution_count": 10,
   "metadata": {},
   "outputs": [
    {
     "name": "stdout",
     "output_type": "stream",
     "text": [
      "<xarray.DataArray 'datetime' (datetime: 579000)>\n",
      "array(['2010-05-16T01:00:00.029000000', '2010-05-16T01:00:00.040000000',\n",
      "       '2010-05-16T01:00:00.068000000', ..., '2010-05-16T05:01:14.956000000',\n",
      "       '2010-05-16T05:01:14.981000000', '2010-05-16T05:01:14.995000000'],\n",
      "      dtype='datetime64[ns]')\n",
      "Coordinates:\n",
      "  * datetime  (datetime) datetime64[ns] 2010-05-16T01:00:00.029000 ... 2010-0...\n",
      "<xarray.DataArray 'datetime' (datetime: 579000)>\n",
      "array(['2010-05-16T01:00:00.025000000', '2010-05-16T01:00:00.050000000',\n",
      "       '2010-05-16T01:00:00.075000000', ..., '2010-05-16T05:01:14.950000000',\n",
      "       '2010-05-16T05:01:14.975000000', '2010-05-16T05:01:15.000000000'],\n",
      "      dtype='datetime64[ns]')\n",
      "Coordinates:\n",
      "  * datetime  (datetime) datetime64[ns] 2010-05-16T01:00:00.025000 ... 2010-0...\n"
     ]
    }
   ],
   "source": [
    "print(twrs_combined_CPM.datetime)\n",
    "print(twrs_combined_CONTROL.datetime)"
   ]
  },
  {
   "cell_type": "markdown",
   "metadata": {},
   "source": [
    "### Save to process data files"
   ]
  },
  {
   "cell_type": "code",
   "execution_count": 11,
   "metadata": {},
   "outputs": [],
   "source": [
    "twrs_combined_CPM.to_netcdf( pdata_save_dir + 'setup_2_tslist_cpm.nc')"
   ]
  },
  {
   "cell_type": "code",
   "execution_count": 12,
   "metadata": {},
   "outputs": [],
   "source": [
    "twrs_combined_CONTROL.to_netcdf( pdata_save_dir + 'setup_2_tslist_control.nc')"
   ]
  },
  {
   "cell_type": "markdown",
   "metadata": {},
   "source": [
    "### Some calculations and a plot to verify things are working correctly"
   ]
  },
  {
   "cell_type": "code",
   "execution_count": 13,
   "metadata": {},
   "outputs": [
    {
     "name": "stdout",
     "output_type": "stream",
     "text": [
      "Coordinates:\n",
      "    lat       (station) float64 54.02 54.02 54.02 54.01\n",
      "    lon       (station) float64 6.542 6.558 6.573 6.588\n",
      "    zsurface  (station) float64 0.0 0.0 0.0 0.0\n",
      "  * datetime  (datetime) datetime64[ns] 2010-05-16T01:00:00.025000 ... 2010-0...\n",
      "    height    (nz) float64 5.0 10.0 15.0 20.0 25.0 ... 110.0 125.0 150.0 200.0\n",
      "  * station   (station) object 'ARR06' 'ARR07' 'ARR08' 'ARR09'\n",
      "<class 'numpy.datetime64'> 2010-05-16T01:00:00.025000000\n"
     ]
    }
   ],
   "source": [
    "\n",
    "\n",
    "print(twrs_combined_CONTROL.coords)\n",
    "print( type(twrs_combined_CONTROL.datetime.values[0]), twrs_combined_CONTROL.datetime.values[0])\n"
   ]
  },
  {
   "cell_type": "code",
   "execution_count": null,
   "metadata": {},
   "outputs": [],
   "source": [
    "\n",
    "\n"
   ]
  },
  {
   "cell_type": "code",
   "execution_count": 14,
   "metadata": {},
   "outputs": [
    {
     "name": "stdout",
     "output_type": "stream",
     "text": [
      "Coordinates:\n",
      "    lat       (station) float64 54.02 54.02 54.02 54.01\n",
      "    lon       (station) float64 6.542 6.558 6.573 6.588\n",
      "    zsurface  (station) float64 0.0 0.0 0.0 0.0\n",
      "  * datetime  (datetime) datetime64[ns] 2010-05-16T01:00:00.025000 ... 2010-0...\n",
      "    height    (nz) float64 5.0 10.0 15.0 20.0 25.0 ... 110.0 125.0 150.0 200.0\n",
      "  * station   (station) object 'ARR06' 'ARR07' 'ARR08' 'ARR09'\n",
      "<class 'numpy.datetime64'> 2010-05-16T01:00:00.025000000\n",
      "2010-05-17T14:38:00.025000000\n"
     ]
    }
   ],
   "source": [
    "\n",
    "\n",
    "print(twrs_combined_CONTROL.coords)\n",
    "print( type(twrs_combined_CONTROL.datetime.values[0]), twrs_combined_CONTROL.datetime.values[0])\n",
    "print(np.datetime64('2010-05-17T14:38:00.025000000' ))"
   ]
  },
  {
   "cell_type": "code",
   "execution_count": 15,
   "metadata": {},
   "outputs": [],
   "source": [
    "twrs_combined_CONTROL['wspd'] = np.sqrt( twrs_combined_CONTROL['u']**2. + twrs_combined_CONTROL['v']**2. )\n",
    "twrs_combined_CPM['wspd'] = np.sqrt( twrs_combined_CPM['u']**2. + twrs_combined_CPM['v']**2. )"
   ]
  },
  {
   "cell_type": "code",
   "execution_count": 16,
   "metadata": {},
   "outputs": [],
   "source": [
    "#print(twrs_combined_CONTROL.height.sel( station = 'ARR09').isel(datetime = -1).values )"
   ]
  },
  {
   "cell_type": "code",
   "execution_count": 17,
   "metadata": {},
   "outputs": [
    {
     "name": "stdout",
     "output_type": "stream",
     "text": [
      "2010-05-16T05:01:15.000000000 2010-05-16T01:00:00.025000000\n"
     ]
    },
    {
     "ename": "ValueError",
     "evalue": "dimensions or multi-index levels ['station'] do not exist",
     "output_type": "error",
     "traceback": [
      "\u001b[0;31m---------------------------------------------------------------------------\u001b[0m",
      "\u001b[0;31mValueError\u001b[0m                                Traceback (most recent call last)",
      "\u001b[0;32m<ipython-input-17-7ef294fa3cce>\u001b[0m in \u001b[0;36m<module>\u001b[0;34m\u001b[0m\n\u001b[1;32m      9\u001b[0m plt.plot( twrs_combined_CONTROL.wspd.sel( station = 'ARR09', \\\n\u001b[1;32m     10\u001b[0m                             datetime = slice(t0, tf) ).mean(dim = 'datetime'), \\\n\u001b[0;32m---> 11\u001b[0;31m           \u001b[0mtwrs_combined_CONTROL\u001b[0m\u001b[0;34m.\u001b[0m\u001b[0mheight\u001b[0m\u001b[0;34m.\u001b[0m\u001b[0msel\u001b[0m\u001b[0;34m(\u001b[0m \u001b[0mstation\u001b[0m \u001b[0;34m=\u001b[0m \u001b[0;34m'ARR09'\u001b[0m\u001b[0;34m)\u001b[0m\u001b[0;34m.\u001b[0m\u001b[0misel\u001b[0m\u001b[0;34m(\u001b[0m\u001b[0mdatetime\u001b[0m \u001b[0;34m=\u001b[0m \u001b[0;34m-\u001b[0m\u001b[0;36m1\u001b[0m\u001b[0;34m)\u001b[0m\u001b[0;34m,\u001b[0m\u001b[0;34m\u001b[0m\u001b[0;34m\u001b[0m\u001b[0m\n\u001b[0m\u001b[1;32m     12\u001b[0m           label = 'CONTROL' )\n\u001b[1;32m     13\u001b[0m \u001b[0;34m\u001b[0m\u001b[0m\n",
      "\u001b[0;32m~/anaconda3/envs/mmc/lib/python3.8/site-packages/xarray/core/dataarray.py\u001b[0m in \u001b[0;36msel\u001b[0;34m(self, indexers, method, tolerance, drop, **indexers_kwargs)\u001b[0m\n\u001b[1;32m   1147\u001b[0m \u001b[0;34m\u001b[0m\u001b[0m\n\u001b[1;32m   1148\u001b[0m         \"\"\"\n\u001b[0;32m-> 1149\u001b[0;31m         ds = self._to_temp_dataset().sel(\n\u001b[0m\u001b[1;32m   1150\u001b[0m             \u001b[0mindexers\u001b[0m\u001b[0;34m=\u001b[0m\u001b[0mindexers\u001b[0m\u001b[0;34m,\u001b[0m\u001b[0;34m\u001b[0m\u001b[0;34m\u001b[0m\u001b[0m\n\u001b[1;32m   1151\u001b[0m             \u001b[0mdrop\u001b[0m\u001b[0;34m=\u001b[0m\u001b[0mdrop\u001b[0m\u001b[0;34m,\u001b[0m\u001b[0;34m\u001b[0m\u001b[0;34m\u001b[0m\u001b[0m\n",
      "\u001b[0;32m~/anaconda3/envs/mmc/lib/python3.8/site-packages/xarray/core/dataset.py\u001b[0m in \u001b[0;36msel\u001b[0;34m(self, indexers, method, tolerance, drop, **indexers_kwargs)\u001b[0m\n\u001b[1;32m   2099\u001b[0m         \"\"\"\n\u001b[1;32m   2100\u001b[0m         \u001b[0mindexers\u001b[0m \u001b[0;34m=\u001b[0m \u001b[0meither_dict_or_kwargs\u001b[0m\u001b[0;34m(\u001b[0m\u001b[0mindexers\u001b[0m\u001b[0;34m,\u001b[0m \u001b[0mindexers_kwargs\u001b[0m\u001b[0;34m,\u001b[0m \u001b[0;34m\"sel\"\u001b[0m\u001b[0;34m)\u001b[0m\u001b[0;34m\u001b[0m\u001b[0;34m\u001b[0m\u001b[0m\n\u001b[0;32m-> 2101\u001b[0;31m         pos_indexers, new_indexes = remap_label_indexers(\n\u001b[0m\u001b[1;32m   2102\u001b[0m             \u001b[0mself\u001b[0m\u001b[0;34m,\u001b[0m \u001b[0mindexers\u001b[0m\u001b[0;34m=\u001b[0m\u001b[0mindexers\u001b[0m\u001b[0;34m,\u001b[0m \u001b[0mmethod\u001b[0m\u001b[0;34m=\u001b[0m\u001b[0mmethod\u001b[0m\u001b[0;34m,\u001b[0m \u001b[0mtolerance\u001b[0m\u001b[0;34m=\u001b[0m\u001b[0mtolerance\u001b[0m\u001b[0;34m\u001b[0m\u001b[0;34m\u001b[0m\u001b[0m\n\u001b[1;32m   2103\u001b[0m         )\n",
      "\u001b[0;32m~/anaconda3/envs/mmc/lib/python3.8/site-packages/xarray/core/coordinates.py\u001b[0m in \u001b[0;36mremap_label_indexers\u001b[0;34m(obj, indexers, method, tolerance, **indexers_kwargs)\u001b[0m\n\u001b[1;32m    394\u001b[0m     }\n\u001b[1;32m    395\u001b[0m \u001b[0;34m\u001b[0m\u001b[0m\n\u001b[0;32m--> 396\u001b[0;31m     pos_indexers, new_indexes = indexing.remap_label_indexers(\n\u001b[0m\u001b[1;32m    397\u001b[0m         \u001b[0mobj\u001b[0m\u001b[0;34m,\u001b[0m \u001b[0mv_indexers\u001b[0m\u001b[0;34m,\u001b[0m \u001b[0mmethod\u001b[0m\u001b[0;34m=\u001b[0m\u001b[0mmethod\u001b[0m\u001b[0;34m,\u001b[0m \u001b[0mtolerance\u001b[0m\u001b[0;34m=\u001b[0m\u001b[0mtolerance\u001b[0m\u001b[0;34m\u001b[0m\u001b[0;34m\u001b[0m\u001b[0m\n\u001b[1;32m    398\u001b[0m     )\n",
      "\u001b[0;32m~/anaconda3/envs/mmc/lib/python3.8/site-packages/xarray/core/indexing.py\u001b[0m in \u001b[0;36mremap_label_indexers\u001b[0;34m(data_obj, indexers, method, tolerance)\u001b[0m\n\u001b[1;32m    252\u001b[0m     \u001b[0mnew_indexes\u001b[0m \u001b[0;34m=\u001b[0m \u001b[0;34m{\u001b[0m\u001b[0;34m}\u001b[0m\u001b[0;34m\u001b[0m\u001b[0;34m\u001b[0m\u001b[0m\n\u001b[1;32m    253\u001b[0m \u001b[0;34m\u001b[0m\u001b[0m\n\u001b[0;32m--> 254\u001b[0;31m     \u001b[0mdim_indexers\u001b[0m \u001b[0;34m=\u001b[0m \u001b[0mget_dim_indexers\u001b[0m\u001b[0;34m(\u001b[0m\u001b[0mdata_obj\u001b[0m\u001b[0;34m,\u001b[0m \u001b[0mindexers\u001b[0m\u001b[0;34m)\u001b[0m\u001b[0;34m\u001b[0m\u001b[0;34m\u001b[0m\u001b[0m\n\u001b[0m\u001b[1;32m    255\u001b[0m     \u001b[0;32mfor\u001b[0m \u001b[0mdim\u001b[0m\u001b[0;34m,\u001b[0m \u001b[0mlabel\u001b[0m \u001b[0;32min\u001b[0m \u001b[0mdim_indexers\u001b[0m\u001b[0;34m.\u001b[0m\u001b[0mitems\u001b[0m\u001b[0;34m(\u001b[0m\u001b[0;34m)\u001b[0m\u001b[0;34m:\u001b[0m\u001b[0;34m\u001b[0m\u001b[0;34m\u001b[0m\u001b[0m\n\u001b[1;32m    256\u001b[0m         \u001b[0;32mtry\u001b[0m\u001b[0;34m:\u001b[0m\u001b[0;34m\u001b[0m\u001b[0;34m\u001b[0m\u001b[0m\n",
      "\u001b[0;32m~/anaconda3/envs/mmc/lib/python3.8/site-packages/xarray/core/indexing.py\u001b[0m in \u001b[0;36mget_dim_indexers\u001b[0;34m(data_obj, indexers)\u001b[0m\n\u001b[1;32m    218\u001b[0m     ]\n\u001b[1;32m    219\u001b[0m     \u001b[0;32mif\u001b[0m \u001b[0minvalid\u001b[0m\u001b[0;34m:\u001b[0m\u001b[0;34m\u001b[0m\u001b[0;34m\u001b[0m\u001b[0m\n\u001b[0;32m--> 220\u001b[0;31m         \u001b[0;32mraise\u001b[0m \u001b[0mValueError\u001b[0m\u001b[0;34m(\u001b[0m\u001b[0;34mf\"dimensions or multi-index levels {invalid!r} do not exist\"\u001b[0m\u001b[0;34m)\u001b[0m\u001b[0;34m\u001b[0m\u001b[0;34m\u001b[0m\u001b[0m\n\u001b[0m\u001b[1;32m    221\u001b[0m \u001b[0;34m\u001b[0m\u001b[0m\n\u001b[1;32m    222\u001b[0m     \u001b[0mlevel_indexers\u001b[0m \u001b[0;34m=\u001b[0m \u001b[0mdefaultdict\u001b[0m\u001b[0;34m(\u001b[0m\u001b[0mdict\u001b[0m\u001b[0;34m)\u001b[0m\u001b[0;34m\u001b[0m\u001b[0;34m\u001b[0m\u001b[0m\n",
      "\u001b[0;31mValueError\u001b[0m: dimensions or multi-index levels ['station'] do not exist"
     ]
    },
    {
     "data": {
      "text/plain": [
       "<Figure size 432x288 with 0 Axes>"
      ]
     },
     "metadata": {},
     "output_type": "display_data"
    }
   ],
   "source": [
    "### Quick calculation and plot\n",
    "t0 = pd.to_datetime( '2010-05-16T01:40:00' )\n",
    "tf = pd.to_datetime( '2010-05-16T02:00:00' )\n",
    "print( twrs_combined_CONTROL.datetime.values[-1],  twrs_combined_CONTROL.datetime.values[0])\n",
    "\n",
    "#test = twrs_combined_CONTROL.u.sel( station = 'ARR09', datetime = slice(t0, tf) )#.mean(dim = 'datetime')\n",
    "#print(test.values)\n",
    "plt.figure()\n",
    "plt.plot( twrs_combined_CONTROL.wspd.sel( station = 'ARR09', \\\n",
    "                            datetime = slice(t0, tf) ).mean(dim = 'datetime'), \\\n",
    "          twrs_combined_CONTROL.height.sel( station = 'ARR09').isel(datetime = -1),\n",
    "          label = 'CONTROL' )\n",
    "\n",
    "plt.plot( twrs_combined_CPM.wspd.sel( station = 'ARR09', \\\n",
    "                            datetime = slice(t0, tf) ).mean(dim = 'datetime'), \\\n",
    "          twrs_combined_CPM.height.sel( station = 'ARR09').isel(datetime = -1),\n",
    "          label = 'CPM' )\n",
    "plt.xlabel('WSPD [[m/s]]')\n",
    "plt.ylabel('Height [m]')\n",
    "plt.legend(loc = 'best')"
   ]
  },
  {
   "cell_type": "code",
   "execution_count": null,
   "metadata": {},
   "outputs": [],
   "source": []
  }
 ],
 "metadata": {
  "kernelspec": {
   "display_name": "MMC-conda",
   "language": "python",
   "name": "mmc-conda"
  },
  "language_info": {
   "codemirror_mode": {
    "name": "ipython",
    "version": 3
   },
   "file_extension": ".py",
   "mimetype": "text/x-python",
   "name": "python",
   "nbconvert_exporter": "python",
   "pygments_lexer": "ipython3",
   "version": "3.8.2"
  }
 },
 "nbformat": 4,
 "nbformat_minor": 4
}
