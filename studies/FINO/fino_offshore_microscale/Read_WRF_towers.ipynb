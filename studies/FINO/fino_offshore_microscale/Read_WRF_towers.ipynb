{
 "cells": [
  {
   "cell_type": "markdown",
   "metadata": {},
   "source": [
    "# Read_WRF_towers\n",
    "Use mmctools tslist class and tslist_seriesReader to read tower output for the FINO offshore microscale simulations.<br>\n",
    "Save tslist dataseries to pdata file"
   ]
  },
  {
   "cell_type": "markdown",
   "metadata": {},
   "source": [
    "## Set file paths, import 'sys' module for setting filepath"
   ]
  },
  {
   "cell_type": "code",
   "execution_count": 7,
   "metadata": {},
   "outputs": [],
   "source": [
    "wrf_dir = '/p/lscratchh/lassman1/a2e-mmc/WRF/FINO/ERA5_grid2.0/'\n",
    "cases = ['microscale_setup_v2_CONTROL', 'microscale_setup_v2_CPM']\n",
    "\n",
    "pdata_save_dir = '/p/lscratchh/lassman1/a2e-mmc/pdata/FINO/'\n",
    "\n",
    "\n",
    "restarts = ['tsout_01:00-01:20', 'tsout_01:20-01:40', 'tsout_01:40-02:00',\\\n",
    "            'tsout_02:00-02:20', 'tsout_02:20-02:40', 'tsout_02:40-03:00',\\\n",
    "            'tsout_03:00-03:20', 'tsout_03:20-03:40', 'tsout_03:40-04:00',\\\n",
    "            'tsout_04:00-04:20', 'tsout_04:20-04:40', 'tsout_04:40-05:00']\n",
    "\n",
    "case_days_start = ['2010-05-16']\n",
    "case_days_end = ['2010-05-16']\n",
    "\n",
    "#wrf_start_times = ['2010-05-16 01:00', '2010-05-16 01:20', '2010-05-16 01:40', \\\n",
    "#                   '2010-05-16 02:00', '2010-05-16 02:20', '2010-05-16 02:40', \\\n",
    "#                   '2010-05-16 03:00', '2010-05-16 03:20', '2010-05-16 03:40', \\\n",
    "#                   '2010-05-16 04:00', '2010-05-16 04:20', '2010-05-16 04:40' ]\n",
    "\n",
    "wrf_start_times = ['2010-05-14 12:00', '2010-05-14 12:00', '2010-05-14 12:00', \\\n",
    "                   '2010-05-14 12:00', '2010-05-14 12:00', '2010-05-14 12:00', \\\n",
    "                   '2010-05-14 12:00', '2010-05-14 12:00', '2010-05-14 12:00', \\\n",
    "                   '2010-05-14 12:00', '2010-05-14 12:00', '2010-05-14 12:00']\n",
    "\n",
    "\n",
    "\n",
    "wrf_dt = 0.025 #[seconds]\n",
    "import sys\n",
    "import os\n",
    "\n",
    "module_path = os.path.join(os.environ['HOME'],'code/Python/a2e-mmc/')\n",
    "#module_path = os.path.join(os.environ['HOME'],'mmc/mmc_github_clones/')                                                          \n",
    "if module_path not in sys.path:\n",
    "    sys.path.append(module_path)\n"
   ]
  },
  {
   "cell_type": "raw",
   "metadata": {},
   "source": [
    "# Tower indices inside domain 6\n",
    "#-----------------------------------------------#\n",
    "# 24 characters for name | pfx |   I   |    J   |\n",
    "#-----------------------------------------------#\n",
    "Tower Array 001           ARR01   121   125 \n",
    "Tower Array 002           ARR02   121   225 \n",
    "Tower Array 003           ARR03   121   325 \n",
    "Tower Array 004           ARR04   121   425 \n",
    "Tower Array 005           ARR05   121   525 \n",
    "Tower Array 006           ARR06   221   125 \n",
    "Tower Array 007           ARR07   221   225 \n",
    "Tower Array 008           ARR08   221   325 \n",
    "Tower Array 009           ARR09   221   425 \n",
    "Tower Array 010           ARR10   221   525 \n",
    "Tower Array 011           ARR11   321   125 \n",
    "Tower Array 012           ARR12   321   225 \n",
    "Tower Array 013           ARR13   321   325 \n",
    "Tower Array 014           ARR14   321   425 \n",
    "Tower Array 015           ARR15   321   525 \n",
    "Tower Array 016           ARR16   421   125 \n",
    "Tower Array 017           ARR17   421   225 \n",
    "Tower Array 018           ARR18   421   325 \n",
    "Tower Array 019           ARR19   421   425 \n",
    "Tower Array 020           ARR20   421   525 \n",
    "Tower Array 021           ARR21   521   125 \n",
    "Tower Array 022           ARR22   521   225 \n",
    "Tower Array 023           ARR23   521   325 \n",
    "Tower Array 024           ARR24   521   425 \n",
    "Tower Array 025           ARR25   521   525 \n",
    "FINO1 Array 001           F1_01   411   215 \n",
    "FINO1 Array 002           F1_02   411   225 \n",
    "FINO1 Array 003           F1_03   411   235 \n",
    "FINO1 Array 004           F1_04   421   215 \n",
    "FINO1 Array 005           F1_05   421   225 \n",
    "FINO1 Array 006           F1_06   421   235 \n",
    "FINO1 Array 007           F1_07   431   215 \n",
    "FINO1 Array 008           F1_08   431   225 \n",
    "FINO1 Array 009           F1_09   431   235 "
   ]
  },
  {
   "cell_type": "code",
   "execution_count": 2,
   "metadata": {},
   "outputs": [],
   "source": [
    "ts_heights = [5.0, 10.0,  15.0, 20.0, 25.0, 30.0, 33.0, 35.0, 40.0, 45.0, 50.0, \\\n",
    "                  55.0, 60.0, 65.0, 70.0, 75.0, 80.0, 85.0, 90.0, 95.0, 100.0, 110.0, \\\n",
    "                  125.0, 150.0, 200.0],"
   ]
  },
  {
   "cell_type": "code",
   "execution_count": 3,
   "metadata": {},
   "outputs": [],
   "source": [
    "import numpy as np\n",
    "import matplotlib.pyplot as plt\n",
    "import pandas as pd\n",
    "import xarray as xr\n",
    "from matplotlib.colors import Normalize\n",
    "\n",
    "from mmctools.wrf.utils import Tower, combine_towers, tsout_seriesReader"
   ]
  },
  {
   "cell_type": "code",
   "execution_count": 9,
   "metadata": {},
   "outputs": [],
   "source": [
    "n_case_days = len(case_days_start)\n",
    "ncases = len(cases)"
   ]
  },
  {
   "cell_type": "code",
   "execution_count": 4,
   "metadata": {},
   "outputs": [],
   "source": [
    "# Where the tslist output are located:\n",
    "twr_file_loc = '/p/lscratchh/lassman1/a2e-mmc/WRF/FINO/ERA5_grid2.0/microscale_setup_v2_CONTROL/tsout_01:00-01:20/'\n",
    "# Which tower you want to read in, and which domain:\n",
    "twr_file_name = 'ARR09.d06' # 'FN1' is the name, 'd03' is for the third domain\n",
    "twr_file_path = '{}{}'.format(twr_file_loc,twr_file_name)"
   ]
  },
  {
   "cell_type": "code",
   "execution_count": 5,
   "metadata": {},
   "outputs": [
    {
     "data": {
      "text/plain": [
       "mmctools.wrf.utils.Tower"
      ]
     },
     "execution_count": 5,
     "metadata": {},
     "output_type": "execute_result"
    }
   ],
   "source": [
    "single_tower = Tower(twr_file_path)\n",
    "\n",
    "type(single_tower)"
   ]
  },
  {
   "cell_type": "code",
   "execution_count": 6,
   "metadata": {},
   "outputs": [
    {
     "name": "stdout",
     "output_type": "stream",
     "text": [
      "[37.000008 37.000011 37.000019 ... 37.398598 37.398605 37.398613]\n"
     ]
    }
   ],
   "source": [
    "print(single_tower.time)"
   ]
  },
  {
   "cell_type": "code",
   "execution_count": 8,
   "metadata": {},
   "outputs": [
    {
     "name": "stdout",
     "output_type": "stream",
     "text": [
      "restart: tsout_01:20-01:40\n",
      "starting ARR06.d06\n",
      "starting ARR07.d06\n",
      "starting ARR08.d06\n",
      "starting ARR09.d06\n",
      "restart: tsout_01:40-02:00\n",
      "starting ARR06.d06\n",
      "starting ARR07.d06\n",
      "starting ARR08.d06\n",
      "starting ARR09.d06\n",
      "restart: tsout_02:00-02:20\n",
      "starting ARR06.d06\n",
      "starting ARR07.d06\n",
      "starting ARR08.d06\n",
      "starting ARR09.d06\n",
      "restart: tsout_02:20-02:40\n",
      "starting ARR06.d06\n",
      "starting ARR07.d06\n",
      "starting ARR08.d06\n",
      "starting ARR09.d06\n",
      "restart: tsout_02:40-03:00\n",
      "starting ARR06.d06\n",
      "starting ARR07.d06\n",
      "starting ARR08.d06\n",
      "starting ARR09.d06\n",
      "restart: tsout_03:00-03:20\n",
      "starting ARR06.d06\n",
      "starting ARR07.d06\n",
      "starting ARR08.d06\n",
      "starting ARR09.d06\n",
      "restart: tsout_03:20-03:40\n",
      "starting ARR06.d06\n",
      "starting ARR07.d06\n",
      "starting ARR08.d06\n",
      "starting ARR09.d06\n",
      "restart: tsout_03:40-04:00\n",
      "starting ARR06.d06\n",
      "starting ARR07.d06\n",
      "starting ARR08.d06\n",
      "starting ARR09.d06\n",
      "restart: tsout_04:00-04:20\n",
      "starting ARR06.d06\n",
      "starting ARR07.d06\n",
      "starting ARR08.d06\n",
      "starting ARR09.d06\n",
      "restart: tsout_04:20-04:40\n",
      "starting ARR06.d06\n",
      "starting ARR07.d06\n",
      "starting ARR08.d06\n",
      "starting ARR09.d06\n",
      "restart: tsout_04:40-05:00\n",
      "starting ARR06.d06\n",
      "starting ARR07.d06\n",
      "starting ARR08.d06\n",
      "starting ARR09.d06\n"
     ]
    }
   ],
   "source": [
    "# Create combined tower DataArray (this may take a while)\n",
    "#twrs_combined_CONTROL = tsout_seriesReader(fdir=wrf_dir + cases[0]+'/',\n",
    "#                                       restarts=restarts,\n",
    "#                                       simulation_start_time=wrf_start_times,\n",
    "#                                       structure='unordered',\n",
    "#                                       time_step=wrf_dt,\n",
    "#                                       domain_of_interest='d06',\n",
    "#                                       heights=[5.0, 10.0,  15.0, 20.0, \\\n",
    "#                                                25.0, 30.0, 33.0, 35.0, \\\n",
    "#                                                40.0, 45.0, 50.0, 55.0, \\\n",
    "#                                                60.0, 65.0, 70.0, 75.0, \\\n",
    "#                                                80.0, 85.0, 90.0, 95.0, \\\n",
    "#                                                100.0, 110.0, 125.0, 150.0, 200.0],\n",
    "#                                       height_var='ph',\n",
    "#                                       select_tower = ['ARR06', 'ARR07', 'ARR08', 'ARR09']\n",
    "#                                       )\n",
    "twrs_combined_CONTROL = tsout_seriesReader(fdir=wrf_dir + cases[0]+'/',\n",
    "                                       restarts=restarts[1:],\n",
    "                                       simulation_start_time=wrf_start_times[1:],\n",
    "                                       structure='unordered',\n",
    "                                       time_step=wrf_dt,\n",
    "                                       domain_of_interest='d06',\n",
    "                                       heights=[5.0, 10.0,  15.0, 20.0, \\\n",
    "                                                25.0, 30.0, 33.0, 35.0, \\\n",
    "                                                40.0, 45.0, 50.0, 55.0, \\\n",
    "                                                60.0, 65.0, 70.0, 75.0, \\\n",
    "                                                80.0, 85.0, 90.0, 95.0, \\\n",
    "                                                100.0, 110.0, 125.0, 150.0, 200.0],                                       \n",
    "                                       height_var='ph',\n",
    "                                       select_tower = ['ARR06', 'ARR07', 'ARR08', 'ARR09']\n",
    "                                       )\n",
    "#33.0 40.0 50.0 60.0 70.0 80.0 90.0 100.0"
   ]
  },
  {
   "cell_type": "code",
   "execution_count": 9,
   "metadata": {},
   "outputs": [
    {
     "name": "stdout",
     "output_type": "stream",
     "text": [
      "restart: tsout_01:20-01:40\n",
      "starting ARR06.d06\n",
      "starting ARR07.d06\n",
      "starting ARR08.d06\n",
      "starting ARR09.d06\n",
      "restart: tsout_01:40-02:00\n",
      "starting ARR06.d06\n",
      "starting ARR07.d06\n",
      "starting ARR08.d06\n",
      "starting ARR09.d06\n",
      "restart: tsout_02:00-02:20\n",
      "starting ARR06.d06\n",
      "starting ARR07.d06\n",
      "starting ARR08.d06\n",
      "starting ARR09.d06\n",
      "restart: tsout_02:20-02:40\n",
      "starting ARR06.d06\n",
      "starting ARR07.d06\n",
      "starting ARR08.d06\n",
      "starting ARR09.d06\n",
      "restart: tsout_02:40-03:00\n",
      "starting ARR06.d06\n",
      "starting ARR07.d06\n",
      "starting ARR08.d06\n",
      "starting ARR09.d06\n",
      "restart: tsout_03:00-03:20\n",
      "starting ARR06.d06\n",
      "starting ARR07.d06\n",
      "starting ARR08.d06\n",
      "starting ARR09.d06\n",
      "restart: tsout_03:20-03:40\n",
      "starting ARR06.d06\n",
      "starting ARR07.d06\n",
      "starting ARR08.d06\n",
      "starting ARR09.d06\n",
      "restart: tsout_03:40-04:00\n",
      "starting ARR06.d06\n",
      "starting ARR07.d06\n",
      "starting ARR08.d06\n",
      "starting ARR09.d06\n",
      "restart: tsout_04:00-04:20\n",
      "starting ARR06.d06\n",
      "starting ARR07.d06\n",
      "starting ARR08.d06\n",
      "starting ARR09.d06\n",
      "restart: tsout_04:20-04:40\n",
      "starting ARR06.d06\n",
      "starting ARR07.d06\n",
      "starting ARR08.d06\n",
      "starting ARR09.d06\n",
      "restart: tsout_04:40-05:00\n",
      "starting ARR06.d06\n",
      "starting ARR07.d06\n",
      "starting ARR08.d06\n",
      "starting ARR09.d06\n"
     ]
    }
   ],
   "source": [
    "# Create combined tower DataArray (this may take a while)\n",
    "\n",
    "twrs_combined_CPM = tsout_seriesReader(fdir=wrf_dir + cases[1]+'/',\n",
    "                                       restarts=restarts[1:],\n",
    "                                       simulation_start_time=wrf_start_times[1:],\n",
    "                                       structure='unordered',\n",
    "                                       #time_step=wrf_dt,\n",
    "                                       domain_of_interest='d06',\n",
    "                                       heights=[5.0, 10.0,  15.0, 20.0, \\\n",
    "                                                25.0, 30.0, 33.0, 35.0, \\\n",
    "                                                40.0, 45.0, 50.0, 55.0, \\\n",
    "                                                60.0, 65.0, 70.0, 75.0, \\\n",
    "                                                80.0, 85.0, 90.0, 95.0, \\\n",
    "                                                100.0, 110.0, 125.0, 150.0, 200.0],                                       \n",
    "                                       height_var='ph',\n",
    "                                       select_tower = ['ARR06', 'ARR07', 'ARR08', 'ARR09']\n",
    "                                       )"
   ]
  },
  {
   "cell_type": "raw",
   "metadata": {},
   "source": [
    "# Print some values, just a sanity check\n",
    "\n",
    "print(twrs_combined_CONTROL.height.sel( station = 'ARR06').values[-2,:])"
   ]
  },
  {
   "cell_type": "raw",
   "metadata": {},
   "source": [
    "# Print some values, just a sanity check\n",
    "print(twrs_combined_CONTROL.dims)\n",
    "print(twrs_combined_CONTROL.coords)\n"
   ]
  },
  {
   "cell_type": "raw",
   "metadata": {},
   "source": [
    "# Print some values, just a sanity check\n",
    "print(twrs_combined_CPM.dims)\n",
    "print(twrs_combined_CPM.coords)\n"
   ]
  },
  {
   "cell_type": "code",
   "execution_count": 10,
   "metadata": {},
   "outputs": [
    {
     "name": "stdout",
     "output_type": "stream",
     "text": [
      "<xarray.DataArray 'datetime' (datetime: 531000)>\n",
      "array(['2010-05-16T01:20:00.024000000', '2010-05-16T01:20:00.049200000',\n",
      "       '2010-05-16T01:20:00.078000000', ..., '2010-05-16T05:01:14.955600000',\n",
      "       '2010-05-16T05:01:14.980800000', '2010-05-16T05:01:14.995200000'],\n",
      "      dtype='datetime64[ns]')\n",
      "Coordinates:\n",
      "  * datetime  (datetime) datetime64[ns] 2010-05-16T01:20:00.024000 ... 2010-0...\n",
      "<xarray.DataArray 'datetime' (datetime: 514200)>\n",
      "array(['2010-05-16T01:18:00.025000000', '2010-05-16T01:18:00.050000000',\n",
      "       '2010-05-16T01:18:00.075000000', ..., '2010-05-16T05:03:14.950000000',\n",
      "       '2010-05-16T05:03:14.975000000', '2010-05-16T05:03:15.000000000'],\n",
      "      dtype='datetime64[ns]')\n",
      "Coordinates:\n",
      "  * datetime  (datetime) datetime64[ns] 2010-05-16T01:18:00.025000 ... 2010-0...\n"
     ]
    }
   ],
   "source": [
    "print(twrs_combined_CPM.datetime)\n",
    "print(twrs_combined_CONTROL.datetime)"
   ]
  },
  {
   "cell_type": "markdown",
   "metadata": {},
   "source": [
    "### Save to process data files"
   ]
  },
  {
   "cell_type": "code",
   "execution_count": 11,
   "metadata": {},
   "outputs": [],
   "source": [
    "twrs_combined_CPM.to_netcdf( pdata_save_dir + 'setup_2_tslist_cpm.nc')"
   ]
  },
  {
   "cell_type": "code",
   "execution_count": 12,
   "metadata": {},
   "outputs": [],
   "source": [
    "twrs_combined_CONTROL.to_netcdf( pdata_save_dir + 'setup_2_tslist_control.nc')"
   ]
  },
  {
   "cell_type": "markdown",
   "metadata": {},
   "source": [
    "### Some calculations and a plot to verify things are working correctly"
   ]
  },
  {
   "cell_type": "code",
   "execution_count": 13,
   "metadata": {},
   "outputs": [
    {
     "name": "stdout",
     "output_type": "stream",
     "text": [
      "Coordinates:\n",
      "    lat       (station) float64 54.02 54.02 54.02 54.01\n",
      "    lon       (station) float64 6.542 6.558 6.573 6.588\n",
      "    zsurface  (station) float64 0.0 0.0 0.0 0.0\n",
      "  * datetime  (datetime) datetime64[ns] 2010-05-16T01:18:00.025000 ... 2010-0...\n",
      "  * station   (station) object 'ARR06' 'ARR07' 'ARR08' 'ARR09'\n",
      "    height    (datetime, nz, station) float64 nan nan nan ... 200.0 200.0 200.0\n",
      "<class 'numpy.datetime64'> 2010-05-16T01:18:00.025000000\n"
     ]
    }
   ],
   "source": [
    "\n",
    "\n",
    "print(twrs_combined_CONTROL.coords)\n",
    "print( type(twrs_combined_CONTROL.datetime.values[0]), twrs_combined_CONTROL.datetime.values[0])\n"
   ]
  },
  {
   "cell_type": "code",
   "execution_count": null,
   "metadata": {},
   "outputs": [],
   "source": [
    "\n",
    "\n"
   ]
  },
  {
   "cell_type": "code",
   "execution_count": 14,
   "metadata": {},
   "outputs": [
    {
     "name": "stdout",
     "output_type": "stream",
     "text": [
      "Coordinates:\n",
      "    lat       (station) float64 54.02 54.02 54.02 54.01\n",
      "    lon       (station) float64 6.542 6.558 6.573 6.588\n",
      "    zsurface  (station) float64 0.0 0.0 0.0 0.0\n",
      "  * datetime  (datetime) datetime64[ns] 2010-05-16T01:18:00.025000 ... 2010-0...\n",
      "  * station   (station) object 'ARR06' 'ARR07' 'ARR08' 'ARR09'\n",
      "    height    (datetime, nz, station) float64 nan nan nan ... 200.0 200.0 200.0\n",
      "<class 'numpy.datetime64'> 2010-05-16T01:18:00.025000000\n",
      "2010-05-17T14:38:00.025000000\n"
     ]
    }
   ],
   "source": [
    "\n",
    "\n",
    "print(twrs_combined_CONTROL.coords)\n",
    "print( type(twrs_combined_CONTROL.datetime.values[0]), twrs_combined_CONTROL.datetime.values[0])\n",
    "print(np.datetime64('2010-05-17T14:38:00.025000000' ))"
   ]
  },
  {
   "cell_type": "code",
   "execution_count": 17,
   "metadata": {},
   "outputs": [],
   "source": [
    "twrs_combined_CONTROL['wspd'] = np.sqrt( twrs_combined_CONTROL['u']**2. + twrs_combined_CONTROL['v']**2. )\n",
    "twrs_combined_CPM['wspd'] = np.sqrt( twrs_combined_CPM['u']**2. + twrs_combined_CPM['v']**2. )"
   ]
  },
  {
   "cell_type": "code",
   "execution_count": 26,
   "metadata": {},
   "outputs": [
    {
     "name": "stdout",
     "output_type": "stream",
     "text": [
      "[  5.  10.  15.  20.  25.  30.  33.  35.  40.  45.  50.  55.  60.  65.\n",
      "  70.  75.  80.  85.  90.  95. 100. 110. 125. 150. 200.]\n"
     ]
    }
   ],
   "source": [
    "print(twrs_combined_CONTROL.height.sel( station = 'ARR09').isel(datetime = -1).values )"
   ]
  },
  {
   "cell_type": "code",
   "execution_count": 31,
   "metadata": {},
   "outputs": [
    {
     "name": "stdout",
     "output_type": "stream",
     "text": [
      "2010-05-16T05:03:15.000000000 2010-05-16T01:18:00.025000000\n"
     ]
    },
    {
     "data": {
      "text/plain": [
       "<matplotlib.legend.Legend at 0x2aab0dc36460>"
      ]
     },
     "execution_count": 31,
     "metadata": {},
     "output_type": "execute_result"
    },
    {
     "data": {
      "image/png": "[encoded data removed]",
      "text/plain": [
       "<Figure size 432x288 with 1 Axes>"
      ]
     },
     "metadata": {
      "needs_background": "light"
     },
     "output_type": "display_data"
    }
   ],
   "source": [
    "### Quick calculation and plot\n",
    "t0 = pd.to_datetime( '2010-05-16T01:40:00' )\n",
    "tf = pd.to_datetime( '2010-05-16T02:00:00' )\n",
    "print( twrs_combined_CONTROL.datetime.values[-1],  twrs_combined_CONTROL.datetime.values[0])\n",
    "\n",
    "#test = twrs_combined_CONTROL.u.sel( station = 'ARR09', datetime = slice(t0, tf) )#.mean(dim = 'datetime')\n",
    "#print(test.values)\n",
    "plt.figure()\n",
    "plt.plot( twrs_combined_CONTROL.wspd.sel( station = 'ARR09', \\\n",
    "                            datetime = slice(t0, tf) ).mean(dim = 'datetime'), \\\n",
    "          twrs_combined_CONTROL.height.sel( station = 'ARR09').isel(datetime = -1),\n",
    "          label = 'CONTROL' )\n",
    "\n",
    "plt.plot( twrs_combined_CPM.wspd.sel( station = 'ARR09', \\\n",
    "                            datetime = slice(t0, tf) ).mean(dim = 'datetime'), \\\n",
    "          twrs_combined_CPM.height.sel( station = 'ARR09').isel(datetime = -1),\n",
    "          label = 'CPM' )\n",
    "plt.xlabel('WSPD [[m/s]]')\n",
    "plt.ylabel('Height [m]')\n",
    "plt.legend(loc = 'best')"
   ]
  },
  {
   "cell_type": "code",
   "execution_count": null,
   "metadata": {},
   "outputs": [],
   "source": []
  }
 ],
 "metadata": {
  "kernelspec": {
   "display_name": "MMC-conda",
   "language": "python",
   "name": "mmc-conda"
  },
  "language_info": {
   "codemirror_mode": {
    "name": "ipython",
    "version": 3
   },
   "file_extension": ".py",
   "mimetype": "text/x-python",
   "name": "python",
   "nbconvert_exporter": "python",
   "pygments_lexer": "ipython3",
   "version": "3.8.2"
  }
 },
 "nbformat": 4,
 "nbformat_minor": 4
}
