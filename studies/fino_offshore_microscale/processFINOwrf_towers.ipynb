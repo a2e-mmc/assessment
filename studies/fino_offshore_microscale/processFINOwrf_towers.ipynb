{
 "cells": [
  {
   "cell_type": "markdown",
   "metadata": {},
   "source": [
    "# Read_WRF_towers\n",
    "Use mmctools tslist class and tslist_seriesReader to read tower output for the FINO offshore microscale simulations.<br>\n",
    "Save tslist dataseries to pdata file"
   ]
  },
  {
   "cell_type": "markdown",
   "metadata": {},
   "source": [
    "## Set file paths, import 'sys' module for setting filepath"
   ]
  },
  {
   "cell_type": "code",
   "execution_count": 1,
   "metadata": {},
   "outputs": [],
   "source": [
    "wrf_dir = '/p/lscratchh/lassman1/a2e-mmc/WRF/FINO/ERA5_grid2.0/'\n",
    "cases = ['microscale_setup_v2_CONTROL', 'microscale_setup_v2_CPM']\n",
    "\n",
    "pdata_save_dir = '/p/lscratchh/lassman1/a2e-mmc/pdata/FINO/'\n",
    "\n",
    "\n",
    "restarts = ['tsout_01:00-01:20', 'tsout_01:20-01:40', 'tsout_01:40-02:00',\\\n",
    "            'tsout_02:00-02:20', 'tsout_02:20-02:40', 'tsout_02:40-03:00',\\\n",
    "            'tsout_03:00-03:20', 'tsout_03:20-03:40', 'tsout_03:40-04:00',\\\n",
    "            'tsout_04:00-04:20', 'tsout_04:20-04:40', 'tsout_04:40-05:00']\n",
    "\n",
    "case_days_start = ['2010-05-16']\n",
    "case_days_end = ['2010-05-16']\n",
    "\n",
    "#wrf_start_times = ['2010-05-16 01:00', '2010-05-16 01:20', '2010-05-16 01:40', \\\n",
    "#                   '2010-05-16 02:00', '2010-05-16 02:20', '2010-05-16 02:40', \\\n",
    "#                   '2010-05-16 03:00', '2010-05-16 03:20', '2010-05-16 03:40', \\\n",
    "#                   '2010-05-16 04:00', '2010-05-16 04:20', '2010-05-16 04:40' ]\n",
    "\n",
    "wrf_start_times = ['2010-05-14 12:00', '2010-05-14 12:00', '2010-05-14 12:00', \\\n",
    "                   '2010-05-14 12:00', '2010-05-14 12:00', '2010-05-14 12:00', \\\n",
    "                   '2010-05-14 12:00', '2010-05-14 12:00', '2010-05-14 12:00', \\\n",
    "                   '2010-05-14 12:00', '2010-05-14 12:00', '2010-05-14 12:00']\n",
    "\n",
    "\n",
    "\n",
    "wrf_dt = 0.025 #[seconds]\n",
    "import sys\n",
    "import os\n",
    "\n",
    "#module_path = os.path.join(os.environ['HOME'],'code/Python/a2e-mmc/')\n",
    "module_path = os.path.join(os.environ['HOME'],'mmc/mmc_github_clones/mmctools/')                                                          \n",
    "if module_path not in sys.path:\n",
    "    sys.path.append(module_path)\n"
   ]
  },
  {
   "cell_type": "raw",
   "metadata": {},
   "source": [
    "# Tower indices inside domain 6\n",
    "#-----------------------------------------------#\n",
    "# 24 characters for name | pfx |   I   |    J   |\n",
    "#-----------------------------------------------#\n",
    "Tower Array 001           ARR01   121   125 \n",
    "Tower Array 002           ARR02   121   225 \n",
    "Tower Array 003           ARR03   121   325 \n",
    "Tower Array 004           ARR04   121   425 \n",
    "Tower Array 005           ARR05   121   525 \n",
    "Tower Array 006           ARR06   221   125 \n",
    "Tower Array 007           ARR07   221   225 \n",
    "Tower Array 008           ARR08   221   325 \n",
    "Tower Array 009           ARR09   221   425 \n",
    "Tower Array 010           ARR10   221   525 \n",
    "Tower Array 011           ARR11   321   125 \n",
    "Tower Array 012           ARR12   321   225 \n",
    "Tower Array 013           ARR13   321   325 \n",
    "Tower Array 014           ARR14   321   425 \n",
    "Tower Array 015           ARR15   321   525 \n",
    "Tower Array 016           ARR16   421   125 \n",
    "Tower Array 017           ARR17   421   225 \n",
    "Tower Array 018           ARR18   421   325 \n",
    "Tower Array 019           ARR19   421   425 \n",
    "Tower Array 020           ARR20   421   525 \n",
    "Tower Array 021           ARR21   521   125 \n",
    "Tower Array 022           ARR22   521   225 \n",
    "Tower Array 023           ARR23   521   325 \n",
    "Tower Array 024           ARR24   521   425 \n",
    "Tower Array 025           ARR25   521   525 \n",
    "FINO1 Array 001           F1_01   411   215 \n",
    "FINO1 Array 002           F1_02   411   225 \n",
    "FINO1 Array 003           F1_03   411   235 \n",
    "FINO1 Array 004           F1_04   421   215 \n",
    "FINO1 Array 005           F1_05   421   225 \n",
    "FINO1 Array 006           F1_06   421   235 \n",
    "FINO1 Array 007           F1_07   431   215 \n",
    "FINO1 Array 008           F1_08   431   225 \n",
    "FINO1 Array 009           F1_09   431   235 "
   ]
  },
  {
   "cell_type": "code",
   "execution_count": 2,
   "metadata": {},
   "outputs": [],
   "source": [
    "tower_dict = { \n",
    "        \"ARR01\": (121,125, 0, 0),\n",
    "        \"ARR02\": (121,225, 0, 1),\n",
    "        \"ARR03\": (121,325, 0, 2),\n",
    "        \"ARR04\": (121,425, 0, 3),\n",
    "        \"ARR05\": (221,525, 0, 4),\n",
    "        \"ARR06\": (221,125, 1, 0),\n",
    "        \"ARR07\": (221,225, 1, 1),\n",
    "        \"ARR08\": (221,325, 1, 2),\n",
    "        \"ARR09\": (221,425, 1, 3),\n",
    "        \"ARR10\": (321,525, 1, 4),\n",
    "        \"ARR11\": (321,125, 2, 0),\n",
    "        \"ARR12\": (321,225, 2, 1),\n",
    "        \"ARR13\": (321,325, 2, 2),\n",
    "        \"ARR14\": (321,425, 2, 3),\n",
    "        \"ARR15\": (421,525, 2, 4),\n",
    "        \"ARR16\": (421,125, 3, 0),\n",
    "        \"ARR17\": (421,225, 3, 1),\n",
    "        \"ARR18\": (421,325, 3, 2),\n",
    "        \"ARR19\": (421,425, 3, 3),\n",
    "        \"ARR20\": (521,525, 3, 4),\n",
    "        \"ARR21\": (521,125, 4, 0),\n",
    "        \"ARR22\": (521,225, 4, 1),\n",
    "        \"ARR23\": (521,325, 4, 2),\n",
    "        \"ARR24\": (521,425, 4, 3),\n",
    "        \"ARR25\": (121,525, 4, 4),\n",
    "             }"
   ]
  },
  {
   "cell_type": "code",
   "execution_count": 3,
   "metadata": {},
   "outputs": [
    {
     "name": "stdout",
     "output_type": "stream",
     "text": [
      "(121, 125, 0, 0)\n"
     ]
    }
   ],
   "source": [
    "print(tower_dict[\"ARR01\"])"
   ]
  },
  {
   "cell_type": "code",
   "execution_count": 4,
   "metadata": {},
   "outputs": [],
   "source": [
    "#ts_heights = [5.0, 10.0,  15.0, 20.0, 25.0, 30.0, 33.0, 35.0, 40.0, 45.0, 50.0, \\\n",
    "#                  55.0, 60.0, 65.0, 70.0, 75.0, 80.0, 85.0, 90.0, 95.0, 100.0, 110.0, \\\n",
    "#                  125.0, 150.0, 200.0],\n",
    "\n",
    "ts_heights = [40.0, 60.0, 80.0],"
   ]
  },
  {
   "cell_type": "code",
   "execution_count": 5,
   "metadata": {},
   "outputs": [],
   "source": [
    "import numpy as np\n",
    "import matplotlib.pyplot as plt\n",
    "import pandas as pd\n",
    "import xarray as xr\n",
    "from matplotlib.colors import Normalize\n",
    "\n",
    "from mmctools.wrf.utils import Tower, combine_towers, tsout_seriesReader"
   ]
  },
  {
   "cell_type": "code",
   "execution_count": 6,
   "metadata": {},
   "outputs": [],
   "source": [
    "n_case_days = len(case_days_start)\n",
    "ncases = len(cases)"
   ]
  },
  {
   "cell_type": "code",
   "execution_count": 7,
   "metadata": {},
   "outputs": [],
   "source": [
    "# Where the tslist output are located:\n",
    "twr_file_loc = '/p/lscratchh/lassman1/a2e-mmc/WRF/FINO/ERA5_grid2.0/microscale_setup_v2_CONTROL/tsout_01:00-01:20/'\n",
    "# Which tower you want to read in, and which domain:\n",
    "twr_file_name = 'ARR09.d06' # 'FN1' is the name, 'd03' is for the third domain\n",
    "twr_file_path = '{}{}'.format(twr_file_loc,twr_file_name)"
   ]
  },
  {
   "cell_type": "code",
   "execution_count": 8,
   "metadata": {},
   "outputs": [
    {
     "data": {
      "text/plain": [
       "mmctools.wrf.utils.Tower"
      ]
     },
     "execution_count": 8,
     "metadata": {},
     "output_type": "execute_result"
    }
   ],
   "source": [
    "single_tower = Tower(twr_file_path)\n",
    "\n",
    "type(single_tower)"
   ]
  },
  {
   "cell_type": "code",
   "execution_count": 9,
   "metadata": {},
   "outputs": [
    {
     "name": "stdout",
     "output_type": "stream",
     "text": [
      "[37.000008 37.000011 37.000019 ... 37.398598 37.398605 37.398613]\n"
     ]
    }
   ],
   "source": [
    "print(single_tower.time)"
   ]
  },
  {
   "cell_type": "code",
   "execution_count": 10,
   "metadata": {},
   "outputs": [
    {
     "name": "stdout",
     "output_type": "stream",
     "text": [
      "restart: tsout_01:20-01:40\n",
      "starting ARR04.d06\n",
      "starting ARR05.d06\n",
      "starting ARR09.d06\n",
      "starting ARR10.d06\n",
      "restart: tsout_01:40-02:00\n",
      "starting ARR04.d06\n",
      "starting ARR05.d06\n",
      "starting ARR09.d06\n",
      "starting ARR10.d06\n",
      "restart: tsout_02:00-02:20\n",
      "starting ARR04.d06\n",
      "starting ARR05.d06\n",
      "starting ARR09.d06\n"
     ]
    },
    {
     "ename": "KeyboardInterrupt",
     "evalue": "",
     "output_type": "error",
     "traceback": [
      "\u001b[0;31m---------------------------------------------------------------------------\u001b[0m",
      "\u001b[0;31mKeyboardInterrupt\u001b[0m                         Traceback (most recent call last)",
      "\u001b[0;32m<ipython-input-10-33cb642c2423>\u001b[0m in \u001b[0;36m<module>\u001b[0;34m\u001b[0m\n\u001b[1;32m     15\u001b[0m \u001b[0;31m#                                       select_tower = ['ARR06', 'ARR07', 'ARR08', 'ARR09']\u001b[0m\u001b[0;34m\u001b[0m\u001b[0;34m\u001b[0m\u001b[0;34m\u001b[0m\u001b[0m\n\u001b[1;32m     16\u001b[0m \u001b[0;31m#                                       )\u001b[0m\u001b[0;34m\u001b[0m\u001b[0;34m\u001b[0m\u001b[0;34m\u001b[0m\u001b[0m\n\u001b[0;32m---> 17\u001b[0;31m twrs_combined_CONTROL = tsout_seriesReader(fdir=wrf_dir + cases[0]+'/',\n\u001b[0m\u001b[1;32m     18\u001b[0m                                        \u001b[0mrestarts\u001b[0m\u001b[0;34m=\u001b[0m\u001b[0mrestarts\u001b[0m\u001b[0;34m[\u001b[0m\u001b[0;36m1\u001b[0m\u001b[0;34m:\u001b[0m\u001b[0;34m]\u001b[0m\u001b[0;34m,\u001b[0m\u001b[0;34m\u001b[0m\u001b[0;34m\u001b[0m\u001b[0m\n\u001b[1;32m     19\u001b[0m                                        \u001b[0msimulation_start_time\u001b[0m\u001b[0;34m=\u001b[0m\u001b[0mwrf_start_times\u001b[0m\u001b[0;34m[\u001b[0m\u001b[0;36m1\u001b[0m\u001b[0;34m:\u001b[0m\u001b[0;34m]\u001b[0m\u001b[0;34m,\u001b[0m\u001b[0;34m\u001b[0m\u001b[0;34m\u001b[0m\u001b[0m\n",
      "\u001b[0;32m~/mmc/mmc_github_clones/mmctools/mmctools/wrf/utils.py\u001b[0m in \u001b[0;36mtsout_seriesReader\u001b[0;34m(fdir, restarts, simulation_start_time, domain_of_interest, structure, time_step, heights, height_var, select_tower, **kwargs)\u001b[0m\n\u001b[1;32m   1134\u001b[0m                 \u001b[0;32mif\u001b[0m \u001b[0mtwr\u001b[0m \u001b[0;32min\u001b[0m \u001b[0mtwr_n\u001b[0m\u001b[0;34m:\u001b[0m \u001b[0mgood_towers\u001b[0m\u001b[0;34m.\u001b[0m\u001b[0mappend\u001b[0m\u001b[0;34m(\u001b[0m\u001b[0mtwr_n\u001b[0m\u001b[0;34m)\u001b[0m\u001b[0;34m\u001b[0m\u001b[0;34m\u001b[0m\u001b[0m\n\u001b[1;32m   1135\u001b[0m         \u001b[0mtower_names\u001b[0m \u001b[0;34m=\u001b[0m \u001b[0mgood_towers\u001b[0m\u001b[0;34m\u001b[0m\u001b[0;34m\u001b[0m\u001b[0m\n\u001b[0;32m-> 1136\u001b[0;31m     dsF = combine_towers(fdir,restarts,simulation_start_time,tower_names,\n\u001b[0m\u001b[1;32m   1137\u001b[0m                          \u001b[0mstructure\u001b[0m\u001b[0;34m=\u001b[0m\u001b[0mstructure\u001b[0m\u001b[0;34m,\u001b[0m \u001b[0mtime_step\u001b[0m\u001b[0;34m=\u001b[0m\u001b[0mtime_step\u001b[0m\u001b[0;34m,\u001b[0m\u001b[0;34m\u001b[0m\u001b[0;34m\u001b[0m\u001b[0m\n\u001b[1;32m   1138\u001b[0m                          \u001b[0mheights\u001b[0m\u001b[0;34m=\u001b[0m\u001b[0mheights\u001b[0m\u001b[0;34m,\u001b[0m \u001b[0mheight_var\u001b[0m\u001b[0;34m=\u001b[0m\u001b[0mheight_var\u001b[0m\u001b[0;34m,\u001b[0m\u001b[0;34m\u001b[0m\u001b[0;34m\u001b[0m\u001b[0m\n",
      "\u001b[0;32m~/mmc/mmc_github_clones/mmctools/mmctools/wrf/utils.py\u001b[0m in \u001b[0;36mcombine_towers\u001b[0;34m(fdir, restarts, simulation_start, fname, structure, time_step, dx, dy, heights, height_var, agl, verbose, **kwargs)\u001b[0m\n\u001b[1;32m   1037\u001b[0m                 \u001b[0mprint\u001b[0m\u001b[0;34m(\u001b[0m\u001b[0;34m'starting {}'\u001b[0m\u001b[0;34m.\u001b[0m\u001b[0mformat\u001b[0m\u001b[0;34m(\u001b[0m\u001b[0mff\u001b[0m\u001b[0;34m)\u001b[0m\u001b[0;34m)\u001b[0m\u001b[0;34m\u001b[0m\u001b[0;34m\u001b[0m\u001b[0m\n\u001b[1;32m   1038\u001b[0m             \u001b[0mfpath\u001b[0m \u001b[0;34m=\u001b[0m \u001b[0mos\u001b[0m\u001b[0;34m.\u001b[0m\u001b[0mpath\u001b[0m\u001b[0;34m.\u001b[0m\u001b[0mjoin\u001b[0m\u001b[0;34m(\u001b[0m\u001b[0mfdir\u001b[0m\u001b[0;34m,\u001b[0m\u001b[0mrestart\u001b[0m\u001b[0;34m,\u001b[0m\u001b[0mff\u001b[0m\u001b[0;34m)\u001b[0m\u001b[0;34m\u001b[0m\u001b[0;34m\u001b[0m\u001b[0m\n\u001b[0;32m-> 1039\u001b[0;31m             \u001b[0mtow\u001b[0m \u001b[0;34m=\u001b[0m \u001b[0mTower\u001b[0m\u001b[0;34m(\u001b[0m\u001b[0mfpath\u001b[0m\u001b[0;34m)\u001b[0m\u001b[0;34m\u001b[0m\u001b[0;34m\u001b[0m\u001b[0m\n\u001b[0m\u001b[1;32m   1040\u001b[0m             ds = tow.to_xarray(start_time=simulation_start[rst],\n\u001b[1;32m   1041\u001b[0m                                \u001b[0mtime_step\u001b[0m\u001b[0;34m=\u001b[0m\u001b[0mtime_step\u001b[0m\u001b[0;34m,\u001b[0m\u001b[0;34m\u001b[0m\u001b[0;34m\u001b[0m\u001b[0m\n",
      "\u001b[0;32m~/mmc/mmc_github_clones/mmctools/mmctools/wrf/utils.py\u001b[0m in \u001b[0;36m__init__\u001b[0;34m(self, fstr, varlist)\u001b[0m\n\u001b[1;32m    278\u001b[0m         \u001b[0mself\u001b[0m\u001b[0;34m.\u001b[0m\u001b[0mnz\u001b[0m \u001b[0;34m=\u001b[0m \u001b[0;32mNone\u001b[0m\u001b[0;34m\u001b[0m\u001b[0;34m\u001b[0m\u001b[0m\n\u001b[1;32m    279\u001b[0m         \u001b[0mself\u001b[0m\u001b[0;34m.\u001b[0m\u001b[0m_getvars\u001b[0m\u001b[0;34m(\u001b[0m\u001b[0mfstr\u001b[0m\u001b[0;34m,\u001b[0m\u001b[0mrequested_varns\u001b[0m\u001b[0;34m=\u001b[0m\u001b[0mvarlist\u001b[0m\u001b[0;34m)\u001b[0m\u001b[0;34m\u001b[0m\u001b[0;34m\u001b[0m\u001b[0m\n\u001b[0;32m--> 280\u001b[0;31m         \u001b[0mself\u001b[0m\u001b[0;34m.\u001b[0m\u001b[0m_getdata\u001b[0m\u001b[0;34m(\u001b[0m\u001b[0;34m)\u001b[0m\u001b[0;34m\u001b[0m\u001b[0;34m\u001b[0m\u001b[0m\n\u001b[0m\u001b[1;32m    281\u001b[0m \u001b[0;34m\u001b[0m\u001b[0m\n\u001b[1;32m    282\u001b[0m     \u001b[0;32mdef\u001b[0m \u001b[0m_getvars\u001b[0m\u001b[0;34m(\u001b[0m\u001b[0mself\u001b[0m\u001b[0;34m,\u001b[0m\u001b[0mfstr\u001b[0m\u001b[0;34m,\u001b[0m\u001b[0mrequested_varns\u001b[0m\u001b[0;34m=\u001b[0m\u001b[0;32mNone\u001b[0m\u001b[0;34m)\u001b[0m\u001b[0;34m:\u001b[0m\u001b[0;34m\u001b[0m\u001b[0;34m\u001b[0m\u001b[0m\n",
      "\u001b[0;32m~/mmc/mmc_github_clones/mmctools/mmctools/wrf/utils.py\u001b[0m in \u001b[0;36m_getdata\u001b[0;34m(self)\u001b[0m\n\u001b[1;32m    309\u001b[0m             \u001b[0;31m# Get number of times,heights\u001b[0m\u001b[0;34m\u001b[0m\u001b[0;34m\u001b[0m\u001b[0;34m\u001b[0m\u001b[0m\n\u001b[1;32m    310\u001b[0m             \u001b[0;32mwith\u001b[0m \u001b[0mopen\u001b[0m\u001b[0;34m(\u001b[0m\u001b[0mfpath\u001b[0m\u001b[0;34m)\u001b[0m \u001b[0;32mas\u001b[0m \u001b[0mf\u001b[0m\u001b[0;34m:\u001b[0m\u001b[0;34m\u001b[0m\u001b[0;34m\u001b[0m\u001b[0m\n\u001b[0;32m--> 311\u001b[0;31m                 \u001b[0;32mfor\u001b[0m \u001b[0mnt\u001b[0m\u001b[0;34m,\u001b[0m\u001b[0mline\u001b[0m \u001b[0;32min\u001b[0m \u001b[0menumerate\u001b[0m\u001b[0;34m(\u001b[0m\u001b[0mf\u001b[0m\u001b[0;34m.\u001b[0m\u001b[0mreadlines\u001b[0m\u001b[0;34m(\u001b[0m\u001b[0;34m)\u001b[0m\u001b[0;34m)\u001b[0m\u001b[0;34m:\u001b[0m \u001b[0;32mpass\u001b[0m\u001b[0;34m\u001b[0m\u001b[0;34m\u001b[0m\u001b[0m\n\u001b[0m\u001b[1;32m    312\u001b[0m \u001b[0;34m\u001b[0m\u001b[0m\n\u001b[1;32m    313\u001b[0m             \u001b[0;31m# Read profile data\u001b[0m\u001b[0;34m\u001b[0m\u001b[0;34m\u001b[0m\u001b[0;34m\u001b[0m\u001b[0m\n",
      "\u001b[0;32m~/anaconda3/envs/wildfire/lib/python3.8/codecs.py\u001b[0m in \u001b[0;36mdecode\u001b[0;34m(self, input, final)\u001b[0m\n\u001b[1;32m    317\u001b[0m         \u001b[0;32mraise\u001b[0m \u001b[0mNotImplementedError\u001b[0m\u001b[0;34m\u001b[0m\u001b[0;34m\u001b[0m\u001b[0m\n\u001b[1;32m    318\u001b[0m \u001b[0;34m\u001b[0m\u001b[0m\n\u001b[0;32m--> 319\u001b[0;31m     \u001b[0;32mdef\u001b[0m \u001b[0mdecode\u001b[0m\u001b[0;34m(\u001b[0m\u001b[0mself\u001b[0m\u001b[0;34m,\u001b[0m \u001b[0minput\u001b[0m\u001b[0;34m,\u001b[0m \u001b[0mfinal\u001b[0m\u001b[0;34m=\u001b[0m\u001b[0;32mFalse\u001b[0m\u001b[0;34m)\u001b[0m\u001b[0;34m:\u001b[0m\u001b[0;34m\u001b[0m\u001b[0;34m\u001b[0m\u001b[0m\n\u001b[0m\u001b[1;32m    320\u001b[0m         \u001b[0;31m# decode input (taking the buffer into account)\u001b[0m\u001b[0;34m\u001b[0m\u001b[0;34m\u001b[0m\u001b[0;34m\u001b[0m\u001b[0m\n\u001b[1;32m    321\u001b[0m         \u001b[0mdata\u001b[0m \u001b[0;34m=\u001b[0m \u001b[0mself\u001b[0m\u001b[0;34m.\u001b[0m\u001b[0mbuffer\u001b[0m \u001b[0;34m+\u001b[0m \u001b[0minput\u001b[0m\u001b[0;34m\u001b[0m\u001b[0;34m\u001b[0m\u001b[0m\n",
      "\u001b[0;31mKeyboardInterrupt\u001b[0m: "
     ]
    }
   ],
   "source": [
    "# Create combined tower DataArray (this may take a while)\n",
    "#twrs_combined_CONTROL = tsout_seriesReader(fdir=wrf_dir + cases[0]+'/',\n",
    "#                                       restarts=restarts,\n",
    "#                                       simulation_start_time=wrf_start_times,\n",
    "#                                       structure='unordered',\n",
    "#                                       time_step=wrf_dt,\n",
    "#                                       domain_of_interest='d06',\n",
    "#                                       heights=[5.0, 10.0,  15.0, 20.0, \\\n",
    "#                                                25.0, 30.0, 33.0, 35.0, \\\n",
    "#                                                40.0, 45.0, 50.0, 55.0, \\\n",
    "#                                                60.0, 65.0, 70.0, 75.0, \\\n",
    "#                                                80.0, 85.0, 90.0, 95.0, \\\n",
    "#                                                100.0, 110.0, 125.0, 150.0, 200.0],\n",
    "#                                       height_var='ph',\n",
    "#                                       select_tower = ['ARR06', 'ARR07', 'ARR08', 'ARR09']\n",
    "#                                       )\n",
    "twrs_combined_CONTROL = tsout_seriesReader(fdir=wrf_dir + cases[0]+'/',\n",
    "                                       restarts=restarts[1:],\n",
    "                                       simulation_start_time=wrf_start_times[1:],\n",
    "                                       structure='unordered',\n",
    "                                       time_step=wrf_dt,\n",
    "                                       domain_of_interest='d06',\n",
    "                                       heights=[40.0, 60.0, 80.0],                                       \n",
    "                                       height_var='ph',\n",
    "                                       select_tower = [\n",
    "                                                       #'ARR01', 'ARR02', 'ARR03', 'ARR04', 'ARR05', \\\n",
    "                                                       #'ARR06', 'ARR07', 'ARR08', 'ARR09', 'ARR10', \\\n",
    "                                                       #'ARR11', 'ARR12', 'ARR13', 'ARR14', 'ARR15', \\\n",
    "                                                       #'ARR16', ' ARR17', 'ARR18', 'ARR19', 'ARR20', \\\n",
    "                                                       #'ARR21', 'ARR22', 'ARR23', 'ARR24', 'ARR25'\n",
    "                                                       'ARR04', 'ARR05', 'ARR09', 'ARR10'\n",
    "                                                       ]\n",
    "                                       )\n",
    "#33.0 40.0 50.0 60.0 70.0 80.0 90.0 100.0"
   ]
  },
  {
   "cell_type": "code",
   "execution_count": null,
   "metadata": {},
   "outputs": [],
   "source": [
    "# Create combined tower DataArray (this may take a while)\n",
    "dinds = [0,4]\n",
    "restarts_cpm = np.delete( restarts, dinds )\n",
    "print(restarts_cpm)"
   ]
  },
  {
   "cell_type": "code",
   "execution_count": null,
   "metadata": {},
   "outputs": [],
   "source": [
    "# Create combined tower DataArray (this may take a while)\n",
    "\n",
    "twrs_combined_CPM = tsout_seriesReader(fdir=wrf_dir + cases[1]+'/',\n",
    "                                       restarts=restarts_cpm,\n",
    "                                       simulation_start_time=wrf_start_times[2:],\n",
    "                                       structure='unordered',\n",
    "                                       #time_step=wrf_dt,\n",
    "                                       domain_of_interest='d06',\n",
    "                                       heights=[40.0, 60.0, 80.0], \n",
    "                                       height_var='ph',\n",
    "                                       select_tower = [\n",
    "                                                       #'ARR01', 'ARR02', 'ARR03', 'ARR04', 'ARR05', \\\n",
    "                                                       #'ARR06', 'ARR07', 'ARR08', 'ARR09', 'ARR10', \\\n",
    "                                                       #'ARR11', 'ARR12', 'ARR13', 'ARR14', 'ARR15', \\\n",
    "                                                       #'ARR16', ' ARR17', 'ARR18', 'ARR19', 'ARR20', \\\n",
    "                                                       #'ARR21', 'ARR22', 'ARR23', 'ARR24', 'ARR25'\n",
    "                                                       'ARR04', 'ARR05', 'ARR09', 'ARR10'\n",
    "                                                       ]\n",
    "                                       )"
   ]
  },
  {
   "cell_type": "raw",
   "metadata": {},
   "source": [
    "# Print some values, just a sanity check\n",
    "\n",
    "print(twrs_combined_CONTROL.height.sel( station = 'ARR06').values[-2,:])"
   ]
  },
  {
   "cell_type": "raw",
   "metadata": {},
   "source": [
    "# Print some values, just a sanity check\n",
    "print(twrs_combined_CONTROL.dims)\n",
    "print(twrs_combined_CONTROL.coords)\n"
   ]
  },
  {
   "cell_type": "raw",
   "metadata": {},
   "source": [
    "# Print some values, just a sanity check\n",
    "print(twrs_combined_CPM.dims)\n",
    "print(twrs_combined_CPM.coords)\n"
   ]
  },
  {
   "cell_type": "code",
   "execution_count": null,
   "metadata": {},
   "outputs": [],
   "source": [
    "print(twrs_combined_CPM.datetime)\n",
    "print(twrs_combined_CONTROL.datetime)"
   ]
  },
  {
   "cell_type": "raw",
   "metadata": {},
   "source": [
    "for ss in twrs_combined_CPM.station.values:\n",
    "    #print(ss)\n",
    "    #print(tower_dict[ss][0])\n",
    "    #test = xr.Variable( tower_dict[ss][0], dims = 'station' )\n",
    "    twrs_combined_CPM.sel( station = ss )['i_dom'] = tower_dict[ss][0]\n",
    "    twrs_combined_CPM.sel( station = ss )['j_dom'] = tower_dict[ss][1]\n",
    "    twrs_combined_CPM.sel( station = ss )['i_arr'] = tower_dict[ss][2]\n",
    "    twrs_combined_CPM.sel( station = ss )['j_arr'] = tower_dict[ss][3]    "
   ]
  },
  {
   "cell_type": "raw",
   "metadata": {},
   "source": [
    "for ss in twrs_combined_CONTROL.values:\n",
    "    twrs_combined_CONTROL.sel( station = ss ).i = tower_dict[ss][0]\n",
    "    twrs_combined_CONTROL.sel( station = ss ).j = tower_dict[ss][1]"
   ]
  },
  {
   "cell_type": "code",
   "execution_count": null,
   "metadata": {},
   "outputs": [],
   "source": [
    "print( twrs_combined_CPM.variables)"
   ]
  },
  {
   "cell_type": "code",
   "execution_count": null,
   "metadata": {},
   "outputs": [],
   "source": [
    "twrs_combined_CPM_ds = twrs_combined_CPM.resample({'datetime' : '0.4S'}).nearest()\n",
    "twrs_combined_CONTROL_ds = twrs_combined_CONTROL.resample({'datetime' : '0.4S'}).nearest()"
   ]
  },
  {
   "cell_type": "code",
   "execution_count": null,
   "metadata": {},
   "outputs": [],
   "source": [
    "CPM_save = xr.Dataset(\n",
    "                {\n",
    "                    'u': twrs_combined_CPM_ds.u,\n",
    "                    'v': twrs_combined_CPM_ds.v,\n",
    "                    'w': twrs_combined_CPM_ds.w\n",
    "                }\n",
    "            )\n",
    "\n",
    "CONTROL_save = xr.Dataset(\n",
    "                {\n",
    "                    'u': twrs_combined_CONTROL_ds.u,\n",
    "                    'v': twrs_combined_CONTROL_ds.v,\n",
    "                    'w': twrs_combined_CONTROL_ds.w\n",
    "                }\n",
    "            )\n"
   ]
  },
  {
   "cell_type": "code",
   "execution_count": null,
   "metadata": {},
   "outputs": [],
   "source": [
    "print(CPM_save.data_vars)\n",
    "print(CPM_save.coords)\n",
    "print(CPM_save.dims)"
   ]
  },
  {
   "cell_type": "markdown",
   "metadata": {},
   "source": [
    "### Save to process data files"
   ]
  },
  {
   "cell_type": "code",
   "execution_count": null,
   "metadata": {},
   "outputs": [],
   "source": [
    "CPM_save.to_netcdf( pdata_save_dir + 'FINO_wrf-tslist-processed_cpm.nc')"
   ]
  },
  {
   "cell_type": "code",
   "execution_count": null,
   "metadata": {},
   "outputs": [],
   "source": [
    "CONTROL_save.to_netcdf( pdata_save_dir + 'FINO_wrf-tslist-processed_control.nc')"
   ]
  },
  {
   "cell_type": "markdown",
   "metadata": {},
   "source": [
    "### Some calculations and a plot to verify things are working correctly"
   ]
  },
  {
   "cell_type": "code",
   "execution_count": null,
   "metadata": {},
   "outputs": [],
   "source": [
    "\n",
    "\n",
    "print(twrs_combined_CONTROL.coords)\n",
    "print( type(twrs_combined_CONTROL.datetime.values[0]), twrs_combined_CONTROL.datetime.values[0])\n"
   ]
  },
  {
   "cell_type": "code",
   "execution_count": null,
   "metadata": {},
   "outputs": [],
   "source": [
    "\n",
    "\n"
   ]
  },
  {
   "cell_type": "code",
   "execution_count": null,
   "metadata": {},
   "outputs": [],
   "source": [
    "\n",
    "\n",
    "print(twrs_combined_CONTROL.coords)\n",
    "print( type(twrs_combined_CONTROL.datetime.values[0]), twrs_combined_CONTROL.datetime.values[0])\n",
    "print(np.datetime64('2010-05-17T14:38:00.025000000' ))"
   ]
  },
  {
   "cell_type": "code",
   "execution_count": null,
   "metadata": {},
   "outputs": [],
   "source": [
    "twrs_combined_CONTROL['wspd'] = np.sqrt( twrs_combined_CONTROL['u']**2. + twrs_combined_CONTROL['v']**2. )\n",
    "twrs_combined_CPM['wspd'] = np.sqrt( twrs_combined_CPM['u']**2. + twrs_combined_CPM['v']**2. )"
   ]
  },
  {
   "cell_type": "code",
   "execution_count": null,
   "metadata": {},
   "outputs": [],
   "source": [
    "print(twrs_combined_CONTROL.height.sel( station = 'ARR09').isel(datetime = -1).values )"
   ]
  },
  {
   "cell_type": "code",
   "execution_count": null,
   "metadata": {},
   "outputs": [],
   "source": [
    "### Quick calculation and plot\n",
    "t0 = pd.to_datetime( '2010-05-16T01:40:00' )\n",
    "tf = pd.to_datetime( '2010-05-16T02:00:00' )\n",
    "print( twrs_combined_CONTROL.datetime.values[-1],  twrs_combined_CONTROL.datetime.values[0])\n",
    "\n",
    "#test = twrs_combined_CONTROL.u.sel( station = 'ARR09', datetime = slice(t0, tf) )#.mean(dim = 'datetime')\n",
    "#print(test.values)\n",
    "plt.figure()\n",
    "plt.plot( twrs_combined_CONTROL.wspd.sel( station = 'ARR09', \\\n",
    "                            datetime = slice(t0, tf) ).mean(dim = 'datetime'), \\\n",
    "          twrs_combined_CONTROL.height.sel( station = 'ARR09').isel(datetime = -1),\n",
    "          label = 'CONTROL' )\n",
    "\n",
    "plt.plot( twrs_combined_CPM.wspd.sel( station = 'ARR09', \\\n",
    "                            datetime = slice(t0, tf) ).mean(dim = 'datetime'), \\\n",
    "          twrs_combined_CPM.height.sel( station = 'ARR09').isel(datetime = -1),\n",
    "          label = 'CPM' )\n",
    "plt.xlabel('WSPD [[m/s]]')\n",
    "plt.ylabel('Height [m]')\n",
    "plt.legend(loc = 'best')"
   ]
  },
  {
   "cell_type": "code",
   "execution_count": null,
   "metadata": {},
   "outputs": [],
   "source": []
  }
 ],
 "metadata": {
  "kernelspec": {
   "display_name": "wildfire",
   "language": "python",
   "name": "wildfire"
  },
  "language_info": {
   "codemirror_mode": {
    "name": "ipython",
    "version": 3
   },
   "file_extension": ".py",
   "mimetype": "text/x-python",
   "name": "python",
   "nbconvert_exporter": "python",
   "pygments_lexer": "ipython3",
   "version": "3.8.2"
  }
 },
 "nbformat": 4,
 "nbformat_minor": 4
}
