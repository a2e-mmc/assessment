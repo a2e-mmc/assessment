{
 "cells": [
  {
   "cell_type": "markdown",
   "metadata": {},
   "source": [
    "# Read_WRF_slices\n",
    "Use mmctools wrfseries_slice_reader to read FINO offshore microscale simulations.<br>\n",
    "Save dataseries to pdata file"
   ]
  },
  {
   "cell_type": "markdown",
   "metadata": {},
   "source": [
    "## Set file paths, import 'sys' module for setting filepath"
   ]
  },
  {
   "cell_type": "code",
   "execution_count": 1,
   "metadata": {},
   "outputs": [],
   "source": [
    "wrf_dir = '/p/lscratchh/lassman1/a2e-mmc/WRF/FINO/ERA5_grid2.0/'\n",
    "cases = ['microscale_setup_v2_CONTROL', 'microscale_setup_v2_CPM']\n",
    "\n",
    "\n",
    "\n",
    "pdata_save_dir = '/p/lscratchh/lassman1/a2e-mmc/pdata/FINO/'\n",
    "\n",
    "\n",
    "\n",
    "import sys\n",
    "import os\n",
    "\n",
    "module_path = os.path.join(os.environ['HOME'],'code/Python/a2e-mmc/')\n",
    "#module_path = os.path.join(os.environ['HOME'],'mmc/mmc_github_clones/')                                                          \n",
    "if module_path not in sys.path:\n",
    "    sys.path.append(module_path)\n"
   ]
  },
  {
   "cell_type": "code",
   "execution_count": 2,
   "metadata": {},
   "outputs": [],
   "source": [
    "# WRF File name template\n",
    "# Done in 20-minute incriments because the model ran with 20 minute restarts, and some files had different numbers of slices\n",
    "# Also this will avoid a memory error (hopefully)\n",
    "list_file_filters = ['mmc_d06_2010-05-16_01:[01][0-9]:[0-5][0-9]', \\\n",
    "                     'mmc_d06_2010-05-16_01:[23][0-9]:[0-5][0-9]', \\\n",
    "                     'mmc_d06_2010-05-16_01:[45][0-9]:[0-5][0-9]', \\\n",
    "                     'mmc_d06_2010-05-16_02:[01][0-9]:[0-5][0-9]', \\\n",
    "                     'mmc_d06_2010-05-16_02:[23][0-9]:[0-5][0-9]', \\\n",
    "                     'mmc_d06_2010-05-16_02:[45][0-9]:[0-5][0-9]', \\\n",
    "                     'mmc_d06_2010-05-16_03:[01][0-9]:[0-5][0-9]', \\\n",
    "                     'mmc_d06_2010-05-16_03:[23][0-9]:[0-5][0-9]', \\\n",
    "                     'mmc_d06_2010-05-16_03:[45][0-9]:[0-5][0-9]', \\\n",
    "                     'mmc_d06_2010-05-16_04:[01][0-9]:[0-5][0-9]', \\\n",
    "                     'mmc_d06_2010-05-16_04:[23][0-9]:[0-5][0-9]', \\\n",
    "                     'mmc_d06_2010-05-16_04:[45][0-9]:[0-5][0-9]', \\\n",
    "                     'mmc_d06_2010-05-16_05:[01][0-9]:[0-5][0-9]', \\\n",
    "                     'mmc_d06_2010-05-16_05:[23][0-9]:[0-5][0-9]', \\\n",
    "             ]\n",
    "\n",
    "\n",
    "hgt = 80"
   ]
  },
  {
   "cell_type": "markdown",
   "metadata": {},
   "source": [
    "## Import the rest of the modules"
   ]
  },
  {
   "cell_type": "code",
   "execution_count": 3,
   "metadata": {},
   "outputs": [],
   "source": [
    "# import modules\n",
    "import numpy as np\n",
    "from netCDF4 import Dataset as nc\n",
    "import xarray as xr\n",
    "\n",
    "\n",
    "import pandas as pd\n",
    "import datetime\n",
    "\n",
    "import wrf as wrfpy\n",
    "import glob"
   ]
  },
  {
   "cell_type": "code",
   "execution_count": 4,
   "metadata": {},
   "outputs": [],
   "source": [
    "#from mmctools.plotting import plot_timehistory_at_height, plot_profile, plot_spectrum\n",
    "from mmctools.helper_functions import calc_wind, theta, model4D_calcQOIs\n",
    "from mmctools.wrf.utils import wrfout_seriesReader,wrfout_slices_seriesReader"
   ]
  },
  {
   "cell_type": "code",
   "execution_count": 5,
   "metadata": {},
   "outputs": [
    {
     "name": "stdout",
     "output_type": "stream",
     "text": [
      "Finished opening/concatenating datasets...\n",
      "Establishing coordinate variables, x,y,z, zSurface...\n",
      "Doing slice variables\n",
      "Grabbing u, v, w, T\n",
      "One height\n",
      "Calculating derived data variables, wspd, wdir...\n",
      "Skipping 2-D variables\n",
      "Frozen(SortedKeysDict({'Time': 1200, 'num_slices': 1, 'south_north': 600, 'west_east': 600, 'SLICES_Z': 1, 'bottom_top': 1}))\n"
     ]
    }
   ],
   "source": [
    "ds_slice = wrfout_slices_seriesReader( wrf_dir + cases[0] + '/auxout/', list_file_filters[0], specified_height = [hgt] )"
   ]
  },
  {
   "cell_type": "code",
   "execution_count": null,
   "metadata": {},
   "outputs": [
    {
     "name": "stdout",
     "output_type": "stream",
     "text": [
      "1  of  14\n",
      "Finished opening/concatenating datasets...\n",
      "Establishing coordinate variables, x,y,z, zSurface...\n",
      "Doing slice variables\n",
      "Grabbing u, v, w, T\n",
      "One height\n",
      "Calculating derived data variables, wspd, wdir...\n",
      "Skipping 2-D variables\n",
      "Frozen(SortedKeysDict({'Time': 1200, 'num_slices': 1, 'south_north': 600, 'west_east': 600, 'SLICES_Z': 1, 'bottom_top': 1}))\n",
      "2  of  14\n",
      "Finished opening/concatenating datasets...\n",
      "Establishing coordinate variables, x,y,z, zSurface...\n",
      "Doing slice variables\n",
      "Grabbing u, v, w, T\n",
      "One height\n",
      "Calculating derived data variables, wspd, wdir...\n",
      "Skipping 2-D variables\n",
      "Frozen(SortedKeysDict({'Time': 1200, 'num_slices': 1, 'south_north': 600, 'west_east': 600, 'SLICES_Z': 1, 'bottom_top': 1}))\n",
      "3  of  14\n",
      "Finished opening/concatenating datasets...\n",
      "Establishing coordinate variables, x,y,z, zSurface...\n",
      "Doing slice variables\n",
      "Grabbing u, v, w, T\n",
      "One height\n",
      "Calculating derived data variables, wspd, wdir...\n",
      "Skipping 2-D variables\n",
      "Frozen(SortedKeysDict({'Time': 1200, 'num_slices': 1, 'south_north': 600, 'west_east': 600, 'SLICES_Z': 1, 'bottom_top': 1}))\n",
      "4  of  14\n",
      "Finished opening/concatenating datasets...\n",
      "Establishing coordinate variables, x,y,z, zSurface...\n",
      "Doing slice variables\n",
      "Grabbing u, v, w, T\n",
      "One height\n",
      "Calculating derived data variables, wspd, wdir...\n",
      "Skipping 2-D variables\n",
      "Frozen(SortedKeysDict({'Time': 1200, 'num_slices': 1, 'south_north': 600, 'west_east': 600, 'SLICES_Z': 1, 'bottom_top': 1}))\n",
      "5  of  14\n",
      "Finished opening/concatenating datasets...\n",
      "Establishing coordinate variables, x,y,z, zSurface...\n",
      "Doing slice variables\n",
      "Grabbing u, v, w, T\n",
      "One height\n",
      "Calculating derived data variables, wspd, wdir...\n",
      "Skipping 2-D variables\n",
      "Frozen(SortedKeysDict({'Time': 1200, 'num_slices': 1, 'south_north': 600, 'west_east': 600, 'SLICES_Z': 1, 'bottom_top': 1}))\n",
      "6  of  14\n",
      "Finished opening/concatenating datasets...\n",
      "Establishing coordinate variables, x,y,z, zSurface...\n",
      "Doing slice variables\n",
      "Grabbing u, v, w, T\n",
      "One height\n",
      "Calculating derived data variables, wspd, wdir...\n",
      "Skipping 2-D variables\n",
      "Frozen(SortedKeysDict({'Time': 1200, 'num_slices': 1, 'south_north': 600, 'west_east': 600, 'SLICES_Z': 1, 'bottom_top': 1}))\n",
      "7  of  14\n",
      "Finished opening/concatenating datasets...\n",
      "Establishing coordinate variables, x,y,z, zSurface...\n",
      "Doing slice variables\n",
      "Grabbing u, v, w, T\n",
      "One height\n",
      "Calculating derived data variables, wspd, wdir...\n",
      "Skipping 2-D variables\n",
      "Frozen(SortedKeysDict({'Time': 1200, 'num_slices': 1, 'south_north': 600, 'west_east': 600, 'SLICES_Z': 1, 'bottom_top': 1}))\n",
      "8  of  14\n",
      "Finished opening/concatenating datasets...\n",
      "Establishing coordinate variables, x,y,z, zSurface...\n",
      "Doing slice variables\n",
      "Grabbing u, v, w, T\n",
      "One height\n",
      "Calculating derived data variables, wspd, wdir...\n",
      "Skipping 2-D variables\n",
      "Frozen(SortedKeysDict({'Time': 1200, 'num_slices': 1, 'south_north': 600, 'west_east': 600, 'SLICES_Z': 1, 'bottom_top': 1}))\n",
      "9  of  14\n",
      "Finished opening/concatenating datasets...\n",
      "Establishing coordinate variables, x,y,z, zSurface...\n",
      "Doing slice variables\n",
      "Grabbing u, v, w, T\n",
      "One height\n",
      "Calculating derived data variables, wspd, wdir...\n",
      "Skipping 2-D variables\n",
      "Frozen(SortedKeysDict({'Time': 1200, 'num_slices': 1, 'south_north': 600, 'west_east': 600, 'SLICES_Z': 1, 'bottom_top': 1}))\n",
      "10  of  14\n"
     ]
    }
   ],
   "source": [
    "#ds40 = xr.DataArray()\n",
    "ct = 1\n",
    "for ff in list_file_filters:\n",
    "    print(ct, ' of ', len(list_file_filters))\n",
    "    ds_temp = wrfout_slices_seriesReader( wrf_dir + cases[0] + '/auxout/', ff, specified_height = [hgt] )\n",
    "    ds_slice = xr.concat([ ds_slice, ds_temp], dim = 'datetime')\n",
    "    ct += 1"
   ]
  },
  {
   "cell_type": "code",
   "execution_count": null,
   "metadata": {},
   "outputs": [],
   "source": [
    "ds_slice.to_netcdf( pdata_save_dir + cases[0] + 'slice_out_'+str(hgt)+'.nc')"
   ]
  },
  {
   "cell_type": "code",
   "execution_count": null,
   "metadata": {},
   "outputs": [],
   "source": []
  }
 ],
 "metadata": {
  "kernelspec": {
   "display_name": "MMC-conda",
   "language": "python",
   "name": "mmc-conda"
  },
  "language_info": {
   "codemirror_mode": {
    "name": "ipython",
    "version": 3
   },
   "file_extension": ".py",
   "mimetype": "text/x-python",
   "name": "python",
   "nbconvert_exporter": "python",
   "pygments_lexer": "ipython3",
   "version": "3.8.2"
  }
 },
 "nbformat": 4,
 "nbformat_minor": 4
}
