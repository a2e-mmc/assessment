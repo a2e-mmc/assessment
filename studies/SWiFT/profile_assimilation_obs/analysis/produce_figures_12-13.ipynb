{
 "cells": [
  {
   "cell_type": "code",
   "execution_count": 1,
   "metadata": {},
   "outputs": [
    {
     "name": "stdout",
     "output_type": "stream",
     "text": [
      "The autoreload extension is already loaded. To reload it, use:\n",
      "  %reload_ext autoreload\n"
     ]
    }
   ],
   "source": [
    "%load_ext autoreload\n",
    "%autoreload 2\n",
    "%matplotlib inline"
   ]
  },
  {
   "cell_type": "markdown",
   "metadata": {},
   "source": [
    "# SWIFT PAT+OBS: Produce figures 12-13"
   ]
  },
  {
   "cell_type": "markdown",
   "metadata": {},
   "source": [
    "## I/O data"
   ]
  },
  {
   "cell_type": "code",
   "execution_count": 2,
   "metadata": {},
   "outputs": [],
   "source": [
    "simulations = {\n",
    "    'case R': 'internal.ipa.wrf',\n",
    "    'case A0': 'internal.ipa.obs.noT',\n",
    "    'case Cb': 'internal.ipa.obs.wrfTadv',\n",
    "    'case Ca': 'internal.ipa.obs.wrfT',\n",
    "}"
   ]
  },
  {
   "cell_type": "code",
   "execution_count": 3,
   "metadata": {},
   "outputs": [],
   "source": [
    "datadir = '/scratch/dallaert/profile_assimilation_obs'"
   ]
  },
  {
   "cell_type": "code",
   "execution_count": 4,
   "metadata": {},
   "outputs": [],
   "source": [
    "save_figures = False\n",
    "figname_prefix = 'results_C'"
   ]
  },
  {
   "cell_type": "markdown",
   "metadata": {},
   "source": [
    "## Some definitions"
   ]
  },
  {
   "cell_type": "code",
   "execution_count": 5,
   "metadata": {},
   "outputs": [],
   "source": [
    "hub_height = 90"
   ]
  },
  {
   "cell_type": "code",
   "execution_count": 6,
   "metadata": {},
   "outputs": [],
   "source": [
    "# LOCAL times, from https://www.timeanddate.com/sun/usa/lubbock?month=11&year=2013\n",
    "sunrise = '2013-11-08 07:12'\n",
    "sunset  = '2013-11-08 17:49'"
   ]
  },
  {
   "cell_type": "code",
   "execution_count": 7,
   "metadata": {},
   "outputs": [],
   "source": [
    "wrf_mesoscale_data_file = 'WRF_20131108-09.nc'\n",
    "tower_10min_data_file = 'TTU_tilt_corrected_20131108-09_10min.csv'\n",
    "rass_data_file = 'combined_radar_met_sounding_QC.csv'\n",
    "radar_data_file = 'TTU_obs_QC_20131108.csv'"
   ]
  },
  {
   "cell_type": "markdown",
   "metadata": {},
   "source": [
    "## Prepare environment"
   ]
  },
  {
   "cell_type": "code",
   "execution_count": 8,
   "metadata": {},
   "outputs": [],
   "source": [
    "import os\n",
    "import pandas as pd\n",
    "import xarray as xr\n",
    "import matplotlib as mpl\n",
    "import matplotlib.pyplot as plt\n",
    "import matplotlib.dates as mdates"
   ]
  },
  {
   "cell_type": "code",
   "execution_count": 9,
   "metadata": {},
   "outputs": [],
   "source": [
    "# Manually adding path to mmctools repository to PYTHONPATH\n",
    "sys.path.append(os.path.join(os.environ['HOME'],'tools','a2e-mmc'))\n",
    "\n",
    "from mmctools.mmctools.plotting import plot_timehistory_at_height, plot_profile"
   ]
  },
  {
   "cell_type": "code",
   "execution_count": 10,
   "metadata": {},
   "outputs": [],
   "source": [
    "from helper_functions import sim_style, my_fieldlabels"
   ]
  },
  {
   "cell_type": "code",
   "execution_count": 11,
   "metadata": {},
   "outputs": [],
   "source": [
    "mpl.rcParams['xtick.labelsize'] = 16\n",
    "mpl.rcParams['ytick.labelsize'] = 16\n",
    "mpl.rcParams['axes.labelsize']  = 16\n",
    "mpl.rcParams['axes.titlesize']  = 16"
   ]
  },
  {
   "cell_type": "markdown",
   "metadata": {},
   "source": [
    "## Load simulation data"
   ]
  },
  {
   "cell_type": "code",
   "execution_count": 12,
   "metadata": {},
   "outputs": [],
   "source": [
    "from helper_functions import calc_QOIs"
   ]
  },
  {
   "cell_type": "markdown",
   "metadata": {},
   "source": [
    "Load simulation data"
   ]
  },
  {
   "cell_type": "code",
   "execution_count": 13,
   "metadata": {},
   "outputs": [
    {
     "name": "stdout",
     "output_type": "stream",
     "text": [
      "Processing case R\n",
      "Processing case A0\n",
      "Processing case Cb\n",
      "Processing case Ca\n",
      "CPU times: user 2.69 s, sys: 50 ms, total: 2.74 s\n",
      "Wall time: 2.84 s\n"
     ]
    }
   ],
   "source": [
    "%%time\n",
    "df_10min = {}\n",
    "for name,sim in simulations.items():\n",
    "    print('Processing '+name)\n",
    "    # Read 10min data\n",
    "    df_10min[name] = xr.open_dataset(os.path.join(datadir,sim,'probe1_10min.nc')).to_dataframe()\n",
    "    # Calculate some quantities of interest\n",
    "    calc_QOIs(df_10min[name])"
   ]
  },
  {
   "cell_type": "markdown",
   "metadata": {},
   "source": [
    "Calculate hourly averaged data"
   ]
  },
  {
   "cell_type": "code",
   "execution_count": 14,
   "metadata": {},
   "outputs": [],
   "source": [
    "df_1h = {}\n",
    "for sim in simulations:\n",
    "    df_1h[sim] = df_10min[sim].unstack().resample('1h').mean().stack()"
   ]
  },
  {
   "cell_type": "markdown",
   "metadata": {},
   "source": [
    "## Load reference data"
   ]
  },
  {
   "cell_type": "markdown",
   "metadata": {},
   "source": [
    "Reference data:\n",
    "- **WRF mesoscale:** Data from a WRF mesoscale simulation. NetCDF file generated in [wrf_to_sowfa.ipynb](https://github.com/a2e-mmc/assessment/blob/master/studies/SWiFT/coupling_comparison/preprocessing/internal/wrf_to_sowfa.ipynb)\n",
    "- **TTU tower (10-min statistics):** Data from the TTU meteorological tower. Dataset generated in [process_TTU_tower.ipynb](https://github.com/a2e-mmc/assessment/blob/master/datasets/SWiFT/process_TTU_tower.ipynb)\n",
    "- **TTU radar:** Data from the TTU radar profiler. Dataset generated in [process_TTU_radar.ipynb](https://github.com/a2e-mmc/assessment/blob/master/datasets/SWiFT/process_TTU_radar.ipynb)\n",
    "- **TTU RASS:** Data from the TTU RASS profiler. Dataset generated in [temperature_profile_reconstruction.ipynb](https://github.com/a2e-mmc/assessment/blob/master/datasets/SWiFT/temperature_profile_reconstruction.ipynb)"
   ]
  },
  {
   "cell_type": "code",
   "execution_count": 15,
   "metadata": {},
   "outputs": [
    {
     "ename": "ImportError",
     "evalue": "cannot import name 'load_wrf_reference_data' from 'helper_functions' (/home/dallaert/Jupyter/profile_assimilation_obs/new_postprocessing/helper_functions.py)",
     "output_type": "error",
     "traceback": [
      "\u001b[0;31m---------------------------------------------------------------------------\u001b[0m",
      "\u001b[0;31mImportError\u001b[0m                               Traceback (most recent call last)",
      "\u001b[0;32m/tmp/ipykernel_41552/4085358242.py\u001b[0m in \u001b[0;36m<module>\u001b[0;34m\u001b[0m\n\u001b[0;32m----> 1\u001b[0;31m \u001b[0;32mfrom\u001b[0m \u001b[0mhelper_functions\u001b[0m \u001b[0;32mimport\u001b[0m \u001b[0mload_wrf_reference_data\u001b[0m\u001b[0;34m,\u001b[0m \u001b[0mload_TTU_tower_10min_reference_data\u001b[0m\u001b[0;34m\u001b[0m\u001b[0;34m\u001b[0m\u001b[0m\n\u001b[0m\u001b[1;32m      2\u001b[0m \u001b[0;32mfrom\u001b[0m \u001b[0mhelper_functions\u001b[0m \u001b[0;32mimport\u001b[0m \u001b[0mload_TTU_RASS_reference_data\u001b[0m\u001b[0;34m,\u001b[0m \u001b[0mload_TTU_radar_reference_data\u001b[0m\u001b[0;34m\u001b[0m\u001b[0;34m\u001b[0m\u001b[0m\n",
      "\u001b[0;31mImportError\u001b[0m: cannot import name 'load_wrf_reference_data' from 'helper_functions' (/home/dallaert/Jupyter/profile_assimilation_obs/new_postprocessing/helper_functions.py)"
     ]
    }
   ],
   "source": [
    "from helper_functions import load_wrf_reference_data, load_TTU_tower_10min_reference_data\n",
    "from helper_functions import load_TTU_RASS_reference_data, load_TTU_radar_reference_data"
   ]
  },
  {
   "cell_type": "markdown",
   "metadata": {},
   "source": [
    "Load reference data"
   ]
  },
  {
   "cell_type": "code",
   "execution_count": null,
   "metadata": {},
   "outputs": [],
   "source": [
    "wrf = load_wrf_mesoscale_data(os.path.join(datadir,'referenceData',wrf_mesoscale_data_file))\n",
    "tower_10min = load_TTU_tower_10min_reference_data(os.path.join(datadir,'referenceData',tower_10min_data_file))\n",
    "rass = load_TTU_RASS_reference_data(os.path.join(datadir,'referenceData',rass_data_file))\n",
    "radar_scan0, radar_scan1 = load_TTU_radar_reference_data(os.path.join(datadir,'referenceData',radar_data_file))"
   ]
  },
  {
   "cell_type": "markdown",
   "metadata": {},
   "source": [
    "Calculate hourly averaged data"
   ]
  },
  {
   "cell_type": "code",
   "execution_count": null,
   "metadata": {},
   "outputs": [],
   "source": [
    "tower_1h = tower_10min.unstack().resample('1h').mean().stack()\n",
    "radar_scan0_1h = radar_scan0.unstack().resample('1h').mean().stack()\n",
    "radar_scan1_1h = radar_scan1.unstack().resample('1h').mean().stack()\n",
    "rass_1h = rass.unstack().resample('1h').mean().stack()\n",
    "wrf_1h = wrf.unstack().resample('1h').mean().stack()"
   ]
  },
  {
   "cell_type": "markdown",
   "metadata": {},
   "source": [
    "# Generate figures"
   ]
  },
  {
   "cell_type": "markdown",
   "metadata": {},
   "source": [
    "## Figure 12: Time history at hub height"
   ]
  },
  {
   "cell_type": "code",
   "execution_count": null,
   "metadata": {},
   "outputs": [],
   "source": [
    "fig,ax = plot_timehistory_at_height(\n",
    "    datasets={\n",
    "        'TTU tower': tower_10min,\n",
    "        'WRF mesoscale': wrf,\n",
    "        **df_10min\n",
    "    },\n",
    "    fields = ['wspd','wdir','thetav','TKEf'],\n",
    "    heights = hub_height,\n",
    "    fieldlimits={\n",
    "        'wspd':(5.,15.),\n",
    "        'wdir':(180,240),\n",
    "        'thetav':(285,300),\n",
    "        'TKEf':(0,3)\n",
    "    },\n",
    "    fieldlabels=my_fieldlabels,\n",
    "    # Specify time limits\n",
    "    timelimits=('2013-11-08 12:00:00','2013-11-09 12:00:00'),\n",
    "    # plot local time\n",
    "    #plot_local_time='%H%M',local_time_offset=-6,\n",
    "    labelsubplots=True,\n",
    "    datasetkwargs={\n",
    "        'TTU tower':{'linestyle':'','marker':'o','mfc':'none','markersize':6,'color':'tab:blue','markevery':2},\n",
    "        **sim_style\n",
    "    },\n",
    "    # Additional keyword arguments to personalize plotting style\n",
    "    linewidth=2,linestyle='-',marker=None,\n",
    ")\n",
    "\n",
    "for axi in ax:\n",
    "    axi.axvline(pd.to_datetime(sunrise)+ pd.to_timedelta('6h'),color='k',ls='--')\n",
    "    axi.axvline(pd.to_datetime(sunset)+ pd.to_timedelta('6h'),color='k',ls='--')\n",
    "\n",
    "#Place legend at the top\n",
    "handles, labels = ax[0].get_legend_handles_labels()\n",
    "\n",
    "\n",
    "leg = ax[0].legend(handles[-1::-1],labels[-1::-1],loc='lower left',bbox_to_anchor=(0.0,1.1,1.0,0.0),\n",
    "             borderaxespad=0,fontsize=13,ncol=3,mode='expand')\n",
    "leg.get_frame().set_edgecolor('k')\n",
    "\n",
    "# Adjust xaxis tick locations\n",
    "ax[-1].xaxis.set_minor_locator(mpl.dates.HourLocator(byhour=range(24),interval=3))\n",
    "ax[-1].xaxis.set_minor_formatter(mdates.DateFormatter('%H%M'))\n",
    "ax[-1].xaxis.set_major_locator(mpl.dates.AutoDateLocator(minticks=2,maxticks=3))\n",
    "ax[-1].xaxis.set_major_formatter(mdates.DateFormatter('\\n%m-%d'))\n",
    "\n",
    "#Move xs tick down slightly to avoid overlap with y ticks in ax[1]\n",
    "ax[-1].tick_params(axis='x', which='minor', pad=10)\n",
    "ax[-1].tick_params(axis='x', which='major', pad=10)\n",
    "ax[-1].set_xticks([])\n",
    "ax[-1].set_xlabel('UTC')\n",
    "\n",
    "\n",
    "#Save figure\n",
    "if save_figures:\n",
    "    figname = figname_prefix+'_mean_timehistory'\n",
    "    plt.savefig(os.path.join('Figures',figname+'.png'),bbox_inches='tight')\n",
    "    plt.savefig(os.path.join('Figures',figname+'.eps'),bbox_inches='tight')\n",
    "    plt.savefig(os.path.join('Figures',figname+'.pdf'),bbox_inches='tight')"
   ]
  },
  {
   "cell_type": "markdown",
   "metadata": {},
   "source": [
    "## Figure 13: Mean profiles"
   ]
  },
  {
   "cell_type": "code",
   "execution_count": null,
   "metadata": {},
   "outputs": [],
   "source": [
    "fig,ax = plot_profile(\n",
    "    datasets={\n",
    "        'long-range radar scan':radar_scan1_1h,\n",
    "        'short-range radar scan':radar_scan0_1h,\n",
    "        'RASS':rass_1h,\n",
    "        'TTU tower': tower_1h,\n",
    "        'WRF mesoscale': wrf_1h,\n",
    "        **df_1h\n",
    "    },\n",
    "    fields=['wspd','wdir','thetav','TKE'],\n",
    "    fieldlimits={\n",
    "        'wspd':(5.,20.),\n",
    "        'wdir':(180,300),\n",
    "        'theta':(290,310),\n",
    "        'TKE':(0,2)\n",
    "    },\n",
    "    fieldlabels=my_fieldlabels,\n",
    "    times=['2013-11-08 18:00:00','2013-11-08 22:00:00','2013-11-09 06:00:00'],\n",
    "    # Specify height limits\n",
    "    heightlimits=(0,2000),\n",
    "    # Stack results by dataset instead of times\n",
    "    stack_by_datasets=True,\n",
    "    # Change field order to have different fields correspond to different columns instead of rows\n",
    "    fieldorder='F',\n",
    "    datasetkwargs={'TTU tower':{'linestyle':'','marker':'o','mfc':'none','markersize':6,'color':'tab:blue'},\n",
    "                   'short-range radar scan':{'linestyle':'','marker':'x','mfc':'none','markersize':6,'color':'tab:blue'},\n",
    "                   'long-range radar scan':{'linestyle':'','marker':'^','mfc':'none','markersize':6,'color':'tab:blue'},\n",
    "                   'RASS':{'linestyle':'','marker':'d','mfc':'none','markersize':6,'color':'tab:blue'},\n",
    "                   **sim_style\n",
    "                  },\n",
    "    # Additional keyword arguments to personalize plotting style\n",
    "    linewidth=2,\n",
    "    labelsubplots=True,\n",
    ")\n",
    "\n",
    "# Set temperature limits\n",
    "ax[2,2].set_xlim([285,315])\n",
    "\n",
    "#Rescale yaxis\n",
    "for axi in np.asarray(ax[:,0]).ravel():\n",
    "    axi.set(yticklabels=['0','0.5','1.0','1.5','2.0'],ylabel='Height [km]')\n",
    "\n",
    "#Place legend at the top\n",
    "handles, labels = ax[0,0].get_legend_handles_labels()\n",
    "Thandles, Tlabels = ax[2,2].get_legend_handles_labels() # legend entry for Temperature\n",
    "ax[0,3].get_legend().remove()\n",
    "\n",
    "for (handle,label) in zip(Thandles,Tlabels):\n",
    "    if label not in labels:\n",
    "        labels.insert(0,label)\n",
    "        handles.insert(0,handle)\n",
    "\n",
    "\n",
    "leg = fig.legend(handles[-1::-1], labels[-1::-1], loc = 'lower left', bbox_to_anchor = (.125,.91,.775,0.0),\n",
    "         borderaxespad=0,ncol=3,fontsize=13,\n",
    "         bbox_transform = plt.gcf().transFigure,mode='expand')\n",
    "leg.get_frame().set_edgecolor('k')\n",
    "\n",
    "\n",
    "#Save figure\n",
    "if save_figures:\n",
    "    figname = figname_prefix+'_mean_profiles'\n",
    "    plt.savefig(os.path.join('Figures',figname+'.png'),bbox_inches='tight')\n",
    "    plt.savefig(os.path.join('Figures',figname+'.eps'),bbox_inches='tight')\n",
    "    plt.savefig(os.path.join('Figures',figname+'.pdf'),bbox_inches='tight')"
   ]
  }
 ],
 "metadata": {
  "kernelspec": {
   "display_name": "Python 3 (py3env)",
   "language": "python",
   "name": "py3env"
  },
  "language_info": {
   "codemirror_mode": {
    "name": "ipython",
    "version": 3
   },
   "file_extension": ".py",
   "mimetype": "text/x-python",
   "name": "python",
   "nbconvert_exporter": "python",
   "pygments_lexer": "ipython3",
   "version": "3.9.13"
  }
 },
 "nbformat": 4,
 "nbformat_minor": 2
}
