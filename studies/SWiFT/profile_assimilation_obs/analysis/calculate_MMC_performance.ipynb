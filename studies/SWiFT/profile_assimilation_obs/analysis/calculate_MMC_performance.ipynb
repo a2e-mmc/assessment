{
 "cells": [
  {
   "cell_type": "code",
   "execution_count": 1,
   "metadata": {},
   "outputs": [
    {
     "name": "stdout",
     "output_type": "stream",
     "text": [
      "The autoreload extension is already loaded. To reload it, use:\n",
      "  %reload_ext autoreload\n"
     ]
    }
   ],
   "source": [
    "%load_ext autoreload\n",
    "%autoreload 2\n",
    "%matplotlib inline"
   ]
  },
  {
   "cell_type": "markdown",
   "metadata": {},
   "source": [
    "# SWIFT PAT+OBS: Calculate MMC performance (Table 2)"
   ]
  },
  {
   "cell_type": "markdown",
   "metadata": {},
   "source": [
    "## I/O data"
   ]
  },
  {
   "cell_type": "code",
   "execution_count": 2,
   "metadata": {},
   "outputs": [],
   "source": [
    "simulations = {\n",
    "    'case A0': 'internal.ipa.obs.noT',\n",
    "    'case A1': 'internal.ipa.obs.Tassim',\n",
    "    'case An': 'internal.ipa.obs.allT',\n",
    "    'case B0': 'internal.dpa.obs.noT',\n",
    "    'case B1': 'internal.dpa.obs.Tassim',\n",
    "    'case Bn': 'internal.dpa.obs.allT',\n",
    "    'case Ca': 'internal.ipa.obs.wrfT',\n",
    "    'case Cb': 'internal.ipa.obs.wrfTadv',\n",
    "    'case R' : 'internal.ipa.wrf',  \n",
    "}"
   ]
  },
  {
   "cell_type": "code",
   "execution_count": 3,
   "metadata": {},
   "outputs": [],
   "source": [
    "datadir = '/scratch/dallaert/profile_assimilation_obs'"
   ]
  },
  {
   "cell_type": "markdown",
   "metadata": {},
   "source": [
    "## Some definitions"
   ]
  },
  {
   "cell_type": "code",
   "execution_count": 4,
   "metadata": {},
   "outputs": [],
   "source": [
    "# Dimensions of reference rotor span\n",
    "hubheight = 90       # Hub height of interest\n",
    "diameter  = 120   # Rotor diameter of interest"
   ]
  },
  {
   "cell_type": "code",
   "execution_count": 5,
   "metadata": {},
   "outputs": [],
   "source": [
    "# Gather statistics for selected fields\n",
    "selected_fields = ['wspd','wdir','thetav','thetav_gradient','alpha','psi','TKE','TI']\n",
    "\n",
    "# Metrics that will be considered\n",
    "selected_metrics = ['MAE','ME','STD','NMAE','MEAN']\n",
    "\n",
    "# Gather statistics for the entire day\n",
    "interval = '23h50min'"
   ]
  },
  {
   "cell_type": "markdown",
   "metadata": {},
   "source": [
    "## Prepare environment"
   ]
  },
  {
   "cell_type": "code",
   "execution_count": 6,
   "metadata": {},
   "outputs": [],
   "source": [
    "import os\n",
    "import pandas as pd\n",
    "import xarray as xr"
   ]
  },
  {
   "cell_type": "code",
   "execution_count": 7,
   "metadata": {},
   "outputs": [],
   "source": [
    "from helper_functions import calc_QOIs,calc_rotor_average"
   ]
  },
  {
   "cell_type": "markdown",
   "metadata": {},
   "source": [
    "## Load simulation data"
   ]
  },
  {
   "cell_type": "markdown",
   "metadata": {},
   "source": [
    "Load 10-min data"
   ]
  },
  {
   "cell_type": "code",
   "execution_count": 8,
   "metadata": {},
   "outputs": [
    {
     "name": "stdout",
     "output_type": "stream",
     "text": [
      "Processing case A0\n",
      "Processing case A1\n",
      "Processing case An\n",
      "Processing case B0\n",
      "Processing case B1\n",
      "Processing case Bn\n",
      "Processing case Ca\n",
      "Processing case Cb\n",
      "Processing case R\n",
      "CPU times: user 5.96 s, sys: 127 ms, total: 6.08 s\n",
      "Wall time: 6.31 s\n"
     ]
    }
   ],
   "source": [
    "%%time\n",
    "df_10min = {}\n",
    "for name,sim in simulations.items():\n",
    "    print('Processing '+name)\n",
    "    # Read 10min data\n",
    "    df_10min[name] = xr.open_dataset(os.path.join(datadir,sim,'probe1_10min.nc')).to_dataframe()\n",
    "    # Calculate some quantities of interest\n",
    "    calc_QOIs(df_10min[name])"
   ]
  },
  {
   "cell_type": "markdown",
   "metadata": {},
   "source": [
    "Calculate rotor-averaged quantities"
   ]
  },
  {
   "cell_type": "code",
   "execution_count": 10,
   "metadata": {},
   "outputs": [],
   "source": [
    "df_ravg = {}\n",
    "for sim in simulations:\n",
    "    df_ravg[sim] = calc_rotor_average(df_10min[sim],hubheight,diameter)"
   ]
  },
  {
   "cell_type": "markdown",
   "metadata": {},
   "source": [
    "## Load reference data"
   ]
  },
  {
   "cell_type": "markdown",
   "metadata": {},
   "source": [
    "Reference data:\n",
    "- **WRF mesoscale:** NetCDF file generated in `wrf_to_sowfa.ipynb`\n",
    "- **TTU tower (10-min statistics):** Dataset generated in `process_TTU_tower.ipynb` which can be found in the [a2e-mmc/assessment repository](https://github.com/a2e-mmc/assessment)"
   ]
  },
  {
   "cell_type": "code",
   "execution_count": 11,
   "metadata": {},
   "outputs": [],
   "source": [
    "from helper_functions import load_TTU_tower_reference_data"
   ]
  },
  {
   "cell_type": "markdown",
   "metadata": {},
   "source": [
    "Load reference data"
   ]
  },
  {
   "cell_type": "code",
   "execution_count": 12,
   "metadata": {},
   "outputs": [],
   "source": [
    "tower_10min = load_TTU_tower_reference_data('../TTU_tilt_corrected_20131108-09_10min.csv')"
   ]
  },
  {
   "cell_type": "markdown",
   "metadata": {},
   "source": [
    "Calculate rotor-averaged quantities"
   ]
  },
  {
   "cell_type": "code",
   "execution_count": 13,
   "metadata": {},
   "outputs": [],
   "source": [
    "df_ravg['tower'] = calc_rotor_average(tower_10min,hubheight,diameter)"
   ]
  },
  {
   "cell_type": "markdown",
   "metadata": {},
   "source": [
    "# Integral measures"
   ]
  },
  {
   "cell_type": "code",
   "execution_count": 14,
   "metadata": {},
   "outputs": [],
   "source": [
    "selected_times = pd.date_range('2013-11-08 12:00:00', '2013-11-09 11:49:00',freq=interval)"
   ]
  },
  {
   "cell_type": "code",
   "execution_count": 15,
   "metadata": {},
   "outputs": [],
   "source": [
    "# Create index\n",
    "midx = pd.MultiIndex.from_product([selected_times, # Selected times\n",
    "                                   selected_metrics,                        # Metrics\n",
    "                                   df_10min.keys()],                 # List of simulations including wrf\n",
    "                                  names=['datetime','metric','sim'])\n",
    "\n",
    "# Create field of NaNs to fill dataframe\n",
    "nanfield = np.nan*np.ones((midx.size,len(selected_fields)))\n",
    "\n",
    "# Create dataframe\n",
    "metrics = pd.DataFrame(nanfield,columns=selected_fields,index=midx)"
   ]
  },
  {
   "cell_type": "code",
   "execution_count": 16,
   "metadata": {},
   "outputs": [],
   "source": [
    "# Loop over different time periods\n",
    "for tstart in selected_times:\n",
    "    # Start and end of the period for which error metrics are calculated\n",
    "    tend   = tstart + pd.to_timedelta(interval)\n",
    "    \n",
    "    # Get observed rotor-averaged quantities for current period\n",
    "    obs = df_ravg['tower']\n",
    "    obs = obs.loc[(obs.index.get_level_values(0)>=tstart) &\\\n",
    "                   (obs.index.get_level_values(0)<=tend)].copy()\n",
    "    \n",
    "    # Loop over different datasets\n",
    "    for dfname in df_10min.keys():\n",
    "            \n",
    "        # Get simulated rotor-averaged quantities for current period\n",
    "        df  = df_ravg[dfname]\n",
    "        df  = df.loc[(df.index.get_level_values(0)>=tstart) &\\\n",
    "                                   (df.index.get_level_values(0)<=tend)].copy()\n",
    "        \n",
    "        # Loop over different quantities of interest\n",
    "        for field in selected_fields:\n",
    "            try:\n",
    "                # Compute metrics and store in dataframe\n",
    "                metrics.loc[(tstart,'MAE',dfname),field] = np.nanmean(np.abs(df[field].values-obs[field].values))\n",
    "                metrics.loc[(tstart,'NMAE',dfname),field] = np.nanmean(np.abs(df[field].values-obs[field].values))#/np.mean(obs[field].values)\n",
    "                metrics.loc[(tstart,'ME',dfname),field]  = (df[field].values-obs[field].values).mean()\n",
    "                metrics.loc[(tstart,'STD',dfname),field] = (df[field].values-obs[field].values).std()\n",
    "                metrics.loc[(tstart,'MEAN',dfname),field] = np.mean(df[field].values)\n",
    "            except KeyError:\n",
    "                pass"
   ]
  },
  {
   "cell_type": "code",
   "execution_count": 17,
   "metadata": {},
   "outputs": [],
   "source": [
    "metrics.loc[(slice(None),'NMAE',slice(None)),:] = metrics.loc[(slice(None),'NMAE',slice(None)),:]/metrics.xs('MAE',level='metric').xs('case R',level='sim')"
   ]
  },
  {
   "cell_type": "code",
   "execution_count": 18,
   "metadata": {},
   "outputs": [
    {
     "data": {
      "text/html": [
       "<div>\n",
       "<style scoped>\n",
       "    .dataframe tbody tr th:only-of-type {\n",
       "        vertical-align: middle;\n",
       "    }\n",
       "\n",
       "    .dataframe tbody tr th {\n",
       "        vertical-align: top;\n",
       "    }\n",
       "\n",
       "    .dataframe thead tr th {\n",
       "        text-align: left;\n",
       "    }\n",
       "\n",
       "    .dataframe thead tr:last-of-type th {\n",
       "        text-align: right;\n",
       "    }\n",
       "</style>\n",
       "<table border=\"1\" class=\"dataframe\">\n",
       "  <thead>\n",
       "    <tr>\n",
       "      <th></th>\n",
       "      <th colspan=\"2\" halign=\"left\">wspd</th>\n",
       "      <th colspan=\"2\" halign=\"left\">wdir</th>\n",
       "      <th colspan=\"2\" halign=\"left\">thetav</th>\n",
       "      <th colspan=\"2\" halign=\"left\">thetav_gradient</th>\n",
       "      <th colspan=\"2\" halign=\"left\">alpha</th>\n",
       "      <th colspan=\"2\" halign=\"left\">psi</th>\n",
       "      <th colspan=\"2\" halign=\"left\">TKE</th>\n",
       "      <th colspan=\"2\" halign=\"left\">TI</th>\n",
       "    </tr>\n",
       "    <tr>\n",
       "      <th>metric</th>\n",
       "      <th>MAE</th>\n",
       "      <th>NMAE</th>\n",
       "      <th>MAE</th>\n",
       "      <th>NMAE</th>\n",
       "      <th>MAE</th>\n",
       "      <th>NMAE</th>\n",
       "      <th>MAE</th>\n",
       "      <th>NMAE</th>\n",
       "      <th>MAE</th>\n",
       "      <th>NMAE</th>\n",
       "      <th>MAE</th>\n",
       "      <th>NMAE</th>\n",
       "      <th>MAE</th>\n",
       "      <th>NMAE</th>\n",
       "      <th>MAE</th>\n",
       "      <th>NMAE</th>\n",
       "    </tr>\n",
       "    <tr>\n",
       "      <th>sim</th>\n",
       "      <th></th>\n",
       "      <th></th>\n",
       "      <th></th>\n",
       "      <th></th>\n",
       "      <th></th>\n",
       "      <th></th>\n",
       "      <th></th>\n",
       "      <th></th>\n",
       "      <th></th>\n",
       "      <th></th>\n",
       "      <th></th>\n",
       "      <th></th>\n",
       "      <th></th>\n",
       "      <th></th>\n",
       "      <th></th>\n",
       "      <th></th>\n",
       "    </tr>\n",
       "  </thead>\n",
       "  <tbody>\n",
       "    <tr>\n",
       "      <th>case A0</th>\n",
       "      <td>0.883288</td>\n",
       "      <td>0.430925</td>\n",
       "      <td>4.408923</td>\n",
       "      <td>0.618943</td>\n",
       "      <td>2.197701</td>\n",
       "      <td>1.210752</td>\n",
       "      <td>17.245197</td>\n",
       "      <td>1.554157</td>\n",
       "      <td>0.144031</td>\n",
       "      <td>1.185629</td>\n",
       "      <td>0.130734</td>\n",
       "      <td>2.047477</td>\n",
       "      <td>0.549631</td>\n",
       "      <td>0.829234</td>\n",
       "      <td>0.038007</td>\n",
       "      <td>0.821444</td>\n",
       "    </tr>\n",
       "    <tr>\n",
       "      <th>case A1</th>\n",
       "      <td>0.847444</td>\n",
       "      <td>0.413438</td>\n",
       "      <td>3.637470</td>\n",
       "      <td>0.510643</td>\n",
       "      <td>0.187753</td>\n",
       "      <td>0.103436</td>\n",
       "      <td>6.963306</td>\n",
       "      <td>0.627541</td>\n",
       "      <td>0.098500</td>\n",
       "      <td>0.810828</td>\n",
       "      <td>0.076123</td>\n",
       "      <td>1.192195</td>\n",
       "      <td>0.516098</td>\n",
       "      <td>0.778642</td>\n",
       "      <td>0.032908</td>\n",
       "      <td>0.711246</td>\n",
       "    </tr>\n",
       "    <tr>\n",
       "      <th>case An</th>\n",
       "      <td>0.911127</td>\n",
       "      <td>0.444507</td>\n",
       "      <td>4.175735</td>\n",
       "      <td>0.586207</td>\n",
       "      <td>0.725997</td>\n",
       "      <td>0.399964</td>\n",
       "      <td>7.625325</td>\n",
       "      <td>0.687203</td>\n",
       "      <td>0.113002</td>\n",
       "      <td>0.930210</td>\n",
       "      <td>0.086915</td>\n",
       "      <td>1.361218</td>\n",
       "      <td>0.533658</td>\n",
       "      <td>0.805136</td>\n",
       "      <td>0.035336</td>\n",
       "      <td>0.763712</td>\n",
       "    </tr>\n",
       "    <tr>\n",
       "      <th>case B0</th>\n",
       "      <td>0.921151</td>\n",
       "      <td>0.449397</td>\n",
       "      <td>3.799755</td>\n",
       "      <td>0.533425</td>\n",
       "      <td>3.276718</td>\n",
       "      <td>1.805201</td>\n",
       "      <td>10.639901</td>\n",
       "      <td>0.958880</td>\n",
       "      <td>0.081845</td>\n",
       "      <td>0.673729</td>\n",
       "      <td>0.054248</td>\n",
       "      <td>0.849603</td>\n",
       "      <td>9.632690</td>\n",
       "      <td>14.532936</td>\n",
       "      <td>0.228975</td>\n",
       "      <td>4.948854</td>\n",
       "    </tr>\n",
       "    <tr>\n",
       "      <th>case B1</th>\n",
       "      <td>1.143158</td>\n",
       "      <td>0.557706</td>\n",
       "      <td>4.741517</td>\n",
       "      <td>0.665634</td>\n",
       "      <td>0.142493</td>\n",
       "      <td>0.078502</td>\n",
       "      <td>10.768585</td>\n",
       "      <td>0.970477</td>\n",
       "      <td>0.084101</td>\n",
       "      <td>0.692302</td>\n",
       "      <td>0.068601</td>\n",
       "      <td>1.074394</td>\n",
       "      <td>11.278208</td>\n",
       "      <td>17.015544</td>\n",
       "      <td>0.250851</td>\n",
       "      <td>5.421647</td>\n",
       "    </tr>\n",
       "    <tr>\n",
       "      <th>case Bn</th>\n",
       "      <td>0.533680</td>\n",
       "      <td>0.260364</td>\n",
       "      <td>2.114531</td>\n",
       "      <td>0.296847</td>\n",
       "      <td>0.798528</td>\n",
       "      <td>0.439923</td>\n",
       "      <td>1.749315</td>\n",
       "      <td>0.157650</td>\n",
       "      <td>0.067299</td>\n",
       "      <td>0.553987</td>\n",
       "      <td>0.039150</td>\n",
       "      <td>0.613145</td>\n",
       "      <td>2.302987</td>\n",
       "      <td>3.474540</td>\n",
       "      <td>0.084090</td>\n",
       "      <td>1.817431</td>\n",
       "    </tr>\n",
       "    <tr>\n",
       "      <th>case Ca</th>\n",
       "      <td>0.747630</td>\n",
       "      <td>0.364742</td>\n",
       "      <td>3.755228</td>\n",
       "      <td>0.527174</td>\n",
       "      <td>1.644795</td>\n",
       "      <td>0.906146</td>\n",
       "      <td>13.897430</td>\n",
       "      <td>1.252452</td>\n",
       "      <td>0.133928</td>\n",
       "      <td>1.102462</td>\n",
       "      <td>0.110795</td>\n",
       "      <td>1.735217</td>\n",
       "      <td>0.550701</td>\n",
       "      <td>0.830849</td>\n",
       "      <td>0.037754</td>\n",
       "      <td>0.815988</td>\n",
       "    </tr>\n",
       "    <tr>\n",
       "      <th>case Cb</th>\n",
       "      <td>0.931511</td>\n",
       "      <td>0.454451</td>\n",
       "      <td>4.271722</td>\n",
       "      <td>0.599682</td>\n",
       "      <td>1.811479</td>\n",
       "      <td>0.997975</td>\n",
       "      <td>12.023223</td>\n",
       "      <td>1.083547</td>\n",
       "      <td>0.134703</td>\n",
       "      <td>1.108847</td>\n",
       "      <td>0.104677</td>\n",
       "      <td>1.639394</td>\n",
       "      <td>0.527257</td>\n",
       "      <td>0.795477</td>\n",
       "      <td>0.029096</td>\n",
       "      <td>0.628860</td>\n",
       "    </tr>\n",
       "    <tr>\n",
       "      <th>case R</th>\n",
       "      <td>2.049749</td>\n",
       "      <td>1.000000</td>\n",
       "      <td>7.123313</td>\n",
       "      <td>1.000000</td>\n",
       "      <td>1.815154</td>\n",
       "      <td>1.000000</td>\n",
       "      <td>11.096176</td>\n",
       "      <td>1.000000</td>\n",
       "      <td>0.121480</td>\n",
       "      <td>1.000000</td>\n",
       "      <td>0.063851</td>\n",
       "      <td>1.000000</td>\n",
       "      <td>0.662818</td>\n",
       "      <td>1.000000</td>\n",
       "      <td>0.046268</td>\n",
       "      <td>1.000000</td>\n",
       "    </tr>\n",
       "  </tbody>\n",
       "</table>\n",
       "</div>"
      ],
      "text/plain": [
       "             wspd                wdir              thetav            \\\n",
       "metric        MAE      NMAE       MAE      NMAE       MAE      NMAE   \n",
       "sim                                                                   \n",
       "case A0  0.883288  0.430925  4.408923  0.618943  2.197701  1.210752   \n",
       "case A1  0.847444  0.413438  3.637470  0.510643  0.187753  0.103436   \n",
       "case An  0.911127  0.444507  4.175735  0.586207  0.725997  0.399964   \n",
       "case B0  0.921151  0.449397  3.799755  0.533425  3.276718  1.805201   \n",
       "case B1  1.143158  0.557706  4.741517  0.665634  0.142493  0.078502   \n",
       "case Bn  0.533680  0.260364  2.114531  0.296847  0.798528  0.439923   \n",
       "case Ca  0.747630  0.364742  3.755228  0.527174  1.644795  0.906146   \n",
       "case Cb  0.931511  0.454451  4.271722  0.599682  1.811479  0.997975   \n",
       "case R   2.049749  1.000000  7.123313  1.000000  1.815154  1.000000   \n",
       "\n",
       "        thetav_gradient               alpha                 psi            \\\n",
       "metric              MAE      NMAE       MAE      NMAE       MAE      NMAE   \n",
       "sim                                                                         \n",
       "case A0       17.245197  1.554157  0.144031  1.185629  0.130734  2.047477   \n",
       "case A1        6.963306  0.627541  0.098500  0.810828  0.076123  1.192195   \n",
       "case An        7.625325  0.687203  0.113002  0.930210  0.086915  1.361218   \n",
       "case B0       10.639901  0.958880  0.081845  0.673729  0.054248  0.849603   \n",
       "case B1       10.768585  0.970477  0.084101  0.692302  0.068601  1.074394   \n",
       "case Bn        1.749315  0.157650  0.067299  0.553987  0.039150  0.613145   \n",
       "case Ca       13.897430  1.252452  0.133928  1.102462  0.110795  1.735217   \n",
       "case Cb       12.023223  1.083547  0.134703  1.108847  0.104677  1.639394   \n",
       "case R        11.096176  1.000000  0.121480  1.000000  0.063851  1.000000   \n",
       "\n",
       "               TKE                   TI            \n",
       "metric         MAE       NMAE       MAE      NMAE  \n",
       "sim                                                \n",
       "case A0   0.549631   0.829234  0.038007  0.821444  \n",
       "case A1   0.516098   0.778642  0.032908  0.711246  \n",
       "case An   0.533658   0.805136  0.035336  0.763712  \n",
       "case B0   9.632690  14.532936  0.228975  4.948854  \n",
       "case B1  11.278208  17.015544  0.250851  5.421647  \n",
       "case Bn   2.302987   3.474540  0.084090  1.817431  \n",
       "case Ca   0.550701   0.830849  0.037754  0.815988  \n",
       "case Cb   0.527257   0.795477  0.029096  0.628860  \n",
       "case R    0.662818   1.000000  0.046268  1.000000  "
      ]
     },
     "execution_count": 18,
     "metadata": {},
     "output_type": "execute_result"
    }
   ],
   "source": [
    "metrics.xs('2013-11-08 12:00:00',level='datetime').loc[(('MAE','NMAE'),slice(None)),:].unstack(level=0)"
   ]
  },
  {
   "cell_type": "code",
   "execution_count": null,
   "metadata": {},
   "outputs": [],
   "source": []
  }
 ],
 "metadata": {
  "kernelspec": {
   "display_name": "Python 3 (py3env)",
   "language": "python",
   "name": "py3env"
  },
  "language_info": {
   "codemirror_mode": {
    "name": "ipython",
    "version": 3
   },
   "file_extension": ".py",
   "mimetype": "text/x-python",
   "name": "python",
   "nbconvert_exporter": "python",
   "pygments_lexer": "ipython3",
   "version": "3.9.13"
  }
 },
 "nbformat": 4,
 "nbformat_minor": 2
}
