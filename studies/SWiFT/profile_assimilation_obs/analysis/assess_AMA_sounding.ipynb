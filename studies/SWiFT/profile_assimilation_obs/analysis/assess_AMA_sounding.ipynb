{
 "cells": [
  {
   "cell_type": "code",
   "execution_count": 1,
   "metadata": {},
   "outputs": [
    {
     "name": "stdout",
     "output_type": "stream",
     "text": [
      "The autoreload extension is already loaded. To reload it, use:\n",
      "  %reload_ext autoreload\n"
     ]
    }
   ],
   "source": [
    "%load_ext autoreload\n",
    "%autoreload 2"
   ]
  },
  {
   "cell_type": "code",
   "execution_count": 2,
   "metadata": {},
   "outputs": [],
   "source": [
    "%matplotlib inline\n",
    "import os, sys\n",
    "import numpy as np\n",
    "import matplotlib.pyplot as plt\n",
    "import pandas as pd\n",
    "import xarray"
   ]
  },
  {
   "cell_type": "code",
   "execution_count": 3,
   "metadata": {},
   "outputs": [],
   "source": [
    "# manually add a2e-mmc repos to PYTHONPATH if needed\n",
    "module_path = os.path.join(os.environ['HOME'],'tools','a2e-mmc')\n",
    "if module_path not in sys.path:\n",
    "    sys.path.append(module_path)"
   ]
  },
  {
   "cell_type": "code",
   "execution_count": 4,
   "metadata": {},
   "outputs": [],
   "source": [
    "from mmctools.plotting import plot_profile\n",
    "from mmctools.helper_functions import calc_wind, T_to_Tv, theta"
   ]
  },
  {
   "cell_type": "markdown",
   "metadata": {},
   "source": [
    "Define some physical constants"
   ]
  },
  {
   "cell_type": "code",
   "execution_count": 5,
   "metadata": {},
   "outputs": [],
   "source": [
    "import matplotlib as mpl\n",
    "mpl.rcParams['xtick.labelsize'] = 16\n",
    "mpl.rcParams['ytick.labelsize'] = 16\n",
    "mpl.rcParams['axes.labelsize']  = 16"
   ]
  },
  {
   "cell_type": "markdown",
   "metadata": {},
   "source": [
    "# SWIFT profile assimilation + obs study: Assess Amarillo sounding\n",
    "written by [Dries Allaerts](mailto:dries.allaerts@nrel.gov)\n",
    "\n",
    "Assess Amarillo sounding data which is used to specify the initial potential temperature profile. This notebook depends on:\n",
    "- WRF data, generated in `wrf_to_sowfa.ipynb`,\n",
    "- TTU tower data, generated in `process_TTU_tower.ipynb`"
   ]
  },
  {
   "cell_type": "markdown",
   "metadata": {},
   "source": [
    "Main directories on Eagle"
   ]
  },
  {
   "cell_type": "code",
   "execution_count": 6,
   "metadata": {},
   "outputs": [],
   "source": [
    "datadir = '/projects/mmc/dallaert/profile_assimilation_obs/'\n",
    "referencedir = '/projects/mmc/dallaert/referenceData/'"
   ]
  },
  {
   "cell_type": "markdown",
   "metadata": {},
   "source": [
    "## Load observation data"
   ]
  },
  {
   "cell_type": "code",
   "execution_count": 7,
   "metadata": {},
   "outputs": [],
   "source": [
    "all_data = 'TTU_obs_QC_20131108.csv'"
   ]
  },
  {
   "cell_type": "code",
   "execution_count": 8,
   "metadata": {},
   "outputs": [],
   "source": [
    "df = pd.read_csv(os.path.join(referencedir,all_data),parse_dates=True,index_col=['datetime','height'])"
   ]
  },
  {
   "cell_type": "code",
   "execution_count": 9,
   "metadata": {},
   "outputs": [
    {
     "data": {
      "text/html": [
       "<div>\n",
       "<style scoped>\n",
       "    .dataframe tbody tr th:only-of-type {\n",
       "        vertical-align: middle;\n",
       "    }\n",
       "\n",
       "    .dataframe tbody tr th {\n",
       "        vertical-align: top;\n",
       "    }\n",
       "\n",
       "    .dataframe thead th {\n",
       "        text-align: right;\n",
       "    }\n",
       "</style>\n",
       "<table border=\"1\" class=\"dataframe\">\n",
       "  <thead>\n",
       "    <tr style=\"text-align: right;\">\n",
       "      <th></th>\n",
       "      <th></th>\n",
       "      <th>t_index</th>\n",
       "      <th>scan_type</th>\n",
       "      <th>wspd</th>\n",
       "      <th>wdir</th>\n",
       "      <th>u</th>\n",
       "      <th>v</th>\n",
       "    </tr>\n",
       "    <tr>\n",
       "      <th>datetime</th>\n",
       "      <th>height</th>\n",
       "      <th></th>\n",
       "      <th></th>\n",
       "      <th></th>\n",
       "      <th></th>\n",
       "      <th></th>\n",
       "      <th></th>\n",
       "    </tr>\n",
       "  </thead>\n",
       "  <tbody>\n",
       "    <tr>\n",
       "      <th rowspan=\"5\" valign=\"top\">2013-11-08 12:00:00</th>\n",
       "      <th>0.9</th>\n",
       "      <td>0.0</td>\n",
       "      <td>-1.0</td>\n",
       "      <td>1.225746</td>\n",
       "      <td>219.005685</td>\n",
       "      <td>0.771481</td>\n",
       "      <td>0.952507</td>\n",
       "    </tr>\n",
       "    <tr>\n",
       "      <th>2.4</th>\n",
       "      <td>0.0</td>\n",
       "      <td>-1.0</td>\n",
       "      <td>1.772110</td>\n",
       "      <td>225.353123</td>\n",
       "      <td>1.260770</td>\n",
       "      <td>1.245325</td>\n",
       "    </tr>\n",
       "    <tr>\n",
       "      <th>4.0</th>\n",
       "      <td>0.0</td>\n",
       "      <td>-1.0</td>\n",
       "      <td>2.046332</td>\n",
       "      <td>229.267605</td>\n",
       "      <td>1.550640</td>\n",
       "      <td>1.335287</td>\n",
       "    </tr>\n",
       "    <tr>\n",
       "      <th>10.1</th>\n",
       "      <td>0.0</td>\n",
       "      <td>-1.0</td>\n",
       "      <td>2.979477</td>\n",
       "      <td>233.780026</td>\n",
       "      <td>2.403706</td>\n",
       "      <td>1.760534</td>\n",
       "    </tr>\n",
       "    <tr>\n",
       "      <th>16.8</th>\n",
       "      <td>0.0</td>\n",
       "      <td>-1.0</td>\n",
       "      <td>3.944645</td>\n",
       "      <td>239.036134</td>\n",
       "      <td>3.382502</td>\n",
       "      <td>2.029510</td>\n",
       "    </tr>\n",
       "  </tbody>\n",
       "</table>\n",
       "</div>"
      ],
      "text/plain": [
       "                            t_index  scan_type      wspd        wdir  \\\n",
       "datetime            height                                             \n",
       "2013-11-08 12:00:00 0.9         0.0       -1.0  1.225746  219.005685   \n",
       "                    2.4         0.0       -1.0  1.772110  225.353123   \n",
       "                    4.0         0.0       -1.0  2.046332  229.267605   \n",
       "                    10.1        0.0       -1.0  2.979477  233.780026   \n",
       "                    16.8        0.0       -1.0  3.944645  239.036134   \n",
       "\n",
       "                                   u         v  \n",
       "datetime            height                      \n",
       "2013-11-08 12:00:00 0.9     0.771481  0.952507  \n",
       "                    2.4     1.260770  1.245325  \n",
       "                    4.0     1.550640  1.335287  \n",
       "                    10.1    2.403706  1.760534  \n",
       "                    16.8    3.382502  2.029510  "
      ]
     },
     "execution_count": 9,
     "metadata": {},
     "output_type": "execute_result"
    }
   ],
   "source": [
    "df.head()"
   ]
  },
  {
   "cell_type": "code",
   "execution_count": 10,
   "metadata": {},
   "outputs": [],
   "source": [
    "df = df.xs('2013-11-08 12:00:00',level='datetime')"
   ]
  },
  {
   "cell_type": "code",
   "execution_count": 11,
   "metadata": {},
   "outputs": [],
   "source": [
    "radar_scan0 = df.loc[df['scan_type']==0].copy()\n",
    "radar_scan1 = df.loc[df['scan_type']==1].copy()"
   ]
  },
  {
   "cell_type": "markdown",
   "metadata": {},
   "source": [
    "## Load Amarillo sounding data"
   ]
  },
  {
   "cell_type": "markdown",
   "metadata": {},
   "source": [
    "Load sounding data from Amarillo airport observation station (data downloaded from http://weather.uwyo.edu/cgi-bin/sounding?region=naconf&TYPE=TEXT%3ALIST&YEAR=2013&MONTH=11&FROM=0800&TO=1000&STNM=72363)"
   ]
  },
  {
   "cell_type": "code",
   "execution_count": 12,
   "metadata": {},
   "outputs": [],
   "source": [
    "datetime = '2013-11-08 12:00:00'\n",
    "soundingdata = 'sounding.AMA/AMA_'+datetime.replace(' ','_')\n",
    "ama_sounding = np.loadtxt(referencedir+soundingdata,skiprows=8)"
   ]
  },
  {
   "cell_type": "code",
   "execution_count": 13,
   "metadata": {},
   "outputs": [],
   "source": [
    "zsurface = 1099\n",
    "knot_to_mpers = 0.514444"
   ]
  },
  {
   "cell_type": "code",
   "execution_count": 14,
   "metadata": {},
   "outputs": [],
   "source": [
    "data = {}\n",
    "data['height'] = ama_sounding[:,1]-zsurface\n",
    "data['thetav'] = ama_sounding[:,10]\n",
    "data['wspd'] = ama_sounding[:,7] * knot_to_mpers\n",
    "data['wdir'] = ama_sounding[:,6]\n",
    "ama = pd.DataFrame(data=data)\n",
    "ama['datetime'] = pd.to_datetime(datetime)\n",
    "ama.set_index(['datetime','height'],inplace=True)"
   ]
  },
  {
   "cell_type": "code",
   "execution_count": 15,
   "metadata": {},
   "outputs": [
    {
     "data": {
      "text/html": [
       "<div>\n",
       "<style scoped>\n",
       "    .dataframe tbody tr th:only-of-type {\n",
       "        vertical-align: middle;\n",
       "    }\n",
       "\n",
       "    .dataframe tbody tr th {\n",
       "        vertical-align: top;\n",
       "    }\n",
       "\n",
       "    .dataframe thead th {\n",
       "        text-align: right;\n",
       "    }\n",
       "</style>\n",
       "<table border=\"1\" class=\"dataframe\">\n",
       "  <thead>\n",
       "    <tr style=\"text-align: right;\">\n",
       "      <th></th>\n",
       "      <th></th>\n",
       "      <th>thetav</th>\n",
       "      <th>wspd</th>\n",
       "      <th>wdir</th>\n",
       "    </tr>\n",
       "    <tr>\n",
       "      <th>datetime</th>\n",
       "      <th>height</th>\n",
       "      <th></th>\n",
       "      <th></th>\n",
       "      <th></th>\n",
       "    </tr>\n",
       "  </thead>\n",
       "  <tbody>\n",
       "    <tr>\n",
       "      <th rowspan=\"5\" valign=\"top\">2013-11-08 12:00:00</th>\n",
       "      <th>0.0</th>\n",
       "      <td>287.4</td>\n",
       "      <td>8.745548</td>\n",
       "      <td>215.0</td>\n",
       "    </tr>\n",
       "    <tr>\n",
       "      <th>54.0</th>\n",
       "      <td>288.9</td>\n",
       "      <td>10.288880</td>\n",
       "      <td>217.0</td>\n",
       "    </tr>\n",
       "    <tr>\n",
       "      <th>267.0</th>\n",
       "      <td>295.1</td>\n",
       "      <td>16.462208</td>\n",
       "      <td>224.0</td>\n",
       "    </tr>\n",
       "    <tr>\n",
       "      <th>343.0</th>\n",
       "      <td>296.2</td>\n",
       "      <td>18.519984</td>\n",
       "      <td>227.0</td>\n",
       "    </tr>\n",
       "    <tr>\n",
       "      <th>425.0</th>\n",
       "      <td>298.4</td>\n",
       "      <td>21.092204</td>\n",
       "      <td>230.0</td>\n",
       "    </tr>\n",
       "  </tbody>\n",
       "</table>\n",
       "</div>"
      ],
      "text/plain": [
       "                            thetav       wspd   wdir\n",
       "datetime            height                          \n",
       "2013-11-08 12:00:00 0.0      287.4   8.745548  215.0\n",
       "                    54.0     288.9  10.288880  217.0\n",
       "                    267.0    295.1  16.462208  224.0\n",
       "                    343.0    296.2  18.519984  227.0\n",
       "                    425.0    298.4  21.092204  230.0"
      ]
     },
     "execution_count": 15,
     "metadata": {},
     "output_type": "execute_result"
    }
   ],
   "source": [
    "ama.head()"
   ]
  },
  {
   "cell_type": "markdown",
   "metadata": {},
   "source": [
    "## Load TTU tower data"
   ]
  },
  {
   "cell_type": "markdown",
   "metadata": {},
   "source": [
    "Load tower data for surface boundary conditions. The dataset is created within the notebook \"process_TTU_tower.ipynb\" which can be found in the [a2e-mmc/assessment repository](https://github.com/a2e-mmc/assessment)"
   ]
  },
  {
   "cell_type": "code",
   "execution_count": 16,
   "metadata": {},
   "outputs": [],
   "source": [
    "towerdata = 'TTU_tilt_corrected_20131108-09_10min.csv'"
   ]
  },
  {
   "cell_type": "code",
   "execution_count": 17,
   "metadata": {},
   "outputs": [],
   "source": [
    "tower = pd.read_csv(os.path.join(referencedir,towerdata),parse_dates=True,index_col=['datetime','height'])"
   ]
  },
  {
   "cell_type": "code",
   "execution_count": 18,
   "metadata": {},
   "outputs": [
    {
     "data": {
      "text/html": [
       "<div>\n",
       "<style scoped>\n",
       "    .dataframe tbody tr th:only-of-type {\n",
       "        vertical-align: middle;\n",
       "    }\n",
       "\n",
       "    .dataframe tbody tr th {\n",
       "        vertical-align: top;\n",
       "    }\n",
       "\n",
       "    .dataframe thead th {\n",
       "        text-align: right;\n",
       "    }\n",
       "</style>\n",
       "<table border=\"1\" class=\"dataframe\">\n",
       "  <thead>\n",
       "    <tr style=\"text-align: right;\">\n",
       "      <th></th>\n",
       "      <th></th>\n",
       "      <th>RH</th>\n",
       "      <th>T</th>\n",
       "      <th>Ts</th>\n",
       "      <th>p</th>\n",
       "      <th>theta</th>\n",
       "      <th>thetas</th>\n",
       "      <th>u</th>\n",
       "      <th>v</th>\n",
       "      <th>w</th>\n",
       "      <th>wspd</th>\n",
       "      <th>...</th>\n",
       "      <th>vv</th>\n",
       "      <th>ww</th>\n",
       "      <th>uv</th>\n",
       "      <th>vw</th>\n",
       "      <th>uw</th>\n",
       "      <th>Tw</th>\n",
       "      <th>thetaw</th>\n",
       "      <th>u*</th>\n",
       "      <th>TKE</th>\n",
       "      <th>TI</th>\n",
       "    </tr>\n",
       "    <tr>\n",
       "      <th>datetime</th>\n",
       "      <th>height</th>\n",
       "      <th></th>\n",
       "      <th></th>\n",
       "      <th></th>\n",
       "      <th></th>\n",
       "      <th></th>\n",
       "      <th></th>\n",
       "      <th></th>\n",
       "      <th></th>\n",
       "      <th></th>\n",
       "      <th></th>\n",
       "      <th></th>\n",
       "      <th></th>\n",
       "      <th></th>\n",
       "      <th></th>\n",
       "      <th></th>\n",
       "      <th></th>\n",
       "      <th></th>\n",
       "      <th></th>\n",
       "      <th></th>\n",
       "      <th></th>\n",
       "      <th></th>\n",
       "    </tr>\n",
       "  </thead>\n",
       "  <tbody>\n",
       "    <tr>\n",
       "      <th rowspan=\"5\" valign=\"top\">2013-11-08</th>\n",
       "      <th>0.9</th>\n",
       "      <td>26.186</td>\n",
       "      <td>284.794</td>\n",
       "      <td>289.410000</td>\n",
       "      <td>908.547754</td>\n",
       "      <td>292.713920</td>\n",
       "      <td>297.458288</td>\n",
       "      <td>-0.138929</td>\n",
       "      <td>2.637817</td>\n",
       "      <td>0.074016</td>\n",
       "      <td>2.641473</td>\n",
       "      <td>...</td>\n",
       "      <td>0.015000</td>\n",
       "      <td>0.008343</td>\n",
       "      <td>0.0</td>\n",
       "      <td>0.0</td>\n",
       "      <td>0.0</td>\n",
       "      <td>0.0</td>\n",
       "      <td>0.0</td>\n",
       "      <td>0.0</td>\n",
       "      <td>0.012876</td>\n",
       "      <td>0.048324</td>\n",
       "    </tr>\n",
       "    <tr>\n",
       "      <th>2.4</th>\n",
       "      <td>25.810</td>\n",
       "      <td>284.932</td>\n",
       "      <td>290.979994</td>\n",
       "      <td>908.723508</td>\n",
       "      <td>292.839558</td>\n",
       "      <td>299.055399</td>\n",
       "      <td>-0.601111</td>\n",
       "      <td>2.783204</td>\n",
       "      <td>0.487330</td>\n",
       "      <td>2.847378</td>\n",
       "      <td>...</td>\n",
       "      <td>0.165325</td>\n",
       "      <td>0.078520</td>\n",
       "      <td>0.0</td>\n",
       "      <td>0.0</td>\n",
       "      <td>0.0</td>\n",
       "      <td>0.0</td>\n",
       "      <td>0.0</td>\n",
       "      <td>0.0</td>\n",
       "      <td>0.289067</td>\n",
       "      <td>0.126433</td>\n",
       "    </tr>\n",
       "    <tr>\n",
       "      <th>4.0</th>\n",
       "      <td>25.380</td>\n",
       "      <td>285.166</td>\n",
       "      <td>287.520000</td>\n",
       "      <td>908.215548</td>\n",
       "      <td>293.126923</td>\n",
       "      <td>295.546639</td>\n",
       "      <td>0.416792</td>\n",
       "      <td>4.043940</td>\n",
       "      <td>0.295800</td>\n",
       "      <td>4.065362</td>\n",
       "      <td>...</td>\n",
       "      <td>0.269958</td>\n",
       "      <td>0.003119</td>\n",
       "      <td>0.0</td>\n",
       "      <td>0.0</td>\n",
       "      <td>0.0</td>\n",
       "      <td>0.0</td>\n",
       "      <td>0.0</td>\n",
       "      <td>0.0</td>\n",
       "      <td>0.141290</td>\n",
       "      <td>0.117591</td>\n",
       "    </tr>\n",
       "    <tr>\n",
       "      <th>10.1</th>\n",
       "      <td>25.264</td>\n",
       "      <td>285.298</td>\n",
       "      <td>287.250000</td>\n",
       "      <td>907.611414</td>\n",
       "      <td>293.318423</td>\n",
       "      <td>295.325299</td>\n",
       "      <td>-0.276479</td>\n",
       "      <td>5.227110</td>\n",
       "      <td>-0.418065</td>\n",
       "      <td>5.234417</td>\n",
       "      <td>...</td>\n",
       "      <td>0.027879</td>\n",
       "      <td>0.221537</td>\n",
       "      <td>0.0</td>\n",
       "      <td>0.0</td>\n",
       "      <td>0.0</td>\n",
       "      <td>0.0</td>\n",
       "      <td>0.0</td>\n",
       "      <td>0.0</td>\n",
       "      <td>0.127415</td>\n",
       "      <td>0.032939</td>\n",
       "    </tr>\n",
       "    <tr>\n",
       "      <th>16.8</th>\n",
       "      <td>24.934</td>\n",
       "      <td>285.414</td>\n",
       "      <td>287.610000</td>\n",
       "      <td>907.307654</td>\n",
       "      <td>293.465778</td>\n",
       "      <td>295.723729</td>\n",
       "      <td>0.034364</td>\n",
       "      <td>5.908367</td>\n",
       "      <td>-0.173836</td>\n",
       "      <td>5.908467</td>\n",
       "      <td>...</td>\n",
       "      <td>0.054370</td>\n",
       "      <td>0.019302</td>\n",
       "      <td>0.0</td>\n",
       "      <td>0.0</td>\n",
       "      <td>0.0</td>\n",
       "      <td>0.0</td>\n",
       "      <td>0.0</td>\n",
       "      <td>0.0</td>\n",
       "      <td>0.041629</td>\n",
       "      <td>0.040432</td>\n",
       "    </tr>\n",
       "  </tbody>\n",
       "</table>\n",
       "<p>5 rows × 22 columns</p>\n",
       "</div>"
      ],
      "text/plain": [
       "                       RH        T          Ts           p       theta  \\\n",
       "datetime   height                                                        \n",
       "2013-11-08 0.9     26.186  284.794  289.410000  908.547754  292.713920   \n",
       "           2.4     25.810  284.932  290.979994  908.723508  292.839558   \n",
       "           4.0     25.380  285.166  287.520000  908.215548  293.126923   \n",
       "           10.1    25.264  285.298  287.250000  907.611414  293.318423   \n",
       "           16.8    24.934  285.414  287.610000  907.307654  293.465778   \n",
       "\n",
       "                       thetas         u         v         w      wspd  ...  \\\n",
       "datetime   height                                                      ...   \n",
       "2013-11-08 0.9     297.458288 -0.138929  2.637817  0.074016  2.641473  ...   \n",
       "           2.4     299.055399 -0.601111  2.783204  0.487330  2.847378  ...   \n",
       "           4.0     295.546639  0.416792  4.043940  0.295800  4.065362  ...   \n",
       "           10.1    295.325299 -0.276479  5.227110 -0.418065  5.234417  ...   \n",
       "           16.8    295.723729  0.034364  5.908367 -0.173836  5.908467  ...   \n",
       "\n",
       "                         vv        ww   uv   vw   uw   Tw  thetaw   u*  \\\n",
       "datetime   height                                                        \n",
       "2013-11-08 0.9     0.015000  0.008343  0.0  0.0  0.0  0.0     0.0  0.0   \n",
       "           2.4     0.165325  0.078520  0.0  0.0  0.0  0.0     0.0  0.0   \n",
       "           4.0     0.269958  0.003119  0.0  0.0  0.0  0.0     0.0  0.0   \n",
       "           10.1    0.027879  0.221537  0.0  0.0  0.0  0.0     0.0  0.0   \n",
       "           16.8    0.054370  0.019302  0.0  0.0  0.0  0.0     0.0  0.0   \n",
       "\n",
       "                        TKE        TI  \n",
       "datetime   height                      \n",
       "2013-11-08 0.9     0.012876  0.048324  \n",
       "           2.4     0.289067  0.126433  \n",
       "           4.0     0.141290  0.117591  \n",
       "           10.1    0.127415  0.032939  \n",
       "           16.8    0.041629  0.040432  \n",
       "\n",
       "[5 rows x 22 columns]"
      ]
     },
     "execution_count": 18,
     "metadata": {},
     "output_type": "execute_result"
    }
   ],
   "source": [
    "tower.head()"
   ]
  },
  {
   "cell_type": "code",
   "execution_count": 19,
   "metadata": {},
   "outputs": [
    {
     "data": {
      "text/plain": [
       "Index(['RH', 'T', 'Ts', 'p', 'theta', 'thetas', 'u', 'v', 'w', 'wspd', 'wdir',\n",
       "       'uu', 'vv', 'ww', 'uv', 'vw', 'uw', 'Tw', 'thetaw', 'u*', 'TKE', 'TI'],\n",
       "      dtype='object')"
      ]
     },
     "execution_count": 19,
     "metadata": {},
     "output_type": "execute_result"
    }
   ],
   "source": [
    "tower.columns"
   ]
  },
  {
   "cell_type": "code",
   "execution_count": 20,
   "metadata": {},
   "outputs": [],
   "source": [
    "tower['Tv'] = T_to_Tv(tower['T'],p=tower['p'],RH=tower['RH'])\n",
    "tower['thetav'] = theta(tower['Tv'],tower['p'])"
   ]
  },
  {
   "cell_type": "markdown",
   "metadata": {},
   "source": [
    "## Load WRF data"
   ]
  },
  {
   "cell_type": "code",
   "execution_count": 21,
   "metadata": {},
   "outputs": [],
   "source": [
    "WRFdata = 'WRF_20131108-09.nc'\n",
    "wrf = xarray.open_dataset(os.path.join(referencedir,WRFdata)).to_dataframe()"
   ]
  },
  {
   "cell_type": "code",
   "execution_count": 22,
   "metadata": {},
   "outputs": [],
   "source": [
    "# Convert to standard names\n",
    "wrf.rename({'U':'u','V':'v','W':'w','UST':'u*','theta':'thetav'},\n",
    "           axis='columns',inplace=True)"
   ]
  },
  {
   "cell_type": "code",
   "execution_count": 23,
   "metadata": {},
   "outputs": [],
   "source": [
    "# Compute wind speed and wind direction\n",
    "wrf['wspd'], wrf['wdir'] = calc_wind(wrf)"
   ]
  },
  {
   "cell_type": "code",
   "execution_count": 24,
   "metadata": {},
   "outputs": [
    {
     "data": {
      "text/html": [
       "<div>\n",
       "<style scoped>\n",
       "    .dataframe tbody tr th:only-of-type {\n",
       "        vertical-align: middle;\n",
       "    }\n",
       "\n",
       "    .dataframe tbody tr th {\n",
       "        vertical-align: top;\n",
       "    }\n",
       "\n",
       "    .dataframe thead th {\n",
       "        text-align: right;\n",
       "    }\n",
       "</style>\n",
       "<table border=\"1\" class=\"dataframe\">\n",
       "  <thead>\n",
       "    <tr style=\"text-align: right;\">\n",
       "      <th></th>\n",
       "      <th></th>\n",
       "      <th>U10</th>\n",
       "      <th>V10</th>\n",
       "      <th>T2</th>\n",
       "      <th>TSK</th>\n",
       "      <th>u*</th>\n",
       "      <th>PSFC</th>\n",
       "      <th>HFX</th>\n",
       "      <th>LH</th>\n",
       "      <th>MUU</th>\n",
       "      <th>MUV</th>\n",
       "      <th>...</th>\n",
       "      <th>RV_TEND_PGF</th>\n",
       "      <th>RV_TEND_COR</th>\n",
       "      <th>RV_TEND_PHYS</th>\n",
       "      <th>T_TEND_ADV</th>\n",
       "      <th>wt</th>\n",
       "      <th>L0</th>\n",
       "      <th>thetaSK</th>\n",
       "      <th>theta2</th>\n",
       "      <th>wspd</th>\n",
       "      <th>wdir</th>\n",
       "    </tr>\n",
       "    <tr>\n",
       "      <th>Time</th>\n",
       "      <th>height</th>\n",
       "      <th></th>\n",
       "      <th></th>\n",
       "      <th></th>\n",
       "      <th></th>\n",
       "      <th></th>\n",
       "      <th></th>\n",
       "      <th></th>\n",
       "      <th></th>\n",
       "      <th></th>\n",
       "      <th></th>\n",
       "      <th></th>\n",
       "      <th></th>\n",
       "      <th></th>\n",
       "      <th></th>\n",
       "      <th></th>\n",
       "      <th></th>\n",
       "      <th></th>\n",
       "      <th></th>\n",
       "      <th></th>\n",
       "      <th></th>\n",
       "      <th></th>\n",
       "    </tr>\n",
       "  </thead>\n",
       "  <tbody>\n",
       "    <tr>\n",
       "      <th rowspan=\"5\" valign=\"top\">2013-11-08</th>\n",
       "      <th>0.0</th>\n",
       "      <td>0.476012</td>\n",
       "      <td>4.92231</td>\n",
       "      <td>284.730592</td>\n",
       "      <td>282.509581</td>\n",
       "      <td>0.0001</td>\n",
       "      <td>91081.063181</td>\n",
       "      <td>0.0</td>\n",
       "      <td>0.0</td>\n",
       "      <td>0.0</td>\n",
       "      <td>0.0</td>\n",
       "      <td>...</td>\n",
       "      <td>NaN</td>\n",
       "      <td>NaN</td>\n",
       "      <td>NaN</td>\n",
       "      <td>NaN</td>\n",
       "      <td>0.0</td>\n",
       "      <td>-inf</td>\n",
       "      <td>290.149435</td>\n",
       "      <td>292.430509</td>\n",
       "      <td>0.000000</td>\n",
       "      <td>180.000000</td>\n",
       "    </tr>\n",
       "    <tr>\n",
       "      <th>5.0</th>\n",
       "      <td>0.476012</td>\n",
       "      <td>4.92231</td>\n",
       "      <td>284.730592</td>\n",
       "      <td>282.509581</td>\n",
       "      <td>0.0001</td>\n",
       "      <td>91081.063181</td>\n",
       "      <td>0.0</td>\n",
       "      <td>0.0</td>\n",
       "      <td>0.0</td>\n",
       "      <td>0.0</td>\n",
       "      <td>...</td>\n",
       "      <td>NaN</td>\n",
       "      <td>NaN</td>\n",
       "      <td>NaN</td>\n",
       "      <td>NaN</td>\n",
       "      <td>0.0</td>\n",
       "      <td>-inf</td>\n",
       "      <td>290.149435</td>\n",
       "      <td>292.430509</td>\n",
       "      <td>5.078049</td>\n",
       "      <td>185.549135</td>\n",
       "    </tr>\n",
       "    <tr>\n",
       "      <th>10.0</th>\n",
       "      <td>0.476012</td>\n",
       "      <td>4.92231</td>\n",
       "      <td>284.730592</td>\n",
       "      <td>282.509581</td>\n",
       "      <td>0.0001</td>\n",
       "      <td>91081.063181</td>\n",
       "      <td>0.0</td>\n",
       "      <td>0.0</td>\n",
       "      <td>0.0</td>\n",
       "      <td>0.0</td>\n",
       "      <td>...</td>\n",
       "      <td>NaN</td>\n",
       "      <td>NaN</td>\n",
       "      <td>NaN</td>\n",
       "      <td>NaN</td>\n",
       "      <td>0.0</td>\n",
       "      <td>-inf</td>\n",
       "      <td>290.149435</td>\n",
       "      <td>292.430509</td>\n",
       "      <td>5.212031</td>\n",
       "      <td>185.580797</td>\n",
       "    </tr>\n",
       "    <tr>\n",
       "      <th>15.0</th>\n",
       "      <td>0.476012</td>\n",
       "      <td>4.92231</td>\n",
       "      <td>284.730592</td>\n",
       "      <td>282.509581</td>\n",
       "      <td>0.0001</td>\n",
       "      <td>91081.063181</td>\n",
       "      <td>0.0</td>\n",
       "      <td>0.0</td>\n",
       "      <td>0.0</td>\n",
       "      <td>0.0</td>\n",
       "      <td>...</td>\n",
       "      <td>NaN</td>\n",
       "      <td>NaN</td>\n",
       "      <td>NaN</td>\n",
       "      <td>NaN</td>\n",
       "      <td>0.0</td>\n",
       "      <td>-inf</td>\n",
       "      <td>290.149435</td>\n",
       "      <td>292.430509</td>\n",
       "      <td>5.346031</td>\n",
       "      <td>185.610835</td>\n",
       "    </tr>\n",
       "    <tr>\n",
       "      <th>20.0</th>\n",
       "      <td>0.476012</td>\n",
       "      <td>4.92231</td>\n",
       "      <td>284.730592</td>\n",
       "      <td>282.509581</td>\n",
       "      <td>0.0001</td>\n",
       "      <td>91081.063181</td>\n",
       "      <td>0.0</td>\n",
       "      <td>0.0</td>\n",
       "      <td>0.0</td>\n",
       "      <td>0.0</td>\n",
       "      <td>...</td>\n",
       "      <td>NaN</td>\n",
       "      <td>NaN</td>\n",
       "      <td>NaN</td>\n",
       "      <td>NaN</td>\n",
       "      <td>0.0</td>\n",
       "      <td>-inf</td>\n",
       "      <td>290.149435</td>\n",
       "      <td>292.430509</td>\n",
       "      <td>5.420783</td>\n",
       "      <td>185.593014</td>\n",
       "    </tr>\n",
       "  </tbody>\n",
       "</table>\n",
       "<p>5 rows × 32 columns</p>\n",
       "</div>"
      ],
      "text/plain": [
       "                        U10      V10          T2         TSK      u*  \\\n",
       "Time       height                                                      \n",
       "2013-11-08 0.0     0.476012  4.92231  284.730592  282.509581  0.0001   \n",
       "           5.0     0.476012  4.92231  284.730592  282.509581  0.0001   \n",
       "           10.0    0.476012  4.92231  284.730592  282.509581  0.0001   \n",
       "           15.0    0.476012  4.92231  284.730592  282.509581  0.0001   \n",
       "           20.0    0.476012  4.92231  284.730592  282.509581  0.0001   \n",
       "\n",
       "                           PSFC  HFX   LH  MUU  MUV  ...  RV_TEND_PGF  \\\n",
       "Time       height                                    ...                \n",
       "2013-11-08 0.0     91081.063181  0.0  0.0  0.0  0.0  ...          NaN   \n",
       "           5.0     91081.063181  0.0  0.0  0.0  0.0  ...          NaN   \n",
       "           10.0    91081.063181  0.0  0.0  0.0  0.0  ...          NaN   \n",
       "           15.0    91081.063181  0.0  0.0  0.0  0.0  ...          NaN   \n",
       "           20.0    91081.063181  0.0  0.0  0.0  0.0  ...          NaN   \n",
       "\n",
       "                   RV_TEND_COR  RV_TEND_PHYS  T_TEND_ADV   wt   L0  \\\n",
       "Time       height                                                    \n",
       "2013-11-08 0.0             NaN           NaN         NaN  0.0 -inf   \n",
       "           5.0             NaN           NaN         NaN  0.0 -inf   \n",
       "           10.0            NaN           NaN         NaN  0.0 -inf   \n",
       "           15.0            NaN           NaN         NaN  0.0 -inf   \n",
       "           20.0            NaN           NaN         NaN  0.0 -inf   \n",
       "\n",
       "                      thetaSK      theta2      wspd        wdir  \n",
       "Time       height                                                \n",
       "2013-11-08 0.0     290.149435  292.430509  0.000000  180.000000  \n",
       "           5.0     290.149435  292.430509  5.078049  185.549135  \n",
       "           10.0    290.149435  292.430509  5.212031  185.580797  \n",
       "           15.0    290.149435  292.430509  5.346031  185.610835  \n",
       "           20.0    290.149435  292.430509  5.420783  185.593014  \n",
       "\n",
       "[5 rows x 32 columns]"
      ]
     },
     "execution_count": 24,
     "metadata": {},
     "output_type": "execute_result"
    }
   ],
   "source": [
    "wrf.head()"
   ]
  },
  {
   "cell_type": "markdown",
   "metadata": {},
   "source": [
    "# Plot sounding data"
   ]
  },
  {
   "cell_type": "code",
   "execution_count": 25,
   "metadata": {},
   "outputs": [
    {
     "name": "stdout",
     "output_type": "stream",
     "text": [
      "Warning: field \"thetav\" not available in dataset TTU radar (scan type 0)\n",
      "Warning: field \"thetav\" not available in dataset TTU radar (scan type 1)\n"
     ]
    },
    {
     "data": {
      "image/png": "[encoded data removed]",
      "text/plain": [
       "<Figure size 864x360 with 3 Axes>"
      ]
     },
     "metadata": {
      "needs_background": "light"
     },
     "output_type": "display_data"
    }
   ],
   "source": [
    "fig,ax = plot_profile(\n",
    "    datasets={\n",
    "        'AMA sounding':ama,\n",
    "        'WRF mesoscale':wrf.xs('2013-11-08 12:00:00',level='Time'),\n",
    "        'TTU tower':tower.xs('2013-11-08 12:00:00',level='datetime'),\n",
    "        'TTU radar (scan type 0)':radar_scan0,\n",
    "        'TTU radar (scan type 1)':radar_scan1,\n",
    "    },\n",
    "    fields=['wspd','wdir','thetav'],\n",
    "    heightlimits=(0,2000),\n",
    "    fieldlimits={\n",
    "        'wspd':(0,25),\n",
    "        'wdir':(200,260),\n",
    "        'thetav':(280,310),\n",
    "    },\n",
    "    datasetkwargs={'TTU tower':{'linestyle':'','marker':'^',},\n",
    "                   'TTU radar (scan type 0)':{'linestyle':'','marker':'x'},\n",
    "                   'TTU radar (scan type 1)':{'linestyle':'','marker':'+'},\n",
    "                   'AMA sounding':{'linestyle':'-','marker':'o'},\n",
    "                   'WRF mesoscale':{'linestyle':'--'},\n",
    "                  },\n",
    "    mfc='none',markersize=7\n",
    ")\n",
    "\n",
    "#Place legend at the top\n",
    "handles, labels = ax[0].get_legend_handles_labels()\n",
    "ax[2].get_legend().remove()\n",
    "\n",
    "leg = fig.legend(handles, labels, loc = 'lower left', bbox_to_anchor = (.125,.91,.775,0.0),\n",
    "         borderaxespad=0,ncol=3,fontsize=13,\n",
    "         bbox_transform = plt.gcf().transFigure,mode='expand')\n",
    "leg.get_frame().set_edgecolor('k')\n",
    "\n",
    "#Save figure\n",
    "figname = 'ama_sounding'\n",
    "plt.savefig(os.path.join(datadir,'Figures',figname+'.png'),bbox_inches='tight')\n",
    "plt.savefig(os.path.join(datadir,'Figures',figname+'.eps'),bbox_inches='tight')\n",
    "plt.savefig(os.path.join(datadir,'Figures',figname+'.pdf'),bbox_inches='tight')"
   ]
  },
  {
   "cell_type": "markdown",
   "metadata": {},
   "source": [
    "Note: Can we find sounding data for Midland, Texas, which is about 100 km south of Lubbock (Lubbock is in the middle between Amarillo and Midland). Considering the wind is coming from the southwest, Midland might be even more representative. In any case, it would be good to check that Midland sounding is comparable to Amarillo and wrf data"
   ]
  }
 ],
 "metadata": {
  "kernelspec": {
   "display_name": "Python 3",
   "language": "python",
   "name": "python3"
  },
  "language_info": {
   "codemirror_mode": {
    "name": "ipython",
    "version": 3
   },
   "file_extension": ".py",
   "mimetype": "text/x-python",
   "name": "python",
   "nbconvert_exporter": "python",
   "pygments_lexer": "ipython3",
   "version": "3.6.7"
  }
 },
 "nbformat": 4,
 "nbformat_minor": 2
}
