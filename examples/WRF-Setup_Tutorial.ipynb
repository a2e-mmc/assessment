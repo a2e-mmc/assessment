{
 "cells": [
  {
   "cell_type": "code",
   "execution_count": 1,
   "metadata": {},
   "outputs": [],
   "source": [
    "%load_ext autoreload\n",
    "%autoreload 2\n",
    "%matplotlib inline"
   ]
  },
  {
   "cell_type": "code",
   "execution_count": 2,
   "metadata": {},
   "outputs": [],
   "source": [
    "import pandas as pd\n",
    "from mmctools.wrf import preprocessing as wps\n",
    "import os\n",
    "import glob\n",
    "import numpy as np"
   ]
  },
  {
   "cell_type": "markdown",
   "metadata": {},
   "source": [
    "# Notes on the SetupWRF class:\n",
    " - Any namelist variable that is max_dom can be specified as a single value to be defined the same across all domains, or as a list that is the same length as the number of domains\n",
    " - If you're trying to add a namelist variable that isn't working, it likely isn't implemented yet... contact hawbecke(at)ucar.edu for assisstance\n",
    " - Downloading IC/BC data is not recommended within a Jupyter Notebook\n",
    " - This will not run the simulations for you (yet) but does create submission scripts for Cheyenne. If you are on a different system, contact hawbecke(at)ucar.edu for assisstance in adding your system to the possible submission script templates"
   ]
  },
  {
   "cell_type": "markdown",
   "metadata": {},
   "source": [
    "# User Settings"
   ]
  },
  {
   "cell_type": "code",
   "execution_count": 3,
   "metadata": {},
   "outputs": [],
   "source": [
    "# Setup WRF directory here:\n",
    "main_directory    = '/glade/scratch/hawbecke/WRF/MMC/Downscaling/'\n",
    "# Location of WRF run directory:\n",
    "wrf_exe_location = '/glade/work/hawbecke/Models/WRF/WRFvMMC/WRF/run/'\n",
    "# Location of WPS executables\n",
    "wps_exe_location = '/glade/work/hawbecke/Models/WRF/WRFvMMC/WPS/'\n",
    "\n",
    "# Which ICBC type\n",
    "icbc_type = 'ERAI'  # ERAI, ERA5, FNL\n",
    "# Where to download/link IC/BC data:\n",
    "icbc_directory = '/glade/scratch/hawbecke/WRF/ICBC/'\n",
    "\n",
    "# Case specifics - This is an example of 60 hour runs for 6 days, 2 day intervals (spinup 12 h)\n",
    "case_start  = '2016-03-07 00:00:00'\n",
    "case_end    = '2016-03-13 00:00:00'\n",
    "# --Time between runs\n",
    "case_delta  = '2d'\n",
    "# --Runtime\n",
    "case_length = '60h'\n",
    "\n",
    "# Submission script info\n",
    "submission_dict = {\n",
    "            'account_key' : 'nwsa0002', # account key\n",
    "         'walltime_hours' : {'wrf':6,'wps':2,'real':1}, # number of hours to allocate to each program\n",
    "             'user_email' : 'hawbecke@ucar.edu', # email for status reporting\n",
    "                  'nodes' : 2, # Number of nodes for real and wrf (wps=1 by default)\n",
    "                   }\n",
    "\n",
    "setup_dict = {\n",
    "             'start_date' : '2020-04-03 18:00:00', # This will be overwritten if in a loop\n",
    "               'end_date' : '2020-04-05 06:00:00', # This will be overwritten if in a loop\n",
    "              'icbc_type' : icbc_type,\n",
    "      'number_of_domains' : 2,\n",
    "                    'dxy' : 6250,\n",
    "              'time_step' : 30,\n",
    "           'max_ts_level' : 51,\n",
    "         'num_eta_levels' : 88,\n",
    "             'eta_levels' : '1.00000,  0.99935,  0.99871,  0.99806,\\n   0.99742,  0.99677,  0.99609,  0.99538,\\n   0.99464,  0.99386,  0.99304,  0.99218,\\n   0.99127,  0.99032,  0.98933,  0.98829,\\n   0.98719,  0.98605,  0.98484,  0.98358,\\n   0.98226,  0.98087,  0.97941,  0.97789,\\n   0.97629,  0.97461,  0.97285,  0.97101,\\n   0.96908,  0.96705,  0.96493,  0.96271,\\n   0.96038,  0.95793,  0.95538,  0.95270,\\n   0.94989,  0.94696,  0.94388,  0.94066,\\n   0.93729,  0.93360,  0.92955,  0.92512,\\n   0.92026,  0.91495,  0.90914,  0.90278,\\n   0.89584,  0.88825,  0.87997,  0.87095,\\n   0.86112,  0.85042,  0.83879,  0.82617,\\n   0.81247,  0.79764,  0.78161,  0.76430,\\n   0.74566,  0.72562,  0.70412,  0.68112,\\n   0.65658,  0.63048,  0.60281,  0.57359,\\n   0.54285,  0.51066,  0.47711,  0.44234,\\n   0.40652,  0.36985,  0.33259,  0.29501,\\n   0.25746,  0.22028,  0.18491,  0.15347,\\n   0.12553,  0.10069,  0.07861,  0.05898,\\n   0.04154,  0.02603,  0.01225,  0.00000',\n",
    "      'parent_grid_ratio' : [1,5],\n",
    "      'parent_time_ratio' : [1,5],\n",
    "                 'istart' : [1, 200],\n",
    "                 'jstart' : [1, 200],\n",
    "                     'nx' : [480, 481],\n",
    "                     'ny' : [480, 481],\n",
    "                'ref_lat' : 39.8,\n",
    "                'ref_lon' : -73.0,\n",
    "              'true_lat1' : 25.0,\n",
    "              'true_lat2' : 55.0,\n",
    "              'stand_lon' : -70.0,\n",
    "           'geogrid_args' : '30s+topobath_30s',\n",
    "         'geog_data_path' : '/glade/work/hawbecke/geog',\n",
    "       'history_interval' : [120,60],\n",
    "       'auxinput4_inname' : '\"wrflowinp_d<domain>\"',\n",
    "     'auxinput4_interval' : 360,\n",
    "      'io_form_auxinput4' : 2,\n",
    "      #'iofields_filename' : '\"myoutfields.txt\"',      \n",
    "                  'debug' : 0,\n",
    "        'p_top_requested' : 10000,\n",
    "               'feedback' : 0,\n",
    "          'smooth_option' : 0,\n",
    "             'mp_physics' : 5,\n",
    "      'sf_sfclay_physics' : [5,5],\n",
    "     'sf_surface_physics' : [2,2],\n",
    "         'bl_pbl_physics' : [5,5],\n",
    "             'cu_physics' : [6,0],\n",
    "             'hybrid_opt' : 0,\n",
    "            'use_theta_m' : 0,\n",
    "          }\n",
    "\n",
    "\n",
    "# tslist settings (optional):\n",
    "twr_lat = [ 39.969278,  39.546772,  39.2717,  41.325567]\n",
    "twr_lon = [-72.716692, -73.428892, -73.8892, -70.568883]\n",
    "twr_names = ['E05','E06','Atlantic Shores','DOE_MV']\n",
    "twr_abbreviation = ['E05','E06','ATS','DMV']"
   ]
  },
  {
   "cell_type": "code",
   "execution_count": 4,
   "metadata": {},
   "outputs": [],
   "source": [
    "case_dates = pd.date_range(case_start,case_end,freq=case_delta,closed='left')\n",
    "cases = []\n",
    "for cc,case in enumerate(case_dates):\n",
    "    case_str = str(case).split(' ')[0].replace('-','')\n",
    "    case_str = '{}_{}'.format(icbc_type,case_str)\n",
    "    cases.append(case_str)\n",
    "    run_directory = '{}{}/'.format(main_directory,case_str)\n",
    "    setup_dict['start_date'] = str(case)\n",
    "    setup_dict['end_date'] = str(case + pd.to_timedelta(case_length))\n",
    "    wrf_setup = wps.SetupWRF(run_directory=run_directory,\n",
    "                              icbc_directory=icbc_directory,\n",
    "                              executables_dict={'wrf':wrf_exe_location,'wps':wps_exe_location},\n",
    "                              setup_dict=setup_dict)\n",
    "    wrf_setup.link_executables()\n",
    "    wrf_setup.write_wps_namelist()\n",
    "    wrf_setup.write_namelist_input()\n",
    "    wrf_setup.write_submission_scripts(submission_dict=submission_dict,hpc='cheyenne')\n",
    "    wrf_setup.create_tslist_file(lat=twr_lat,lon=twr_lon,twr_names=twr_names,twr_abbr=twr_abbreviation)\n",
    "    # Not recommended in a Jupyter Notebook:\n",
    "    ###wrf_setup.get_icbcs()\n",
    "\n",
    "wrf_setup.create_submitAll_scripts(main_directory,cases,['wps','real','wrf'])\n"
   ]
  },
  {
   "cell_type": "markdown",
   "metadata": {},
   "source": [
    "# If you want to edit IO:"
   ]
  },
  {
   "cell_type": "code",
   "execution_count": 5,
   "metadata": {},
   "outputs": [],
   "source": [
    "vars_to_remove_LES = ['EDMF_A','EDMF_QC','EDMF_QT','EDMF_ENT','EDMF_W','EDMF_THL','QVAPOR','SH20',\n",
    "                   'F_ICE_PHY','F_RAIN_PHY','F_RIMEF_PHY','QCLOUD','QRAIN','QSNOW','QHAIL','QGRAUP','QVAPOR',\n",
    "                  'SMCREL','SHDMAX','SHDMIN','SNOALB','SEAICE','XICEM','SFROFF',\n",
    "                  'UDROFF','IVGTYP','ACSNOM','SNOW','SNOWNC','SNOWH','CANWAT','COSZEN','LAI','TSLB',\n",
    "                  'GLW','TMN','SNOWC','SR','QICE','QNICE','QNSNOW','QNRAIN','QNGRAUPEL',\n",
    "                  'ACLWDNB','ACLWDNBC','ACLWDNT','ACLWDNTC','ACLWUPB','ACLWUPBC','ACLWUPT','ACLWUPTC',\n",
    "                  'ACSWDNB','ACSWDNBC','ACSWDNT','ACSWDNTC','ACSWUPB','ACSWUPBC','ACSWUPT','ACSWUPTC',\n",
    "                  'AFWA_RAIN','ALBBCK','ALBEDO','E','EMISS','NEST_POS','LAKEMASK',\n",
    "                  'MAPFAC_M','MAPFAC_U','MAPFAC_V','MAPFAC_MX','MAPFAC_MY','MAPFAC_UX','MAPFAC_UY','MAPFAC_VX','MF_VX_INV','MAPFAC_VY','SINALPHA',\n",
    "                  'I_ACLWDNB','I_ACLWDNBC','I_ACLWDNT','I_ACLWDNTC','I_ACLWUPB','I_ACLWUPBC','I_ACLWUPT','I_ACLWUPTC',\n",
    "                  'I_ACSWDNB','I_ACSWDNBC','I_ACSWDNT','I_ACSWDNTC','I_ACSWUPB','I_ACSWUPBC','I_ACSWUPT','I_ACSWUPTC',\n",
    "                  'GRAUPELNC','HAILNC','NOAHRES','NUPDRAFT','OLR','XICEM','ZS','DZS',\n",
    "                  'VAR_SSO','RDX','RDY','SMOIS','VAR','ALBBCK','XLAND','EL_PBL',\n",
    "                  'P_HYD','CWM','RQCBLTEN','RQIBLTEN','RQNIBLTEN','RQVBLTEN','RUBLTEN','RVBLTEN','RTHBLTEN',\n",
    "                  ]\n",
    "\n",
    "vars_to_remove_MESO = vars_to_remove_LES.copy()\n",
    "vars_to_remove_MESO.extend(['RU_TEND','RU_TEND_ADV','RU_TEND_PGF','RU_TEND_COR','RU_TEND_CURV','RU_TEND_HDIFF','RU_TEND_PHYS','T_TEND_ADV',\n",
    "                            'RV_TEND','RV_TEND_ADV','RV_TEND_PGF','RV_TEND_COR','RV_TEND_CURV','RV_TEND_HDIFF','RV_TEND_PHYS',\n",
    "                            'U_G','V_G','U_G_TEND','V_G_TEND','MUU','MUV','MUT'])\n",
    "\n",
    "\n",
    "vars_to_add_LES = ['ZNT','SST','SSTSK','SST_INPUT','UST','QFX','HFX','LH','ACHFX','ACLHF','GRDFLX','ACGRDFLX','SMOIS','PBLH',\n",
    "                   'SWUPB','SWUPBC','SWDNB','SWDNBC','LWUPB','LWUPBC','LWDNB','LWDNBC',\n",
    "                   'RU_TEND','RU_TEND_ADV','RU_TEND_PGF','RU_TEND_COR','RU_TEND_CURV','RU_TEND_HDIFF','RU_TEND_PHYS','T_TEND_ADV',\n",
    "                   'RV_TEND','RV_TEND_ADV','RV_TEND_PGF','RV_TEND_COR','RV_TEND_CURV','RV_TEND_HDIFF','RV_TEND_PHYS',\n",
    "                   'U_G','V_G','U_G_TEND','V_G_TEND','MUU','MUV','MUT']\n",
    "\n",
    "vars_to_add_MESO = ['ZNT','SST','SSTSK','SST_INPUT','UST','QFX','HFX','LH','ACHFX','ACLHF','GRDFLX','ACGRDFLX','SMOIS','PBLH',\n",
    "                     'SWUPB','SWUPBC','SWDNB','SWDNBC','LWUPB','LWUPBC','LWDNB','LWDNBC','RAINSH','RAINNC','RAINC',\n",
    "                     'TKE','M11','M22','M33','M12','M13','M23','MH1','MH2','MH3','MQ1','MQ2','MQ3']\n",
    "    "
   ]
  },
  {
   "cell_type": "markdown",
   "metadata": {},
   "source": [
    "### Add the line for iofields_filename to your setup dictionary:"
   ]
  },
  {
   "cell_type": "code",
   "execution_count": 6,
   "metadata": {},
   "outputs": [],
   "source": [
    "setup_dict['iofields_filename'] = ['\"myoutfields_MESO.txt\"','\"myoutfields_LES.txt\"']"
   ]
  },
  {
   "cell_type": "code",
   "execution_count": 7,
   "metadata": {},
   "outputs": [],
   "source": [
    "case_dates = pd.date_range(case_start,case_end,freq=case_delta,closed='left')\n",
    "cases = []\n",
    "for cc,case in enumerate(case_dates):\n",
    "    case_str = str(case).split(' ')[0].replace('-','')\n",
    "    case_str = '{}_{}'.format(icbc_type,case_str)\n",
    "    cases.append(case_str)\n",
    "    run_directory = '{}{}/'.format(main_directory,case_str)\n",
    "    setup_dict['start_date'] = str(case)\n",
    "    setup_dict['end_date'] = str(case + pd.to_timedelta(case_length))\n",
    "    wrf_setup = wps.SetupWRF(run_directory=run_directory,\n",
    "                              icbc_directory=icbc_directory,\n",
    "                              executables_dict={'wrf':wrf_exe_location,'wps':wps_exe_location},\n",
    "                              setup_dict=setup_dict)\n",
    "    # Need to update your namelist:\n",
    "    wrf_setup.write_namelist_input()\n",
    "    # Make the IO files:\n",
    "    wrf_setup.write_io_fieldnames(vars_to_remove=[vars_to_remove_MESO,vars_to_remove_LES],vars_to_add=[vars_to_add_MESO,vars_to_add_LES])\n"
   ]
  }
 ],
 "metadata": {
  "kernelspec": {
   "display_name": "mmc",
   "language": "python",
   "name": "mmc"
  },
  "language_info": {
   "codemirror_mode": {
    "name": "ipython",
    "version": 3
   },
   "file_extension": ".py",
   "mimetype": "text/x-python",
   "name": "python",
   "nbconvert_exporter": "python",
   "pygments_lexer": "ipython3",
   "version": "3.7.6"
  }
 },
 "nbformat": 4,
 "nbformat_minor": 4
}
