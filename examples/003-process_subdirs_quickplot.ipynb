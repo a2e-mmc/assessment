{
 "cells": [
  {
   "cell_type": "code",
   "execution_count": 1,
   "metadata": {},
   "outputs": [],
   "source": [
    "%load_ext autoreload\n",
    "%autoreload 2"
   ]
  },
  {
   "cell_type": "code",
   "execution_count": 2,
   "metadata": {},
   "outputs": [],
   "source": [
    "%matplotlib inline\n",
    "import os\n",
    "import numpy as np\n",
    "import pandas as pd"
   ]
  },
  {
   "cell_type": "code",
   "execution_count": 3,
   "metadata": {},
   "outputs": [],
   "source": [
    "# manually add a2e-mmc repos to PYTHONPATH if needed\n",
    "import sys\n",
    "module_path = os.path.join(os.environ['HOME'],'a2e-mmc')\n",
    "if module_path not in sys.path:\n",
    "    sys.path.append(module_path)"
   ]
  },
  {
   "cell_type": "code",
   "execution_count": 4,
   "metadata": {},
   "outputs": [],
   "source": [
    "# wrapper around reader functions to return a single combined dataframe\n",
    "from mmctools.dataloaders import read_date_dirs"
   ]
  },
  {
   "cell_type": "code",
   "execution_count": 5,
   "metadata": {},
   "outputs": [],
   "source": [
    "from mmctools.plotting import plot_timeheight"
   ]
  },
  {
   "cell_type": "markdown",
   "metadata": {},
   "source": [
    "# Example: Data processing (of data organized into subdirectories)\n",
    "written by [Eliot Quon](mailto:eliot.quon@nrel.gov)\n",
    "- Combine a series of data files, located within a collection of date-time subdirectories, into one dataframe.\n",
    "- Do a quick data check of the data at the end (make a time-height plot)\n",
    "\n",
    "Note: This *may* be no longer needed since the `dap-py` and the online [DAP](https://a2e.energy.gov/data) interfaces both appear to consistently download files into a single directory. In the past, some datasets had data organized into subdirectories. This also introduced an additional processing step to parse date-time information from the subdirectory name and then add it to the timestamps in each subdirectory datafile. "
   ]
  },
  {
   "cell_type": "code",
   "execution_count": 6,
   "metadata": {},
   "outputs": [],
   "source": [
    "# dataset name format: project/class.instance.level\n",
    "dataset = 'wfip2/sodar.z12.b0' \n",
    "startdate = pd.to_datetime('2016-10-30')\n",
    "enddate = pd.to_datetime('2016-11-02')\n",
    "\n",
    "# optional dataset file specs\n",
    "dataext = 'txt' # file type, dictated by extension\n",
    "dataext1 = None # 'winds' # e.g., *.winds.txt\n",
    "\n",
    "download_path = 'data'\n",
    "overwrite_files = False # force download even if files already exist"
   ]
  },
  {
   "cell_type": "markdown",
   "metadata": {},
   "source": [
    "## Collect downloaded data from the DAP"
   ]
  },
  {
   "cell_type": "code",
   "execution_count": 7,
   "metadata": {},
   "outputs": [
    {
     "name": "stdout",
     "output_type": "stream",
     "text": [
      "Data path: data/wfip2.sodar.z12.b0\n"
     ]
    }
   ],
   "source": [
    "datapath = os.path.join(download_path, dataset.replace('/','.'))\n",
    "print('Data path:',datapath)"
   ]
  },
  {
   "cell_type": "code",
   "execution_count": 8,
   "metadata": {},
   "outputs": [
    {
     "name": "stdout",
     "output_type": "stream",
     "text": [
      "\u001b[34m201610\u001b[m\u001b[m/ \u001b[34m201611\u001b[m\u001b[m/\r\n"
     ]
    }
   ],
   "source": [
    "ls $datapath"
   ]
  },
  {
   "cell_type": "markdown",
   "metadata": {},
   "source": [
    "## Process the downloaded files"
   ]
  },
  {
   "cell_type": "code",
   "execution_count": 9,
   "metadata": {},
   "outputs": [
    {
     "name": "stdout",
     "output_type": "stream",
     "text": [
      "Processing data/wfip2.sodar.z12.b0/201610\n",
      "  288 dataframes added\n",
      "Processing data/wfip2.sodar.z12.b0/201611\n",
      "  144 dataframes added\n",
      "CPU times: user 839 ms, sys: 54.5 ms, total: 893 ms\n",
      "Wall time: 999 ms\n"
     ]
    }
   ],
   "source": [
    "%%time\n",
    "df = read_date_dirs(datapath, # default reader=pd.read_csv,\n",
    "                    expected_date_format='%Y%m', ext='txt',\n",
    "                    # additional reader arguments:\n",
    "                    parse_dates=['date_time'])"
   ]
  },
  {
   "cell_type": "code",
   "execution_count": 10,
   "metadata": {},
   "outputs": [
    {
     "data": {
      "text/html": [
       "<div>\n",
       "<style scoped>\n",
       "    .dataframe tbody tr th:only-of-type {\n",
       "        vertical-align: middle;\n",
       "    }\n",
       "\n",
       "    .dataframe tbody tr th {\n",
       "        vertical-align: top;\n",
       "    }\n",
       "\n",
       "    .dataframe thead th {\n",
       "        text-align: right;\n",
       "    }\n",
       "</style>\n",
       "<table border=\"1\" class=\"dataframe\">\n",
       "  <thead>\n",
       "    <tr style=\"text-align: right;\">\n",
       "      <th></th>\n",
       "      <th>date_time</th>\n",
       "      <th>height</th>\n",
       "      <th>direction</th>\n",
       "      <th>speed</th>\n",
       "      <th>vert</th>\n",
       "      <th>turbulence</th>\n",
       "    </tr>\n",
       "  </thead>\n",
       "  <tbody>\n",
       "    <tr>\n",
       "      <th>0</th>\n",
       "      <td>2016-10-30</td>\n",
       "      <td>40</td>\n",
       "      <td>88.9</td>\n",
       "      <td>3.74</td>\n",
       "      <td>-0.15</td>\n",
       "      <td>0.09</td>\n",
       "    </tr>\n",
       "    <tr>\n",
       "      <th>1</th>\n",
       "      <td>2016-10-30</td>\n",
       "      <td>50</td>\n",
       "      <td>86.7</td>\n",
       "      <td>3.70</td>\n",
       "      <td>-0.17</td>\n",
       "      <td>0.09</td>\n",
       "    </tr>\n",
       "    <tr>\n",
       "      <th>2</th>\n",
       "      <td>2016-10-30</td>\n",
       "      <td>60</td>\n",
       "      <td>84.2</td>\n",
       "      <td>3.79</td>\n",
       "      <td>-0.17</td>\n",
       "      <td>0.09</td>\n",
       "    </tr>\n",
       "    <tr>\n",
       "      <th>3</th>\n",
       "      <td>2016-10-30</td>\n",
       "      <td>80</td>\n",
       "      <td>87.8</td>\n",
       "      <td>3.90</td>\n",
       "      <td>-0.15</td>\n",
       "      <td>0.10</td>\n",
       "    </tr>\n",
       "    <tr>\n",
       "      <th>4</th>\n",
       "      <td>2016-10-30</td>\n",
       "      <td>100</td>\n",
       "      <td>85.0</td>\n",
       "      <td>3.73</td>\n",
       "      <td>-0.15</td>\n",
       "      <td>0.09</td>\n",
       "    </tr>\n",
       "  </tbody>\n",
       "</table>\n",
       "</div>"
      ],
      "text/plain": [
       "   date_time  height  direction  speed  vert  turbulence\n",
       "0 2016-10-30      40       88.9   3.74 -0.15        0.09\n",
       "1 2016-10-30      50       86.7   3.70 -0.17        0.09\n",
       "2 2016-10-30      60       84.2   3.79 -0.17        0.09\n",
       "3 2016-10-30      80       87.8   3.90 -0.15        0.10\n",
       "4 2016-10-30     100       85.0   3.73 -0.15        0.09"
      ]
     },
     "execution_count": 10,
     "metadata": {},
     "output_type": "execute_result"
    }
   ],
   "source": [
    "df.head()"
   ]
  },
  {
   "cell_type": "markdown",
   "metadata": {},
   "source": [
    "## Standardization"
   ]
  },
  {
   "cell_type": "code",
   "execution_count": 11,
   "metadata": {},
   "outputs": [],
   "source": [
    "# create multi-indexed dataframe with standard names\n",
    "df = df.rename(columns={\n",
    "    'date_time':'datetime',\n",
    "    'speed':'wspd',\n",
    "    'direction':'wdir',\n",
    "    'vert':'w',\n",
    "})\n",
    "df = df.set_index(['datetime','height'])"
   ]
  },
  {
   "cell_type": "code",
   "execution_count": 12,
   "metadata": {},
   "outputs": [
    {
     "data": {
      "text/html": [
       "<div>\n",
       "<style scoped>\n",
       "    .dataframe tbody tr th:only-of-type {\n",
       "        vertical-align: middle;\n",
       "    }\n",
       "\n",
       "    .dataframe tbody tr th {\n",
       "        vertical-align: top;\n",
       "    }\n",
       "\n",
       "    .dataframe thead th {\n",
       "        text-align: right;\n",
       "    }\n",
       "</style>\n",
       "<table border=\"1\" class=\"dataframe\">\n",
       "  <thead>\n",
       "    <tr style=\"text-align: right;\">\n",
       "      <th></th>\n",
       "      <th></th>\n",
       "      <th>wdir</th>\n",
       "      <th>wspd</th>\n",
       "      <th>w</th>\n",
       "      <th>turbulence</th>\n",
       "    </tr>\n",
       "    <tr>\n",
       "      <th>datetime</th>\n",
       "      <th>height</th>\n",
       "      <th></th>\n",
       "      <th></th>\n",
       "      <th></th>\n",
       "      <th></th>\n",
       "    </tr>\n",
       "  </thead>\n",
       "  <tbody>\n",
       "    <tr>\n",
       "      <th rowspan=\"5\" valign=\"top\">2016-10-30</th>\n",
       "      <th>40</th>\n",
       "      <td>88.9</td>\n",
       "      <td>3.74</td>\n",
       "      <td>-0.15</td>\n",
       "      <td>0.09</td>\n",
       "    </tr>\n",
       "    <tr>\n",
       "      <th>50</th>\n",
       "      <td>86.7</td>\n",
       "      <td>3.70</td>\n",
       "      <td>-0.17</td>\n",
       "      <td>0.09</td>\n",
       "    </tr>\n",
       "    <tr>\n",
       "      <th>60</th>\n",
       "      <td>84.2</td>\n",
       "      <td>3.79</td>\n",
       "      <td>-0.17</td>\n",
       "      <td>0.09</td>\n",
       "    </tr>\n",
       "    <tr>\n",
       "      <th>80</th>\n",
       "      <td>87.8</td>\n",
       "      <td>3.90</td>\n",
       "      <td>-0.15</td>\n",
       "      <td>0.10</td>\n",
       "    </tr>\n",
       "    <tr>\n",
       "      <th>100</th>\n",
       "      <td>85.0</td>\n",
       "      <td>3.73</td>\n",
       "      <td>-0.15</td>\n",
       "      <td>0.09</td>\n",
       "    </tr>\n",
       "  </tbody>\n",
       "</table>\n",
       "</div>"
      ],
      "text/plain": [
       "                   wdir  wspd     w  turbulence\n",
       "datetime   height                              \n",
       "2016-10-30 40      88.9  3.74 -0.15        0.09\n",
       "           50      86.7  3.70 -0.17        0.09\n",
       "           60      84.2  3.79 -0.17        0.09\n",
       "           80      87.8  3.90 -0.15        0.10\n",
       "           100     85.0  3.73 -0.15        0.09"
      ]
     },
     "execution_count": 12,
     "metadata": {},
     "output_type": "execute_result"
    }
   ],
   "source": [
    "df.head()"
   ]
  },
  {
   "cell_type": "code",
   "execution_count": 13,
   "metadata": {},
   "outputs": [
    {
     "data": {
      "text/html": [
       "<div>\n",
       "<style scoped>\n",
       "    .dataframe tbody tr th:only-of-type {\n",
       "        vertical-align: middle;\n",
       "    }\n",
       "\n",
       "    .dataframe tbody tr th {\n",
       "        vertical-align: top;\n",
       "    }\n",
       "\n",
       "    .dataframe thead th {\n",
       "        text-align: right;\n",
       "    }\n",
       "</style>\n",
       "<table border=\"1\" class=\"dataframe\">\n",
       "  <thead>\n",
       "    <tr style=\"text-align: right;\">\n",
       "      <th></th>\n",
       "      <th></th>\n",
       "      <th>wdir</th>\n",
       "      <th>wspd</th>\n",
       "      <th>w</th>\n",
       "      <th>turbulence</th>\n",
       "    </tr>\n",
       "    <tr>\n",
       "      <th>datetime</th>\n",
       "      <th>height</th>\n",
       "      <th></th>\n",
       "      <th></th>\n",
       "      <th></th>\n",
       "      <th></th>\n",
       "    </tr>\n",
       "  </thead>\n",
       "  <tbody>\n",
       "    <tr>\n",
       "      <th rowspan=\"5\" valign=\"top\">2016-11-01 23:50:00</th>\n",
       "      <th>120</th>\n",
       "      <td>281.8</td>\n",
       "      <td>5.97</td>\n",
       "      <td>0.18</td>\n",
       "      <td>0.07</td>\n",
       "    </tr>\n",
       "    <tr>\n",
       "      <th>140</th>\n",
       "      <td>283.5</td>\n",
       "      <td>6.11</td>\n",
       "      <td>0.17</td>\n",
       "      <td>0.07</td>\n",
       "    </tr>\n",
       "    <tr>\n",
       "      <th>160</th>\n",
       "      <td>285.9</td>\n",
       "      <td>6.37</td>\n",
       "      <td>0.15</td>\n",
       "      <td>0.06</td>\n",
       "    </tr>\n",
       "    <tr>\n",
       "      <th>180</th>\n",
       "      <td>284.9</td>\n",
       "      <td>5.94</td>\n",
       "      <td>0.15</td>\n",
       "      <td>0.07</td>\n",
       "    </tr>\n",
       "    <tr>\n",
       "      <th>200</th>\n",
       "      <td>NaN</td>\n",
       "      <td>NaN</td>\n",
       "      <td>NaN</td>\n",
       "      <td>NaN</td>\n",
       "    </tr>\n",
       "  </tbody>\n",
       "</table>\n",
       "</div>"
      ],
      "text/plain": [
       "                             wdir  wspd     w  turbulence\n",
       "datetime            height                               \n",
       "2016-11-01 23:50:00 120     281.8  5.97  0.18        0.07\n",
       "                    140     283.5  6.11  0.17        0.07\n",
       "                    160     285.9  6.37  0.15        0.06\n",
       "                    180     284.9  5.94  0.15        0.07\n",
       "                    200       NaN   NaN   NaN         NaN"
      ]
     },
     "execution_count": 13,
     "metadata": {},
     "output_type": "execute_result"
    }
   ],
   "source": [
    "df.tail()"
   ]
  },
  {
   "cell_type": "markdown",
   "metadata": {},
   "source": [
    "## Check the data\n",
    "See [example_plotting.ipynb](https://github.com/a2e-mmc/mmctools/blob/dev/example_plotting.ipynb) for more plotting-specific examples."
   ]
  },
  {
   "cell_type": "code",
   "execution_count": 14,
   "metadata": {},
   "outputs": [
    {
     "data": {
      "image/png": "[encoded data removed]",
      "text/plain": [
       "<Figure size 864x576 with 4 Axes>"
      ]
     },
     "metadata": {
      "needs_background": "light"
     },
     "output_type": "display_data"
    }
   ],
   "source": [
    "fig,ax,cbars = plot_timeheight(df, fields=['wspd','wdir'])"
   ]
  },
  {
   "cell_type": "code",
   "execution_count": null,
   "metadata": {},
   "outputs": [],
   "source": []
  }
 ],
 "metadata": {
  "kernelspec": {
   "display_name": "Python 3",
   "language": "python",
   "name": "python3"
  },
  "language_info": {
   "codemirror_mode": {
    "name": "ipython",
    "version": 3
   },
   "file_extension": ".py",
   "mimetype": "text/x-python",
   "name": "python",
   "nbconvert_exporter": "python",
   "pygments_lexer": "ipython3",
   "version": "3.7.1"
  }
 },
 "nbformat": 4,
 "nbformat_minor": 2
}
