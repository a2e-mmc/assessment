{
 "cells": [
  {
   "cell_type": "code",
   "execution_count": 1,
   "metadata": {},
   "outputs": [],
   "source": [
    "%load_ext autoreload\n",
    "%autoreload 2"
   ]
  },
  {
   "cell_type": "code",
   "execution_count": 2,
   "metadata": {},
   "outputs": [],
   "source": [
    "%matplotlib inline\n",
    "import os\n",
    "from glob import glob\n",
    "import numpy as np\n",
    "import pandas as pd"
   ]
  },
  {
   "cell_type": "code",
   "execution_count": 3,
   "metadata": {},
   "outputs": [],
   "source": [
    "# wrapper around reader functions to return a single combined dataframe\n",
    "from mmctools.dataloaders import read_dir, read_date_dirs, read_files"
   ]
  },
  {
   "cell_type": "code",
   "execution_count": 4,
   "metadata": {},
   "outputs": [],
   "source": [
    "# more sophisticated data readers for when default pd.read_csv() doesn't cut it\n",
    "from mmctools.measurements.radar import profiler # see mmctools.measurements.*"
   ]
  },
  {
   "cell_type": "markdown",
   "metadata": {},
   "source": [
    "# Example: Data processing (without `dap-py`)\n",
    "- Combine a series of data files, specified by a file-path list, into one dataframe; data should be manually downloaded from the [DAP](https://a2e.energy.gov/data)"
   ]
  },
  {
   "cell_type": "code",
   "execution_count": 5,
   "metadata": {},
   "outputs": [],
   "source": [
    "# dataset name format: project/class.instance.level\n",
    "dataset = 'wfip2/radar.z04.b0' \n",
    "startdate = pd.to_datetime('2016-11-21')\n",
    "enddate = pd.to_datetime('2016-11-22')\n",
    "\n",
    "# optional dataset file specs\n",
    "dataext = 'txt' # file type, dictated by extension\n",
    "dataext1 = 'winds' # e.g., *.winds.txt\n",
    "\n",
    "download_path = 'data'\n",
    "overwrite_files = False # force download even if files already exist"
   ]
  },
  {
   "cell_type": "markdown",
   "metadata": {},
   "source": [
    "## Collect downloaded data"
   ]
  },
  {
   "cell_type": "code",
   "execution_count": 6,
   "metadata": {},
   "outputs": [
    {
     "name": "stdout",
     "output_type": "stream",
     "text": [
      "Data path: data/wfip2.radar.z04.b0\n"
     ]
    }
   ],
   "source": [
    "datapath = os.path.join(download_path, dataset.replace('/','.'))\n",
    "print('Data path:',datapath)"
   ]
  },
  {
   "cell_type": "markdown",
   "metadata": {},
   "source": [
    "This assumes the data were manually downloaded from the DAP and have the same directory structure as the files on the DAP."
   ]
  },
  {
   "cell_type": "code",
   "execution_count": 7,
   "metadata": {},
   "outputs": [],
   "source": [
    "filelist = glob(os.path.join(datapath,'*.{}.{}'.format(dataext1,dataext)))"
   ]
  },
  {
   "cell_type": "code",
   "execution_count": 8,
   "metadata": {},
   "outputs": [
    {
     "data": {
      "text/plain": [
       "['data/wfip2.radar.z04.b0/radar.z04.b0.20161121.000000.winds.txt',\n",
       " 'data/wfip2.radar.z04.b0/radar.z04.b0.20161121.010000.winds.txt',\n",
       " 'data/wfip2.radar.z04.b0/radar.z04.b0.20161121.020000.winds.txt',\n",
       " 'data/wfip2.radar.z04.b0/radar.z04.b0.20161121.030000.winds.txt',\n",
       " 'data/wfip2.radar.z04.b0/radar.z04.b0.20161121.040000.winds.txt']"
      ]
     },
     "execution_count": 8,
     "metadata": {},
     "output_type": "execute_result"
    }
   ],
   "source": [
    "filelist.sort()\n",
    "filelist[:5]"
   ]
  },
  {
   "cell_type": "markdown",
   "metadata": {},
   "source": [
    "## Process the downloaded files"
   ]
  },
  {
   "cell_type": "code",
   "execution_count": 9,
   "metadata": {},
   "outputs": [
    {
     "name": "stdout",
     "output_type": "stream",
     "text": [
      "CPU times: user 279 ms, sys: 9.05 ms, total: 288 ms\n",
      "Wall time: 296 ms\n"
     ]
    }
   ],
   "source": [
    "%%time\n",
    "df = read_files(filelist, reader=profiler)"
   ]
  },
  {
   "cell_type": "code",
   "execution_count": 10,
   "metadata": {},
   "outputs": [
    {
     "data": {
      "text/html": [
       "<div>\n",
       "<style scoped>\n",
       "    .dataframe tbody tr th:only-of-type {\n",
       "        vertical-align: middle;\n",
       "    }\n",
       "\n",
       "    .dataframe tbody tr th {\n",
       "        vertical-align: top;\n",
       "    }\n",
       "\n",
       "    .dataframe thead th {\n",
       "        text-align: right;\n",
       "    }\n",
       "</style>\n",
       "<table border=\"1\" class=\"dataframe\">\n",
       "  <thead>\n",
       "    <tr style=\"text-align: right;\">\n",
       "      <th></th>\n",
       "      <th></th>\n",
       "      <th>SPD</th>\n",
       "      <th>DIR</th>\n",
       "      <th>MET_QC</th>\n",
       "      <th>RAD.0</th>\n",
       "      <th>RAD.1</th>\n",
       "      <th>RAD.2</th>\n",
       "      <th>CNT.0</th>\n",
       "      <th>CNT.1</th>\n",
       "      <th>CNT.2</th>\n",
       "      <th>SNR.0</th>\n",
       "      <th>SNR.1</th>\n",
       "      <th>SNR.2</th>\n",
       "      <th>QC.0</th>\n",
       "      <th>QC.1</th>\n",
       "      <th>QC.2</th>\n",
       "    </tr>\n",
       "    <tr>\n",
       "      <th>datetime</th>\n",
       "      <th>height</th>\n",
       "      <th></th>\n",
       "      <th></th>\n",
       "      <th></th>\n",
       "      <th></th>\n",
       "      <th></th>\n",
       "      <th></th>\n",
       "      <th></th>\n",
       "      <th></th>\n",
       "      <th></th>\n",
       "      <th></th>\n",
       "      <th></th>\n",
       "      <th></th>\n",
       "      <th></th>\n",
       "      <th></th>\n",
       "      <th></th>\n",
       "    </tr>\n",
       "  </thead>\n",
       "  <tbody>\n",
       "    <tr>\n",
       "      <th rowspan=\"5\" valign=\"top\">2016-11-21 00:00:12</th>\n",
       "      <th>0.081</th>\n",
       "      <td>3.1</td>\n",
       "      <td>258.0</td>\n",
       "      <td>2.0</td>\n",
       "      <td>0.2</td>\n",
       "      <td>0.8</td>\n",
       "      <td>0.9</td>\n",
       "      <td>7.0</td>\n",
       "      <td>7.0</td>\n",
       "      <td>9.0</td>\n",
       "      <td>-6.0</td>\n",
       "      <td>2.0</td>\n",
       "      <td>4.0</td>\n",
       "      <td>0.0</td>\n",
       "      <td>0.0</td>\n",
       "      <td>0.0</td>\n",
       "    </tr>\n",
       "    <tr>\n",
       "      <th>0.138</th>\n",
       "      <td>3.6</td>\n",
       "      <td>279.0</td>\n",
       "      <td>2.0</td>\n",
       "      <td>0.2</td>\n",
       "      <td>0.5</td>\n",
       "      <td>1.4</td>\n",
       "      <td>9.0</td>\n",
       "      <td>9.0</td>\n",
       "      <td>9.0</td>\n",
       "      <td>-7.0</td>\n",
       "      <td>-3.0</td>\n",
       "      <td>-2.0</td>\n",
       "      <td>0.0</td>\n",
       "      <td>0.0</td>\n",
       "      <td>0.0</td>\n",
       "    </tr>\n",
       "    <tr>\n",
       "      <th>0.196</th>\n",
       "      <td>5.6</td>\n",
       "      <td>271.0</td>\n",
       "      <td>2.0</td>\n",
       "      <td>0.1</td>\n",
       "      <td>1.0</td>\n",
       "      <td>2.0</td>\n",
       "      <td>9.0</td>\n",
       "      <td>9.0</td>\n",
       "      <td>9.0</td>\n",
       "      <td>-7.0</td>\n",
       "      <td>-6.0</td>\n",
       "      <td>-1.0</td>\n",
       "      <td>0.0</td>\n",
       "      <td>0.7</td>\n",
       "      <td>0.0</td>\n",
       "    </tr>\n",
       "    <tr>\n",
       "      <th>0.253</th>\n",
       "      <td>6.1</td>\n",
       "      <td>276.0</td>\n",
       "      <td>2.0</td>\n",
       "      <td>0.1</td>\n",
       "      <td>0.9</td>\n",
       "      <td>2.3</td>\n",
       "      <td>9.0</td>\n",
       "      <td>9.0</td>\n",
       "      <td>9.0</td>\n",
       "      <td>-7.0</td>\n",
       "      <td>-7.0</td>\n",
       "      <td>-5.0</td>\n",
       "      <td>0.0</td>\n",
       "      <td>0.0</td>\n",
       "      <td>0.0</td>\n",
       "    </tr>\n",
       "    <tr>\n",
       "      <th>0.310</th>\n",
       "      <td>6.4</td>\n",
       "      <td>280.0</td>\n",
       "      <td>0.0</td>\n",
       "      <td>0.1</td>\n",
       "      <td>0.8</td>\n",
       "      <td>2.5</td>\n",
       "      <td>9.0</td>\n",
       "      <td>9.0</td>\n",
       "      <td>9.0</td>\n",
       "      <td>-11.0</td>\n",
       "      <td>-8.0</td>\n",
       "      <td>-7.0</td>\n",
       "      <td>0.0</td>\n",
       "      <td>0.0</td>\n",
       "      <td>0.0</td>\n",
       "    </tr>\n",
       "  </tbody>\n",
       "</table>\n",
       "</div>"
      ],
      "text/plain": [
       "                            SPD    DIR  MET_QC  RAD.0  RAD.1  RAD.2  CNT.0  \\\n",
       "datetime            height                                                   \n",
       "2016-11-21 00:00:12 0.081   3.1  258.0     2.0    0.2    0.8    0.9    7.0   \n",
       "                    0.138   3.6  279.0     2.0    0.2    0.5    1.4    9.0   \n",
       "                    0.196   5.6  271.0     2.0    0.1    1.0    2.0    9.0   \n",
       "                    0.253   6.1  276.0     2.0    0.1    0.9    2.3    9.0   \n",
       "                    0.310   6.4  280.0     0.0    0.1    0.8    2.5    9.0   \n",
       "\n",
       "                            CNT.1  CNT.2  SNR.0  SNR.1  SNR.2  QC.0  QC.1  \\\n",
       "datetime            height                                                  \n",
       "2016-11-21 00:00:12 0.081     7.0    9.0   -6.0    2.0    4.0   0.0   0.0   \n",
       "                    0.138     9.0    9.0   -7.0   -3.0   -2.0   0.0   0.0   \n",
       "                    0.196     9.0    9.0   -7.0   -6.0   -1.0   0.0   0.7   \n",
       "                    0.253     9.0    9.0   -7.0   -7.0   -5.0   0.0   0.0   \n",
       "                    0.310     9.0    9.0  -11.0   -8.0   -7.0   0.0   0.0   \n",
       "\n",
       "                            QC.2  \n",
       "datetime            height        \n",
       "2016-11-21 00:00:12 0.081    0.0  \n",
       "                    0.138    0.0  \n",
       "                    0.196    0.0  \n",
       "                    0.253    0.0  \n",
       "                    0.310    0.0  "
      ]
     },
     "execution_count": 10,
     "metadata": {},
     "output_type": "execute_result"
    }
   ],
   "source": [
    "df.head()"
   ]
  },
  {
   "cell_type": "code",
   "execution_count": null,
   "metadata": {},
   "outputs": [],
   "source": []
  }
 ],
 "metadata": {
  "kernelspec": {
   "display_name": "Python 3",
   "language": "python",
   "name": "python3"
  },
  "language_info": {
   "codemirror_mode": {
    "name": "ipython",
    "version": 3
   },
   "file_extension": ".py",
   "mimetype": "text/x-python",
   "name": "python",
   "nbconvert_exporter": "python",
   "pygments_lexer": "ipython3",
   "version": "3.7.1"
  }
 },
 "nbformat": 4,
 "nbformat_minor": 2
}
