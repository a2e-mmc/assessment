{
 "cells": [
  {
   "cell_type": "code",
   "execution_count": 1,
   "metadata": {},
   "outputs": [],
   "source": [
    "%load_ext autoreload\n",
    "%autoreload 2"
   ]
  },
  {
   "cell_type": "code",
   "execution_count": 2,
   "metadata": {},
   "outputs": [],
   "source": [
    "%matplotlib inline\n",
    "import os\n",
    "import numpy as np\n",
    "import pandas as pd"
   ]
  },
  {
   "cell_type": "code",
   "execution_count": 3,
   "metadata": {},
   "outputs": [],
   "source": [
    "# manually add a2e-mmc repos to PYTHONPATH if needed\n",
    "import sys\n",
    "module_path = os.path.join(os.environ['HOME'],'a2e-mmc')\n",
    "if module_path not in sys.path:\n",
    "    sys.path.append(module_path)"
   ]
  },
  {
   "cell_type": "code",
   "execution_count": 4,
   "metadata": {},
   "outputs": [],
   "source": [
    "# wrapper around reader functions to return a single combined dataframe\n",
    "from mmctools.dataloaders import read_dir, read_date_dirs, read_files"
   ]
  },
  {
   "cell_type": "code",
   "execution_count": 5,
   "metadata": {},
   "outputs": [],
   "source": [
    "# more sophisticated data readers for when default pd.read_csv() doesn't cut it\n",
    "from mmctools.measurements.radar import profiler # see mmctools.measurements.*"
   ]
  },
  {
   "cell_type": "markdown",
   "metadata": {},
   "source": [
    "# Example: Data processing\n",
    "written by [Eliot Quon](mailto:eliot.quon@nrel.gov)\n",
    "- Download and combine a series of data files into one dataframe"
   ]
  },
  {
   "cell_type": "code",
   "execution_count": 6,
   "metadata": {},
   "outputs": [],
   "source": [
    "# dataset name format: project/class.instance.level\n",
    "dataset = 'wfip2/radar.z04.b0' \n",
    "startdate = pd.to_datetime('2016-11-21')\n",
    "enddate = pd.to_datetime('2016-11-22')\n",
    "\n",
    "# optional dataset file specs\n",
    "dataext = 'txt' # file type, dictated by extension\n",
    "dataext1 = 'winds' # e.g., *.winds.txt\n",
    "\n",
    "download_path = 'data'\n",
    "overwrite_files = False # force download even if files already exist"
   ]
  },
  {
   "cell_type": "markdown",
   "metadata": {},
   "source": [
    "## Download data from the DAP\n",
    "This depends on the `a2e` module provided by the `dap-py` package (https://github.com/a2edap/dap-py). Current, the module is in beta, located within a private repo--contact [Matt Macduff](mailto:Matt.Macduff@pnnl.gov) for more information. "
   ]
  },
  {
   "cell_type": "code",
   "execution_count": 7,
   "metadata": {},
   "outputs": [
    {
     "name": "stdout",
     "output_type": "stream",
     "text": [
      "Data path: data/wfip2.radar.z04.b0\n"
     ]
    }
   ],
   "source": [
    "datapath = os.path.join(download_path, dataset.replace('/','.'))\n",
    "print('Data path:',datapath)"
   ]
  },
  {
   "cell_type": "code",
   "execution_count": 8,
   "metadata": {
    "scrolled": true
   },
   "outputs": [
    {
     "name": "stdout",
     "output_type": "stream",
     "text": [
      "No authentication found. Using guest credentials...\n",
      "username: quon\n",
      "password: ········\n",
      "Success!\n",
      "25 data files selected\n",
      "Download successful! data/wfip2.radar.z04.b0/radar.z04.b0.20161121.000000.winds.txt\n",
      "Download successful! data/wfip2.radar.z04.b0/radar.z04.b0.20161121.050000.winds.txt\n",
      "Download successful! data/wfip2.radar.z04.b0/radar.z04.b0.20161121.030000.winds.txt\n",
      "Download successful! data/wfip2.radar.z04.b0/radar.z04.b0.20161121.010000.winds.txt\n",
      "Download successful! data/wfip2.radar.z04.b0/radar.z04.b0.20161121.040000.winds.txt\n",
      "Download successful! data/wfip2.radar.z04.b0/radar.z04.b0.20161121.020000.winds.txt\n",
      "Download successful! data/wfip2.radar.z04.b0/radar.z04.b0.20161121.060000.winds.txt\n",
      "Download successful! data/wfip2.radar.z04.b0/radar.z04.b0.20161121.070000.winds.txt\n",
      "Download successful! data/wfip2.radar.z04.b0/radar.z04.b0.20161121.080000.winds.txt\n",
      "Download successful! data/wfip2.radar.z04.b0/radar.z04.b0.20161121.090000.winds.txt\n",
      "Download successful! data/wfip2.radar.z04.b0/radar.z04.b0.20161121.100000.winds.txt\n",
      "Download successful! data/wfip2.radar.z04.b0/radar.z04.b0.20161121.110000.winds.txt\n",
      "Download successful! data/wfip2.radar.z04.b0/radar.z04.b0.20161121.130000.winds.txt\n",
      "Download successful! data/wfip2.radar.z04.b0/radar.z04.b0.20161121.140000.winds.txt\n",
      "Download successful! data/wfip2.radar.z04.b0/radar.z04.b0.20161121.150000.winds.txt\n",
      "Download successful! data/wfip2.radar.z04.b0/radar.z04.b0.20161121.160000.winds.txt\n",
      "Download successful! data/wfip2.radar.z04.b0/radar.z04.b0.20161121.170000.winds.txt\n",
      "Download successful! data/wfip2.radar.z04.b0/radar.z04.b0.20161121.120000.winds.txt\n",
      "Download successful! data/wfip2.radar.z04.b0/radar.z04.b0.20161121.190000.winds.txt\n",
      "Download successful! data/wfip2.radar.z04.b0/radar.z04.b0.20161121.200000.winds.txt\n",
      "Download successful! data/wfip2.radar.z04.b0/radar.z04.b0.20161121.210000.winds.txt\n",
      "Download successful! data/wfip2.radar.z04.b0/radar.z04.b0.20161121.220000.winds.txt\n",
      "Download successful! data/wfip2.radar.z04.b0/radar.z04.b0.20161122.000000.winds.txt\n",
      "Download successful! data/wfip2.radar.z04.b0/radar.z04.b0.20161121.180000.winds.txt\n",
      "Download successful! data/wfip2.radar.z04.b0/radar.z04.b0.20161121.230000.winds.txt\n",
      "Files to process:\n",
      "  data/wfip2.radar.z04.b0/radar.z04.b0.20161121.000000.winds.txt\n",
      "  data/wfip2.radar.z04.b0/radar.z04.b0.20161121.010000.winds.txt\n",
      "  data/wfip2.radar.z04.b0/radar.z04.b0.20161121.020000.winds.txt\n",
      "  data/wfip2.radar.z04.b0/radar.z04.b0.20161121.030000.winds.txt\n",
      "  data/wfip2.radar.z04.b0/radar.z04.b0.20161121.040000.winds.txt \n",
      "  ...\n"
     ]
    }
   ],
   "source": [
    "try:\n",
    "    import A2e\n",
    "except ImportError:\n",
    "    print('dap-py package not available; need to manually download files')\n",
    "else:\n",
    "    a2e = A2e.A2e()\n",
    "    a2e.setup_cert_auth()\n",
    "    filter_arg = {\n",
    "        'Dataset': dataset,\n",
    "        'date_time': {\n",
    "            'between': [startdate.strftime('%Y%m%d%H%M%S'), enddate.strftime('%Y%m%d%H%M%S')]\n",
    "        }\n",
    "    }\n",
    "    if dataext:\n",
    "        filter_arg['file_type'] = dataext\n",
    "    if dataext1:\n",
    "        filter_arg['ext1'] = dataext1\n",
    "    datafiles = a2e.search(filter_arg)\n",
    "    print(len(datafiles),'data files selected')\n",
    "    filelist = a2e.download_files(datafiles, path=download_path, force=overwrite_files)\n",
    "    if filelist is None:\n",
    "        print('No files were downloaded; need to manually download files to '+datapath)\n",
    "    else:\n",
    "        filelist.sort()\n",
    "        print('Files to process:\\n ','\\n  '.join(filelist[:5]),'\\n  ...')"
   ]
  },
  {
   "cell_type": "markdown",
   "metadata": {},
   "source": [
    "## Process the downloaded files"
   ]
  },
  {
   "cell_type": "markdown",
   "metadata": {},
   "source": [
    "### read a single directory"
   ]
  },
  {
   "cell_type": "code",
   "execution_count": 9,
   "metadata": {},
   "outputs": [
    {
     "name": "stdout",
     "output_type": "stream",
     "text": [
      "CPU times: user 259 ms, sys: 5.09 ms, total: 264 ms\n",
      "Wall time: 271 ms\n"
     ]
    }
   ],
   "source": [
    "%%time\n",
    "df = read_dir(datapath,\n",
    "              reader=profiler, file_filter='*.winds.txt',\n",
    "             )"
   ]
  },
  {
   "cell_type": "code",
   "execution_count": 10,
   "metadata": {},
   "outputs": [
    {
     "data": {
      "text/html": [
       "<div>\n",
       "<style scoped>\n",
       "    .dataframe tbody tr th:only-of-type {\n",
       "        vertical-align: middle;\n",
       "    }\n",
       "\n",
       "    .dataframe tbody tr th {\n",
       "        vertical-align: top;\n",
       "    }\n",
       "\n",
       "    .dataframe thead th {\n",
       "        text-align: right;\n",
       "    }\n",
       "</style>\n",
       "<table border=\"1\" class=\"dataframe\">\n",
       "  <thead>\n",
       "    <tr style=\"text-align: right;\">\n",
       "      <th></th>\n",
       "      <th></th>\n",
       "      <th>SPD</th>\n",
       "      <th>DIR</th>\n",
       "      <th>MET_QC</th>\n",
       "      <th>RAD.0</th>\n",
       "      <th>RAD.1</th>\n",
       "      <th>RAD.2</th>\n",
       "      <th>CNT.0</th>\n",
       "      <th>CNT.1</th>\n",
       "      <th>CNT.2</th>\n",
       "      <th>SNR.0</th>\n",
       "      <th>SNR.1</th>\n",
       "      <th>SNR.2</th>\n",
       "      <th>QC.0</th>\n",
       "      <th>QC.1</th>\n",
       "      <th>QC.2</th>\n",
       "    </tr>\n",
       "    <tr>\n",
       "      <th>datetime</th>\n",
       "      <th>height</th>\n",
       "      <th></th>\n",
       "      <th></th>\n",
       "      <th></th>\n",
       "      <th></th>\n",
       "      <th></th>\n",
       "      <th></th>\n",
       "      <th></th>\n",
       "      <th></th>\n",
       "      <th></th>\n",
       "      <th></th>\n",
       "      <th></th>\n",
       "      <th></th>\n",
       "      <th></th>\n",
       "      <th></th>\n",
       "      <th></th>\n",
       "    </tr>\n",
       "  </thead>\n",
       "  <tbody>\n",
       "    <tr>\n",
       "      <th rowspan=\"5\" valign=\"top\">2016-11-21 00:00:12</th>\n",
       "      <th>0.081</th>\n",
       "      <td>3.1</td>\n",
       "      <td>258.0</td>\n",
       "      <td>2.0</td>\n",
       "      <td>0.2</td>\n",
       "      <td>0.8</td>\n",
       "      <td>0.9</td>\n",
       "      <td>7.0</td>\n",
       "      <td>7.0</td>\n",
       "      <td>9.0</td>\n",
       "      <td>-6.0</td>\n",
       "      <td>2.0</td>\n",
       "      <td>4.0</td>\n",
       "      <td>0.0</td>\n",
       "      <td>0.0</td>\n",
       "      <td>0.0</td>\n",
       "    </tr>\n",
       "    <tr>\n",
       "      <th>0.138</th>\n",
       "      <td>3.6</td>\n",
       "      <td>279.0</td>\n",
       "      <td>2.0</td>\n",
       "      <td>0.2</td>\n",
       "      <td>0.5</td>\n",
       "      <td>1.4</td>\n",
       "      <td>9.0</td>\n",
       "      <td>9.0</td>\n",
       "      <td>9.0</td>\n",
       "      <td>-7.0</td>\n",
       "      <td>-3.0</td>\n",
       "      <td>-2.0</td>\n",
       "      <td>0.0</td>\n",
       "      <td>0.0</td>\n",
       "      <td>0.0</td>\n",
       "    </tr>\n",
       "    <tr>\n",
       "      <th>0.196</th>\n",
       "      <td>5.6</td>\n",
       "      <td>271.0</td>\n",
       "      <td>2.0</td>\n",
       "      <td>0.1</td>\n",
       "      <td>1.0</td>\n",
       "      <td>2.0</td>\n",
       "      <td>9.0</td>\n",
       "      <td>9.0</td>\n",
       "      <td>9.0</td>\n",
       "      <td>-7.0</td>\n",
       "      <td>-6.0</td>\n",
       "      <td>-1.0</td>\n",
       "      <td>0.0</td>\n",
       "      <td>0.7</td>\n",
       "      <td>0.0</td>\n",
       "    </tr>\n",
       "    <tr>\n",
       "      <th>0.253</th>\n",
       "      <td>6.1</td>\n",
       "      <td>276.0</td>\n",
       "      <td>2.0</td>\n",
       "      <td>0.1</td>\n",
       "      <td>0.9</td>\n",
       "      <td>2.3</td>\n",
       "      <td>9.0</td>\n",
       "      <td>9.0</td>\n",
       "      <td>9.0</td>\n",
       "      <td>-7.0</td>\n",
       "      <td>-7.0</td>\n",
       "      <td>-5.0</td>\n",
       "      <td>0.0</td>\n",
       "      <td>0.0</td>\n",
       "      <td>0.0</td>\n",
       "    </tr>\n",
       "    <tr>\n",
       "      <th>0.310</th>\n",
       "      <td>6.4</td>\n",
       "      <td>280.0</td>\n",
       "      <td>0.0</td>\n",
       "      <td>0.1</td>\n",
       "      <td>0.8</td>\n",
       "      <td>2.5</td>\n",
       "      <td>9.0</td>\n",
       "      <td>9.0</td>\n",
       "      <td>9.0</td>\n",
       "      <td>-11.0</td>\n",
       "      <td>-8.0</td>\n",
       "      <td>-7.0</td>\n",
       "      <td>0.0</td>\n",
       "      <td>0.0</td>\n",
       "      <td>0.0</td>\n",
       "    </tr>\n",
       "  </tbody>\n",
       "</table>\n",
       "</div>"
      ],
      "text/plain": [
       "                            SPD    DIR  MET_QC  RAD.0  RAD.1  RAD.2  CNT.0  \\\n",
       "datetime            height                                                   \n",
       "2016-11-21 00:00:12 0.081   3.1  258.0     2.0    0.2    0.8    0.9    7.0   \n",
       "                    0.138   3.6  279.0     2.0    0.2    0.5    1.4    9.0   \n",
       "                    0.196   5.6  271.0     2.0    0.1    1.0    2.0    9.0   \n",
       "                    0.253   6.1  276.0     2.0    0.1    0.9    2.3    9.0   \n",
       "                    0.310   6.4  280.0     0.0    0.1    0.8    2.5    9.0   \n",
       "\n",
       "                            CNT.1  CNT.2  SNR.0  SNR.1  SNR.2  QC.0  QC.1  \\\n",
       "datetime            height                                                  \n",
       "2016-11-21 00:00:12 0.081     7.0    9.0   -6.0    2.0    4.0   0.0   0.0   \n",
       "                    0.138     9.0    9.0   -7.0   -3.0   -2.0   0.0   0.0   \n",
       "                    0.196     9.0    9.0   -7.0   -6.0   -1.0   0.0   0.7   \n",
       "                    0.253     9.0    9.0   -7.0   -7.0   -5.0   0.0   0.0   \n",
       "                    0.310     9.0    9.0  -11.0   -8.0   -7.0   0.0   0.0   \n",
       "\n",
       "                            QC.2  \n",
       "datetime            height        \n",
       "2016-11-21 00:00:12 0.081    0.0  \n",
       "                    0.138    0.0  \n",
       "                    0.196    0.0  \n",
       "                    0.253    0.0  \n",
       "                    0.310    0.0  "
      ]
     },
     "execution_count": 10,
     "metadata": {},
     "output_type": "execute_result"
    }
   ],
   "source": [
    "df.head()"
   ]
  },
  {
   "cell_type": "markdown",
   "metadata": {},
   "source": [
    "Read in scan properties for each data block\n",
    "- Tip: Use command `profiler?` to pop up help in a separate window\n",
    "- Tip 2: Type `profiler(` and press shift+tab 1, 2, or 4 times for quick help"
   ]
  },
  {
   "cell_type": "code",
   "execution_count": 11,
   "metadata": {},
   "outputs": [
    {
     "name": "stdout",
     "output_type": "stream",
     "text": [
      "Help on function profiler in module mmctools.measurements.radar:\n",
      "\n",
      "profiler(fname, scans=None, check_na=['SPD', 'DIR'], na_values=999999, height_name='HT', read_scan_properties=False, verbose=False)\n",
      "    Wind Profiler radar with RASS\n",
      "    \n",
      "    Users:\n",
      "    - Earth Sciences Research Laboratory (ESRL)\n",
      "    - Texas Tech University (TTU)\n",
      "    \n",
      "    Assumed data format for consensus data format rev 5.1 based on\n",
      "    provided reference for rev 4.1 from:\n",
      "    https://a2e.energy.gov/data/wfip2/attach/915mhz-cns-winds-data-format.txt\n",
      "    - Winds variables of interest: SPD, DIR(, SNR)\n",
      "    - RASS variables of interest: T, Tc, W\n",
      "    \n",
      "    Additional data format reference:\n",
      "    https://www.esrl.noaa.gov/psd/data/obs/formats/\n",
      "    \n",
      "    Usage\n",
      "    =====\n",
      "    scans : int, list, or None\n",
      "        Number of data blocks to read from file; a list of zero-indexed\n",
      "        scans to read from file; or set to None to read all data\n",
      "    check_na : list\n",
      "        Column names from file to check for n/a or nan values\n",
      "    na_values : values or list of values\n",
      "        Values to be considered n/a and set to nan\n",
      "    height_name : str or None\n",
      "        Name of height column to return a multi-indexed dataframe, or\n",
      "        None to return with datetime index only\n",
      "    read_scan_properties : bool, list, optional\n",
      "        Read scan properties for each data block if True or an existing\n",
      "        scan information list is provided (to be updated)\n",
      "\n"
     ]
    }
   ],
   "source": [
    "help(profiler)"
   ]
  },
  {
   "cell_type": "code",
   "execution_count": 12,
   "metadata": {},
   "outputs": [
    {
     "name": "stdout",
     "output_type": "stream",
     "text": [
      "CPU times: user 254 ms, sys: 4.07 ms, total: 258 ms\n",
      "Wall time: 256 ms\n"
     ]
    }
   ],
   "source": [
    "%%time\n",
    "scaninfo = []\n",
    "df = read_dir(datapath,\n",
    "              reader=profiler, file_filter='*.winds.txt',\n",
    "              # additional reader argument(s):\n",
    "              read_scan_properties=scaninfo,\n",
    "             )"
   ]
  },
  {
   "cell_type": "code",
   "execution_count": 13,
   "metadata": {},
   "outputs": [
    {
     "data": {
      "text/plain": [
       "{'station': 'WCO',\n",
       " 'data_format': 'WINDS    rev 5.1',\n",
       " 'consensus_avg_time_min': 24,\n",
       " 'num_beams': 3,\n",
       " 'num_range_gates': 44,\n",
       " 'beam:reqd_records_for_consensus': [0, 1, 1],\n",
       " 'beam:tot_num_records': [9, 10, 10],\n",
       " 'beam:consensus_window_size_m/s': [0.0, 0.0, 0.0],\n",
       " 'num_coherent_integrations': [160, 160],\n",
       " 'num_spectral_averages': [50, 50],\n",
       " 'pulse_width_ns': [417, 417],\n",
       " 'inner_pulse_period_ms': [25, 25],\n",
       " 'fullscale_doppler_value_m/s': [20.5, 20.5],\n",
       " 'vertical_correction_to_obliques': True,\n",
       " 'delay_to_first_gate_ns': [3792, 3792],\n",
       " 'num_gates': [44, 44],\n",
       " 'gate_spacing_ns': [417, 417],\n",
       " 'beam:azimuth_deg': [298.0, 208.0, 298.0],\n",
       " 'beam:elevation_deg': [90.0, 66.4, 66.4]}"
      ]
     },
     "execution_count": 13,
     "metadata": {},
     "output_type": "execute_result"
    }
   ],
   "source": [
    "scaninfo[0]"
   ]
  },
  {
   "cell_type": "code",
   "execution_count": null,
   "metadata": {},
   "outputs": [],
   "source": []
  }
 ],
 "metadata": {
  "kernelspec": {
   "display_name": "Python 3",
   "language": "python",
   "name": "python3"
  },
  "language_info": {
   "codemirror_mode": {
    "name": "ipython",
    "version": 3
   },
   "file_extension": ".py",
   "mimetype": "text/x-python",
   "name": "python",
   "nbconvert_exporter": "python",
   "pygments_lexer": "ipython3",
   "version": "3.7.1"
  }
 },
 "nbformat": 4,
 "nbformat_minor": 2
}
