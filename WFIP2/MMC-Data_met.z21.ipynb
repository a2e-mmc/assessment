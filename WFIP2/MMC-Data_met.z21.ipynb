{
 "cells": [
  {
   "cell_type": "markdown",
   "metadata": {},
   "source": [
    "# A2E-MMC Data cleaning notebook: PS-06 met station (z21.b0)\n",
    "\n",
    "This notebook is one in a series of data cleaning notebooks for the Atmosphere to Electron Mesoscale Microscale Coupling project. Information about the project can be found here: https://a2e.energy.gov/. The data cleaning notebooks standardize the format of the data used in the project. The observation data collected for comparison with model results come from various sensors in the northwest United States, as well as Texas, coastal New Jersey and Virginia. Each notebook is specific to a sensor, ingests that sensor's particular data set, and outputs a curated set of variables with consistent naming conventions, units, and fill values. The output data set can then be used in notebooks designed for model analysis. (a link to those notebooks goes here)\n",
    "\n",
    "All input and output files are in netCDF format.\n",
    "\n",
    "Specifically, this notebook is for the data collected at the meteorological station at the PS-06 tower location (45.63798, -120.65082). PS-06 has a tower above-ground height of 21 meters, and takes measurements every 15 minutes at 3, 10, and 21 meters using sonic anemometers, licor, and temperature/ relative humidity probes. Note that this notebook converts netCDF data, and the measurements at 10 and 21 are only available in csv format, meaning that this data set contains data only at the 3 meter level. The tower sits at an elevation of 474 meters above sea level. The data can be found here: https://a2e.energy.gov/data/wfip2/met.z21.b0. \n",
    "\n",
    "Start by importing the libraries you will need for running this notebook:"
   ]
  },
  {
   "cell_type": "code",
   "execution_count": 1,
   "metadata": {},
   "outputs": [],
   "source": [
    "import os \n",
    "import sys\n",
    "import numpy as np\n",
    "import matplotlib.pyplot as plt\n",
    "from netCDF4 import Dataset as ncdf\n",
    "from netCDF4 import stringtochar, num2date, date2num\n",
    "from matplotlib import cm\n",
    "import pandas as pd\n",
    "import datetime\n",
    "from datetime import date, time,timedelta\n",
    "import netCDF4\n",
    "sys.path.append('../../mmctools/')\n",
    "from datawriters import write_to_netCDF"
   ]
  },
  {
   "cell_type": "markdown",
   "metadata": {},
   "source": [
    "After downloading the data for the date you are interested in, change the inputPathBase to reflect where you are keeping that input file. -Note that this should just be the folder path, and should not contain the actual file name. You may also need to change the year, month, and day if you are using a date other than November 1, 2016. Change the outputPathBase to reflect where you want to store the output file (again, this is a folder path). Also, change my name to your name in who_created_me so that you will be associated with the data set you create. "
   ]
  },
  {
   "cell_type": "code",
   "execution_count": 2,
   "metadata": {},
   "outputs": [],
   "source": [
    "#Your working directory (where the data lives...)\n",
    "inputPathBase = \"/Users/decastro/Downloads/\"\n",
    "\n",
    "#Some intrument specifics\n",
    "station_name = 'Boardman'\n",
    "sensor_name  = 'met.z21'\n",
    "\n",
    "instrument_filePrefix = \"{sensorName:s}.b0\".format(sensorName=sensor_name)\n",
    "instrument_fileSuffix = \".son03m.biomet.full_output.csv.a2e.nc\"\n",
    "\n",
    "#The date of interest...\n",
    "year = 2016\n",
    "month = 11\n",
    "day = 1\n",
    "dateString = \"{yyyy:4d}{mm:02d}{dd:02d}\".format(yyyy=year,mm=month,dd=day)\n",
    "\n",
    "#The start time of interest...\n",
    "starthour = 0\n",
    "startmin = 0\n",
    "startsec = 0\n",
    "timeString = \"{hour:02d}{minute:02d}{second:02d}\".format(hour=starthour,minute=startmin,second=startsec)\n",
    "\n",
    "#output file specifics\n",
    "outputPathBase = \"/Users/decastro/Downloads/\"\n",
    "output_filePrefix = instrument_filePrefix\n",
    "output_fileSuffix = \".mmc.a2e.nc\"\n",
    "\n",
    "#Set a value for the output file author attribute\n",
    "who_created_me = 'Amy DeCastro decastro@ucar.edu'\n"
   ]
  },
  {
   "cell_type": "markdown",
   "metadata": {},
   "source": [
    "Run the cell below to assign your input file name and output file name. "
   ]
  },
  {
   "cell_type": "code",
   "execution_count": 3,
   "metadata": {},
   "outputs": [
    {
     "name": "stdout",
     "output_type": "stream",
     "text": [
      "/Users/decastro/Downloads/met.z21.b0.20161101.000000.son03m.biomet.full_output.csv.a2e.nc\n",
      "/Users/decastro/Downloads/met.z21.b0.20161101.000000.mmc.a2e.nc\n"
     ]
    }
   ],
   "source": [
    "#Setup the inputFile and outputFile names from the information specified above\n",
    "inputFile = \"{pb:s}{fP:s}.{ds:s}.{ts:s}{fS:s}\".format(pb=inputPathBase,\n",
    "                                                      fP=instrument_filePrefix,\n",
    "                                                      ds=dateString,\n",
    "                                                      ts=timeString,\n",
    "                                                      fS=instrument_fileSuffix)\n",
    "print(inputFile)\n",
    "\n",
    "outputFile = \"{pb:s}{fP:s}.{ds:s}.{ts:s}{fS:s}\".format(pb=outputPathBase,\n",
    "                                                      fP=output_filePrefix,\n",
    "                                                      ds=dateString,\n",
    "                                                      ts=timeString,\n",
    "                                                      fS=output_fileSuffix)\n",
    "print(outputFile)"
   ]
  },
  {
   "cell_type": "markdown",
   "metadata": {},
   "source": [
    "Next define a function to write the output file. Notice that there is an option in the first line (all_variables) to either keep all of the original variables or pare them down to the standardized format. Keeping the binary as False tells the function to write the curated version. If you wish to output all variables from the input file, switch it to True. \n",
    "\n",
    "The curated variables are listed below as the core_variables, and include north-south wind speed (u), east-west wind speed (v), vertical wind speed (w), wind speed (wspd), wind direction (wdir), temperature (T), pressure (p), potential temperature (theta), and relative humidity (RH). Later in the notebook, long names and units will be assigned to each variable. "
   ]
  },
  {
   "cell_type": "markdown",
   "metadata": {},
   "source": [
    "Summarizing the input file, we can see what variables and dimensions are included. And by printing each variable of interest, we can see its long name, units, and other attributes. By doing so, we can see that we'll want to change the units of time, temperature, and pressure to meet project standards, and we'll want to derive u and v from wind speed and wind direction. "
   ]
  },
  {
   "cell_type": "code",
   "execution_count": 4,
   "metadata": {},
   "outputs": [
    {
     "name": "stdout",
     "output_type": "stream",
     "text": [
      "<class 'netCDF4._netCDF4.Dataset'>\n",
      "root group (NETCDF3_CLASSIC data model, file format NETCDF3):\n",
      "    Conventions: CF-1.6\n",
      "    history: 2018-05-18 15:15:39 created by libingest-1.2 using wfip2_met-1.5 (build version: v1.12.0)\n",
      "    dimensions(sizes): time(96), bounds(2)\n",
      "    variables(dimensions): float64 \u001b[4mtime\u001b[0m(time), float64 \u001b[4mtime_bounds\u001b[0m(time,bounds), float32 \u001b[4mheight\u001b[0m(), float32 \u001b[4msensible_heat_flux\u001b[0m(time), int32 \u001b[4msensible_heat_flux_qc\u001b[0m(time), float32 \u001b[4mwT_sensible_heat_flux\u001b[0m(time), float32 \u001b[4msonic_temperature\u001b[0m(time), float32 \u001b[4mtemperature\u001b[0m(time), float32 \u001b[4mpressure\u001b[0m(time), float32 \u001b[4mrelative_humidity\u001b[0m(time), float32 \u001b[4mwind_u\u001b[0m(time), float32 \u001b[4mwind_v\u001b[0m(time), float32 \u001b[4mwind_w\u001b[0m(time), float32 \u001b[4mwind_speed\u001b[0m(time), float32 \u001b[4mwind_direction\u001b[0m(time), float32 \u001b[4mwind_u_variance\u001b[0m(time), float32 \u001b[4mwind_v_variance\u001b[0m(time), float32 \u001b[4mwind_w_variance\u001b[0m(time), float32 \u001b[4mwind_shear_stress\u001b[0m(time), int32 \u001b[4mwind_shear_stress_qc\u001b[0m(time), float32 \u001b[4mstorage_heat_flux\u001b[0m(time), float32 \u001b[4mair_density\u001b[0m(time), float32 \u001b[4mair_heat_capacity\u001b[0m(time), float32 \u001b[4mair_molar_volume\u001b[0m(time), float32 \u001b[4mwater_vapor_density\u001b[0m(time), float32 \u001b[4mwater_vapor_pressure\u001b[0m(time), float32 \u001b[4mwater_vapor_saturation_pressure\u001b[0m(time), float32 \u001b[4mspecific_humidity\u001b[0m(time), float32 \u001b[4mvapor_pressure_deficit\u001b[0m(time), float32 \u001b[4mdew_temperature\u001b[0m(time), float32 \u001b[4mwind_u_rotated\u001b[0m(time), float32 \u001b[4mwind_v_rotated\u001b[0m(time), float32 \u001b[4mwind_w_rotated\u001b[0m(time), float32 \u001b[4mmax_wind_speed\u001b[0m(time), float32 \u001b[4myaw\u001b[0m(time), float32 \u001b[4mpitch\u001b[0m(time), float32 \u001b[4mfriction_velocity\u001b[0m(time), float32 \u001b[4mturbulent_kinetic_energy\u001b[0m(time), float32 \u001b[4mobukhov_length\u001b[0m(time), float32 \u001b[4mobukhov_stability_param\u001b[0m(time), float32 \u001b[4mdynamic_temperature\u001b[0m(time), float32 \u001b[4muncorrected_wind_shear_stress\u001b[0m(time), float32 \u001b[4mspectral_corr_factor\u001b[0m(time), float32 \u001b[4muncorrected_sensible_heat_flux\u001b[0m(time), float32 \u001b[4msensible_heat_flux_spectral_corr_factor\u001b[0m(time), float32 \u001b[4mwind_u_spikes\u001b[0m(time), float32 \u001b[4mwind_v_spikes\u001b[0m(time), float32 \u001b[4mwind_w_spikes\u001b[0m(time), float32 \u001b[4msonic_temperature_spikes\u001b[0m(time), float32 \u001b[4msonic_temperature_variance\u001b[0m(time), float64 \u001b[4mlatitude\u001b[0m(), float64 \u001b[4mlongitude\u001b[0m(), float64 \u001b[4maltitude\u001b[0m()\n",
      "    groups: \n",
      "\n",
      "<class 'netCDF4._netCDF4.Variable'>\n",
      "float64 time(time)\n",
      "    long_name: time offset from midnight\n",
      "    standard_name: time\n",
      "    units: seconds since 2016-11-01 00:00:00 0:00\n",
      "    bounds: time_bounds\n",
      "unlimited dimensions: time\n",
      "current shape = (96,)\n",
      "filling on, default _FillValue of 9.969209968386869e+36 used\n",
      "\n",
      "<class 'netCDF4._netCDF4.Variable'>\n",
      "float32 temperature(time)\n",
      "    long_name: temperature\n",
      "    standard_name: air_temperature\n",
      "    units: K\n",
      "    cell_methods: time: mean\n",
      "    coordinates: height\n",
      "    _FillValue: 9.96921e+36\n",
      "unlimited dimensions: time\n",
      "current shape = (96,)\n",
      "filling on\n",
      "<class 'netCDF4._netCDF4.Variable'>\n",
      "float32 relative_humidity(time)\n",
      "    long_name: relative humidity\n",
      "    standard_name: relative_humidity\n",
      "    units: %\n",
      "    cell_methods: time: mean\n",
      "    coordinates: height\n",
      "    _FillValue: 9.96921e+36\n",
      "unlimited dimensions: time\n",
      "current shape = (96,)\n",
      "filling on\n",
      "<class 'netCDF4._netCDF4.Variable'>\n",
      "float32 pressure(time)\n",
      "    long_name: barometric pressure\n",
      "    standard_name: surface_air_pressure\n",
      "    units: hPa\n",
      "    cell_methods: time: mean\n",
      "    coordinates: height\n",
      "    _FillValue: 9.96921e+36\n",
      "unlimited dimensions: time\n",
      "current shape = (96,)\n",
      "filling on\n",
      "<class 'netCDF4._netCDF4.Variable'>\n",
      "float32 wind_speed(time)\n",
      "    long_name: wind speed\n",
      "    standard_name: wind_speed\n",
      "    units: m/s\n",
      "    cell_methods: time: mean\n",
      "    coordinates: height\n",
      "    _FillValue: 9.96921e+36\n",
      "unlimited dimensions: time\n",
      "current shape = (96,)\n",
      "filling on\n",
      "<class 'netCDF4._netCDF4.Variable'>\n",
      "float32 wind_direction(time)\n",
      "    long_name: wind direction\n",
      "    standard_name: wind_from_direction\n",
      "    units: degree\n",
      "    cell_methods: time: mean\n",
      "    coordinates: height\n",
      "    _FillValue: 9.96921e+36\n",
      "unlimited dimensions: time\n",
      "current shape = (96,)\n",
      "filling on\n",
      "<class 'netCDF4._netCDF4.Variable'>\n",
      "float32 wind_u(time)\n",
      "    long_name: u component of wind velocity\n",
      "    standard_name: eastward_wind\n",
      "    units: m/s\n",
      "    cell_methods: time: mean\n",
      "    coordinates: height\n",
      "    _FillValue: 9.96921e+36\n",
      "unlimited dimensions: time\n",
      "current shape = (96,)\n",
      "filling on\n",
      "<class 'netCDF4._netCDF4.Variable'>\n",
      "float32 wind_v(time)\n",
      "    long_name: v component of wind velocity\n",
      "    standard_name: northward_wind\n",
      "    units: m/s\n",
      "    cell_methods: time: mean\n",
      "    coordinates: height\n",
      "    _FillValue: 9.96921e+36\n",
      "unlimited dimensions: time\n",
      "current shape = (96,)\n",
      "filling on\n",
      "<class 'netCDF4._netCDF4.Variable'>\n",
      "float32 height()\n",
      "    long_name: height above ground level\n",
      "    standard_name: height\n",
      "    units: m\n",
      "    _FillValue: 9.96921e+36\n",
      "unlimited dimensions: \n",
      "current shape = ()\n",
      "filling on\n"
     ]
    }
   ],
   "source": [
    "f = netCDF4.Dataset(inputFile)\n",
    "print(f)\n",
    "print(f.variables['time'])\n",
    "print(f.variables['temperature'])\n",
    "print(f.variables['relative_humidity'])\n",
    "print(f.variables['pressure'])\n",
    "print(f.variables['wind_speed'])\n",
    "print(f.variables['wind_direction'])\n",
    "print(f.variables['wind_u'])\n",
    "print(f.variables['wind_v'])\n",
    "print(f.variables['height'])"
   ]
  },
  {
   "cell_type": "markdown",
   "metadata": {},
   "source": [
    "Assign the latitude, longitude, and altitude of the station. "
   ]
  },
  {
   "cell_type": "code",
   "execution_count": 5,
   "metadata": {},
   "outputs": [
    {
     "name": "stdout",
     "output_type": "stream",
     "text": [
      "45.63798 -120.65082 474.0\n"
     ]
    }
   ],
   "source": [
    "lat, lon, alt = f.variables['latitude'][:], f.variables['longitude'][:], f.variables['altitude'][:]\n",
    "print(lat, lon, alt)"
   ]
  },
  {
   "cell_type": "markdown",
   "metadata": {},
   "source": [
    "The time from the input data is formatted in seconds from midnight on November 1, 2016. Run the cell below to change the formatting to epoch time. "
   ]
  },
  {
   "cell_type": "code",
   "execution_count": 6,
   "metadata": {},
   "outputs": [
    {
     "name": "stdout",
     "output_type": "stream",
     "text": [
      "[1.4779593e+09 1.4779602e+09 1.4779611e+09 1.4779620e+09 1.4779629e+09\n",
      " 1.4779638e+09 1.4779647e+09 1.4779656e+09 1.4779665e+09 1.4779674e+09\n",
      " 1.4779683e+09 1.4779692e+09 1.4779701e+09 1.4779710e+09 1.4779719e+09\n",
      " 1.4779728e+09 1.4779737e+09 1.4779746e+09 1.4779755e+09 1.4779764e+09\n",
      " 1.4779773e+09 1.4779782e+09 1.4779791e+09 1.4779800e+09 1.4779809e+09\n",
      " 1.4779818e+09 1.4779827e+09 1.4779836e+09 1.4779845e+09 1.4779854e+09\n",
      " 1.4779863e+09 1.4779872e+09 1.4779881e+09 1.4779890e+09 1.4779899e+09\n",
      " 1.4779908e+09 1.4779917e+09 1.4779926e+09 1.4779935e+09 1.4779944e+09\n",
      " 1.4779953e+09 1.4779962e+09 1.4779971e+09 1.4779980e+09 1.4779989e+09\n",
      " 1.4779998e+09 1.4780007e+09 1.4780016e+09 1.4780025e+09 1.4780034e+09\n",
      " 1.4780043e+09 1.4780052e+09 1.4780061e+09 1.4780070e+09 1.4780079e+09\n",
      " 1.4780088e+09 1.4780097e+09 1.4780106e+09 1.4780115e+09 1.4780124e+09\n",
      " 1.4780133e+09 1.4780142e+09 1.4780151e+09 1.4780160e+09 1.4780169e+09\n",
      " 1.4780178e+09 1.4780187e+09 1.4780196e+09 1.4780205e+09 1.4780214e+09\n",
      " 1.4780223e+09 1.4780232e+09 1.4780241e+09 1.4780250e+09 1.4780259e+09\n",
      " 1.4780268e+09 1.4780277e+09 1.4780286e+09 1.4780295e+09 1.4780304e+09\n",
      " 1.4780313e+09 1.4780322e+09 1.4780331e+09 1.4780340e+09 1.4780349e+09\n",
      " 1.4780358e+09 1.4780367e+09 1.4780376e+09 1.4780385e+09 1.4780394e+09\n",
      " 1.4780403e+09 1.4780412e+09 1.4780421e+09 1.4780430e+09 1.4780439e+09\n",
      " 1.4780448e+09]\n"
     ]
    }
   ],
   "source": [
    "time = f.variables['time'][:]\n",
    "mytime=np.array(time,dtype='float64')\n",
    "#print(mytime)\n",
    "nt = time.size\n",
    "#print(nt)\n",
    "#print(type(mytime[0]))\n",
    "dtTimes = [datetime.datetime(2016,11,1) + timedelta(seconds=i) for i in mytime]\n",
    "#Times = date2num(dtTimes,units='hours since 0001-01-01 00:00:00.0',calendar='gregorian')\n",
    "Times = date2num(dtTimes,units='seconds since 1970-01-01 00:00:00.0',calendar='gregorian')\n",
    "print(Times)"
   ]
  },
  {
   "cell_type": "markdown",
   "metadata": {},
   "source": [
    "Next, assign standardized variable names."
   ]
  },
  {
   "cell_type": "code",
   "execution_count": 7,
   "metadata": {},
   "outputs": [],
   "source": [
    "#T = f.variables['temperature'][:]\n",
    "#RH = f.variables['relative_humidity'][:]\n",
    "#p = f.variables['pressure'][:]\n",
    "#wspd = f.variables['wind_speed'][:]\n",
    "#wdir = f.variables['wind_direction'][:]\n",
    "\n",
    "new_fill = 9999\n",
    "for varn in ['temperature','relative_humidity','pressure', 'wind_speed', 'wind_direction', 'wind_u_rotated', 'wind_v_rotated', 'wind_w_rotated']:\n",
    "    var = f.variables[varn]\n",
    "    old_fill = var._FillValue\n",
    "    var[var==old_fill] = np.nan\n",
    "    if varn == 'temperature': T = var[:]\n",
    "    if varn == 'relative_humidity': RH = var[:]\n",
    "    if varn == 'wind_w_rotated': w = var[:]\n",
    "#p = f.variables['pressure'][:]\n",
    "    if varn == 'pressure': p = var[:]\n",
    "    \n",
    "#RH = f.variables['relative_humidity'][:]\n",
    "wspd = f.variables['wind_speed'][:]\n",
    "wdir = f.variables['wind_direction'][:]\n",
    "u = f.variables['wind_u'][:]\n",
    "v = f.variables['wind_v'][:]"
   ]
  },
  {
   "cell_type": "markdown",
   "metadata": {},
   "source": [
    "Although there are sensors at 3, 10, and 21 meters above ground, this data set provides only measurements taken at 3 meters, so the output data set will have only one height dimension.  "
   ]
  },
  {
   "cell_type": "code",
   "execution_count": 8,
   "metadata": {},
   "outputs": [
    {
     "name": "stdout",
     "output_type": "stream",
     "text": [
      "3.0 1\n"
     ]
    }
   ],
   "source": [
    "height = f.variables['height'][:]\n",
    "nz = height.size\n",
    "print(height, nz)"
   ]
  },
  {
   "cell_type": "markdown",
   "metadata": {},
   "source": [
    "Assign the dimension names and sizes."
   ]
  },
  {
   "cell_type": "code",
   "execution_count": 9,
   "metadata": {},
   "outputs": [],
   "source": [
    "dim_names = ['time', 'height']\n",
    "dims      = [    nt,    nz]"
   ]
  },
  {
   "cell_type": "markdown",
   "metadata": {},
   "source": [
    "Assign names, units, types, and dimensions to the variables. Notice that we've changed the units for pressure from hPa to mbar, there's no mathematical conversion necessary for that change, so we just reassign the units that meet the project standards."
   ]
  },
  {
   "cell_type": "code",
   "execution_count": 10,
   "metadata": {},
   "outputs": [],
   "source": [
    "# Assign all of the data you want to arrays as follows:\n",
    "var_data  = [Times, T, RH, p, u, v, wspd, wdir] # the actual data var[time,height]\n",
    "var_names = ['Times','T', 'RH', 'p', 'u', 'v', 'wspd', 'wdir'] # a string for the name of the data\n",
    "var_units = ['seconds since 1970-01-01 00:00:00.0','K', '%',  'mbar', 'm/s', 'm/s', 'm/s', 'degree'] # units of the data \n",
    "# The data type is needed to add the variable to a netCDF file:\n",
    "var_dtype = [np.float64, np.float64, np.float64, np.float64, np.float64, np.float64, np.float64, np.float64, np.float64, np.float64, np.float64]\n",
    "# The dimensions of EACH variable must be specified as follows:\n",
    "var_dims  = [('time'),('time','height'),('time','height'),('time','height'),('time','height'),('time','height'),('time','height'),('time','height')]"
   ]
  },
  {
   "cell_type": "markdown",
   "metadata": {},
   "source": [
    "To keep track of changes between the input and output data sets, we'll note the changes we made in the description. We'll also assign an author to the output data set. So if you've changed anything about the way the output data is generated, change my name to your name here. "
   ]
  },
  {
   "cell_type": "code",
   "execution_count": 11,
   "metadata": {},
   "outputs": [],
   "source": [
    "description = 'Converted pressure units from hPa to mbar, and assigned heights as dimensions'"
   ]
  },
  {
   "cell_type": "markdown",
   "metadata": {},
   "source": [
    "Now use a dictionary to associate all of the data you've created with the function for writing the output file. "
   ]
  },
  {
   "cell_type": "code",
   "execution_count": 12,
   "metadata": {},
   "outputs": [],
   "source": [
    "# Assign all of the information to a dictionary so that we can call it into the \n",
    "# ... write_to_netcdf function.\n",
    "vardict = {\n",
    "   'dimname'    : dim_names,     # the names of the dimensions\n",
    "   'dims'       : dims,          # the size of the dimensions\n",
    "   'varn'       : var_names,     # the names of the variables\n",
    "   'data'       : var_data,      # the data, itself\n",
    "   'units'      : var_units,     # the units for each variable\n",
    "   'vardims'    : var_dims,      # the dimensions of each variable\n",
    "   'vardtype'   : var_dtype,     # the data types\n",
    "   'time'       : time,          # time\n",
    "   'station'    : station_name,  # Name of the station\n",
    "   'sensor'     : sensor_name,   # Name of the sensor\n",
    "   'latitude'   : lat,           # station latitude\n",
    "   'longitude'  : lon,           # station longitude\n",
    "   'altitude'   : alt,           # station altitude\n",
    "   'description': description,   # description of what the data is\n",
    "   'author'     : who_created_me,# who created this file\n",
    "   'fillValue'  : new_fill       # fill value\n",
    "}"
   ]
  },
  {
   "cell_type": "markdown",
   "metadata": {},
   "source": [
    "Write your output file."
   ]
  },
  {
   "cell_type": "code",
   "execution_count": 13,
   "metadata": {},
   "outputs": [
    {
     "name": "stdout",
     "output_type": "stream",
     "text": [
      "Times\n",
      "1477959300.0\n",
      "T\n",
      "[284.14337158]\n",
      "RH\n",
      "[76.25296783]\n",
      "p\n",
      "[956.10388184]\n",
      "u\n",
      "[-1.61671495]\n",
      "v\n",
      "[0.86782181]\n",
      "wspd\n",
      "[1.83651686]\n",
      "wdir\n",
      "[313.2260437]\n"
     ]
    }
   ],
   "source": [
    "write_to_netCDF(outputFile,vardict)"
   ]
  },
  {
   "cell_type": "markdown",
   "metadata": {},
   "source": [
    "You can execute the cell below to see it in standardized format and double-check that it as all of the variables, dimensions, and attributes that you need to begin analysis. "
   ]
  },
  {
   "cell_type": "code",
   "execution_count": 14,
   "metadata": {},
   "outputs": [
    {
     "name": "stdout",
     "output_type": "stream",
     "text": [
      "<class 'netCDF4._netCDF4.Dataset'>\n",
      "root group (NETCDF4_CLASSIC data model, file format HDF5):\n",
      "    description: Converted pressure units from hPa to mbar, and assigned heights as dimensions\n",
      "    station: Boardman\n",
      "    sensor: met.z21\n",
      "    latitude: 45.63798\n",
      "    longitude: -120.65082\n",
      "    altitude: 474.0\n",
      "    createdon: 2019-05-21 11:42:26\n",
      "    createdby: Amy DeCastro decastro@ucar.edu\n",
      "    dimensions(sizes): time(96), height(1), nchars(19)\n",
      "    variables(dimensions): float64 \u001b[4mTimes\u001b[0m(time), float64 \u001b[4mT\u001b[0m(time,height), float64 \u001b[4mRH\u001b[0m(time,height), float64 \u001b[4mp\u001b[0m(time,height), float64 \u001b[4mu\u001b[0m(time,height), float64 \u001b[4mv\u001b[0m(time,height), float64 \u001b[4mwspd\u001b[0m(time,height), float64 \u001b[4mwdir\u001b[0m(time,height)\n",
      "    groups: \n",
      "\n"
     ]
    }
   ],
   "source": [
    "out = netCDF4.Dataset(outputFile)\n",
    "print(out)"
   ]
  },
  {
   "cell_type": "code",
   "execution_count": 15,
   "metadata": {},
   "outputs": [
    {
     "name": "stdout",
     "output_type": "stream",
     "text": [
      "<class 'netCDF4._netCDF4.Variable'>\n",
      "float64 u(time, height)\n",
      "    _FillValue: 9999.0\n",
      "    units: m/s\n",
      "unlimited dimensions: \n",
      "current shape = (96, 1)\n",
      "filling on\n"
     ]
    }
   ],
   "source": [
    "print(out.variables['u'])"
   ]
  },
  {
   "cell_type": "code",
   "execution_count": null,
   "metadata": {},
   "outputs": [],
   "source": []
  }
 ],
 "metadata": {
  "kernelspec": {
   "display_name": "Python 3",
   "language": "python",
   "name": "python3"
  },
  "language_info": {
   "codemirror_mode": {
    "name": "ipython",
    "version": 3
   },
   "file_extension": ".py",
   "mimetype": "text/x-python",
   "name": "python",
   "nbconvert_exporter": "python",
   "pygments_lexer": "ipython3",
   "version": "3.7.1"
  }
 },
 "nbformat": 4,
 "nbformat_minor": 2
}
