{
 "cells": [
  {
   "cell_type": "code",
   "execution_count": 1,
   "metadata": {},
   "outputs": [],
   "source": [
    "import sys\n",
    "sys.path.append('../mmctools/')\n",
    "from TTURawToMMC import *"
   ]
  },
  {
   "cell_type": "code",
   "execution_count": 2,
   "metadata": {},
   "outputs": [
    {
     "name": "stdout",
     "output_type": "stream",
     "text": [
      "dateStr = 2013-11-08\n",
      "tStrt,tStop = 0,180000\n",
      "tStrt,tStop = 180000,360000\n",
      "tStrt,tStop = 360000,540000\n",
      "tStrt,tStop = 540000,720000\n",
      "tStrt,tStop = 720000,900000\n",
      "tStrt,tStop = 900000,1080000\n",
      "tStrt,tStop = 1080000,1260000\n",
      "tStrt,tStop = 1260000,1440000\n",
      "tStrt,tStop = 1440000,1620000\n",
      "tStrt,tStop = 1620000,1800000\n",
      "tStrt,tStop = 1800000,1980000\n",
      "tStrt,tStop = 1980000,2160000\n",
      "tStrt,tStop = 2160000,2340000\n",
      "tStrt,tStop = 2340000,2520000\n",
      "tStrt,tStop = 2520000,2700000\n",
      "tStrt,tStop = 2700000,2880000\n",
      "tStrt,tStop = 2880000,3060000\n",
      "tStrt,tStop = 3060000,3240000\n",
      "tStrt,tStop = 3240000,3420000\n",
      "tStrt,tStop = 3420000,3600000\n",
      "tStrt,tStop = 3600000,3780000\n",
      "tStrt,tStop = 3780000,3960000\n",
      "tStrt,tStop = 3960000,4140000\n",
      "tStrt,tStop = 4140000,4320000\n",
      "Done!\n"
     ]
    }
   ],
   "source": [
    "inPath = '/glade/p/ral/nsap/jsauer/JAS/A2E-MMC/TTURAW/2013'\n",
    "startyear = '2013'\n",
    "startmonth = '11'\n",
    "startday = '08'\n",
    "outPath = '/glade/p/ral/nsap/jsauer/JAS/A2E-MMC/TTURAW/2013/MMC_ASCII-Data'\n",
    "TTURawToMMC(inPath,startyear,startmonth,startday,outPath)"
   ]
  },
  {
   "cell_type": "code",
   "execution_count": null,
   "metadata": {},
   "outputs": [],
   "source": []
  },
  {
   "cell_type": "code",
   "execution_count": null,
   "metadata": {},
   "outputs": [],
   "source": []
  }
 ],
 "metadata": {
  "kernelspec": {
   "display_name": "Python 3",
   "language": "python",
   "name": "python3"
  },
  "language_info": {
   "codemirror_mode": {
    "name": "ipython",
    "version": 3
   },
   "file_extension": ".py",
   "mimetype": "text/x-python",
   "name": "python",
   "nbconvert_exporter": "python",
   "pygments_lexer": "ipython3",
   "version": "3.6.8"
  }
 },
 "nbformat": 4,
 "nbformat_minor": 2
}
