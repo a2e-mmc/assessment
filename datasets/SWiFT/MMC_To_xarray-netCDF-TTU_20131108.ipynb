{
 "cells": [
  {
   "cell_type": "code",
   "execution_count": 1,
   "metadata": {},
   "outputs": [
    {
     "name": "stderr",
     "output_type": "stream",
     "text": [
      "/gpfs/u/apps/dav/opt/python/3.6.8/gnu/7.3.0/pkg-library/20190326/lib/python3.6/site-packages/distributed/config.py:20: YAMLLoadWarning: calling yaml.load() without Loader=... is deprecated, as the default Loader is unsafe. Please read https://msg.pyyaml.org/load for full details.\n",
      "  defaults = yaml.load(f)\n"
     ]
    }
   ],
   "source": [
    "import sys\n",
    "sys.path.append('../mmctools/')\n",
    "from MMCconverters import *"
   ]
  },
  {
   "cell_type": "code",
   "execution_count": 2,
   "metadata": {
    "scrolled": false
   },
   "outputs": [
    {
     "name": "stdout",
     "output_type": "stream",
     "text": [
      "inpath: /glade/p/ral/nsap/jsauer/JAS/A2E-MMC/TTURAW//2013/MMC_ASCII-Data/\n",
      "--contains: 1 files/directories\n",
      "\tTTU200m_2013_1108-1Hz.dat\n",
      "\n",
      "\n",
      "xarray/netcdf-izing MMC file-- TTU200m_2013_1108-1Hz.dat\n",
      "lab: SNL\n",
      "codename: TOWER\n",
      "levels: 10\n",
      "MMC file-- TTU200m_2013_1108-1Hz.dat now xarray'd!\n",
      "\n",
      "Done xarray/netcdf-izing input files! \n",
      "outpath: /glade/p/ral/nsap/jsauer/JAS/A2E-MMC/TTURAW//2013/NCDF-Data/\n",
      "--contains: 1 files/directories\n",
      "\tTTU200m_2013_1108-1Hz.nc\n",
      "\n",
      "\n"
     ]
    }
   ],
   "source": [
    "pathbase = '/glade/p/ral/nsap/jsauer/JAS/A2E-MMC/TTURAW'\n",
    "yearDir = '2013' \n",
    "inFormatDir = 'MMC_ASCII-Data'\n",
    "outFormatDir = 'NCDF-Data'\n",
    "convertMMCToXarrayNCDF(pathbase,yearDir,inFormatDir,outFormatDir)"
   ]
  },
  {
   "cell_type": "code",
   "execution_count": null,
   "metadata": {},
   "outputs": [],
   "source": []
  }
 ],
 "metadata": {
  "kernelspec": {
   "display_name": "Python 3",
   "language": "python",
   "name": "python3"
  },
  "language_info": {
   "codemirror_mode": {
    "name": "ipython",
    "version": 3
   },
   "file_extension": ".py",
   "mimetype": "text/x-python",
   "name": "python",
   "nbconvert_exporter": "python",
   "pygments_lexer": "ipython3",
   "version": "3.6.8"
  }
 },
 "nbformat": 4,
 "nbformat_minor": 2
}
