{
 "cells": [
  {
   "cell_type": "code",
   "execution_count": 1,
   "metadata": {},
   "outputs": [],
   "source": [
    "%matplotlib inline\n",
    "import os\n",
    "import glob\n",
    "import numpy as np\n",
    "import matplotlib.pyplot as plt\n",
    "import matplotlib.dates as mdates\n",
    "import pandas as pd\n",
    "import xarray as xr\n",
    "from scipy.interpolate import interp1d\n",
    "\n",
    "from mmctools.helper_functions import fit_powerlaw, theta\n",
    "from mmctools.plotting import plot_timehistory_at_height"
   ]
  },
  {
   "cell_type": "markdown",
   "metadata": {},
   "source": [
    "# Assess atmospheric conditions during June 2018 around ARM SGP site\n",
    "Using the following Atmospheric Radiation Measurement (ARM) data products at the Southern Great Plains (SGP) facility:\n",
    "* doppler lidar wind profiler, value-added product (`DLPROFWIND4NEWS`)\n",
    "> Atmospheric Radiation Measurement (ARM) user facility. 2010, updated hourly. Doppler Lidar Profiles (DLPROFWIND4NEWS). 2018-06-03 to 2018-06-27, Southern Great Plains (SGP) Central Facility, Lamont, OK (C1). Compiled by D. Zhang and L. Riihimaki. ARM Data Center. Data set accessed 2020-09-04 at http://dx.doi.org/10.5439/1190027.\n",
    "* surface meteorological station (`MET`)\n",
    "> Atmospheric Radiation Measurement (ARM) user facility. 1993, updated hourly. Surface Meteorological Instrumentation (MET). 2018-06-03 to 2018-06-27, Southern Great Plains (SGP) Lamont, OK (Extended and Co-located with C1) (E13). Compiled by J. Kyrouac and D. Holdridge. ARM Data Center. Data set accessed 2020-09-04 at http://dx.doi.org/10.5439/1025220.\n",
    "* eddy correlation flux measurement system (`30ECOR`)\n",
    "> Atmospheric Radiation Measurement (ARM) user facility. 2003, updated hourly. Eddy Correlation Flux Measurement System (30ECOR). 2018-06-03 to 2018-06-27, Southern Great Plains (SGP) Lamont, OK (Extended, secondary) (E14). Compiled by R. Sullivan, D. Cook and E. Keeler. ARM Data Center. Data set accessed 2020-09-04 at http://dx.doi.org/10.5439/1025039.\n",
    "* quality controlled eddy correlation flux measurement (`30QCECOR`) - see `June2018_compare_hfx_qc.ipynb`\n",
    "> Atmospheric Radiation Measurement (ARM) user facility. 2003, updated hourly. Quality Controlled Eddy Correlation Flux Measurement (30QCECOR). 2018-06-03 to 2018-06-27, Southern Great Plains (SGP) Lamont, OK (Extended, secondary) (E14). Compiled by S. Xie and D. Cook. ARM Data Center. Data set accessed 2020-09-08 at http://dx.doi.org/10.5439/1097546."
   ]
  },
  {
   "cell_type": "code",
   "execution_count": 2,
   "metadata": {},
   "outputs": [],
   "source": [
    "startdate = pd.to_datetime('2018-06-03')\n",
    "enddate = pd.to_datetime('2018-06-26')"
   ]
  },
  {
   "cell_type": "code",
   "execution_count": 3,
   "metadata": {},
   "outputs": [],
   "source": [
    "lidar_datafiles = '/Users/equon/OneDrive - NREL/AWAKEN/ARM/dlprofwind4news/sgpdlprofwind4newsC1.c1.*.nc'\n",
    "met_datafiles = '/Users/equon/OneDrive - NREL/AWAKEN/ARM/met/sgpmetE13.b1.*.cdf'\n",
    "ecor_datafiles = '/Users/equon/OneDrive - NREL/AWAKEN/ARM/30ecor/sgp30ecorE14.b1.*.cdf'\n",
    "qcecor_datafiles = '/Users/equon/OneDrive - NREL/AWAKEN/ARM/30qcecor/sgp30qcecorE14.s1.*.nc'"
   ]
  },
  {
   "cell_type": "code",
   "execution_count": 4,
   "metadata": {},
   "outputs": [],
   "source": [
    "zhub = 80.0\n",
    "D = 82.5"
   ]
  },
  {
   "cell_type": "code",
   "execution_count": 5,
   "metadata": {},
   "outputs": [],
   "source": [
    "# measurement heights\n",
    "met_wind_height = 10.0\n",
    "ecor_wind_height = 3.0"
   ]
  },
  {
   "cell_type": "code",
   "execution_count": 6,
   "metadata": {},
   "outputs": [],
   "source": [
    "# wind shear estimation\n",
    "zmax = 200. # upper bound of lidar data to use for wind profile characerization\n",
    "R2_cutoff = 0.9 # threshold for rejecting fit"
   ]
  },
  {
   "cell_type": "markdown",
   "metadata": {},
   "source": [
    "## 1. Read data"
   ]
  },
  {
   "cell_type": "markdown",
   "metadata": {},
   "source": [
    "### - lidar data"
   ]
  },
  {
   "cell_type": "code",
   "execution_count": 7,
   "metadata": {},
   "outputs": [],
   "source": [
    "lidarfiles = glob.glob(lidar_datafiles)\n",
    "lidar = xr.open_mfdataset(lidarfiles)"
   ]
  },
  {
   "cell_type": "code",
   "execution_count": 8,
   "metadata": {},
   "outputs": [],
   "source": [
    "# update wind field names to match other datasets\n",
    "lidar = lidar.rename_vars({'wind_speed':'wspd','wind_direction':'wdir'})"
   ]
  },
  {
   "cell_type": "code",
   "execution_count": 9,
   "metadata": {},
   "outputs": [
    {
     "name": "stderr",
     "output_type": "stream",
     "text": [
      "/Users/equon/anaconda3/envs/forge/lib/python3.8/site-packages/xarray/core/common.py:1123: FutureWarning: 'base' in .resample() and in Grouper() is deprecated.\n",
      "The new arguments that you should use are 'offset' or 'origin'.\n",
      "\n",
      ">>> df.resample(freq=\"3s\", base=2)\n",
      "\n",
      "becomes:\n",
      "\n",
      ">>> df.resample(freq=\"3s\", offset=\"2s\")\n",
      "\n",
      "  grouper = pd.Grouper(\n"
     ]
    },
    {
     "name": "stdout",
     "output_type": "stream",
     "text": [
      "CPU times: user 37.8 s, sys: 369 ms, total: 38.2 s\n",
      "Wall time: 38.4 s\n"
     ]
    }
   ],
   "source": [
    "# resample to 30-min intervals for comparison with other data\n",
    "%time lidar = lidar.resample(time='30min').mean()\n",
    "\n",
    "# CPU times: user 37.6 s, sys: 311 ms, total: 37.9 s\n",
    "# Wall time: 38.1 s"
   ]
  },
  {
   "cell_type": "markdown",
   "metadata": {},
   "source": [
    "### - met mast"
   ]
  },
  {
   "cell_type": "code",
   "execution_count": 10,
   "metadata": {},
   "outputs": [],
   "source": [
    "metfiles = glob.glob(met_datafiles)\n",
    "met = xr.open_mfdataset(metfiles)"
   ]
  },
  {
   "cell_type": "code",
   "execution_count": 11,
   "metadata": {},
   "outputs": [],
   "source": [
    "# update wind field names to match other datasets\n",
    "met = met.rename_vars({'wspd_vec_mean':'wspd','wdir_vec_mean':'wdir'})"
   ]
  },
  {
   "cell_type": "code",
   "execution_count": 12,
   "metadata": {},
   "outputs": [
    {
     "name": "stderr",
     "output_type": "stream",
     "text": [
      "/Users/equon/anaconda3/envs/forge/lib/python3.8/site-packages/xarray/core/common.py:1123: FutureWarning: 'base' in .resample() and in Grouper() is deprecated.\n",
      "The new arguments that you should use are 'offset' or 'origin'.\n",
      "\n",
      ">>> df.resample(freq=\"3s\", base=2)\n",
      "\n",
      "becomes:\n",
      "\n",
      ">>> df.resample(freq=\"3s\", offset=\"2s\")\n",
      "\n",
      "  grouper = pd.Grouper(\n"
     ]
    },
    {
     "name": "stdout",
     "output_type": "stream",
     "text": [
      "CPU times: user 1min 15s, sys: 743 ms, total: 1min 15s\n",
      "Wall time: 1min 16s\n"
     ]
    }
   ],
   "source": [
    "# resample to 30-min intervals for comparison with other data\n",
    "%time met = met.resample(time='30min').mean()\n",
    "\n",
    "# CPU times: user 1min 12s, sys: 533 ms, total: 1min 13s\n",
    "# Wall time: 1min 13s"
   ]
  },
  {
   "cell_type": "markdown",
   "metadata": {},
   "source": [
    "### - flux station"
   ]
  },
  {
   "cell_type": "code",
   "execution_count": 13,
   "metadata": {},
   "outputs": [],
   "source": [
    "ecorfiles = glob.glob(ecor_datafiles)\n",
    "ecor = xr.open_mfdataset(ecorfiles)"
   ]
  },
  {
   "cell_type": "code",
   "execution_count": 14,
   "metadata": {},
   "outputs": [],
   "source": [
    "# update wind field names to match other datasets\n",
    "ecor = ecor.rename_vars({'wind_spd':'wspd','wind_dir':'wdir'})"
   ]
  },
  {
   "cell_type": "code",
   "execution_count": 15,
   "metadata": {},
   "outputs": [],
   "source": [
    "# use qc'd dataset for corrected heat fluxes\n",
    "qcecorfiles = glob.glob(qcecor_datafiles)\n",
    "qcecor = xr.open_mfdataset(qcecorfiles)"
   ]
  },
  {
   "cell_type": "markdown",
   "metadata": {},
   "source": [
    "### - gather all wind-speed data"
   ]
  },
  {
   "cell_type": "code",
   "execution_count": 16,
   "metadata": {},
   "outputs": [
    {
     "name": "stderr",
     "output_type": "stream",
     "text": [
      "/Users/equon/anaconda3/envs/forge/lib/python3.8/site-packages/dask/array/numpy_compat.py:40: RuntimeWarning: invalid value encountered in true_divide\n",
      "  x = np.divide(x1, x2, out)\n",
      "/Users/equon/anaconda3/envs/forge/lib/python3.8/site-packages/dask/array/numpy_compat.py:40: RuntimeWarning: invalid value encountered in true_divide\n",
      "  x = np.divide(x1, x2, out)\n"
     ]
    },
    {
     "data": {
      "text/plain": [
       "1105"
      ]
     },
     "execution_count": 16,
     "metadata": {},
     "output_type": "execute_result"
    }
   ],
   "source": [
    "lidarwinds = lidar[['wspd','wdir']].sel(height=slice(0,zmax))\n",
    "lidarheights = lidarwinds.coords['height'].values\n",
    "lidarwinds = lidarwinds.sel(time=slice(startdate,enddate)).to_dataframe()\n",
    "lidarwinds = lidarwinds.reorder_levels(['time','height']).sort_index()\n",
    "len(lidarwinds.index.levels[0])"
   ]
  },
  {
   "cell_type": "code",
   "execution_count": 17,
   "metadata": {},
   "outputs": [
    {
     "data": {
      "text/plain": [
       "1105"
      ]
     },
     "execution_count": 17,
     "metadata": {},
     "output_type": "execute_result"
    }
   ],
   "source": [
    "metwind = met[['wspd','wdir']].sel(time=slice(startdate,enddate))\n",
    "metwind['height'] = met_wind_height\n",
    "metwind = metwind.expand_dims(height=1).to_dataframe()\n",
    "metwind = metwind.reorder_levels(['time','height']).sort_index()\n",
    "len(metwind.index.levels[0])"
   ]
  },
  {
   "cell_type": "code",
   "execution_count": 18,
   "metadata": {},
   "outputs": [
    {
     "data": {
      "text/plain": [
       "1105"
      ]
     },
     "execution_count": 18,
     "metadata": {},
     "output_type": "execute_result"
    }
   ],
   "source": [
    "ecorwind = ecor[['wspd','wdir']].sel(time=slice(startdate,enddate))\n",
    "ecorwind['height'] = ecor_wind_height\n",
    "ecorwind = ecorwind.expand_dims(height=1).to_dataframe()\n",
    "ecorwind = ecorwind.reorder_levels(['time','height']).sort_index()\n",
    "len(metwind.index.levels[0])"
   ]
  },
  {
   "cell_type": "code",
   "execution_count": 19,
   "metadata": {},
   "outputs": [],
   "source": [
    "winds = pd.concat([ecorwind,metwind,lidarwinds])\n",
    "winds = winds.sort_index()\n",
    "os.makedirs('data',exist_ok=True)\n",
    "winds.to_csv('data/combined_winds.csv')"
   ]
  },
  {
   "cell_type": "code",
   "execution_count": 20,
   "metadata": {},
   "outputs": [
    {
     "name": "stdout",
     "output_type": "stream",
     "text": [
      "26 missing data points to interpolate\n"
     ]
    }
   ],
   "source": [
    "missing = pd.isna(winds)\n",
    "if np.any(missing):\n",
    "    print(np.count_nonzero(missing),'missing data points to interpolate')\n",
    "    winds = winds.unstack()\n",
    "    winds = winds.interpolate(method='linear')\n",
    "    winds = winds.stack()\n",
    "    assert not np.any(pd.isna(winds))"
   ]
  },
  {
   "cell_type": "markdown",
   "metadata": {},
   "source": [
    "## 2. Calculate additional quantities of interest"
   ]
  },
  {
   "cell_type": "markdown",
   "metadata": {},
   "source": [
    "### - wind shear"
   ]
  },
  {
   "cell_type": "code",
   "execution_count": 21,
   "metadata": {},
   "outputs": [
    {
     "name": "stdout",
     "output_type": "stream",
     "text": [
      "zref = 90.93267059326172\n"
     ]
    }
   ],
   "source": [
    "zref = lidarwinds.index.levels[1].min()\n",
    "print('zref =',zref)"
   ]
  },
  {
   "cell_type": "code",
   "execution_count": 22,
   "metadata": {},
   "outputs": [],
   "source": [
    "# reshape data for power-law fit\n",
    "df_heights = winds.unstack(level='time')\n",
    "assert np.all(np.isfinite(df_heights.values))"
   ]
  },
  {
   "cell_type": "code",
   "execution_count": 23,
   "metadata": {},
   "outputs": [
    {
     "name": "stdout",
     "output_type": "stream",
     "text": [
      "CPU times: user 9.57 s, sys: 88.6 ms, total: 9.66 s\n",
      "Wall time: 9.74 s\n"
     ]
    }
   ],
   "source": [
    "%time alpha,R2 = fit_powerlaw(df_heights['wspd'],zref=zref)\n",
    "\n",
    "# CPU times: user 9.04 s, sys: 32.1 ms, total: 9.07 s\n",
    "# Wall time: 9.08 s"
   ]
  },
  {
   "cell_type": "code",
   "execution_count": 24,
   "metadata": {},
   "outputs": [],
   "source": [
    "alpha_clean = alpha.copy()\n",
    "alpha_clean.loc[R2 < R2_cutoff] = np.nan\n",
    "alpha_clean = alpha_clean.interpolate()"
   ]
  },
  {
   "cell_type": "code",
   "execution_count": 25,
   "metadata": {},
   "outputs": [
    {
     "data": {
      "text/plain": [
       "<matplotlib.legend.Legend at 0x7fa2f6207c40>"
      ]
     },
     "execution_count": 25,
     "metadata": {},
     "output_type": "execute_result"
    },
    {
     "data": {
      "image/png": "[encoded data removed]",
      "text/plain": [
       "<Figure size 576x432 with 2 Axes>"
      ]
     },
     "metadata": {
      "needs_background": "light"
     },
     "output_type": "display_data"
    }
   ],
   "source": [
    "fig,ax = plt.subplots(nrows=2,sharex=True,figsize=(8,6))\n",
    "alpha.plot(ax=ax[0],label=f'fit up to {zmax:g} m AGL')\n",
    "alpha_clean.plot(ax=ax[0],color=(0,1,0),label=f'R$^2$ >= {R2_cutoff:g} only')\n",
    "R2.plot(ax=ax[1])\n",
    "ax[1].set_ylim((0,1))\n",
    "ax[1].axhline(R2_cutoff,color='k',ls='--')\n",
    "ax[0].set_xlabel('')\n",
    "ax[0].set_ylabel('wind shear exponent', fontsize='x-large')\n",
    "ax[1].set_ylabel('power-law fit R$^2$', fontsize='x-large')\n",
    "ax[0].legend(loc='best',fontsize='large')"
   ]
  },
  {
   "cell_type": "code",
   "execution_count": 26,
   "metadata": {},
   "outputs": [],
   "source": [
    "shear = xr.DataArray(\n",
    "    alpha_clean,\n",
    "    dims='time',\n",
    "    attrs={\n",
    "        'long_name': f'Shear exponent from power-law fit',\n",
    "    },\n",
    "    name='shear',\n",
    ")"
   ]
  },
  {
   "cell_type": "markdown",
   "metadata": {},
   "source": [
    "### - hub-height wind\n",
    "from power-law fit"
   ]
  },
  {
   "cell_type": "code",
   "execution_count": 27,
   "metadata": {},
   "outputs": [],
   "source": [
    "Uref = winds['wspd'].xs(zref, level='height')"
   ]
  },
  {
   "cell_type": "code",
   "execution_count": 28,
   "metadata": {},
   "outputs": [],
   "source": [
    "# calculate hub-height wind speed from power-law fit\n",
    "Uhub = xr.DataArray(\n",
    "    Uref * (zhub/zref)**alpha_clean,\n",
    "    dims='time',\n",
    "    attrs={\n",
    "        'long_name': f'Hub-height (z={zhub:g}) wind speed from power-law fit',\n",
    "        'units': 'm/s',\n",
    "    },\n",
    "    name='wspd_hub',\n",
    ")"
   ]
  },
  {
   "cell_type": "code",
   "execution_count": 29,
   "metadata": {},
   "outputs": [],
   "source": [
    "wspd = lidar['wspd'].sel(height=zref).drop('height')\n",
    "wspd.attrs['long_name'] = f'Wind speed near hub-height (z={zref:g}) from lidar'\n",
    "wspd.attrs['units'] = 'm/s'"
   ]
  },
  {
   "cell_type": "markdown",
   "metadata": {},
   "source": [
    "### - wind direction (change)"
   ]
  },
  {
   "cell_type": "code",
   "execution_count": 30,
   "metadata": {},
   "outputs": [],
   "source": [
    "wdir = lidar['wdir'].sel(height=zref).drop('height')\n",
    "wdir.attrs['long_name'] = f'Wind direction near hub-height (z={zref:g}) from lidar'\n",
    "wdir.attrs['units'] = 'deg from north'\n",
    "\n",
    "ztop = lidarheights[-1]\n",
    "wdirtop = lidar['wdir'].sel(height=ztop).drop('height')"
   ]
  },
  {
   "cell_type": "code",
   "execution_count": 31,
   "metadata": {},
   "outputs": [
    {
     "name": "stderr",
     "output_type": "stream",
     "text": [
      "/Users/equon/anaconda3/envs/forge/lib/python3.8/site-packages/dask/array/numpy_compat.py:40: RuntimeWarning: invalid value encountered in true_divide\n",
      "  x = np.divide(x1, x2, out)\n"
     ]
    }
   ],
   "source": [
    "veer = xr.DataArray(\n",
    "    100*(wdirtop-wdir)/(ztop-zref),\n",
    "    dims='time',\n",
    "    attrs={\n",
    "        'long_name': f'Wind veer from lidar (z= {zref:g} to {ztop:g})',\n",
    "        'units': 'deg/(100 m)',\n",
    "    },\n",
    "    name='veer',\n",
    ")"
   ]
  },
  {
   "cell_type": "markdown",
   "metadata": {},
   "source": [
    "### - Monin-Obukhov length"
   ]
  },
  {
   "cell_type": "code",
   "execution_count": 32,
   "metadata": {},
   "outputs": [],
   "source": [
    "# Need to workaround xarray quirk, e.g., when applying interpolate_na:\n",
    "# ValueError: dimension 'time' on 0th function argument to apply_ufunc with dask='parallelized' consists of multiple chunks, but is also a core dimension. To fix, rechunk into a single dask array chunk along this dimension, i.e., ``.chunk({'time': -1})``, but beware that this may significantly increase memory usage.ustar\n",
    "#ds = ecor.chunk({'time': ecor.sizes['time']})"
   ]
  },
  {
   "cell_type": "code",
   "execution_count": 33,
   "metadata": {},
   "outputs": [],
   "source": [
    "ustar = ecor['ustar']#.interpolate_na(dim='time',method='linear')"
   ]
  },
  {
   "cell_type": "code",
   "execution_count": 34,
   "metadata": {},
   "outputs": [],
   "source": [
    "# assume T_s is approximately equal to T_v -- will be off by a few %\n",
    "thetav = theta(ecor['mean_t'], ecor['atm_pres'], p0=100.) # p in kPa\n",
    "#thetav = thetav.interpolate_na(dim='time',method='linear')"
   ]
  },
  {
   "cell_type": "code",
   "execution_count": 35,
   "metadata": {},
   "outputs": [],
   "source": [
    "# hfx = ds['cvar_wt'].interpolate_na(dim='time',method='linear')\n",
    "\n",
    "# Calculate kinematic heat flux from QC'd data\n",
    "hfx = qcecor['sensible_heat_flux'] / (ecor['rho']*1004.)\n",
    "hfx.attrs['long_name'] = 'Kinematic heat flux'\n",
    "hfx.attrs['units'] = 'K m/s'"
   ]
  },
  {
   "cell_type": "code",
   "execution_count": 36,
   "metadata": {},
   "outputs": [],
   "source": [
    "L = -ustar**3 * thetav / (0.4*9.81*hfx)\n",
    "L.name = 'L'\n",
    "L.attrs['long_name'] = 'Monin-Obukhov length from ECOR at 3 m'\n",
    "L.attrs['units'] = 'm'"
   ]
  },
  {
   "cell_type": "code",
   "execution_count": 37,
   "metadata": {},
   "outputs": [],
   "source": [
    "z_L = 3.0 / L\n",
    "z_L.name = 'z_over_L'\n",
    "z_L.attrs['long_name'] = 'Monin-Obukhov stability parameter'\n",
    "z_L.attrs['units'] = ''"
   ]
  },
  {
   "cell_type": "markdown",
   "metadata": {},
   "source": [
    "### - stability classification\n",
    "e.g., per criteria in St. Martin et al, Wind Energy Science, 2016"
   ]
  },
  {
   "cell_type": "code",
   "execution_count": 38,
   "metadata": {},
   "outputs": [],
   "source": [
    "stability = np.empty_like(L,dtype='str')"
   ]
  },
  {
   "cell_type": "code",
   "execution_count": 39,
   "metadata": {},
   "outputs": [],
   "source": [
    "stability[np.where(L > 0)] = 's'\n",
    "stability[np.where(L < 0)] = 'u'\n",
    "stability[np.where(np.abs(L) > 500)] = 'n'"
   ]
  },
  {
   "cell_type": "code",
   "execution_count": 40,
   "metadata": {},
   "outputs": [],
   "source": [
    "stability = xr.DataArray(\n",
    "    stability,\n",
    "    dims='time',\n",
    "    coords={'time':L.coords['time']},\n",
    "    attrs={\n",
    "        'long_name': 'Stability classification--unstable, neutral, or stable (u/n/s)--based on Obukhov length',\n",
    "    },\n",
    "    name='stability',\n",
    ")"
   ]
  },
  {
   "cell_type": "markdown",
   "metadata": {},
   "source": [
    "### - combine all atmospheric data"
   ]
  },
  {
   "cell_type": "code",
   "execution_count": 41,
   "metadata": {},
   "outputs": [],
   "source": [
    "atmos = xr.Dataset({\n",
    "    'wspd': wspd,\n",
    "    'wdir': wdir,\n",
    "    'Uhub': Uhub,\n",
    "    'shear': shear,\n",
    "    'veer': veer,\n",
    "    'L': L,\n",
    "    'z_L': z_L,\n",
    "    'stability': stability,\n",
    "    'ustar': ustar,\n",
    "    'hfx': hfx,\n",
    "})"
   ]
  },
  {
   "cell_type": "code",
   "execution_count": 42,
   "metadata": {},
   "outputs": [
    {
     "name": "stderr",
     "output_type": "stream",
     "text": [
      "/Users/equon/anaconda3/envs/forge/lib/python3.8/site-packages/dask/array/numpy_compat.py:40: RuntimeWarning: invalid value encountered in true_divide\n",
      "  x = np.divide(x1, x2, out)\n"
     ]
    }
   ],
   "source": [
    "os.makedirs('data',exist_ok=True)\n",
    "atmos.to_netcdf('data/ARM_June2018_atmospheric_conditions.nc')"
   ]
  },
  {
   "cell_type": "code",
   "execution_count": 43,
   "metadata": {},
   "outputs": [
    {
     "name": "stderr",
     "output_type": "stream",
     "text": [
      "/Users/equon/anaconda3/envs/forge/lib/python3.8/site-packages/dask/array/numpy_compat.py:40: RuntimeWarning: invalid value encountered in true_divide\n",
      "  x = np.divide(x1, x2, out)\n",
      "/Users/equon/anaconda3/envs/forge/lib/python3.8/site-packages/dask/array/numpy_compat.py:40: RuntimeWarning: invalid value encountered in true_divide\n",
      "  x = np.divide(x1, x2, out)\n"
     ]
    }
   ],
   "source": [
    "df = atmos.to_dataframe().to_csv('data/ARM_June2018_atmospheric_conditions.csv')"
   ]
  },
  {
   "cell_type": "markdown",
   "metadata": {},
   "source": [
    "## 3. Plot data"
   ]
  },
  {
   "cell_type": "code",
   "execution_count": 44,
   "metadata": {},
   "outputs": [
    {
     "ename": "TypeError",
     "evalue": "object of type 'NoneType' has no len()",
     "output_type": "error",
     "traceback": [
      "\u001b[0;31m---------------------------------------------------------------------------\u001b[0m",
      "\u001b[0;31mTypeError\u001b[0m                                 Traceback (most recent call last)",
      "\u001b[0;32m<ipython-input-44-3a4e78e10f89>\u001b[0m in \u001b[0;36m<module>\u001b[0;34m\u001b[0m\n\u001b[1;32m      1\u001b[0m \u001b[0mclasses\u001b[0m \u001b[0;34m=\u001b[0m \u001b[0;34m[\u001b[0m\u001b[0;34m'unstable'\u001b[0m\u001b[0;34m,\u001b[0m\u001b[0;34m'neutral'\u001b[0m\u001b[0;34m,\u001b[0m\u001b[0;34m'stable'\u001b[0m\u001b[0;34m]\u001b[0m\u001b[0;34m\u001b[0m\u001b[0;34m\u001b[0m\u001b[0m\n\u001b[0;32m----> 2\u001b[0;31m \u001b[0mNtot\u001b[0m \u001b[0;34m=\u001b[0m \u001b[0mlen\u001b[0m\u001b[0;34m(\u001b[0m\u001b[0mdf\u001b[0m\u001b[0;34m)\u001b[0m\u001b[0;34m\u001b[0m\u001b[0;34m\u001b[0m\u001b[0m\n\u001b[0m\u001b[1;32m      3\u001b[0m \u001b[0mfig\u001b[0m\u001b[0;34m,\u001b[0m\u001b[0max\u001b[0m \u001b[0;34m=\u001b[0m \u001b[0mplt\u001b[0m\u001b[0;34m.\u001b[0m\u001b[0msubplots\u001b[0m\u001b[0;34m(\u001b[0m\u001b[0;34m)\u001b[0m\u001b[0;34m\u001b[0m\u001b[0;34m\u001b[0m\u001b[0m\n\u001b[1;32m      4\u001b[0m \u001b[0;32mfor\u001b[0m \u001b[0mi\u001b[0m\u001b[0;34m,\u001b[0m\u001b[0msc\u001b[0m \u001b[0;32min\u001b[0m \u001b[0menumerate\u001b[0m\u001b[0;34m(\u001b[0m\u001b[0mclasses\u001b[0m\u001b[0;34m)\u001b[0m\u001b[0;34m:\u001b[0m\u001b[0;34m\u001b[0m\u001b[0;34m\u001b[0m\u001b[0m\n\u001b[1;32m      5\u001b[0m     \u001b[0mcount\u001b[0m \u001b[0;34m=\u001b[0m \u001b[0mlen\u001b[0m\u001b[0;34m(\u001b[0m\u001b[0mdf\u001b[0m\u001b[0;34m.\u001b[0m\u001b[0mloc\u001b[0m\u001b[0;34m[\u001b[0m\u001b[0mdf\u001b[0m\u001b[0;34m[\u001b[0m\u001b[0;34m'stability'\u001b[0m\u001b[0;34m]\u001b[0m\u001b[0;34m==\u001b[0m\u001b[0msc\u001b[0m\u001b[0;34m[\u001b[0m\u001b[0;36m0\u001b[0m\u001b[0;34m]\u001b[0m\u001b[0;34m]\u001b[0m\u001b[0;34m)\u001b[0m\u001b[0;34m\u001b[0m\u001b[0;34m\u001b[0m\u001b[0m\n",
      "\u001b[0;31mTypeError\u001b[0m: object of type 'NoneType' has no len()"
     ]
    }
   ],
   "source": [
    "classes = ['unstable','neutral','stable']\n",
    "Ntot = len(df)\n",
    "fig,ax = plt.subplots()\n",
    "for i,sc in enumerate(classes):\n",
    "    count = len(df.loc[df['stability']==sc[0]])\n",
    "    ax.bar(i,100*count/Ntot,color='tab:blue')\n",
    "ax.set_xticks(np.arange(len(classes)))\n",
    "ax.set_xticklabels(classes,fontsize='x-large')\n",
    "ax.set_ylabel('occurrence [%]', fontsize='x-large')"
   ]
  },
  {
   "cell_type": "code",
   "execution_count": null,
   "metadata": {},
   "outputs": [],
   "source": [
    "fig,ax = plot_timehistory_at_height(\n",
    "    atmos, fields=['wspd','wdir','shear','veer'],\n",
    "    fieldlabels={\n",
    "        'shear': 'Shear exponent [-]',\n",
    "        'veer': 'Veer [$^\\circ$/(100 m)]',\n",
    "    },\n",
    "    fieldlimits={'veer':(-10,30)},\n",
    "    timelimits=(startdate,enddate),\n",
    "    subfigsize=(16,3),\n",
    ")\n",
    "ax[0].set_xticks([], minor=True)\n",
    "ax[0].xaxis.set_major_locator(mdates.DayLocator())\n",
    "ax[0].xaxis.set_major_formatter(mdates.DateFormatter('%m/%d'))"
   ]
  },
  {
   "cell_type": "code",
   "execution_count": null,
   "metadata": {},
   "outputs": [],
   "source": [
    "fig,ax = plot_timehistory_at_height(\n",
    "    atmos, fields=['z_L','ustar','hfx'],\n",
    "    fieldlabels={\n",
    "        'z_L': 'z/L [-]',\n",
    "        'ustar': '$u_*$ [m/s]',\n",
    "        'hfx': r\"$\\langle T'_s w' \\rangle$ [K m/s]\",\n",
    "    },\n",
    "    fieldlimits={'z_L':(-0.5,0.5)},\n",
    "    timelimits=(startdate,enddate),\n",
    "    subfigsize=(16,3),\n",
    ")\n",
    "ax[0].set_xticks([], minor=True)\n",
    "ax[0].xaxis.set_major_locator(mdates.DayLocator())\n",
    "ax[0].xaxis.set_major_formatter(mdates.DateFormatter('%m/%d'))"
   ]
  },
  {
   "cell_type": "code",
   "execution_count": null,
   "metadata": {},
   "outputs": [],
   "source": []
  }
 ],
 "metadata": {
  "kernelspec": {
   "display_name": "Python 3",
   "language": "python",
   "name": "python3"
  },
  "language_info": {
   "codemirror_mode": {
    "name": "ipython",
    "version": 3
   },
   "file_extension": ".py",
   "mimetype": "text/x-python",
   "name": "python",
   "nbconvert_exporter": "python",
   "pygments_lexer": "ipython3",
   "version": "3.8.5"
  }
 },
 "nbformat": 4,
 "nbformat_minor": 4
}
