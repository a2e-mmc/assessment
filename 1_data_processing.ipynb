{
 "cells": [
  {
   "cell_type": "code",
   "execution_count": 1,
   "metadata": {},
   "outputs": [],
   "source": [
    "%matplotlib inline\n",
    "import numpy as np\n",
    "import matplotlib.pyplot as plt\n",
    "#from matplotlib.cm import get_cmap\n",
    "import pandas as pd"
   ]
  },
  {
   "cell_type": "markdown",
   "metadata": {},
   "source": [
    "# Data processing\n",
    "Result of this script should be a dataframe with standard output variables and format\n",
    "\n",
    "TODO:\n",
    "- add zipfile of sample data? (instead of having to pull from dap to run this?)\n",
    "- ..."
   ]
  },
  {
   "cell_type": "code",
   "execution_count": 2,
   "metadata": {},
   "outputs": [],
   "source": [
    "# move relevant functions to a2e-mmc/mmctools\n",
    "from datatools.wfip2 import read_dir, read_date_dirs #etc\n",
    "from datatools.remote_sensing import ESRL_wind_profiler # etc"
   ]
  },
  {
   "cell_type": "code",
   "execution_count": 3,
   "metadata": {},
   "outputs": [
    {
     "name": "stdout",
     "output_type": "stream",
     "text": [
      "  0 dataframes added\n",
      "Processing /Users/equon/WFIP2/PS01/sodar.z12.b0/201510\n",
      "  4463 dataframes added\n",
      "Processing /Users/equon/WFIP2/PS01/sodar.z12.b0/201511\n",
      "  4320 dataframes added\n",
      "Processing /Users/equon/WFIP2/PS01/sodar.z12.b0/201512\n",
      "  4464 dataframes added\n",
      "Processing /Users/equon/WFIP2/PS01/sodar.z12.b0/201601\n",
      "  4464 dataframes added\n",
      "Processing /Users/equon/WFIP2/PS01/sodar.z12.b0/201602\n",
      "  4176 dataframes added\n",
      "Processing /Users/equon/WFIP2/PS01/sodar.z12.b0/201603\n",
      "  4464 dataframes added\n",
      "Processing /Users/equon/WFIP2/PS01/sodar.z12.b0/201604\n",
      "  4320 dataframes added\n",
      "Processing /Users/equon/WFIP2/PS01/sodar.z12.b0/201605\n",
      "  4464 dataframes added\n",
      "Processing /Users/equon/WFIP2/PS01/sodar.z12.b0/201606\n",
      "  4320 dataframes added\n",
      "Processing /Users/equon/WFIP2/PS01/sodar.z12.b0/201607\n",
      "  4464 dataframes added\n",
      "Processing /Users/equon/WFIP2/PS01/sodar.z12.b0/201608\n",
      "  4464 dataframes added\n",
      "Processing /Users/equon/WFIP2/PS01/sodar.z12.b0/201609\n",
      "  4320 dataframes added\n",
      "Processing /Users/equon/WFIP2/PS01/sodar.z12.b0/201610\n",
      "  4464 dataframes added\n",
      "Processing /Users/equon/WFIP2/PS01/sodar.z12.b0/201611\n",
      "  4320 dataframes added\n",
      "Processing /Users/equon/WFIP2/PS01/sodar.z12.b0/201612\n",
      "  4464 dataframes added\n",
      "Processing /Users/equon/WFIP2/PS01/sodar.z12.b0/201701\n",
      "  4464 dataframes added\n",
      "Processing /Users/equon/WFIP2/PS01/sodar.z12.b0/201702\n",
      "  4032 dataframes added\n",
      "Processing /Users/equon/WFIP2/PS01/sodar.z12.b0/201703\n",
      "  4464 dataframes added\n",
      "CPU times: user 2min 17s, sys: 8.99 s, total: 2min 26s\n",
      "Wall time: 4min 2s\n"
     ]
    }
   ],
   "source": [
    "sodarpath = '/Users/equon/WFIP2/PS01/sodar.z12.b0'\n",
    "%time df = read_date_dirs(sodarpath,ext='txt',expected_date_format='%Y%d',parse_dates=['date_time'])"
   ]
  },
  {
   "cell_type": "code",
   "execution_count": 5,
   "metadata": {},
   "outputs": [
    {
     "name": "stdout",
     "output_type": "stream",
     "text": [
      "Processing /Users/equon/WFIP2/Wasco/radar.z04.b0/201602\n",
      "  168 dataframes added\n",
      "Processing /Users/equon/WFIP2/Wasco/radar.z04.b0/201603\n",
      "  744 dataframes added\n",
      "Processing /Users/equon/WFIP2/Wasco/radar.z04.b0/201604\n",
      "  720 dataframes added\n",
      "Processing /Users/equon/WFIP2/Wasco/radar.z04.b0/201605\n",
      "  744 dataframes added\n",
      "Processing /Users/equon/WFIP2/Wasco/radar.z04.b0/201606\n",
      "  719 dataframes added\n",
      "Processing /Users/equon/WFIP2/Wasco/radar.z04.b0/201607\n",
      "  744 dataframes added\n",
      "Processing /Users/equon/WFIP2/Wasco/radar.z04.b0/201608\n",
      "  744 dataframes added\n",
      "Processing /Users/equon/WFIP2/Wasco/radar.z04.b0/201609\n",
      "  0 dataframes added\n",
      "Processing /Users/equon/WFIP2/Wasco/radar.z04.b0/201610\n",
      "  0 dataframes added\n",
      "Processing /Users/equon/WFIP2/Wasco/radar.z04.b0/201611\n",
      "  0 dataframes added\n",
      "Processing /Users/equon/WFIP2/Wasco/radar.z04.b0/201612\n",
      "  0 dataframes added\n",
      "CPU times: user 33.2 s, sys: 1.08 s, total: 34.3 s\n",
      "Wall time: 39.7 s\n"
     ]
    }
   ],
   "source": [
    "%%time\n",
    "radarpath = '/Users/equon/WFIP2/Wasco/radar.z04.b0'\n",
    "df = read_date_dirs(radarpath,reader=ESRL_wind_profiler,\n",
    "                    ext='winds.txt',expected_date_format='%Y%d')"
   ]
  },
  {
   "cell_type": "code",
   "execution_count": null,
   "metadata": {},
   "outputs": [],
   "source": []
  }
 ],
 "metadata": {
  "kernelspec": {
   "display_name": "Python 3",
   "language": "python",
   "name": "python3"
  },
  "language_info": {
   "codemirror_mode": {
    "name": "ipython",
    "version": 3
   },
   "file_extension": ".py",
   "mimetype": "text/x-python",
   "name": "python",
   "nbconvert_exporter": "python",
   "pygments_lexer": "ipython3",
   "version": "3.7.1"
  }
 },
 "nbformat": 4,
 "nbformat_minor": 2
}
