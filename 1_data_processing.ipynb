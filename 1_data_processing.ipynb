{
 "cells": [
  {
   "cell_type": "code",
   "execution_count": 4,
   "metadata": {},
   "outputs": [],
   "source": [
    "%matplotlib inline\n",
    "import numpy as np\n",
    "import matplotlib.pyplot as plt\n",
    "#from matplotlib.cm import get_cmap\n",
    "import pandas as pd"
   ]
  },
  {
   "cell_type": "code",
   "execution_count": 5,
   "metadata": {},
   "outputs": [],
   "source": [
    "# move relevant functions to a2e-mmc/mmctools\n",
    "from datatools.wfip2 import read_dir, read_date_dirs #etc\n",
    "from datatools.remote_sensing import ESRL_wind_profiler # etc"
   ]
  },
  {
   "cell_type": "code",
   "execution_count": 8,
   "metadata": {},
   "outputs": [
    {
     "name": "stdout",
     "output_type": "stream",
     "text": [
      "  0 dataframes added\n",
      "Processing /Users/equon/WFIP2/PS01/sodar.z12.b0/201510\n",
      "  4463 dataframes added\n",
      "Processing /Users/equon/WFIP2/PS01/sodar.z12.b0/201511\n"
     ]
    },
    {
     "name": "stderr",
     "output_type": "stream",
     "text": [
      "ERROR:root:Internal Python error in the inspect module.\n",
      "Below is the traceback from this internal error.\n",
      "\n"
     ]
    },
    {
     "name": "stdout",
     "output_type": "stream",
     "text": [
      "Traceback (most recent call last):\n",
      "  File \"/Users/equon/anaconda3/lib/python3.7/site-packages/IPython/core/magics/execution.py\", line 1271, in time\n",
      "    exec(code, glob, local_ns)\n",
      "  File \"<timed exec>\", line 1, in <module>\n",
      "  File \"/Users/equon/NWTC/datatools/wfip2.py\", line 114, in read_date_dirs\n",
      "    df = reader(fpath,**kwargs)\n",
      "  File \"/Users/equon/anaconda3/lib/python3.7/site-packages/pandas/io/parsers.py\", line 678, in parser_f\n",
      "    return _read(filepath_or_buffer, kwds)\n",
      "  File \"/Users/equon/anaconda3/lib/python3.7/site-packages/pandas/io/parsers.py\", line 446, in _read\n",
      "    data = parser.read(nrows)\n",
      "  File \"/Users/equon/anaconda3/lib/python3.7/site-packages/pandas/io/parsers.py\", line 1036, in read\n",
      "    ret = self._engine.read(nrows)\n",
      "  File \"/Users/equon/anaconda3/lib/python3.7/site-packages/pandas/io/parsers.py\", line 1848, in read\n",
      "    data = self._reader.read(nrows)\n",
      "  File \"pandas/_libs/parsers.pyx\", line 876, in pandas._libs.parsers.TextReader.read\n",
      "  File \"pandas/_libs/parsers.pyx\", line 891, in pandas._libs.parsers.TextReader._read_low_memory\n",
      "  File \"pandas/_libs/parsers.pyx\", line 968, in pandas._libs.parsers.TextReader._read_rows\n",
      "  File \"pandas/_libs/parsers.pyx\", line 1094, in pandas._libs.parsers.TextReader._convert_column_data\n",
      "  File \"pandas/_libs/parsers.pyx\", line 1134, in pandas._libs.parsers.TextReader._convert_tokens\n",
      "  File \"pandas/_libs/parsers.pyx\", line 1180, in pandas._libs.parsers.TextReader._convert_with_dtype\n",
      "  File \"/Users/equon/anaconda3/lib/python3.7/site-packages/pandas/core/dtypes/common.py\", line 811, in is_integer_dtype\n",
      "    def is_integer_dtype(arr_or_dtype):\n",
      "KeyboardInterrupt\n",
      "\n",
      "During handling of the above exception, another exception occurred:\n",
      "\n",
      "Traceback (most recent call last):\n",
      "  File \"/Users/equon/anaconda3/lib/python3.7/site-packages/IPython/core/interactiveshell.py\", line 2018, in showtraceback\n",
      "    stb = value._render_traceback_()\n",
      "AttributeError: 'KeyboardInterrupt' object has no attribute '_render_traceback_'\n",
      "\n",
      "During handling of the above exception, another exception occurred:\n",
      "\n",
      "Traceback (most recent call last):\n",
      "  File \"/Users/equon/anaconda3/lib/python3.7/site-packages/IPython/core/ultratb.py\", line 1095, in get_records\n",
      "    return _fixed_getinnerframes(etb, number_of_lines_of_context, tb_offset)\n",
      "  File \"/Users/equon/anaconda3/lib/python3.7/site-packages/IPython/core/ultratb.py\", line 313, in wrapped\n",
      "    return f(*args, **kwargs)\n",
      "  File \"/Users/equon/anaconda3/lib/python3.7/site-packages/IPython/core/ultratb.py\", line 347, in _fixed_getinnerframes\n",
      "    records = fix_frame_records_filenames(inspect.getinnerframes(etb, context))\n",
      "  File \"/Users/equon/anaconda3/lib/python3.7/inspect.py\", line 1500, in getinnerframes\n",
      "    frameinfo = (tb.tb_frame,) + getframeinfo(tb, context)\n",
      "  File \"/Users/equon/anaconda3/lib/python3.7/inspect.py\", line 1458, in getframeinfo\n",
      "    filename = getsourcefile(frame) or getfile(frame)\n",
      "  File \"/Users/equon/anaconda3/lib/python3.7/inspect.py\", line 696, in getsourcefile\n",
      "    if getattr(getmodule(object, filename), '__loader__', None) is not None:\n",
      "  File \"/Users/equon/anaconda3/lib/python3.7/inspect.py\", line 733, in getmodule\n",
      "    if ismodule(module) and hasattr(module, '__file__'):\n",
      "  File \"/Users/equon/anaconda3/lib/python3.7/site-packages/py/_vendored_packages/apipkg.py\", line 195, in __getattribute__\n",
      "    return getattr(getmod(), name)\n",
      "  File \"/Users/equon/anaconda3/lib/python3.7/site-packages/py/_vendored_packages/apipkg.py\", line 179, in getmod\n",
      "    x = importobj(modpath, None)\n",
      "  File \"/Users/equon/anaconda3/lib/python3.7/site-packages/py/_vendored_packages/apipkg.py\", line 69, in importobj\n",
      "    module = __import__(modpath, None, None, ['__doc__'])\n",
      "  File \"/Users/equon/anaconda3/lib/python3.7/site-packages/pytest.py\", line 8, in <module>\n",
      "    from _pytest.config import cmdline\n",
      "  File \"/Users/equon/anaconda3/lib/python3.7/site-packages/_pytest/config/__init__.py\", line 17, in <module>\n",
      "    from pkg_resources import parse_version\n",
      "  File \"/Users/equon/anaconda3/lib/python3.7/site-packages/pkg_resources/__init__.py\", line 3126, in <module>\n",
      "    @_call_aside\n",
      "  File \"/Users/equon/anaconda3/lib/python3.7/site-packages/pkg_resources/__init__.py\", line 3110, in _call_aside\n",
      "    f(*args, **kwargs)\n",
      "  File \"/Users/equon/anaconda3/lib/python3.7/site-packages/pkg_resources/__init__.py\", line 3139, in _initialize_master_working_set\n",
      "    working_set = WorkingSet._build_master()\n",
      "  File \"/Users/equon/anaconda3/lib/python3.7/site-packages/pkg_resources/__init__.py\", line 572, in _build_master\n",
      "    ws = cls()\n",
      "  File \"/Users/equon/anaconda3/lib/python3.7/site-packages/pkg_resources/__init__.py\", line 565, in __init__\n",
      "    self.add_entry(entry)\n",
      "  File \"/Users/equon/anaconda3/lib/python3.7/site-packages/pkg_resources/__init__.py\", line 621, in add_entry\n",
      "    for dist in find_distributions(entry, True):\n",
      "  File \"/Users/equon/anaconda3/lib/python3.7/site-packages/pkg_resources/__init__.py\", line 1968, in find_on_path\n",
      "    for dist in factory(fullpath):\n",
      "  File \"/Users/equon/anaconda3/lib/python3.7/site-packages/pkg_resources/__init__.py\", line 2038, in distributions_from_metadata\n",
      "    root, entry, metadata, precedence=DEVELOP_DIST,\n",
      "  File \"/Users/equon/anaconda3/lib/python3.7/site-packages/pkg_resources/__init__.py\", line 2495, in from_location\n",
      "    py_version=py_version, platform=platform, **kw\n",
      "  File \"/Users/equon/anaconda3/lib/python3.7/site-packages/pkg_resources/__init__.py\", line 2870, in _reload_version\n",
      "    md_version = _version_from_file(self._get_metadata(self.PKG_INFO))\n",
      "  File \"/Users/equon/anaconda3/lib/python3.7/site-packages/pkg_resources/__init__.py\", line 2459, in _version_from_file\n",
      "    line = next(iter(version_lines), '')\n",
      "  File \"/Users/equon/anaconda3/lib/python3.7/site-packages/pkg_resources/__init__.py\", line 2649, in _get_metadata\n",
      "    for line in self.get_metadata_lines(name):\n",
      "  File \"/Users/equon/anaconda3/lib/python3.7/site-packages/pkg_resources/__init__.py\", line 1414, in get_metadata_lines\n",
      "    return yield_lines(self.get_metadata(name))\n",
      "  File \"/Users/equon/anaconda3/lib/python3.7/site-packages/pkg_resources/__init__.py\", line 1410, in get_metadata\n",
      "    value = self._get(self._fn(self.egg_info, name))\n",
      "  File \"/Users/equon/anaconda3/lib/python3.7/site-packages/pkg_resources/__init__.py\", line 1522, in _get\n",
      "    with open(path, 'rb') as stream:\n",
      "KeyboardInterrupt\n"
     ]
    },
    {
     "ename": "KeyboardInterrupt",
     "evalue": "",
     "output_type": "error",
     "traceback": [
      "\u001b[0;31m---------------------------------------------------------------------------\u001b[0m"
     ]
    }
   ],
   "source": [
    "sodarpath = '/Users/equon/WFIP2/PS01/sodar.z12.b0'\n",
    "%time df = read_date_dirs(sodarpath,ext='txt',expected_date_format='%Y%d',parse_dates=['date_time'])"
   ]
  },
  {
   "cell_type": "code",
   "execution_count": 9,
   "metadata": {},
   "outputs": [
    {
     "name": "stdout",
     "output_type": "stream",
     "text": [
      "Processing /Users/equon/WFIP2/Wasco/radar.z04.b0/201602\n",
      "  168 dataframes added\n",
      "Processing /Users/equon/WFIP2/Wasco/radar.z04.b0/201603\n",
      "  744 dataframes added\n",
      "Processing /Users/equon/WFIP2/Wasco/radar.z04.b0/201604\n",
      "  720 dataframes added\n",
      "Processing /Users/equon/WFIP2/Wasco/radar.z04.b0/201605\n",
      "  744 dataframes added\n",
      "Processing /Users/equon/WFIP2/Wasco/radar.z04.b0/201606\n",
      "  719 dataframes added\n",
      "Processing /Users/equon/WFIP2/Wasco/radar.z04.b0/201607\n",
      "  744 dataframes added\n",
      "Processing /Users/equon/WFIP2/Wasco/radar.z04.b0/201608\n",
      "  744 dataframes added\n",
      "Processing /Users/equon/WFIP2/Wasco/radar.z04.b0/201609\n",
      "  0 dataframes added\n",
      "Processing /Users/equon/WFIP2/Wasco/radar.z04.b0/201610\n",
      "  0 dataframes added\n",
      "Processing /Users/equon/WFIP2/Wasco/radar.z04.b0/201611\n",
      "  0 dataframes added\n",
      "Processing /Users/equon/WFIP2/Wasco/radar.z04.b0/201612\n",
      "  0 dataframes added\n",
      "CPU times: user 37.3 s, sys: 1.06 s, total: 38.3 s\n",
      "Wall time: 58.8 s\n"
     ]
    }
   ],
   "source": [
    "radarpath = '/Users/equon/WFIP2/Wasco/radar.z04.b0'\n",
    "%time df = read_date_dirs(radarpath,reader=ESRL_wind_profiler,\n",
    "                          ext='winds.txt',expected_date_format='%Y%d')"
   ]
  },
  {
   "cell_type": "code",
   "execution_count": null,
   "metadata": {},
   "outputs": [],
   "source": []
  }
 ],
 "metadata": {
  "kernelspec": {
   "display_name": "Python 3",
   "language": "python",
   "name": "python3"
  },
  "language_info": {
   "codemirror_mode": {
    "name": "ipython",
    "version": 3
   },
   "file_extension": ".py",
   "mimetype": "text/x-python",
   "name": "python",
   "nbconvert_exporter": "python",
   "pygments_lexer": "ipython3",
   "version": "3.7.1"
  }
 },
 "nbformat": 4,
 "nbformat_minor": 2
}
