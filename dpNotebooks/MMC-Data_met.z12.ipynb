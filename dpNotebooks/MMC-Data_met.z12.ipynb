{
 "cells": [
  {
   "cell_type": "markdown",
   "metadata": {},
   "source": [
    "# A2E-MMC Data cleaning notebook: Boardman met station (z12.b0)\n",
    "\n",
    "This notebook is one in a series of data cleaning notebooks for the Atmosphere to Electron Mesoscale Microscale Coupling project. Information about the project can be found here: https://a2e.energy.gov/. The data cleaning notebooks standardize the format of the data used in the project. The observation data collected for comparison with model results come from various sensors in the northwest United States, as well as Texas, coastal New Jersey and Virginia. Each notebook is specific to a sensor, ingests that particular data set, and outputs a curated set of variables with consistent naming conventions, units, and fill values. The output data set can then be used in notebooks designed for model analysis. (a link to those notebooks goes here)\n",
    "\n",
    "All input and output files are in netCDF format.\n",
    "\n",
    "Specifically, this notebook is for the data collected at the meteorological station at Boardman, OR. The data can be found here: https://a2e.energy.gov/data/wfip2/met.z12.b0. \n",
    "\n",
    "Start by importing the libraries you will need for running this notebook:"
   ]
  },
  {
   "cell_type": "code",
   "execution_count": 1,
   "metadata": {},
   "outputs": [],
   "source": [
    "import numpy as np\n",
    "import matplotlib.pyplot as plt\n",
    "from netCDF4 import Dataset as ncdf\n",
    "from netCDF4 import stringtochar, num2date, date2num\n",
    "from matplotlib import cm\n",
    "import pandas as pd\n",
    "import datetime\n",
    "from datetime import date, time,timedelta\n",
    "import netCDF4"
   ]
  },
  {
   "cell_type": "markdown",
   "metadata": {},
   "source": [
    "After downloading the data for the date you are interested in, change the inputPathBase to reflect where you are keeping that input file. -Note that this should just be the folder path, and should not contain the actual file name. You may also need to change the year, month, and day if you are using a date other than November 1, 2016. Change the outputPathBase to reflect where you want to store the output file (again, this is a folder path). Also, change my name to your name in who_created_me so that you will be associated with the data set you create. "
   ]
  },
  {
   "cell_type": "code",
   "execution_count": 2,
   "metadata": {},
   "outputs": [],
   "source": [
    "#Your working directory (where the data lives...)\n",
    "inputPathBase = \"C:/Users/decastro/Downloads/wfip2.met.z12.b0.6665a02aa5781150f554f5d96/\"\n",
    "\n",
    "#Some intrument specifics\n",
    "station_name = 'Boardman'\n",
    "sensor_name  = 'met.z12'\n",
    "\n",
    "instrument_filePrefix = \"{sensorName:s}.b0\".format(sensorName=sensor_name)\n",
    "instrument_fileSuffix = \".txt.a2e.nc\"\n",
    "\n",
    "#The date of interest...\n",
    "year = 2016\n",
    "month = 11\n",
    "day = 1\n",
    "dateString = \"{yyyy:4d}{mm:02d}{dd:02d}\".format(yyyy=year,mm=month,dd=day)\n",
    "\n",
    "#The start time of interest...\n",
    "starthour = 0\n",
    "startmin = 0\n",
    "startsec = 0\n",
    "timeString = \"{hour:02d}{minute:02d}{second:02d}\".format(hour=starthour,minute=startmin,second=startsec)\n",
    "\n",
    "#output file specifics\n",
    "outputPathBase = \"C:/Users/decastro/Downloads/wfip2.met.z12.b0.6665a02aa5781150f554f5d96/\"\n",
    "output_filePrefix = instrument_filePrefix\n",
    "output_fileSuffix = \".mmc.a2e.nc\"\n",
    "\n",
    "#Set a value for the output file author attribute\n",
    "who_created_me = 'Amy DeCastro decastro@ucar.edu'\n"
   ]
  },
  {
   "cell_type": "markdown",
   "metadata": {},
   "source": [
    "Run the cell below to assign your input file name and output file name. "
   ]
  },
  {
   "cell_type": "code",
   "execution_count": 3,
   "metadata": {},
   "outputs": [
    {
     "name": "stdout",
     "output_type": "stream",
     "text": [
      "C:/Users/decastro/Downloads/wfip2.met.z12.b0.6665a02aa5781150f554f5d96/met.z12.b0.20161101.000000.txt.a2e.nc\n",
      "C:/Users/decastro/Downloads/wfip2.met.z12.b0.6665a02aa5781150f554f5d96/met.z12.b0.20161101.000000.mmc.a2e.nc\n"
     ]
    }
   ],
   "source": [
    "#Setup the inputFile and outputFile names from the information specified above\n",
    "inputFile = \"{pb:s}{fP:s}.{ds:s}.{ts:s}{fS:s}\".format(pb=inputPathBase,\n",
    "                                                      fP=instrument_filePrefix,\n",
    "                                                      ds=dateString,\n",
    "                                                      ts=timeString,\n",
    "                                                      fS=instrument_fileSuffix)\n",
    "print(inputFile)\n",
    "\n",
    "outputFile = \"{pb:s}{fP:s}.{ds:s}.{ts:s}{fS:s}\".format(pb=outputPathBase,\n",
    "                                                      fP=output_filePrefix,\n",
    "                                                      ds=dateString,\n",
    "                                                      ts=timeString,\n",
    "                                                      fS=output_fileSuffix)\n",
    "print(outputFile)"
   ]
  },
  {
   "cell_type": "markdown",
   "metadata": {},
   "source": [
    "Next define a function to write the output file. Notice that there is an option in the first line (all_variables) to either keep all of the original variables or pare them down to the standardized format. Keeping the binary as False tells the function to write the curated version. If you wish to output all variables from the input file, switch it to True. \n",
    "\n",
    "The curated variables are listed below as the core_variables, and include north-south wind speed (u), east-west wind speed (v), vertical wind speed (w), wind speed (wspd), wind direction (wdir), temperature (T), pressure (p), potential temperature (theta), and relative humidity (RH). Later in the notebook, long names and units will be assigned to each variable. "
   ]
  },
  {
   "cell_type": "code",
   "execution_count": 4,
   "metadata": {},
   "outputs": [],
   "source": [
    "def write_to_netCDF(nc_filename=None, data=None, ncformat='NETCDF4_CLASSIC', all_variables = False):\n",
    "    '''\n",
    "    This will write a new netCDF file from the data provided in a dictionary.\n",
    "    Several global variables will be set and care must be taken that the \n",
    "    dictionary variables are named the same as what this function expects.\n",
    "    '''\n",
    "    core_variables = ['Times','u','v','w','wspd','wdir','T','p','theta','RH']\n",
    "    ncfile = ncdf(nc_filename,'w',format=ncformat,clobber=True)\n",
    "    for dd,dim in enumerate(data['dims']):\n",
    "        ncfile.createDimension(data['dimname'][dd],dim)\n",
    "    for vv,varname in enumerate(data['varn']):\n",
    "        if all_variables:\n",
    "            newvar = ncfile.createVariable(varname,data['vardtype'][vv],data['vardims'][vv])\n",
    "            newvar[:] = data['data'][vv]\n",
    "            newvar.units = data['units'][vv]\n",
    "        else:\n",
    "            if varname in core_variables:\n",
    "                newvar = ncfile.createVariable(varname,data['vardtype'][vv],data['vardims'][vv], fill_value=data['fillValue'])\n",
    "                newvar[:] = data['data'][vv]\n",
    "                print(varname)\n",
    "                print(newvar[newvar == np.nan])\n",
    "                newvar[newvar == np.nan] = data['fillValue']\n",
    "                newvar.units = data['units'][vv]\n",
    "            \n",
    "    ncfile.createDimension('nchars',19)\n",
    "    #newvar    = ncfile.createVariable('Times','S1',('time','nchars'))\n",
    "    newvar[:] = data['time']\n",
    "    ncfile.description = data['description']\n",
    "    ncfile.station     = data['station']\n",
    "    ncfile.sensor      = data['sensor']\n",
    "    ncfile.latitude    = data['latitude']\n",
    "    ncfile.longitude   = data['longitude']\n",
    "    ncfile.altitude    = data['altitude']\n",
    "    ncfile.createdon   = datetime.datetime.now().strftime(\"%Y-%m-%d %H:%M:%S\")\n",
    "    ncfile.createdby   = data['author']"
   ]
  },
  {
   "cell_type": "markdown",
   "metadata": {},
   "source": [
    "Summarizing the input file, we can see what variables and dimensions are included. And by printing each variable of interest, we can see its long name, units, and other attributes. By doing so, we can see that we'll want to change the units of time, temperature, and pressure to meet project standards, and we'll want to derive u and v from wind speed and wind direction. "
   ]
  },
  {
   "cell_type": "code",
   "execution_count": 5,
   "metadata": {},
   "outputs": [
    {
     "name": "stdout",
     "output_type": "stream",
     "text": [
      "<class 'netCDF4._netCDF4.Dataset'>\n",
      "root group (NETCDF3_CLASSIC data model, file format NETCDF3):\n",
      "    Conventions: CF-1.6\n",
      "    history: 2018-01-24 20:13:38 created by libingest-1.2 using wfip2_met-1.4 (build version: v1.10.0)\n",
      "    dimensions(sizes): time(1440), bounds(2)\n",
      "    variables(dimensions): float64 \u001b[4mtime\u001b[0m(time), float64 \u001b[4mtime_bounds\u001b[0m(time,bounds), float32 \u001b[4minstrument_height\u001b[0m(), float32 \u001b[4mwind_height\u001b[0m(), float32 \u001b[4mpressure_height\u001b[0m(), float32 \u001b[4mtemperature\u001b[0m(time), float32 \u001b[4mrelative_humidity\u001b[0m(time), int32 \u001b[4mrelative_humidity_qc\u001b[0m(time), float32 \u001b[4mpressure\u001b[0m(time), float32 \u001b[4mwind_speed\u001b[0m(time), int32 \u001b[4mwind_speed_qc\u001b[0m(time), float32 \u001b[4mwind_direction\u001b[0m(time), float32 \u001b[4mwind_direction_std\u001b[0m(time), float32 \u001b[4mprecipitation\u001b[0m(time), float32 \u001b[4msolar_irradiance\u001b[0m(time), float64 \u001b[4mlatitude\u001b[0m(), float64 \u001b[4mlongitude\u001b[0m(), float64 \u001b[4maltitude\u001b[0m()\n",
      "    groups: \n",
      "\n",
      "<class 'netCDF4._netCDF4.Variable'>\n",
      "float64 time(time)\n",
      "    long_name: time offset from midnight\n",
      "    standard_name: time\n",
      "    units: seconds since 2016-11-01 00:00:00 0:00\n",
      "    bounds: time_bounds\n",
      "unlimited dimensions: time\n",
      "current shape = (1440,)\n",
      "filling off\n",
      "\n",
      "<class 'netCDF4._netCDF4.Variable'>\n",
      "float32 temperature(time)\n",
      "    long_name: temperature\n",
      "    standard_name: air_temperature\n",
      "    units: degC\n",
      "    cell_methods: time: mean\n",
      "    coordinates: instrument_height\n",
      "    _FillValue: 9.96921e+36\n",
      "unlimited dimensions: time\n",
      "current shape = (1440,)\n",
      "filling off\n",
      "\n",
      "<class 'netCDF4._netCDF4.Variable'>\n",
      "float32 relative_humidity(time)\n",
      "    long_name: relative humidity\n",
      "    standard_name: relative_humidity\n",
      "    units: %\n",
      "    cell_methods: time: mean\n",
      "    coordinates: instrument_height\n",
      "    ancillary_variables: relative_humidity_qc\n",
      "    _FillValue: 9.96921e+36\n",
      "unlimited dimensions: time\n",
      "current shape = (1440,)\n",
      "filling off\n",
      "\n",
      "<class 'netCDF4._netCDF4.Variable'>\n",
      "float32 pressure(time)\n",
      "    long_name: barometric pressure\n",
      "    standard_name: surface_air_pressure\n",
      "    units: hPa\n",
      "    cell_methods: time: mean\n",
      "    coordinates: pressure_height\n",
      "    _FillValue: 9.96921e+36\n",
      "unlimited dimensions: time\n",
      "current shape = (1440,)\n",
      "filling off\n",
      "\n",
      "<class 'netCDF4._netCDF4.Variable'>\n",
      "float32 wind_speed(time)\n",
      "    long_name: wind speed\n",
      "    standard_name: wind_speed\n",
      "    units: m/s\n",
      "    cell_methods: time: mean\n",
      "    coordinates: wind_height\n",
      "    ancillary_variables: wind_speed_qc\n",
      "    _FillValue: 9.96921e+36\n",
      "unlimited dimensions: time\n",
      "current shape = (1440,)\n",
      "filling off\n",
      "\n",
      "<class 'netCDF4._netCDF4.Variable'>\n",
      "float32 wind_direction(time)\n",
      "    long_name: wind direction\n",
      "    standard_name: wind_from_direction\n",
      "    units: degree\n",
      "    cell_methods: time: mean\n",
      "    ancillary_variables: wind_direction_std\n",
      "    coordinates: wind_height\n",
      "    _FillValue: 9.96921e+36\n",
      "unlimited dimensions: time\n",
      "current shape = (1440,)\n",
      "filling off\n",
      "\n"
     ]
    }
   ],
   "source": [
    "f = netCDF4.Dataset(inputFile)\n",
    "print(f)\n",
    "print(f.variables['time'])\n",
    "print(f.variables['temperature'])\n",
    "print(f.variables['relative_humidity'])\n",
    "print(f.variables['pressure'])\n",
    "print(f.variables['wind_speed'])\n",
    "print(f.variables['wind_direction'])"
   ]
  },
  {
   "cell_type": "code",
   "execution_count": 6,
   "metadata": {},
   "outputs": [],
   "source": [
    "new_fill = 9999\n",
    "for varn in ['temperature','relative_humidity','pressure', 'wind_speed', 'wind_direction']:\n",
    "   var = f.variables[varn]\n",
    "   old_fill = var._FillValue\n",
    "   var[var==old_fill] = np.nan\n",
    "   if varn == 'temperature': temp = var[:]\n",
    "   if varn == 'relative_humidity': RH = var[:]\n",
    "    \n",
    "#p = f.variables['pressure'][:]\n",
    "   if varn == 'pressure': p = var[:]\n",
    "    \n",
    "#RH = f.variables['relative_humidity'][:]\n",
    "wspd = f.variables['wind_speed'][:]\n",
    "wdir = f.variables['wind_direction'][:]"
   ]
  },
  {
   "cell_type": "code",
   "execution_count": 7,
   "metadata": {},
   "outputs": [
    {
     "name": "stdout",
     "output_type": "stream",
     "text": [
      "[13.88 13.85 13.82 ... 16.23 16.21 16.17]\n"
     ]
    }
   ],
   "source": [
    "print(temp)"
   ]
  },
  {
   "cell_type": "markdown",
   "metadata": {},
   "source": [
    "Assign the latitude, longitude, and altitude of the station. "
   ]
  },
  {
   "cell_type": "code",
   "execution_count": 8,
   "metadata": {},
   "outputs": [
    {
     "name": "stdout",
     "output_type": "stream",
     "text": [
      "45.8167 -119.8121 110.3376\n"
     ]
    }
   ],
   "source": [
    "lat, lon, alt = f.variables['latitude'][:], f.variables['longitude'][:], f.variables['altitude'][:]\n",
    "print(lat, lon, alt)"
   ]
  },
  {
   "cell_type": "markdown",
   "metadata": {},
   "source": [
    "The time from the input data is formatted in seconds from midnight on November 1, 2016. Run the cell below to change the formatting to epoch time. "
   ]
  },
  {
   "cell_type": "code",
   "execution_count": 9,
   "metadata": {},
   "outputs": [
    {
     "name": "stdout",
     "output_type": "stream",
     "text": [
      "[1.47795840e+09 1.47795846e+09 1.47795852e+09 ... 1.47804462e+09\n",
      " 1.47804468e+09 1.47804474e+09]\n"
     ]
    }
   ],
   "source": [
    "time = f.variables['time'][:]\n",
    "mytime=np.array(time,dtype='float64')\n",
    "#print(mytime)\n",
    "nt = time.size\n",
    "#print(nt)\n",
    "#print(type(mytime[0]))\n",
    "dtTimes = [datetime.datetime(2016,11,1) + timedelta(seconds=i) for i in mytime]\n",
    "#Times = date2num(dtTimes,units='hours since 0001-01-01 00:00:00.0',calendar='gregorian')\n",
    "Times = date2num(dtTimes,units='seconds since 1970-01-01 00:00:00.0',calendar='gregorian')\n",
    "print(Times)"
   ]
  },
  {
   "cell_type": "markdown",
   "metadata": {},
   "source": [
    "Next convert temperature from Celsius to Kelvin, derive u and v from wind speed and direction, and assign wind speed, wind direction, pressure, and relative humidity. "
   ]
  },
  {
   "cell_type": "code",
   "execution_count": 10,
   "metadata": {},
   "outputs": [],
   "source": [
    "#temp = f.variables['temperature'][:]\n",
    "T = temp + 273.15\n",
    "\n",
    "u = wspd*np.cos(wdir)\n",
    "v = wspd*np.sin(wdir)"
   ]
  },
  {
   "cell_type": "markdown",
   "metadata": {},
   "source": [
    "When we printed the input file name above, we saw that the data includes three different height dimensions. Heights are not associated with variables in the input data, but we want them to be variable dimensions in the output. So, we'll assign them now, and in a few cells, we'll associate them with specific variables. "
   ]
  },
  {
   "cell_type": "code",
   "execution_count": 11,
   "metadata": {},
   "outputs": [
    {
     "name": "stdout",
     "output_type": "stream",
     "text": [
      "2.0 1\n",
      "10.0 1\n",
      "1.524 1\n"
     ]
    }
   ],
   "source": [
    "inst_z = f.variables['instrument_height'][:]\n",
    "niz = inst_z.size\n",
    "print(inst_z, niz)\n",
    "wind_z = f.variables['wind_height'][:]\n",
    "nwz = wind_z.size\n",
    "print(wind_z, nwz)\n",
    "p_z = f.variables['pressure_height'][:]\n",
    "npz = p_z.size\n",
    "print(p_z, npz)"
   ]
  },
  {
   "cell_type": "markdown",
   "metadata": {},
   "source": [
    "Assign the dimension names and sizes."
   ]
  },
  {
   "cell_type": "code",
   "execution_count": 12,
   "metadata": {},
   "outputs": [],
   "source": [
    "dim_names = ['time', 'inst_z', 'wind_z', 'p_z']\n",
    "dims      = [    nt,    niz,    nwz,    npz]"
   ]
  },
  {
   "cell_type": "markdown",
   "metadata": {},
   "source": [
    "Assign names, units, types, and dimensions to the variables. Notice that we've changed the units for pressure from hPa to mbar, there's no mathematical conversion necessary for that change, so we just reassign the units that meet the project standards."
   ]
  },
  {
   "cell_type": "code",
   "execution_count": 13,
   "metadata": {},
   "outputs": [],
   "source": [
    "# Assign all of the data you want to arrays as follows:\n",
    "var_data  = [Times, T, RH, p, u, v, wspd, wdir] # the actual data var[time,height]\n",
    "var_names = ['Times','T', 'RH', 'p', 'u', 'v', 'wspd', 'wdir'] # a string for the name of the data\n",
    "var_units = ['seconds since 1970-01-01 00:00:00.0','K', '%',  'mbar', 'm/s', 'm/s', 'm/s', 'degree'] # units of the data \n",
    "# The data type is needed to add the variable to a netCDF file:\n",
    "var_dtype = [np.float64, np.float64, np.float64, np.float64, np.float64, np.float64, np.float64, np.float64, np.float64, np.float64, np.float64]\n",
    "# The dimensions of EACH variable must be specified as follows:\n",
    "var_dims  = [('time'),('time','inst_z'),('time','inst_z'),('time','p_z'),('time','wind_z'),('time','wind_z'),('time','wind_z'),('time','wind_z')]"
   ]
  },
  {
   "cell_type": "markdown",
   "metadata": {},
   "source": [
    "To keep track of changes between the input and output data sets, we'll note the changes we made in the description. We'll also assign an author to the output data set. So if you've changed anything about the way the output data is generated, change my name to your name here. "
   ]
  },
  {
   "cell_type": "code",
   "execution_count": 14,
   "metadata": {},
   "outputs": [],
   "source": [
    "description = 'Convert temperature units from Celsius to Kelvin, derived u and v components from wind speed and direction, changed the units of pressure to mbar, and assigned heights as dimensions'"
   ]
  },
  {
   "cell_type": "markdown",
   "metadata": {},
   "source": [
    "Now use a dictionary to associate all of the data you've created with the function for writing the output file. "
   ]
  },
  {
   "cell_type": "code",
   "execution_count": 15,
   "metadata": {},
   "outputs": [],
   "source": [
    "# Assign all of the information to a dictionary so that we can call it into the \n",
    "# ... write_to_netcdf function.\n",
    "vardict = {\n",
    "   'dimname'    : dim_names,     # the names of the dimensions\n",
    "   'dims'       : dims,          # the size of the dimensions\n",
    "   'varn'       : var_names,     # the names of the variables\n",
    "   'data'       : var_data,      # the data, itself\n",
    "   'units'      : var_units,     # the units for each variable\n",
    "   'vardims'    : var_dims,      # the dimensions of each variable\n",
    "   'vardtype'   : var_dtype,     # the data types\n",
    "   'time'       : time,          # time\n",
    "   'station'    : station_name,  # Name of the station\n",
    "   'sensor'     : sensor_name,   # Name of the sensor\n",
    "   'latitude'   : lat,           # station latitude\n",
    "   'longitude'  : lon,           # station longitude\n",
    "   'altitude'   : alt,           # station altitude\n",
    "   'description': description,   # description of what the data is\n",
    "   'author'     : who_created_me,# who created this file\n",
    "   'fillValue'  : new_fill       # fill value\n",
    "}"
   ]
  },
  {
   "cell_type": "markdown",
   "metadata": {},
   "source": [
    "Write your output file."
   ]
  },
  {
   "cell_type": "code",
   "execution_count": 16,
   "metadata": {},
   "outputs": [
    {
     "name": "stdout",
     "output_type": "stream",
     "text": [
      "Times\n",
      "--\n",
      "T\n",
      "[287.02999878]\n",
      "RH\n",
      "[64.47000122]\n",
      "p\n",
      "[996.21124268]\n",
      "u\n",
      "[0.2034831]\n",
      "v\n",
      "[-2.63716125]\n",
      "wspd\n",
      "[2.64499998]\n",
      "wdir\n",
      "[262.3999939]\n"
     ]
    }
   ],
   "source": [
    "write_to_netCDF(outputFile,vardict)"
   ]
  },
  {
   "cell_type": "markdown",
   "metadata": {},
   "source": [
    "You can execute the cell below to see it in standardized format and double-check that it as all of the variables, dimensions, and attributes that you need to begin analysis. "
   ]
  },
  {
   "cell_type": "code",
   "execution_count": 17,
   "metadata": {},
   "outputs": [
    {
     "name": "stdout",
     "output_type": "stream",
     "text": [
      "<class 'netCDF4._netCDF4.Dataset'>\n",
      "root group (NETCDF4_CLASSIC data model, file format HDF5):\n",
      "    description: Convert temperature units from Celsius to Kelvin, derived u and v components from wind speed and direction, changed the units of pressure to mbar, and assigned heights as dimensions\n",
      "    station: Boardman\n",
      "    sensor: met.z12\n",
      "    latitude: 45.8167\n",
      "    longitude: -119.8121\n",
      "    altitude: 110.3376\n",
      "    createdon: 2019-04-23 14:46:53\n",
      "    createdby: Amy DeCastro decastro@ucar.edu\n",
      "    dimensions(sizes): time(1440), inst_z(1), wind_z(1), p_z(1), nchars(19)\n",
      "    variables(dimensions): float64 \u001b[4mTimes\u001b[0m(time), float64 \u001b[4mT\u001b[0m(time,inst_z), float64 \u001b[4mRH\u001b[0m(time,inst_z), float64 \u001b[4mp\u001b[0m(time,p_z), float64 \u001b[4mu\u001b[0m(time,wind_z), float64 \u001b[4mv\u001b[0m(time,wind_z), float64 \u001b[4mwspd\u001b[0m(time,wind_z), float64 \u001b[4mwdir\u001b[0m(time,wind_z)\n",
      "    groups: \n",
      "\n"
     ]
    }
   ],
   "source": [
    "out = netCDF4.Dataset(outputFile)\n",
    "print(out)"
   ]
  },
  {
   "cell_type": "code",
   "execution_count": 18,
   "metadata": {},
   "outputs": [
    {
     "name": "stdout",
     "output_type": "stream",
     "text": [
      "<class 'netCDF4._netCDF4.Variable'>\n",
      "float64 u(time, wind_z)\n",
      "    _FillValue: 9999.0\n",
      "    units: m/s\n",
      "unlimited dimensions: \n",
      "current shape = (1440, 1)\n",
      "filling on\n"
     ]
    }
   ],
   "source": [
    "print(out.variables['u'])"
   ]
  },
  {
   "cell_type": "code",
   "execution_count": 25,
   "metadata": {},
   "outputs": [
    {
     "name": "stdout",
     "output_type": "stream",
     "text": [
      "[]\n"
     ]
    }
   ],
   "source": [
    "T[np.isnan(T)]\n",
    "T[T == np.nan])"
   ]
  },
  {
   "cell_type": "code",
   "execution_count": null,
   "metadata": {},
   "outputs": [],
   "source": []
  }
 ],
 "metadata": {
  "kernelspec": {
   "display_name": "Python 3",
   "language": "python",
   "name": "python3"
  },
  "language_info": {
   "codemirror_mode": {
    "name": "ipython",
    "version": 3
   },
   "file_extension": ".py",
   "mimetype": "text/x-python",
   "name": "python",
   "nbconvert_exporter": "python",
   "pygments_lexer": "ipython3",
   "version": "3.6.8"
  }
 },
 "nbformat": 4,
 "nbformat_minor": 2
}
